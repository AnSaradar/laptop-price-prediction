{
  "cells": [
    {
      "cell_type": "markdown",
      "metadata": {
        "id": "view-in-github",
        "colab_type": "text"
      },
      "source": [
        "<a href=\"https://colab.research.google.com/github/AnSaradar/laptop-price-prediction/blob/main/Laptop_Price_Prediction_Project.ipynb\" target=\"_parent\"><img src=\"https://colab.research.google.com/assets/colab-badge.svg\" alt=\"Open In Colab\"/></a>"
      ]
    },
    {
      "cell_type": "markdown",
      "metadata": {
        "id": "qXSWgzb22e7q"
      },
      "source": [
        "# ML Flow Setup"
      ]
    },
    {
      "cell_type": "code",
      "execution_count": null,
      "metadata": {
        "id": "Pwo0Grxs2lXg"
      },
      "outputs": [],
      "source": [
        "%%capture\n",
        "!pip install mlflow\n",
        "!pip install pyngrok"
      ]
    },
    {
      "cell_type": "code",
      "execution_count": null,
      "metadata": {
        "id": "3-e9I3O327wy"
      },
      "outputs": [],
      "source": [
        "import mlflow\n",
        "import subprocess\n",
        "from pyngrok import ngrok ,conf\n",
        "import getpass"
      ]
    },
    {
      "cell_type": "code",
      "execution_count": null,
      "metadata": {
        "id": "5Fwd3hBk3eJg",
        "colab": {
          "base_uri": "https://localhost:8080/"
        },
        "outputId": "f41a9c78-b587-46b9-dbc2-b67c0d09ffd9"
      },
      "outputs": [
        {
          "output_type": "execute_result",
          "data": {
            "text/plain": [
              "<Popen: returncode: None args: ['mlflow', 'ui', '--backend-store-uri', 'sqli...>"
            ]
          },
          "metadata": {},
          "execution_count": 3
        }
      ],
      "source": [
        "subprocess.Popen([\"mlflow\",\"ui\",\"--backend-store-uri\",'sqlite:///mlflow.db'])"
      ]
    },
    {
      "cell_type": "code",
      "execution_count": null,
      "metadata": {
        "id": "wROvf5qZ32ww",
        "colab": {
          "base_uri": "https://localhost:8080/"
        },
        "outputId": "c65ad69a-cc20-4b87-a6d7-d9d334a75c21"
      },
      "outputs": [
        {
          "output_type": "stream",
          "name": "stderr",
          "text": [
            "2023/06/18 05:34:46 INFO mlflow.store.db.utils: Creating initial MLflow database tables...\n",
            "2023/06/18 05:34:46 INFO mlflow.store.db.utils: Updating database tables\n",
            "INFO  [alembic.runtime.migration] Context impl SQLiteImpl.\n",
            "INFO  [alembic.runtime.migration] Will assume non-transactional DDL.\n",
            "INFO  [alembic.runtime.migration] Running upgrade  -> 451aebb31d03, add metric step\n",
            "INFO  [alembic.runtime.migration] Running upgrade 451aebb31d03 -> 90e64c465722, migrate user column to tags\n",
            "INFO  [alembic.runtime.migration] Running upgrade 90e64c465722 -> 181f10493468, allow nulls for metric values\n",
            "INFO  [alembic.runtime.migration] Running upgrade 181f10493468 -> df50e92ffc5e, Add Experiment Tags Table\n",
            "INFO  [alembic.runtime.migration] Running upgrade df50e92ffc5e -> 7ac759974ad8, Update run tags with larger limit\n",
            "INFO  [alembic.runtime.migration] Running upgrade 7ac759974ad8 -> 89d4b8295536, create latest metrics table\n",
            "INFO  [89d4b8295536_create_latest_metrics_table_py] Migration complete!\n",
            "INFO  [alembic.runtime.migration] Running upgrade 89d4b8295536 -> 2b4d017a5e9b, add model registry tables to db\n",
            "INFO  [2b4d017a5e9b_add_model_registry_tables_to_db_py] Adding registered_models and model_versions tables to database.\n",
            "INFO  [2b4d017a5e9b_add_model_registry_tables_to_db_py] Migration complete!\n",
            "INFO  [alembic.runtime.migration] Running upgrade 2b4d017a5e9b -> cfd24bdc0731, Update run status constraint with killed\n",
            "INFO  [alembic.runtime.migration] Running upgrade cfd24bdc0731 -> 0a8213491aaa, drop_duplicate_killed_constraint\n",
            "INFO  [alembic.runtime.migration] Running upgrade 0a8213491aaa -> 728d730b5ebd, add registered model tags table\n",
            "INFO  [alembic.runtime.migration] Running upgrade 728d730b5ebd -> 27a6a02d2cf1, add model version tags table\n",
            "INFO  [alembic.runtime.migration] Running upgrade 27a6a02d2cf1 -> 84291f40a231, add run_link to model_version\n",
            "INFO  [alembic.runtime.migration] Running upgrade 84291f40a231 -> a8c4a736bde6, allow nulls for run_id\n",
            "INFO  [alembic.runtime.migration] Running upgrade a8c4a736bde6 -> 39d1c3be5f05, add_is_nan_constraint_for_metrics_tables_if_necessary\n",
            "INFO  [alembic.runtime.migration] Running upgrade 39d1c3be5f05 -> c48cb773bb87, reset_default_value_for_is_nan_in_metrics_table_for_mysql\n",
            "INFO  [alembic.runtime.migration] Running upgrade c48cb773bb87 -> bd07f7e963c5, create index on run_uuid\n",
            "INFO  [alembic.runtime.migration] Running upgrade bd07f7e963c5 -> 0c779009ac13, add deleted_time field to runs table\n",
            "INFO  [alembic.runtime.migration] Running upgrade 0c779009ac13 -> cc1f77228345, change param value length to 500\n",
            "INFO  [alembic.runtime.migration] Running upgrade cc1f77228345 -> 97727af70f4d, Add creation_time and last_update_time to experiments table\n",
            "INFO  [alembic.runtime.migration] Running upgrade 97727af70f4d -> 3500859a5d39, Add Model Aliases table\n",
            "INFO  [alembic.runtime.migration] Running upgrade 3500859a5d39 -> 7f2a7d5fae7d, add datasets inputs input_tags tables\n",
            "INFO  [alembic.runtime.migration] Context impl SQLiteImpl.\n",
            "INFO  [alembic.runtime.migration] Will assume non-transactional DDL.\n",
            "2023/06/18 05:34:47 INFO mlflow.tracking.fluent: Experiment with name 'Laptop Price Prediction' does not exist. Creating a new experiment.\n"
          ]
        },
        {
          "output_type": "execute_result",
          "data": {
            "text/plain": [
              "<Experiment: artifact_location='/content/mlruns/1', creation_time=1687066487952, experiment_id='1', last_update_time=1687066487952, lifecycle_stage='active', name='Laptop Price Prediction', tags={}>"
            ]
          },
          "metadata": {},
          "execution_count": 4
        }
      ],
      "source": [
        "mlflow.set_tracking_uri(\"sqlite:///mlflow.db\")\n",
        "mlflow.set_experiment(\"Laptop Price Prediction\")"
      ]
    },
    {
      "cell_type": "code",
      "execution_count": null,
      "metadata": {
        "id": "RG3psqSF4Psg",
        "colab": {
          "base_uri": "https://localhost:8080/"
        },
        "outputId": "85b0bdd4-b57f-4ced-b4c2-66cdbba029e3"
      },
      "outputs": [
        {
          "output_type": "stream",
          "name": "stdout",
          "text": [
            "Enter ur AUTH from https://dashboard.ngrok.com/auth\n",
            "··········\n"
          ]
        },
        {
          "output_type": "stream",
          "name": "stderr",
          "text": [
            "WARNI [pyngrok.process.ngrok] t=2023-06-18T05:34:54+0000 lvl=warn msg=\"ngrok config file found at legacy location, move to XDG location\" xdg_path=/root/.config/ngrok/ngrok.yml legacy_path=/root/.ngrok2/ngrok.yml\n"
          ]
        },
        {
          "output_type": "stream",
          "name": "stdout",
          "text": [
            " * ngrok tunnel \\ \"https://d392-34-147-86-11.ngrok-free.app\" -> \"https://127.0.0.1:5000\"\n"
          ]
        }
      ],
      "source": [
        "print(\"Enter ur AUTH from https://dashboard.ngrok.com/auth\")\n",
        "#2Qt0zIDV6eUueAYnaYWjPdRXLpj_6WQqVKexKPYf9UKUCLZ6T\n",
        "conf.get_default().auth_token = getpass.getpass()\n",
        "port = 5000\n",
        "public_url = ngrok.connect(port).public_url\n",
        "print(f' * ngrok tunnel \\ \"{public_url}\\\" -> \\\"https://127.0.0.1:{port}\\\"')"
      ]
    },
    {
      "cell_type": "markdown",
      "metadata": {
        "id": "0BxrXf44-sSR"
      },
      "source": [
        "# Importing Libraires"
      ]
    },
    {
      "cell_type": "markdown",
      "metadata": {
        "id": "O12Cu4iMa6Qh"
      },
      "source": [
        "## Basic Libs"
      ]
    },
    {
      "cell_type": "code",
      "execution_count": null,
      "metadata": {
        "id": "-5CP8v9--ePa"
      },
      "outputs": [],
      "source": [
        "import numpy as np\n",
        "import pandas as pd\n",
        "import seaborn as sns\n",
        "import re\n",
        "import pandas as pd\n",
        "import seaborn as sns\n",
        "import numpy as np\n",
        "from sklearn.preprocessing import StandardScaler\n",
        "from sklearn.svm import SVR\n",
        "from sklearn.model_selection import GridSearchCV, train_test_split\n",
        "from sklearn.metrics import mean_squared_error , r2_score , make_scorer\n",
        "from sklearn.compose import ColumnTransformer\n",
        "from sklearn.pipeline import Pipeline\n",
        "from sklearn.preprocessing import StandardScaler, OneHotEncoder\n",
        "from sklearn.preprocessing import OneHotEncoder\n",
        "from sklearn.compose import ColumnTransformer\n",
        "import xgboost as xgb\n",
        "from sklearn.tree import DecisionTreeRegressor\n",
        "from sklearn.ensemble import RandomForestRegressor ,GradientBoostingRegressor\n",
        "from sklearn.model_selection import cross_val_score\n",
        "import matplotlib.pyplot as plt\n",
        "from sklearn.preprocessing import PolynomialFeatures\n",
        "from sklearn.pipeline import make_pipeline\n",
        "from sklearn.preprocessing import RobustScaler\n",
        "from sklearn.linear_model import LinearRegression\n",
        "from sklearn.preprocessing import OrdinalEncoder\n",
        "import requests\n",
        "from sklearn.cluster import KMeans\n",
        "from sklearn.feature_selection import SelectFromModel\n",
        "from sklearn.naive_bayes import GaussianNB, MultinomialNB\n",
        "from sklearn.model_selection import cross_validate\n",
        "from sklearn.svm import SVC\n",
        "from sklearn.model_selection import StratifiedKFold, cross_val_score ,KFold\n",
        "from sklearn.metrics import make_scorer, mean_squared_error\n",
        "from math import sqrt\n",
        "from sklearn.svm import SVR\n",
        "import sklearn.metrics\n",
        "from sklearn.ensemble import VotingRegressor\n",
        "from sklearn.ensemble import BaggingRegressor\n",
        "from sklearn.feature_selection import RFECV\n",
        "from sklearn.preprocessing import FunctionTransformer\n",
        "from sklearn.metrics import r2_score, mean_absolute_error\n",
        "import plotly.io as pio"
      ]
    },
    {
      "cell_type": "code",
      "execution_count": null,
      "metadata": {
        "id": "0PU-7peIrTO_"
      },
      "outputs": [],
      "source": [
        "pd.set_option(\"display.max_rows\", None)\n",
        "pd.set_option(\"display.max_columns\", None)"
      ]
    },
    {
      "cell_type": "markdown",
      "metadata": {
        "id": "zMgWZjBybAx5"
      },
      "source": [
        "## Plotly"
      ]
    },
    {
      "cell_type": "code",
      "execution_count": null,
      "metadata": {
        "colab": {
          "base_uri": "https://localhost:8080/"
        },
        "id": "vNEIc5MMLsNZ",
        "outputId": "841feafc-d34a-4c26-916d-751970825446"
      },
      "outputs": [
        {
          "output_type": "stream",
          "name": "stdout",
          "text": [
            "Requirement already satisfied: plotly in /usr/local/lib/python3.10/dist-packages (5.15.0)\n",
            "Requirement already satisfied: tenacity>=6.2.0 in /usr/local/lib/python3.10/dist-packages (from plotly) (8.2.3)\n",
            "Requirement already satisfied: packaging in /usr/local/lib/python3.10/dist-packages (from plotly) (23.1)\n"
          ]
        }
      ],
      "source": [
        "!pip install plotly"
      ]
    },
    {
      "cell_type": "code",
      "source": [
        "!pip install catboost"
      ],
      "metadata": {
        "colab": {
          "base_uri": "https://localhost:8080/"
        },
        "id": "FwK72uAqBbcU",
        "outputId": "10c9054c-e5e6-429f-8947-325f6f68e7a1"
      },
      "execution_count": null,
      "outputs": [
        {
          "output_type": "stream",
          "name": "stdout",
          "text": [
            "Collecting catboost\n",
            "  Downloading catboost-1.2-cp310-cp310-manylinux2014_x86_64.whl (98.6 MB)\n",
            "\u001b[2K     \u001b[90m━━━━━━━━━━━━━━━━━━━━━━━━━━━━━━━━━━━━━━━━\u001b[0m \u001b[32m98.6/98.6 MB\u001b[0m \u001b[31m9.8 MB/s\u001b[0m eta \u001b[36m0:00:00\u001b[0m\n",
            "\u001b[?25hRequirement already satisfied: graphviz in /usr/local/lib/python3.10/dist-packages (from catboost) (0.20.1)\n",
            "Requirement already satisfied: matplotlib in /usr/local/lib/python3.10/dist-packages (from catboost) (3.7.1)\n",
            "Requirement already satisfied: numpy>=1.16.0 in /usr/local/lib/python3.10/dist-packages (from catboost) (1.23.5)\n",
            "Requirement already satisfied: pandas>=0.24 in /usr/local/lib/python3.10/dist-packages (from catboost) (1.5.3)\n",
            "Requirement already satisfied: scipy in /usr/local/lib/python3.10/dist-packages (from catboost) (1.10.1)\n",
            "Requirement already satisfied: plotly in /usr/local/lib/python3.10/dist-packages (from catboost) (5.15.0)\n",
            "Requirement already satisfied: six in /usr/local/lib/python3.10/dist-packages (from catboost) (1.16.0)\n",
            "Requirement already satisfied: python-dateutil>=2.8.1 in /usr/local/lib/python3.10/dist-packages (from pandas>=0.24->catboost) (2.8.2)\n",
            "Requirement already satisfied: pytz>=2020.1 in /usr/local/lib/python3.10/dist-packages (from pandas>=0.24->catboost) (2023.3)\n",
            "Requirement already satisfied: contourpy>=1.0.1 in /usr/local/lib/python3.10/dist-packages (from matplotlib->catboost) (1.1.0)\n",
            "Requirement already satisfied: cycler>=0.10 in /usr/local/lib/python3.10/dist-packages (from matplotlib->catboost) (0.11.0)\n",
            "Requirement already satisfied: fonttools>=4.22.0 in /usr/local/lib/python3.10/dist-packages (from matplotlib->catboost) (4.42.1)\n",
            "Requirement already satisfied: kiwisolver>=1.0.1 in /usr/local/lib/python3.10/dist-packages (from matplotlib->catboost) (1.4.4)\n",
            "Requirement already satisfied: packaging>=20.0 in /usr/local/lib/python3.10/dist-packages (from matplotlib->catboost) (23.1)\n",
            "Requirement already satisfied: pillow>=6.2.0 in /usr/local/lib/python3.10/dist-packages (from matplotlib->catboost) (9.4.0)\n",
            "Requirement already satisfied: pyparsing>=2.3.1 in /usr/local/lib/python3.10/dist-packages (from matplotlib->catboost) (3.1.1)\n",
            "Requirement already satisfied: tenacity>=6.2.0 in /usr/local/lib/python3.10/dist-packages (from plotly->catboost) (8.2.3)\n",
            "Installing collected packages: catboost\n",
            "Successfully installed catboost-1.2\n"
          ]
        }
      ]
    },
    {
      "cell_type": "code",
      "execution_count": null,
      "metadata": {
        "id": "t8JApwIELt0T"
      },
      "outputs": [],
      "source": [
        "import plotly.express as px\n",
        "import plotly.graph_objects as go\n",
        "from catboost import CatBoostRegressor"
      ]
    },
    {
      "cell_type": "markdown",
      "metadata": {
        "id": "Fgz7FaO1AAsx"
      },
      "source": [
        "# Loading the Data"
      ]
    },
    {
      "cell_type": "markdown",
      "metadata": {
        "id": "TJpXXRZVAFGB"
      },
      "source": [
        "I decided to use two of the most common dataset on this field , So I will load them , discover them and find a way to merge them together"
      ]
    },
    {
      "cell_type": "code",
      "execution_count": null,
      "metadata": {
        "id": "3W-i-Pgc-wVu"
      },
      "outputs": [],
      "source": [
        "first_data = pd.read_csv('/content/drive/MyDrive/Datasets/Laptop_Price_Prediction/laptops_train.csv')\n",
        "second_data = pd.read_csv('/content/drive/MyDrive/Datasets/Laptop_Price_Prediction/train.csv')"
      ]
    },
    {
      "cell_type": "markdown",
      "metadata": {
        "id": "GOAY4RTyAwq5"
      },
      "source": [
        "# Discover & Merge The Data"
      ]
    },
    {
      "cell_type": "code",
      "execution_count": null,
      "metadata": {
        "colab": {
          "base_uri": "https://localhost:8080/"
        },
        "id": "J6wajKQ6At0e",
        "outputId": "2be5c616-bb20-41a8-d2f0-1247a805af6e"
      },
      "outputs": [
        {
          "output_type": "execute_result",
          "data": {
            "text/plain": [
              "  Manufacturer   Model Name   Category Screen Size  \\\n",
              "0        Apple  MacBook Pro  Ultrabook       13.3\"   \n",
              "1        Apple  Macbook Air  Ultrabook       13.3\"   \n",
              "2           HP       250 G6   Notebook       15.6\"   \n",
              "3        Apple  MacBook Pro  Ultrabook       15.4\"   \n",
              "4        Apple  MacBook Pro  Ultrabook       13.3\"   \n",
              "\n",
              "                               Screen                         CPU   RAM  \\\n",
              "0  IPS Panel Retina Display 2560x1600        Intel Core i5 2.3GHz   8GB   \n",
              "1                            1440x900        Intel Core i5 1.8GHz   8GB   \n",
              "2                   Full HD 1920x1080  Intel Core i5 7200U 2.5GHz   8GB   \n",
              "3  IPS Panel Retina Display 2880x1800        Intel Core i7 2.7GHz  16GB   \n",
              "4  IPS Panel Retina Display 2560x1600        Intel Core i5 3.1GHz   8GB   \n",
              "\n",
              "               Storage                           GPU Operating System  \\\n",
              "0            128GB SSD  Intel Iris Plus Graphics 640            macOS   \n",
              "1  128GB Flash Storage        Intel HD Graphics 6000            macOS   \n",
              "2            256GB SSD         Intel HD Graphics 620            No OS   \n",
              "3            512GB SSD            AMD Radeon Pro 455            macOS   \n",
              "4            256GB SSD  Intel Iris Plus Graphics 650            macOS   \n",
              "\n",
              "  Operating System Version  Weight        Price  \n",
              "0                      NaN  1.37kg  11912523.48  \n",
              "1                      NaN  1.34kg   7993374.48  \n",
              "2                      NaN  1.86kg   5112900.00  \n",
              "3                      NaN  1.83kg  22563005.40  \n",
              "4                      NaN  1.37kg  16037611.20  "
            ],
            "text/html": [
              "\n",
              "  <div id=\"df-31528c80-86c3-46d7-9b1f-eec3fdf9acab\" class=\"colab-df-container\">\n",
              "    <div>\n",
              "<style scoped>\n",
              "    .dataframe tbody tr th:only-of-type {\n",
              "        vertical-align: middle;\n",
              "    }\n",
              "\n",
              "    .dataframe tbody tr th {\n",
              "        vertical-align: top;\n",
              "    }\n",
              "\n",
              "    .dataframe thead th {\n",
              "        text-align: right;\n",
              "    }\n",
              "</style>\n",
              "<table border=\"1\" class=\"dataframe\">\n",
              "  <thead>\n",
              "    <tr style=\"text-align: right;\">\n",
              "      <th></th>\n",
              "      <th>Manufacturer</th>\n",
              "      <th>Model Name</th>\n",
              "      <th>Category</th>\n",
              "      <th>Screen Size</th>\n",
              "      <th>Screen</th>\n",
              "      <th>CPU</th>\n",
              "      <th>RAM</th>\n",
              "      <th>Storage</th>\n",
              "      <th>GPU</th>\n",
              "      <th>Operating System</th>\n",
              "      <th>Operating System Version</th>\n",
              "      <th>Weight</th>\n",
              "      <th>Price</th>\n",
              "    </tr>\n",
              "  </thead>\n",
              "  <tbody>\n",
              "    <tr>\n",
              "      <th>0</th>\n",
              "      <td>Apple</td>\n",
              "      <td>MacBook Pro</td>\n",
              "      <td>Ultrabook</td>\n",
              "      <td>13.3\"</td>\n",
              "      <td>IPS Panel Retina Display 2560x1600</td>\n",
              "      <td>Intel Core i5 2.3GHz</td>\n",
              "      <td>8GB</td>\n",
              "      <td>128GB SSD</td>\n",
              "      <td>Intel Iris Plus Graphics 640</td>\n",
              "      <td>macOS</td>\n",
              "      <td>NaN</td>\n",
              "      <td>1.37kg</td>\n",
              "      <td>11912523.48</td>\n",
              "    </tr>\n",
              "    <tr>\n",
              "      <th>1</th>\n",
              "      <td>Apple</td>\n",
              "      <td>Macbook Air</td>\n",
              "      <td>Ultrabook</td>\n",
              "      <td>13.3\"</td>\n",
              "      <td>1440x900</td>\n",
              "      <td>Intel Core i5 1.8GHz</td>\n",
              "      <td>8GB</td>\n",
              "      <td>128GB Flash Storage</td>\n",
              "      <td>Intel HD Graphics 6000</td>\n",
              "      <td>macOS</td>\n",
              "      <td>NaN</td>\n",
              "      <td>1.34kg</td>\n",
              "      <td>7993374.48</td>\n",
              "    </tr>\n",
              "    <tr>\n",
              "      <th>2</th>\n",
              "      <td>HP</td>\n",
              "      <td>250 G6</td>\n",
              "      <td>Notebook</td>\n",
              "      <td>15.6\"</td>\n",
              "      <td>Full HD 1920x1080</td>\n",
              "      <td>Intel Core i5 7200U 2.5GHz</td>\n",
              "      <td>8GB</td>\n",
              "      <td>256GB SSD</td>\n",
              "      <td>Intel HD Graphics 620</td>\n",
              "      <td>No OS</td>\n",
              "      <td>NaN</td>\n",
              "      <td>1.86kg</td>\n",
              "      <td>5112900.00</td>\n",
              "    </tr>\n",
              "    <tr>\n",
              "      <th>3</th>\n",
              "      <td>Apple</td>\n",
              "      <td>MacBook Pro</td>\n",
              "      <td>Ultrabook</td>\n",
              "      <td>15.4\"</td>\n",
              "      <td>IPS Panel Retina Display 2880x1800</td>\n",
              "      <td>Intel Core i7 2.7GHz</td>\n",
              "      <td>16GB</td>\n",
              "      <td>512GB SSD</td>\n",
              "      <td>AMD Radeon Pro 455</td>\n",
              "      <td>macOS</td>\n",
              "      <td>NaN</td>\n",
              "      <td>1.83kg</td>\n",
              "      <td>22563005.40</td>\n",
              "    </tr>\n",
              "    <tr>\n",
              "      <th>4</th>\n",
              "      <td>Apple</td>\n",
              "      <td>MacBook Pro</td>\n",
              "      <td>Ultrabook</td>\n",
              "      <td>13.3\"</td>\n",
              "      <td>IPS Panel Retina Display 2560x1600</td>\n",
              "      <td>Intel Core i5 3.1GHz</td>\n",
              "      <td>8GB</td>\n",
              "      <td>256GB SSD</td>\n",
              "      <td>Intel Iris Plus Graphics 650</td>\n",
              "      <td>macOS</td>\n",
              "      <td>NaN</td>\n",
              "      <td>1.37kg</td>\n",
              "      <td>16037611.20</td>\n",
              "    </tr>\n",
              "  </tbody>\n",
              "</table>\n",
              "</div>\n",
              "    <div class=\"colab-df-buttons\">\n",
              "\n",
              "  <div class=\"colab-df-container\">\n",
              "    <button class=\"colab-df-convert\" onclick=\"convertToInteractive('df-31528c80-86c3-46d7-9b1f-eec3fdf9acab')\"\n",
              "            title=\"Convert this dataframe to an interactive table.\"\n",
              "            style=\"display:none;\">\n",
              "\n",
              "  <svg xmlns=\"http://www.w3.org/2000/svg\" height=\"24px\" viewBox=\"0 -960 960 960\">\n",
              "    <path d=\"M120-120v-720h720v720H120Zm60-500h600v-160H180v160Zm220 220h160v-160H400v160Zm0 220h160v-160H400v160ZM180-400h160v-160H180v160Zm440 0h160v-160H620v160ZM180-180h160v-160H180v160Zm440 0h160v-160H620v160Z\"/>\n",
              "  </svg>\n",
              "    </button>\n",
              "\n",
              "  <style>\n",
              "    .colab-df-container {\n",
              "      display:flex;\n",
              "      gap: 12px;\n",
              "    }\n",
              "\n",
              "    .colab-df-convert {\n",
              "      background-color: #E8F0FE;\n",
              "      border: none;\n",
              "      border-radius: 50%;\n",
              "      cursor: pointer;\n",
              "      display: none;\n",
              "      fill: #1967D2;\n",
              "      height: 32px;\n",
              "      padding: 0 0 0 0;\n",
              "      width: 32px;\n",
              "    }\n",
              "\n",
              "    .colab-df-convert:hover {\n",
              "      background-color: #E2EBFA;\n",
              "      box-shadow: 0px 1px 2px rgba(60, 64, 67, 0.3), 0px 1px 3px 1px rgba(60, 64, 67, 0.15);\n",
              "      fill: #174EA6;\n",
              "    }\n",
              "\n",
              "    .colab-df-buttons div {\n",
              "      margin-bottom: 4px;\n",
              "    }\n",
              "\n",
              "    [theme=dark] .colab-df-convert {\n",
              "      background-color: #3B4455;\n",
              "      fill: #D2E3FC;\n",
              "    }\n",
              "\n",
              "    [theme=dark] .colab-df-convert:hover {\n",
              "      background-color: #434B5C;\n",
              "      box-shadow: 0px 1px 3px 1px rgba(0, 0, 0, 0.15);\n",
              "      filter: drop-shadow(0px 1px 2px rgba(0, 0, 0, 0.3));\n",
              "      fill: #FFFFFF;\n",
              "    }\n",
              "  </style>\n",
              "\n",
              "    <script>\n",
              "      const buttonEl =\n",
              "        document.querySelector('#df-31528c80-86c3-46d7-9b1f-eec3fdf9acab button.colab-df-convert');\n",
              "      buttonEl.style.display =\n",
              "        google.colab.kernel.accessAllowed ? 'block' : 'none';\n",
              "\n",
              "      async function convertToInteractive(key) {\n",
              "        const element = document.querySelector('#df-31528c80-86c3-46d7-9b1f-eec3fdf9acab');\n",
              "        const dataTable =\n",
              "          await google.colab.kernel.invokeFunction('convertToInteractive',\n",
              "                                                    [key], {});\n",
              "        if (!dataTable) return;\n",
              "\n",
              "        const docLinkHtml = 'Like what you see? Visit the ' +\n",
              "          '<a target=\"_blank\" href=https://colab.research.google.com/notebooks/data_table.ipynb>data table notebook</a>'\n",
              "          + ' to learn more about interactive tables.';\n",
              "        element.innerHTML = '';\n",
              "        dataTable['output_type'] = 'display_data';\n",
              "        await google.colab.output.renderOutput(dataTable, element);\n",
              "        const docLink = document.createElement('div');\n",
              "        docLink.innerHTML = docLinkHtml;\n",
              "        element.appendChild(docLink);\n",
              "      }\n",
              "    </script>\n",
              "  </div>\n",
              "\n",
              "\n",
              "<div id=\"df-40a4be8c-75e6-4c91-a73b-f9fab795b3fc\">\n",
              "  <button class=\"colab-df-quickchart\" onclick=\"quickchart('df-40a4be8c-75e6-4c91-a73b-f9fab795b3fc')\"\n",
              "            title=\"Suggest charts.\"\n",
              "            style=\"display:none;\">\n",
              "\n",
              "<svg xmlns=\"http://www.w3.org/2000/svg\" height=\"24px\"viewBox=\"0 0 24 24\"\n",
              "     width=\"24px\">\n",
              "    <g>\n",
              "        <path d=\"M19 3H5c-1.1 0-2 .9-2 2v14c0 1.1.9 2 2 2h14c1.1 0 2-.9 2-2V5c0-1.1-.9-2-2-2zM9 17H7v-7h2v7zm4 0h-2V7h2v10zm4 0h-2v-4h2v4z\"/>\n",
              "    </g>\n",
              "</svg>\n",
              "  </button>\n",
              "\n",
              "<style>\n",
              "  .colab-df-quickchart {\n",
              "    background-color: #E8F0FE;\n",
              "    border: none;\n",
              "    border-radius: 50%;\n",
              "    cursor: pointer;\n",
              "    display: none;\n",
              "    fill: #1967D2;\n",
              "    height: 32px;\n",
              "    padding: 0 0 0 0;\n",
              "    width: 32px;\n",
              "  }\n",
              "\n",
              "  .colab-df-quickchart:hover {\n",
              "    background-color: #E2EBFA;\n",
              "    box-shadow: 0px 1px 2px rgba(60, 64, 67, 0.3), 0px 1px 3px 1px rgba(60, 64, 67, 0.15);\n",
              "    fill: #174EA6;\n",
              "  }\n",
              "\n",
              "  [theme=dark] .colab-df-quickchart {\n",
              "    background-color: #3B4455;\n",
              "    fill: #D2E3FC;\n",
              "  }\n",
              "\n",
              "  [theme=dark] .colab-df-quickchart:hover {\n",
              "    background-color: #434B5C;\n",
              "    box-shadow: 0px 1px 3px 1px rgba(0, 0, 0, 0.15);\n",
              "    filter: drop-shadow(0px 1px 2px rgba(0, 0, 0, 0.3));\n",
              "    fill: #FFFFFF;\n",
              "  }\n",
              "</style>\n",
              "\n",
              "  <script>\n",
              "    async function quickchart(key) {\n",
              "      const charts = await google.colab.kernel.invokeFunction(\n",
              "          'suggestCharts', [key], {});\n",
              "    }\n",
              "    (() => {\n",
              "      let quickchartButtonEl =\n",
              "        document.querySelector('#df-40a4be8c-75e6-4c91-a73b-f9fab795b3fc button');\n",
              "      quickchartButtonEl.style.display =\n",
              "        google.colab.kernel.accessAllowed ? 'block' : 'none';\n",
              "    })();\n",
              "  </script>\n",
              "</div>\n",
              "    </div>\n",
              "  </div>\n"
            ]
          },
          "metadata": {},
          "execution_count": 9
        }
      ],
      "source": [
        "first_data.head()"
      ]
    },
    {
      "cell_type": "code",
      "execution_count": null,
      "metadata": {
        "colab": {
          "base_uri": "https://localhost:8080/"
        },
        "id": "AXcLwSzLBC__",
        "outputId": "c763eaa7-40ef-4e17-d718-393219d94a7c"
      },
      "outputs": [
        {
          "output_type": "execute_result",
          "data": {
            "text/plain": [
              "    id Company             Product  TypeName  Inches  \\\n",
              "0  884    Dell       Inspiron 3552  Notebook    15.6   \n",
              "1   83  Lenovo   IdeaPad 320-15AST  Notebook    15.6   \n",
              "2  897      HP         ProBook 450  Notebook    15.6   \n",
              "3  456    Dell        Alienware 17  Notebook    17.3   \n",
              "4  627  Lenovo  IdeaPad 320-15IKBN  Notebook    15.6   \n",
              "\n",
              "              ScreenResolution                                   Cpu  Ram  \\\n",
              "0                     1366x768  Intel Pentium Quad Core N3710 1.6GHz  4GB   \n",
              "1            Full HD 1920x1080             AMD A6-Series 9220 2.5GHz  4GB   \n",
              "2            Full HD 1920x1080            Intel Core i7 7500U 2.7GHz  8GB   \n",
              "3  IPS Panel Full HD 1920x1080           Intel Core i7 7700HQ 2.7GHz  8GB   \n",
              "4            Full HD 1920x1080            Intel Core i5 7200U 2.5GHz  4GB   \n",
              "\n",
              "      Memory                      Gpu       OpSys  Weight  Price_euros  \n",
              "0  500GB HDD        Intel HD Graphics  Windows 10   2.2kg        369.0  \n",
              "1  128GB SSD          AMD R4 Graphics  Windows 10   2.2kg        399.0  \n",
              "2    1TB HDD     Nvidia GeForce 930MX  Windows 10  2.04kg        900.0  \n",
              "3    1TB HDD  Nvidia GeForce GTX 1060  Windows 10  4.42kg       2046.0  \n",
              "4  128GB SSD    Intel HD Graphics 620       No OS   2.2kg        468.0  "
            ],
            "text/html": [
              "\n",
              "  <div id=\"df-e7cafe99-634e-494d-9425-8127cf321fa1\" class=\"colab-df-container\">\n",
              "    <div>\n",
              "<style scoped>\n",
              "    .dataframe tbody tr th:only-of-type {\n",
              "        vertical-align: middle;\n",
              "    }\n",
              "\n",
              "    .dataframe tbody tr th {\n",
              "        vertical-align: top;\n",
              "    }\n",
              "\n",
              "    .dataframe thead th {\n",
              "        text-align: right;\n",
              "    }\n",
              "</style>\n",
              "<table border=\"1\" class=\"dataframe\">\n",
              "  <thead>\n",
              "    <tr style=\"text-align: right;\">\n",
              "      <th></th>\n",
              "      <th>id</th>\n",
              "      <th>Company</th>\n",
              "      <th>Product</th>\n",
              "      <th>TypeName</th>\n",
              "      <th>Inches</th>\n",
              "      <th>ScreenResolution</th>\n",
              "      <th>Cpu</th>\n",
              "      <th>Ram</th>\n",
              "      <th>Memory</th>\n",
              "      <th>Gpu</th>\n",
              "      <th>OpSys</th>\n",
              "      <th>Weight</th>\n",
              "      <th>Price_euros</th>\n",
              "    </tr>\n",
              "  </thead>\n",
              "  <tbody>\n",
              "    <tr>\n",
              "      <th>0</th>\n",
              "      <td>884</td>\n",
              "      <td>Dell</td>\n",
              "      <td>Inspiron 3552</td>\n",
              "      <td>Notebook</td>\n",
              "      <td>15.6</td>\n",
              "      <td>1366x768</td>\n",
              "      <td>Intel Pentium Quad Core N3710 1.6GHz</td>\n",
              "      <td>4GB</td>\n",
              "      <td>500GB HDD</td>\n",
              "      <td>Intel HD Graphics</td>\n",
              "      <td>Windows 10</td>\n",
              "      <td>2.2kg</td>\n",
              "      <td>369.0</td>\n",
              "    </tr>\n",
              "    <tr>\n",
              "      <th>1</th>\n",
              "      <td>83</td>\n",
              "      <td>Lenovo</td>\n",
              "      <td>IdeaPad 320-15AST</td>\n",
              "      <td>Notebook</td>\n",
              "      <td>15.6</td>\n",
              "      <td>Full HD 1920x1080</td>\n",
              "      <td>AMD A6-Series 9220 2.5GHz</td>\n",
              "      <td>4GB</td>\n",
              "      <td>128GB SSD</td>\n",
              "      <td>AMD R4 Graphics</td>\n",
              "      <td>Windows 10</td>\n",
              "      <td>2.2kg</td>\n",
              "      <td>399.0</td>\n",
              "    </tr>\n",
              "    <tr>\n",
              "      <th>2</th>\n",
              "      <td>897</td>\n",
              "      <td>HP</td>\n",
              "      <td>ProBook 450</td>\n",
              "      <td>Notebook</td>\n",
              "      <td>15.6</td>\n",
              "      <td>Full HD 1920x1080</td>\n",
              "      <td>Intel Core i7 7500U 2.7GHz</td>\n",
              "      <td>8GB</td>\n",
              "      <td>1TB HDD</td>\n",
              "      <td>Nvidia GeForce 930MX</td>\n",
              "      <td>Windows 10</td>\n",
              "      <td>2.04kg</td>\n",
              "      <td>900.0</td>\n",
              "    </tr>\n",
              "    <tr>\n",
              "      <th>3</th>\n",
              "      <td>456</td>\n",
              "      <td>Dell</td>\n",
              "      <td>Alienware 17</td>\n",
              "      <td>Notebook</td>\n",
              "      <td>17.3</td>\n",
              "      <td>IPS Panel Full HD 1920x1080</td>\n",
              "      <td>Intel Core i7 7700HQ 2.7GHz</td>\n",
              "      <td>8GB</td>\n",
              "      <td>1TB HDD</td>\n",
              "      <td>Nvidia GeForce GTX 1060</td>\n",
              "      <td>Windows 10</td>\n",
              "      <td>4.42kg</td>\n",
              "      <td>2046.0</td>\n",
              "    </tr>\n",
              "    <tr>\n",
              "      <th>4</th>\n",
              "      <td>627</td>\n",
              "      <td>Lenovo</td>\n",
              "      <td>IdeaPad 320-15IKBN</td>\n",
              "      <td>Notebook</td>\n",
              "      <td>15.6</td>\n",
              "      <td>Full HD 1920x1080</td>\n",
              "      <td>Intel Core i5 7200U 2.5GHz</td>\n",
              "      <td>4GB</td>\n",
              "      <td>128GB SSD</td>\n",
              "      <td>Intel HD Graphics 620</td>\n",
              "      <td>No OS</td>\n",
              "      <td>2.2kg</td>\n",
              "      <td>468.0</td>\n",
              "    </tr>\n",
              "  </tbody>\n",
              "</table>\n",
              "</div>\n",
              "    <div class=\"colab-df-buttons\">\n",
              "\n",
              "  <div class=\"colab-df-container\">\n",
              "    <button class=\"colab-df-convert\" onclick=\"convertToInteractive('df-e7cafe99-634e-494d-9425-8127cf321fa1')\"\n",
              "            title=\"Convert this dataframe to an interactive table.\"\n",
              "            style=\"display:none;\">\n",
              "\n",
              "  <svg xmlns=\"http://www.w3.org/2000/svg\" height=\"24px\" viewBox=\"0 -960 960 960\">\n",
              "    <path d=\"M120-120v-720h720v720H120Zm60-500h600v-160H180v160Zm220 220h160v-160H400v160Zm0 220h160v-160H400v160ZM180-400h160v-160H180v160Zm440 0h160v-160H620v160ZM180-180h160v-160H180v160Zm440 0h160v-160H620v160Z\"/>\n",
              "  </svg>\n",
              "    </button>\n",
              "\n",
              "  <style>\n",
              "    .colab-df-container {\n",
              "      display:flex;\n",
              "      gap: 12px;\n",
              "    }\n",
              "\n",
              "    .colab-df-convert {\n",
              "      background-color: #E8F0FE;\n",
              "      border: none;\n",
              "      border-radius: 50%;\n",
              "      cursor: pointer;\n",
              "      display: none;\n",
              "      fill: #1967D2;\n",
              "      height: 32px;\n",
              "      padding: 0 0 0 0;\n",
              "      width: 32px;\n",
              "    }\n",
              "\n",
              "    .colab-df-convert:hover {\n",
              "      background-color: #E2EBFA;\n",
              "      box-shadow: 0px 1px 2px rgba(60, 64, 67, 0.3), 0px 1px 3px 1px rgba(60, 64, 67, 0.15);\n",
              "      fill: #174EA6;\n",
              "    }\n",
              "\n",
              "    .colab-df-buttons div {\n",
              "      margin-bottom: 4px;\n",
              "    }\n",
              "\n",
              "    [theme=dark] .colab-df-convert {\n",
              "      background-color: #3B4455;\n",
              "      fill: #D2E3FC;\n",
              "    }\n",
              "\n",
              "    [theme=dark] .colab-df-convert:hover {\n",
              "      background-color: #434B5C;\n",
              "      box-shadow: 0px 1px 3px 1px rgba(0, 0, 0, 0.15);\n",
              "      filter: drop-shadow(0px 1px 2px rgba(0, 0, 0, 0.3));\n",
              "      fill: #FFFFFF;\n",
              "    }\n",
              "  </style>\n",
              "\n",
              "    <script>\n",
              "      const buttonEl =\n",
              "        document.querySelector('#df-e7cafe99-634e-494d-9425-8127cf321fa1 button.colab-df-convert');\n",
              "      buttonEl.style.display =\n",
              "        google.colab.kernel.accessAllowed ? 'block' : 'none';\n",
              "\n",
              "      async function convertToInteractive(key) {\n",
              "        const element = document.querySelector('#df-e7cafe99-634e-494d-9425-8127cf321fa1');\n",
              "        const dataTable =\n",
              "          await google.colab.kernel.invokeFunction('convertToInteractive',\n",
              "                                                    [key], {});\n",
              "        if (!dataTable) return;\n",
              "\n",
              "        const docLinkHtml = 'Like what you see? Visit the ' +\n",
              "          '<a target=\"_blank\" href=https://colab.research.google.com/notebooks/data_table.ipynb>data table notebook</a>'\n",
              "          + ' to learn more about interactive tables.';\n",
              "        element.innerHTML = '';\n",
              "        dataTable['output_type'] = 'display_data';\n",
              "        await google.colab.output.renderOutput(dataTable, element);\n",
              "        const docLink = document.createElement('div');\n",
              "        docLink.innerHTML = docLinkHtml;\n",
              "        element.appendChild(docLink);\n",
              "      }\n",
              "    </script>\n",
              "  </div>\n",
              "\n",
              "\n",
              "<div id=\"df-3647decb-4ae2-4076-8c51-74643f047b7d\">\n",
              "  <button class=\"colab-df-quickchart\" onclick=\"quickchart('df-3647decb-4ae2-4076-8c51-74643f047b7d')\"\n",
              "            title=\"Suggest charts.\"\n",
              "            style=\"display:none;\">\n",
              "\n",
              "<svg xmlns=\"http://www.w3.org/2000/svg\" height=\"24px\"viewBox=\"0 0 24 24\"\n",
              "     width=\"24px\">\n",
              "    <g>\n",
              "        <path d=\"M19 3H5c-1.1 0-2 .9-2 2v14c0 1.1.9 2 2 2h14c1.1 0 2-.9 2-2V5c0-1.1-.9-2-2-2zM9 17H7v-7h2v7zm4 0h-2V7h2v10zm4 0h-2v-4h2v4z\"/>\n",
              "    </g>\n",
              "</svg>\n",
              "  </button>\n",
              "\n",
              "<style>\n",
              "  .colab-df-quickchart {\n",
              "    background-color: #E8F0FE;\n",
              "    border: none;\n",
              "    border-radius: 50%;\n",
              "    cursor: pointer;\n",
              "    display: none;\n",
              "    fill: #1967D2;\n",
              "    height: 32px;\n",
              "    padding: 0 0 0 0;\n",
              "    width: 32px;\n",
              "  }\n",
              "\n",
              "  .colab-df-quickchart:hover {\n",
              "    background-color: #E2EBFA;\n",
              "    box-shadow: 0px 1px 2px rgba(60, 64, 67, 0.3), 0px 1px 3px 1px rgba(60, 64, 67, 0.15);\n",
              "    fill: #174EA6;\n",
              "  }\n",
              "\n",
              "  [theme=dark] .colab-df-quickchart {\n",
              "    background-color: #3B4455;\n",
              "    fill: #D2E3FC;\n",
              "  }\n",
              "\n",
              "  [theme=dark] .colab-df-quickchart:hover {\n",
              "    background-color: #434B5C;\n",
              "    box-shadow: 0px 1px 3px 1px rgba(0, 0, 0, 0.15);\n",
              "    filter: drop-shadow(0px 1px 2px rgba(0, 0, 0, 0.3));\n",
              "    fill: #FFFFFF;\n",
              "  }\n",
              "</style>\n",
              "\n",
              "  <script>\n",
              "    async function quickchart(key) {\n",
              "      const charts = await google.colab.kernel.invokeFunction(\n",
              "          'suggestCharts', [key], {});\n",
              "    }\n",
              "    (() => {\n",
              "      let quickchartButtonEl =\n",
              "        document.querySelector('#df-3647decb-4ae2-4076-8c51-74643f047b7d button');\n",
              "      quickchartButtonEl.style.display =\n",
              "        google.colab.kernel.accessAllowed ? 'block' : 'none';\n",
              "    })();\n",
              "  </script>\n",
              "</div>\n",
              "    </div>\n",
              "  </div>\n"
            ]
          },
          "metadata": {},
          "execution_count": 10
        }
      ],
      "source": [
        "second_data.head()"
      ]
    },
    {
      "cell_type": "code",
      "execution_count": null,
      "metadata": {
        "colab": {
          "base_uri": "https://localhost:8080/"
        },
        "id": "x9BqkivJHYWp",
        "outputId": "3a7fd2f3-e278-4b04-87ff-2d2ee7cbd345"
      },
      "outputs": [
        {
          "output_type": "execute_result",
          "data": {
            "text/plain": [
              "(977, 13)"
            ]
          },
          "metadata": {},
          "execution_count": 11
        }
      ],
      "source": [
        "first_data.shape"
      ]
    },
    {
      "cell_type": "code",
      "execution_count": null,
      "metadata": {
        "colab": {
          "base_uri": "https://localhost:8080/"
        },
        "id": "tMvyoW7gHbcQ",
        "outputId": "b137c418-007e-4f3c-a425-1ff12c2a8704"
      },
      "outputs": [
        {
          "output_type": "execute_result",
          "data": {
            "text/plain": [
              "(912, 13)"
            ]
          },
          "metadata": {},
          "execution_count": 12
        }
      ],
      "source": [
        "second_data.shape"
      ]
    },
    {
      "cell_type": "code",
      "execution_count": null,
      "metadata": {
        "colab": {
          "base_uri": "https://localhost:8080/"
        },
        "id": "s-uoFnkiBidX",
        "outputId": "0e56ccb1-e623-4628-9d55-1ba02035dbc8"
      },
      "outputs": [
        {
          "output_type": "execute_result",
          "data": {
            "text/plain": [
              "Index(['Manufacturer', 'Model Name', 'Category', 'Screen Size', 'Screen',\n",
              "       'CPU', 'RAM', ' Storage', 'GPU', 'Operating System',\n",
              "       'Operating System Version', 'Weight', 'Price'],\n",
              "      dtype='object')"
            ]
          },
          "metadata": {},
          "execution_count": 13
        }
      ],
      "source": [
        "first_data.columns"
      ]
    },
    {
      "cell_type": "code",
      "execution_count": null,
      "metadata": {
        "colab": {
          "base_uri": "https://localhost:8080/"
        },
        "id": "-8v93tZJBkhD",
        "outputId": "d77ad838-044a-44d3-db0b-25cbe4ab0981"
      },
      "outputs": [
        {
          "output_type": "execute_result",
          "data": {
            "text/plain": [
              "Index(['id', 'Company', 'Product', 'TypeName', 'Inches', 'ScreenResolution',\n",
              "       'Cpu', 'Ram', 'Memory', 'Gpu', 'OpSys', 'Weight', 'Price_euros'],\n",
              "      dtype='object')"
            ]
          },
          "metadata": {},
          "execution_count": 14
        }
      ],
      "source": [
        "second_data.columns"
      ]
    },
    {
      "cell_type": "markdown",
      "metadata": {
        "id": "4PUgldyoBwr5"
      },
      "source": [
        "First,We Notice that The Prices of the datasets are not at the same cuurrecny,So I will convert the first dataset Prices to Euros"
      ]
    },
    {
      "cell_type": "code",
      "execution_count": null,
      "metadata": {
        "id": "V-TJPidDBmbv"
      },
      "outputs": [],
      "source": [
        "def from_INR_to_Euros(df):\n",
        "\n",
        "  df['Price'] = 0.000121 * df['Price']\n",
        "\n",
        "  return df"
      ]
    },
    {
      "cell_type": "code",
      "execution_count": null,
      "metadata": {
        "id": "rzVnsVmKCk8S"
      },
      "outputs": [],
      "source": [
        "first_data = from_INR_to_Euros(first_data)"
      ]
    },
    {
      "cell_type": "code",
      "execution_count": null,
      "metadata": {
        "colab": {
          "base_uri": "https://localhost:8080/"
        },
        "id": "Oh6SAsS_Cs1k",
        "outputId": "ff3f0ffa-49ce-4488-8871-1527260639ae"
      },
      "outputs": [
        {
          "output_type": "execute_result",
          "data": {
            "text/plain": [
              "  Manufacturer   Model Name   Category Screen Size  \\\n",
              "0        Apple  MacBook Pro  Ultrabook       13.3\"   \n",
              "1        Apple  Macbook Air  Ultrabook       13.3\"   \n",
              "2           HP       250 G6   Notebook       15.6\"   \n",
              "3        Apple  MacBook Pro  Ultrabook       15.4\"   \n",
              "4        Apple  MacBook Pro  Ultrabook       13.3\"   \n",
              "\n",
              "                               Screen                         CPU   RAM  \\\n",
              "0  IPS Panel Retina Display 2560x1600        Intel Core i5 2.3GHz   8GB   \n",
              "1                            1440x900        Intel Core i5 1.8GHz   8GB   \n",
              "2                   Full HD 1920x1080  Intel Core i5 7200U 2.5GHz   8GB   \n",
              "3  IPS Panel Retina Display 2880x1800        Intel Core i7 2.7GHz  16GB   \n",
              "4  IPS Panel Retina Display 2560x1600        Intel Core i5 3.1GHz   8GB   \n",
              "\n",
              "               Storage                           GPU Operating System  \\\n",
              "0            128GB SSD  Intel Iris Plus Graphics 640            macOS   \n",
              "1  128GB Flash Storage        Intel HD Graphics 6000            macOS   \n",
              "2            256GB SSD         Intel HD Graphics 620            No OS   \n",
              "3            512GB SSD            AMD Radeon Pro 455            macOS   \n",
              "4            256GB SSD  Intel Iris Plus Graphics 650            macOS   \n",
              "\n",
              "  Operating System Version  Weight        Price  \n",
              "0                      NaN  1.37kg  1441.415341  \n",
              "1                      NaN  1.34kg   967.198312  \n",
              "2                      NaN  1.86kg   618.660900  \n",
              "3                      NaN  1.83kg  2730.123653  \n",
              "4                      NaN  1.37kg  1940.550955  "
            ],
            "text/html": [
              "\n",
              "  <div id=\"df-319b7865-7522-41e4-be16-056c5c915b24\" class=\"colab-df-container\">\n",
              "    <div>\n",
              "<style scoped>\n",
              "    .dataframe tbody tr th:only-of-type {\n",
              "        vertical-align: middle;\n",
              "    }\n",
              "\n",
              "    .dataframe tbody tr th {\n",
              "        vertical-align: top;\n",
              "    }\n",
              "\n",
              "    .dataframe thead th {\n",
              "        text-align: right;\n",
              "    }\n",
              "</style>\n",
              "<table border=\"1\" class=\"dataframe\">\n",
              "  <thead>\n",
              "    <tr style=\"text-align: right;\">\n",
              "      <th></th>\n",
              "      <th>Manufacturer</th>\n",
              "      <th>Model Name</th>\n",
              "      <th>Category</th>\n",
              "      <th>Screen Size</th>\n",
              "      <th>Screen</th>\n",
              "      <th>CPU</th>\n",
              "      <th>RAM</th>\n",
              "      <th>Storage</th>\n",
              "      <th>GPU</th>\n",
              "      <th>Operating System</th>\n",
              "      <th>Operating System Version</th>\n",
              "      <th>Weight</th>\n",
              "      <th>Price</th>\n",
              "    </tr>\n",
              "  </thead>\n",
              "  <tbody>\n",
              "    <tr>\n",
              "      <th>0</th>\n",
              "      <td>Apple</td>\n",
              "      <td>MacBook Pro</td>\n",
              "      <td>Ultrabook</td>\n",
              "      <td>13.3\"</td>\n",
              "      <td>IPS Panel Retina Display 2560x1600</td>\n",
              "      <td>Intel Core i5 2.3GHz</td>\n",
              "      <td>8GB</td>\n",
              "      <td>128GB SSD</td>\n",
              "      <td>Intel Iris Plus Graphics 640</td>\n",
              "      <td>macOS</td>\n",
              "      <td>NaN</td>\n",
              "      <td>1.37kg</td>\n",
              "      <td>1441.415341</td>\n",
              "    </tr>\n",
              "    <tr>\n",
              "      <th>1</th>\n",
              "      <td>Apple</td>\n",
              "      <td>Macbook Air</td>\n",
              "      <td>Ultrabook</td>\n",
              "      <td>13.3\"</td>\n",
              "      <td>1440x900</td>\n",
              "      <td>Intel Core i5 1.8GHz</td>\n",
              "      <td>8GB</td>\n",
              "      <td>128GB Flash Storage</td>\n",
              "      <td>Intel HD Graphics 6000</td>\n",
              "      <td>macOS</td>\n",
              "      <td>NaN</td>\n",
              "      <td>1.34kg</td>\n",
              "      <td>967.198312</td>\n",
              "    </tr>\n",
              "    <tr>\n",
              "      <th>2</th>\n",
              "      <td>HP</td>\n",
              "      <td>250 G6</td>\n",
              "      <td>Notebook</td>\n",
              "      <td>15.6\"</td>\n",
              "      <td>Full HD 1920x1080</td>\n",
              "      <td>Intel Core i5 7200U 2.5GHz</td>\n",
              "      <td>8GB</td>\n",
              "      <td>256GB SSD</td>\n",
              "      <td>Intel HD Graphics 620</td>\n",
              "      <td>No OS</td>\n",
              "      <td>NaN</td>\n",
              "      <td>1.86kg</td>\n",
              "      <td>618.660900</td>\n",
              "    </tr>\n",
              "    <tr>\n",
              "      <th>3</th>\n",
              "      <td>Apple</td>\n",
              "      <td>MacBook Pro</td>\n",
              "      <td>Ultrabook</td>\n",
              "      <td>15.4\"</td>\n",
              "      <td>IPS Panel Retina Display 2880x1800</td>\n",
              "      <td>Intel Core i7 2.7GHz</td>\n",
              "      <td>16GB</td>\n",
              "      <td>512GB SSD</td>\n",
              "      <td>AMD Radeon Pro 455</td>\n",
              "      <td>macOS</td>\n",
              "      <td>NaN</td>\n",
              "      <td>1.83kg</td>\n",
              "      <td>2730.123653</td>\n",
              "    </tr>\n",
              "    <tr>\n",
              "      <th>4</th>\n",
              "      <td>Apple</td>\n",
              "      <td>MacBook Pro</td>\n",
              "      <td>Ultrabook</td>\n",
              "      <td>13.3\"</td>\n",
              "      <td>IPS Panel Retina Display 2560x1600</td>\n",
              "      <td>Intel Core i5 3.1GHz</td>\n",
              "      <td>8GB</td>\n",
              "      <td>256GB SSD</td>\n",
              "      <td>Intel Iris Plus Graphics 650</td>\n",
              "      <td>macOS</td>\n",
              "      <td>NaN</td>\n",
              "      <td>1.37kg</td>\n",
              "      <td>1940.550955</td>\n",
              "    </tr>\n",
              "  </tbody>\n",
              "</table>\n",
              "</div>\n",
              "    <div class=\"colab-df-buttons\">\n",
              "\n",
              "  <div class=\"colab-df-container\">\n",
              "    <button class=\"colab-df-convert\" onclick=\"convertToInteractive('df-319b7865-7522-41e4-be16-056c5c915b24')\"\n",
              "            title=\"Convert this dataframe to an interactive table.\"\n",
              "            style=\"display:none;\">\n",
              "\n",
              "  <svg xmlns=\"http://www.w3.org/2000/svg\" height=\"24px\" viewBox=\"0 -960 960 960\">\n",
              "    <path d=\"M120-120v-720h720v720H120Zm60-500h600v-160H180v160Zm220 220h160v-160H400v160Zm0 220h160v-160H400v160ZM180-400h160v-160H180v160Zm440 0h160v-160H620v160ZM180-180h160v-160H180v160Zm440 0h160v-160H620v160Z\"/>\n",
              "  </svg>\n",
              "    </button>\n",
              "\n",
              "  <style>\n",
              "    .colab-df-container {\n",
              "      display:flex;\n",
              "      gap: 12px;\n",
              "    }\n",
              "\n",
              "    .colab-df-convert {\n",
              "      background-color: #E8F0FE;\n",
              "      border: none;\n",
              "      border-radius: 50%;\n",
              "      cursor: pointer;\n",
              "      display: none;\n",
              "      fill: #1967D2;\n",
              "      height: 32px;\n",
              "      padding: 0 0 0 0;\n",
              "      width: 32px;\n",
              "    }\n",
              "\n",
              "    .colab-df-convert:hover {\n",
              "      background-color: #E2EBFA;\n",
              "      box-shadow: 0px 1px 2px rgba(60, 64, 67, 0.3), 0px 1px 3px 1px rgba(60, 64, 67, 0.15);\n",
              "      fill: #174EA6;\n",
              "    }\n",
              "\n",
              "    .colab-df-buttons div {\n",
              "      margin-bottom: 4px;\n",
              "    }\n",
              "\n",
              "    [theme=dark] .colab-df-convert {\n",
              "      background-color: #3B4455;\n",
              "      fill: #D2E3FC;\n",
              "    }\n",
              "\n",
              "    [theme=dark] .colab-df-convert:hover {\n",
              "      background-color: #434B5C;\n",
              "      box-shadow: 0px 1px 3px 1px rgba(0, 0, 0, 0.15);\n",
              "      filter: drop-shadow(0px 1px 2px rgba(0, 0, 0, 0.3));\n",
              "      fill: #FFFFFF;\n",
              "    }\n",
              "  </style>\n",
              "\n",
              "    <script>\n",
              "      const buttonEl =\n",
              "        document.querySelector('#df-319b7865-7522-41e4-be16-056c5c915b24 button.colab-df-convert');\n",
              "      buttonEl.style.display =\n",
              "        google.colab.kernel.accessAllowed ? 'block' : 'none';\n",
              "\n",
              "      async function convertToInteractive(key) {\n",
              "        const element = document.querySelector('#df-319b7865-7522-41e4-be16-056c5c915b24');\n",
              "        const dataTable =\n",
              "          await google.colab.kernel.invokeFunction('convertToInteractive',\n",
              "                                                    [key], {});\n",
              "        if (!dataTable) return;\n",
              "\n",
              "        const docLinkHtml = 'Like what you see? Visit the ' +\n",
              "          '<a target=\"_blank\" href=https://colab.research.google.com/notebooks/data_table.ipynb>data table notebook</a>'\n",
              "          + ' to learn more about interactive tables.';\n",
              "        element.innerHTML = '';\n",
              "        dataTable['output_type'] = 'display_data';\n",
              "        await google.colab.output.renderOutput(dataTable, element);\n",
              "        const docLink = document.createElement('div');\n",
              "        docLink.innerHTML = docLinkHtml;\n",
              "        element.appendChild(docLink);\n",
              "      }\n",
              "    </script>\n",
              "  </div>\n",
              "\n",
              "\n",
              "<div id=\"df-f11f3588-3d16-4bbc-b2d8-6be66ae9725f\">\n",
              "  <button class=\"colab-df-quickchart\" onclick=\"quickchart('df-f11f3588-3d16-4bbc-b2d8-6be66ae9725f')\"\n",
              "            title=\"Suggest charts.\"\n",
              "            style=\"display:none;\">\n",
              "\n",
              "<svg xmlns=\"http://www.w3.org/2000/svg\" height=\"24px\"viewBox=\"0 0 24 24\"\n",
              "     width=\"24px\">\n",
              "    <g>\n",
              "        <path d=\"M19 3H5c-1.1 0-2 .9-2 2v14c0 1.1.9 2 2 2h14c1.1 0 2-.9 2-2V5c0-1.1-.9-2-2-2zM9 17H7v-7h2v7zm4 0h-2V7h2v10zm4 0h-2v-4h2v4z\"/>\n",
              "    </g>\n",
              "</svg>\n",
              "  </button>\n",
              "\n",
              "<style>\n",
              "  .colab-df-quickchart {\n",
              "    background-color: #E8F0FE;\n",
              "    border: none;\n",
              "    border-radius: 50%;\n",
              "    cursor: pointer;\n",
              "    display: none;\n",
              "    fill: #1967D2;\n",
              "    height: 32px;\n",
              "    padding: 0 0 0 0;\n",
              "    width: 32px;\n",
              "  }\n",
              "\n",
              "  .colab-df-quickchart:hover {\n",
              "    background-color: #E2EBFA;\n",
              "    box-shadow: 0px 1px 2px rgba(60, 64, 67, 0.3), 0px 1px 3px 1px rgba(60, 64, 67, 0.15);\n",
              "    fill: #174EA6;\n",
              "  }\n",
              "\n",
              "  [theme=dark] .colab-df-quickchart {\n",
              "    background-color: #3B4455;\n",
              "    fill: #D2E3FC;\n",
              "  }\n",
              "\n",
              "  [theme=dark] .colab-df-quickchart:hover {\n",
              "    background-color: #434B5C;\n",
              "    box-shadow: 0px 1px 3px 1px rgba(0, 0, 0, 0.15);\n",
              "    filter: drop-shadow(0px 1px 2px rgba(0, 0, 0, 0.3));\n",
              "    fill: #FFFFFF;\n",
              "  }\n",
              "</style>\n",
              "\n",
              "  <script>\n",
              "    async function quickchart(key) {\n",
              "      const charts = await google.colab.kernel.invokeFunction(\n",
              "          'suggestCharts', [key], {});\n",
              "    }\n",
              "    (() => {\n",
              "      let quickchartButtonEl =\n",
              "        document.querySelector('#df-f11f3588-3d16-4bbc-b2d8-6be66ae9725f button');\n",
              "      quickchartButtonEl.style.display =\n",
              "        google.colab.kernel.accessAllowed ? 'block' : 'none';\n",
              "    })();\n",
              "  </script>\n",
              "</div>\n",
              "    </div>\n",
              "  </div>\n"
            ]
          },
          "metadata": {},
          "execution_count": 17
        }
      ],
      "source": [
        "first_data.head()"
      ]
    },
    {
      "cell_type": "markdown",
      "metadata": {
        "id": "lE4X6ncKC5l5"
      },
      "source": [
        "Now I will try to Rename the Columns , to match the two datasets"
      ]
    },
    {
      "cell_type": "code",
      "execution_count": null,
      "metadata": {
        "id": "KkJqu1e7Dl7P"
      },
      "outputs": [],
      "source": [
        "first_data.rename(columns={' Storage':'Storage'},inplace=True)\n",
        "second_data.rename(columns={'Company': 'Manufacturer','Product':'Model Name','TypeName':'Category','Inches':'Screen Size','ScreenResolution':'Screen','Ram':'RAM','Memory':'Storage',\n",
        "                            'Gpu':'GPU','Cpu':'CPU','OpSys':'Operating System','Price_euros':'Price'}, inplace=True)"
      ]
    },
    {
      "cell_type": "code",
      "execution_count": null,
      "metadata": {
        "colab": {
          "base_uri": "https://localhost:8080/"
        },
        "id": "AojYnMc-Fse7",
        "outputId": "8ebaa344-c791-4a71-8166-641df94e9c17"
      },
      "outputs": [
        {
          "output_type": "execute_result",
          "data": {
            "text/plain": [
              "(1889, 14)"
            ]
          },
          "metadata": {},
          "execution_count": 19
        }
      ],
      "source": [
        "concatenated_df = pd.concat([first_data, second_data])\n",
        "concatenated_df.shape\n"
      ]
    },
    {
      "cell_type": "code",
      "execution_count": null,
      "metadata": {
        "colab": {
          "base_uri": "https://localhost:8080/"
        },
        "id": "ajHAyMukKA-a",
        "outputId": "964c7906-6b81-4015-f371-c686929f038c"
      },
      "outputs": [
        {
          "output_type": "execute_result",
          "data": {
            "text/plain": [
              "Index(['Manufacturer', 'Model Name', 'Category', 'Screen Size', 'Screen',\n",
              "       'CPU', 'RAM', 'Storage', 'GPU', 'Operating System',\n",
              "       'Operating System Version', 'Weight', 'Price', 'id'],\n",
              "      dtype='object')"
            ]
          },
          "metadata": {},
          "execution_count": 20
        }
      ],
      "source": [
        "concatenated_df.columns"
      ]
    },
    {
      "cell_type": "code",
      "execution_count": null,
      "metadata": {
        "id": "4pcU2K6RKr48"
      },
      "outputs": [],
      "source": [
        "total_data = concatenated_df.copy()"
      ]
    },
    {
      "cell_type": "code",
      "execution_count": null,
      "metadata": {
        "colab": {
          "base_uri": "https://localhost:8080/"
        },
        "id": "AMzYhE1xJSAB",
        "outputId": "b665bced-6315-4077-ce98-ed7cb6b6bcc8"
      },
      "outputs": [
        {
          "output_type": "execute_result",
          "data": {
            "text/plain": [
              "Manufacturer                   0\n",
              "Model Name                     0\n",
              "Category                       0\n",
              "Screen Size                    0\n",
              "Screen                         0\n",
              "CPU                            0\n",
              "RAM                            0\n",
              "Storage                        0\n",
              "GPU                            0\n",
              "Operating System               0\n",
              "Operating System Version    1048\n",
              "Weight                         0\n",
              "Price                          0\n",
              "id                           977\n",
              "dtype: int64"
            ]
          },
          "metadata": {},
          "execution_count": 22
        }
      ],
      "source": [
        "total_data.isnull().sum()"
      ]
    },
    {
      "cell_type": "markdown",
      "metadata": {
        "id": "MCwsZgjiIhsq"
      },
      "source": [
        "# Data Visulization"
      ]
    },
    {
      "cell_type": "code",
      "execution_count": null,
      "metadata": {
        "colab": {
          "base_uri": "https://localhost:8080/"
        },
        "id": "f-yscSFRH8Dy",
        "outputId": "a571fb30-036b-47a8-b3a7-5628efc96819"
      },
      "outputs": [
        {
          "output_type": "display_data",
          "data": {
            "text/html": [
              "<html>\n",
              "<head><meta charset=\"utf-8\" /></head>\n",
              "<body>\n",
              "    <div>            <script src=\"https://cdnjs.cloudflare.com/ajax/libs/mathjax/2.7.5/MathJax.js?config=TeX-AMS-MML_SVG\"></script><script type=\"text/javascript\">if (window.MathJax && window.MathJax.Hub && window.MathJax.Hub.Config) {window.MathJax.Hub.Config({SVG: {font: \"STIX-Web\"}});}</script>                <script type=\"text/javascript\">window.PlotlyConfig = {MathJaxConfig: 'local'};</script>\n",
              "        <script charset=\"utf-8\" src=\"https://cdn.plot.ly/plotly-2.24.1.min.js\"></script>                <div id=\"0ad0c5c1-7823-474f-baef-abd2773b3b1d\" class=\"plotly-graph-div\" style=\"height:525px; width:100%;\"></div>            <script type=\"text/javascript\">                                    window.PLOTLYENV=window.PLOTLYENV || {};                                    if (document.getElementById(\"0ad0c5c1-7823-474f-baef-abd2773b3b1d\")) {                    Plotly.newPlot(                        \"0ad0c5c1-7823-474f-baef-abd2773b3b1d\",                        [{\"name\":\"Histogram\",\"x\":[1441.41534108,967.19831208,618.6609,2730.1236534,1940.5509551999999,430.3728,2302.4622020399997,1246.6824084,1608.51834,828.46764,423.80961479999996,371.18578068,2625.2418020399996,536.7824747999999,1358.2565568,1633.8565386,801.56934,3075.013656,536.890068,1053.337428,206.4713508,1074.856068,277.590456,881.188308,709.039188,450.42817248,1182.449268,860.7456,1396.559736,964.035072,263.59258068,214.110468,472.334148,2010.916908,1073.780136,267.907068,394.867044,1053.337428,525.79720908,945.744228,418.537548,1612.822068,562.70167668,733.785624,1074.856068,1526.747508,397.018908,1397.635668,687.520548,501.384312,343.222308,904.8588120000001,428.74814268,1186.752996,413.157888,826.1005895999999,472.334148,630.70057908,2634.957468,446.51178,1397.635668,945.744228,644.483268,1012.452012,742.39308,2133.573156,472.00060908,246.388428,590.686668,1021.059468,1171.689948,1027.51506,936.06084,1178.14554,418.537548,1021.059468,558.408708,919.92186,570.24396,1051.185564,1179.39362112,1624.65732,925.30152,429.296868,424.99314,1451.432268,752.076468,644.47250868,1559.025468,1774.211868,752.076468,741.317148,1287.890604,1285.73874,1128.652668,911.314404,645.4516067999999,521.82702,620.812764,1343.839068,773.595108,375.500268,696.128004,1203.967908,1441.74888,709.039188,446.4041868,1283.586876,1397.635668,1592.37936,1357.826184,1483.710228,1505.228868,776.822904,1752.693228,1505.2181086800001,1166.310288,1216.15821756,606.825648,1202.891976,515.371428,2411.701578,676.761228,1367.509572,485.245332,278.666388,873.656784,299.09833668,1502.001072,998.464896,687.50978868,483.093468,951.123888,615.433104,643.407336,1063.020816,271.52219952,1009.224216,536.890068,752.076468,704.73546,1200.76163064,934.984908,647.711064,397.018908,1182.449268,2166.927048,370.120608,2183.066028,480.941604,1344.11881032,967.262868,535.814136,2033.51148,1164.158424,666.001908,676.761228,1414.85058,1128.652668,480.941604,433.600596,866.12526,783.278496,1160.930628,374.424336,1935.601668,391.11204132,1141.01512668,918.845928,811.252728,1451.432268,752.076468,332.462988,526.130748,993.085236,493.852788,483.093468,3011.533668,874.732716,1612.822068,1128.652668,1505.228868,1989.398268,853.214076,1290.042468,1666.618668,2579.009004,838.151028,1064.096748,1167.38622,3038.431968,279.74232,1075.8244068000001,751.000536,902.706948,983.401848,6562.109268,1031.818788,1483.710228,1124.34894,1985.09454,530.434476,798.341544,1881.805068,3286.97226,1504.152936,472.334148,2096.991468,1559.025468,642.331404,838.151028,1513.836324,375.500268,590.686668,1612.822068,1002.63951216,633.723948,1109.285892,1236.245868,1376.117028,728.7825402,967.262868,1466.495316,854.2900080000001,2642.8548088800003,895.175424,924.2363473199999,827.391708,958.655412,1365.357708,429.28610868,355.05756,1612.822068,924.225588,741.317148,967.262868,419.61348,618.6609,4185.37548,910.238472,633.723948,1231.94214,956.503548,945.744228,1160.930628,1059.79302,601.445988,3226.720068,726.2541,2194.90128,881.188308,1935.601668,504.612108,1989.398268,755.304264,1021.059468,479.75807879999996,1139.411988,2688.754068,1828.008468,1228.714344,477.71380800000003,776.822904,706.887324,607.90158,859.669668,1612.822068,502.460244,1095.298776,946.82016,2107.6431948,1666.618668,790.88533524,2688.754068,873.656784,767.2148312400001,1182.449268,801.56934,526.130748,913.466268,924.225588,460.498896,891.947628,622.964628,1023.211332,709.039188,1180.297404,1051.185564,1268.523828,709.04994732,214.110468,1277.131284,526.130748,1967.879628,795.113748,1397.635668,1053.337428,3103.9131895200003,536.890068,1579.468176,547.649388,2283.127704,698.279868,590.686668,1361.05398,387.32476068,2124.9657,1122.197076,881.188308,504.612108,1074.856068,2688.754068,2258.381268,504.612108,295.8813,908.086608,2634.957468,494.8211268,1054.41336,521.82702,1390.104144,633.723948,1177.069608,970.490664,709.039188,314.172144,590.686668,1129.6210068,1436.36922,2839.384548,1290.042468,1014.603876,1435.293288,483.093468,1074.856068,1364.281776,1128.652668,1230.866208,295.87054068000003,1229.521293,295.77370679999996,967.262868,770.367312,2258.381268,1698.896628,1214.727228,300.185028,1730.05561872,403.4745,713.342916,2181.36605544,1403.015328,1515.988188,1870.26031764,1509.532596,1044.6223788,346.43934468000003,1074.856068,599.69221884,1535.354964,472.334148,1016.75574,773.595108,687.520548,536.890068,418.537548,1167.38622,870.428988,967.262868,1882.881,1182.449268,458.347032,2365.974468,526.130748,934.9956673199999,526.11998868,594.990396,332.462988,307.716552,910.238472,1281.435012,434.138562,1780.66746,1182.449268,1881.6974748,2455.276824,590.686668,1472.950908,2297.11482,2699.513388,1117.893348,1711.807812,746.68604868,1451.432268,838.01115684,536.890068,1322.9229499199998,1009.224216,2917.927584,2824.3215,329.235192,1645.100028,1231.404174,945.744228,2419.771068,2015.220636,1879.653204,1807.56576,440.056188,327.5674974,2071.1691,2090.535876,504.612108,848.92110732,998.464896,644.3756748,741.317148,1613.898,580.9494834000001,1307.6662341600002,2043.194868,483.093468,1535.354964,642.331404,3011.533668,1247.005188,1229.1447168000002,1182.449268,2150.788068,321.703668,289.425708,1086.69132,644.483268,2630.65374,2634.957468,1823.70474,373.348404,2365.974468,2562.870024,601.445988,558.408708,805.873068,1537.506828,375.500268,1182.449268,1268.523828,475.3467576,2144.332476,1105.77835368,2785.587948,633.723948,2124.9657,1650.479688,1447.12854,1053.337428,515.371428,2201.356872,1064.096748,1935.601668,688.4888867999999,585.307008,468.03042,805.873068,859.669668,2248.69788,327.083328,504.612108,816.632388,1828.008468,1999.081656,2150.788068,1241.625528,1371.8133,1981.7053541999999,1397.635668,796.18968,2590.844256,1467.571248,726.2541,1798.958304,1357.826184,631.1417112,781.126632,267.7994748,607.90158,1128.652668,2515.529016,2043.194868,1934.525736,2098.0674,1088.83242468,3011.533668,1452.5082,622.964628,1365.357708,1182.449268,967.1552748,1881.805068,1021.059468,980.174052,365.81688,665.99114868,1720.415268,321.703668,285.12198,1021.059468,1316.940768,659.546316,1423.458036,1236.245868,967.262868,687.520548,899.479152,1311.81933168,1506.2510034,263.60334,561.06626004,3193.366176,956.503548,1618.201728,1505.228868,1505.228868,1376.90245836,741.317148,956.503548,1441.74888,859.669668,493.852788,629.42022,1481.558364,3241.53565164,925.30152,1397.635668,397.018908,1774.211868,1472.950908,857.95893612,429.28610868,1935.601668,924.225588,1505.228868,791.74608084,1231.94214,858.593736,375.500268,759.070026,844.60662,497.45716020000003,427.14500400000003,1860.2864280000001,536.890068,1201.80528468,2903.940468,585.4683977999999,1377.19296,241.008768,274.36266,1021.059468,612.0977148,664.8183828,375.500268,677.83716,2114.20638,3226.720068,902.706948,1720.415268,1031.818788,795.113748,370.120608,1065.17268,2002.29869268,418.537548,698.279868,893.02356,737.01342,267.907068,2006.61318,2865.206916,2936.218428,805.88382732,418.537548,1085.09894064,773.595108,1654.1270974800002,317.39994,2527.364268,1611.746136,1800.034236,655.242588,1904.39964,795.113748,1021.059468,648.786996,1828.008468,569.168028,493.852788,2178.7623,1585.923768,1796.80644,1896.868116,1311.561108,719.23902336,353.981628,2365.974468,500.30838,2473.567668,1505.228868,606.825648,1397.635668,375.500268,5270.990868,945.7549873199999,477.6062148,386.259588,934.984908,1256.688576,612.205308,1494.469548,2440.06314552,407.778228,1209.347568,1576.24038,834.923232,859.669668,1002.768624,967.262868,257.147748,503.536176,687.53130732,1958.19624,2044.2708,1591.303428,891.947628,622.964628,429.296868,975.46146984,2010.916908,267.907068,1890.8644154400001,2581.160868,1193.208588,560.4529788,2636.0334,1257.764508,484.1694,294.805368,988.781508,2796.347268,1305.105516,1704.276288,3011.533668,762.835788,1559.9938068000001,1282.2957576,392.6075868,1144.791648,988.781508,1221.18282,1286.814672,3386.35609884,1322.320428,450.815508,575.62362,579.927348,1599.66341964,535.814136,1027.51506,801.56934,1353.522456,443.283984,2009.6795862,880.0585794000001,1112.513688,375.500268,752.076468,1392.256008,1221.18282,532.58634,2473.567668,1397.635668,1073.6725428000002,450.815508,2206.736532,752.076468,1612.822068,3027.403665,659.12670252,587.10381444,612.205308,342.146376,403.4745,752.076468,2052.86749668,2786.66388,1046.881836,289.425708,1881.805068,719.798508,2019.524364,741.317148,881.188308,429.296868,461.574828,668.6379414,484.1694,855.36594,1074.856068,1995.85386,1281.435012,704.74621932,1343.839068,1171.689948,781.126632,320.627736,1534.98914712,922.1490392400001,1268.523828,320.627736,285.12198,1291.1184,1814.70994848,900.1247112,1612.822068,3937.2655608,1450.87278336,527.0990868,773.595108,698.279868,634.28343264,526.130748,2081.92842,698.279868,699.3558,601.445988,1032.89472,838.151028,2602.679508,709.039188,2253.51805536,441.9928656,1298.649924,715.49478,1651.55562,1074.856068,3549.499668,355.05756,1774.211868,579.927348,1212.26334372,4722.265548,511.0677,2044.2708,622.964628,1179.221472,914.4346068,1290.042468,1182.449268,1679.529852,3086.83814868,644.483268,1127.576736,2000.157588,1677.377988,1214.727228,913.466268,704.73546,506.05385687999996,1182.449268,1720.415268,320.627736,1270.96619364,1935.601668,1097.45064,1182.449268,1338.459408,902.706948,2549.95884,684.292752,3119.126868,626.0848308,3861.3047616000003,2528.4402,1897.944048,353.981628,2473.567668,2034.587412,1171.689948,1074.856068,2473.567668,1059.79302,1440.672948,218.3066028,2119.58604,1031.818788,1253.46078,2506.92156,321.703668,871.50492,1451.432268,795.113748,2221.6919868,1182.449268,1612.822068,1881.805068,800.493408,1494.469548,839.22696,676.761228,1806.489828,655.242588,1881.805068,2598.37578,1612.822068,1033.970652,849.7818529199999,2000.157588,1935.601668,414.23382,2695.23117864,812.32866,527.0990868,1172.76588,2688.754068,1290.042468,2017.3725,536.890068,1461.115656,629.42022,381.95586,666.001908,5916.5500680000005,2258.381268,558.408708,1276.055352,1775.2878,2985.31320516,2602.679508,719.798508,349.6779,634.79988,1935.601668,3306.22068348,979.09812,768.20468868,2011.9928400000001,795.113748,661.69818,1103.906232,2449.897164,1579.468176,321.703668,2043.194868,930.68118,2047.498596,846.758484,1016.75574,483.093468,2753.309988,698.279868,504.612108,915.2523151199999,1451.432268,1382.57262,1094.222844,2410.08768,979.09812,1178.14554,2098.0674,970.490664,1913.007096,1135.10826,515.371428,1493.393616,790.81002,1989.398268,1818.32508,429.28610868,1005.9964200000001,981.78795,902.706948,1829.0844,736.7982336,374.424336,719.798508,397.018908,1935.601668,490.3022124,1473.9192468,319.551804,407.778228,1361.05398,1505.228868,1828.008468,1935.601668,2850.143868,1586.9997,999.540828,968.3388,660.622248,1005.9964200000001,2165.9587091999997,1376.117028,1774.211868,2204.584668,2112.0437566799997,2258.381268,1595.607156,386.259588,848.910348,2043.194868,1296.49806,3335.3892,848.910348,1096.36394868,536.890068,947.896092,1032.89472,1720.415268,1451.432268,1204.9470061200002,737.00266068,1395.47304468,1236.245868,2124.9657,1963.5759,785.3227668,1775.2878,1253.46078,761.82441192,1236.245868,332.462988,1698.896628,310.8367548,1935.601668,1188.90486,1795.730508,601.0156152000001,1290.042468,1763.452548,2967.420456,1505.228868,570.24396,666.001908,1203.967908,1397.635668,1074.856068,1583.9870904,737.01342,709.039188,375.500268,2419.771068,1909.7793,1570.86072,1247.005188,1602.05198868,3393.489528,2043.194868,833.8473,1364.281776,418.537548,1651.55562,1893.64032,1085.615388,1925.91828,910.776438,500.97545784,887.6439,737.01342,3388.109868,747.77274,2043.194868,2112.03299736,3012.6096000000002,1269.59976,2205.5530068000003,1053.337428,1078.083864,369.0,399.0,900.0,2046.0,468.0,1624.0,469.0,1829.0,369.0,2296.95,1499.0,1650.0,439.0,742.0,1427.0,586.19,629.0,499.0,1499.0,2199.0,389.0,4899.0,749.0,1142.75,830.0,895.01,278.0,309.0,2499.0,1877.0,1591.0,398.99,465.0,899.0,1799.0,1299.0,1142.8,764.0,485.0,1049.0,1099.0,2029.0,1975.0,800.0,403.0,2299.0,638.99,1189.0,949.0,2299.0,2199.0,959.0,2858.0,1413.1,269.0,650.0,1655.0,1195.0,229.0,2370.0,1070.0,1999.0,1064.0,899.0,1537.39,265.0,1097.0,1778.0,750.0,359.0,1803.6,859.0,2799.0,1099.0,737.0,577.0,1200.0,1116.99,979.0,339.0,579.0,2249.0,1769.0,778.87,799.0,4389.0,999.0,530.0,2749.99,1468.0,379.0,1510.0,999.0,2680.0,902.0,1096.16,1369.0,499.0,769.99,739.0,1275.0,973.0,689.0,2439.97,679.0,1599.0,719.0,1299.0,274.0,1749.0,1499.0,489.0,330.0,598.9,459.0,1129.0,1757.42,270.62,1149.0,1199.0,1479.0,1268.0,369.0,1027.74,1099.0,2050.38,1169.0,398.99,799.0,2241.5,1099.0,729.0,549.0,691.0,1103.0,1670.0,739.0,1149.0,960.0,1145.0,1349.0,1099.0,839.0,1490.0,1929.0,722.0,488.99,669.0,1260.0,345.99,1150.0,1099.0,1869.0,779.0,846.5,799.0,1191.8,1870.0,449.0,549.99,1299.0,959.0,549.0,659.0,304.0,1154.0,689.0,1389.0,1799.0,659.0,932.0,1799.0,1399.0,800.0,1349.0,309.0,398.0,1199.0,1476.11,1639.0,999.0,1650.0,479.0,1379.0,1340.0,1334.0,412.0,812.0,586.6,1649.0,1268.0,2449.0,899.0,6099.0,1169.0,279.0,1474.0,530.0,415.0,881.0,1962.99,1399.0,1865.0,1799.0,788.49,1561.0,209.0,945.0,979.0,979.0,1539.0,1186.0,999.9,2589.0,397.0,630.0,379.0,330.0,2325.0,229.0,649.0,519.0,2099.0,1449.0,1390.0,299.0,1399.0,2049.0,649.0,2399.0,2899.0,979.0,889.0,1895.0,860.0,557.37,389.0,585.0,699.0,615.0,1867.85,614.0,579.0,414.9,1749.0,675.0,899.0,265.0,1072.0,870.0,1034.0,785.0,749.0,1249.0,2449.0,1045.0,1179.0,199.0,1109.0,1690.0,398.99,685.0,2094.48,1124.0,255.0,928.0,318.0,1349.0,475.0,2758.0,2499.0,1749.0,439.0,2103.34,292.0,1323.0,684.8,2419.0,685.0,589.0,612.61,770.0,443.99,449.0,479.0,1673.0,829.0,719.0,1049.6,2199.0,949.0,649.0,713.07,410.8,3299.0,3949.4,1950.0,489.0,805.0,889.0,636.0,1790.0,869.01,2299.0,466.0,896.0,1181.27,961.0,209.0,459.0,899.0,523.63,598.99,689.0,1599.0,943.0,819.0,779.0,579.0,499.0,599.0,539.95,1191.8,359.0,549.0,745.0,682.0,719.0,1249.0,659.0,1498.0,3055.0,379.0,1764.0,2250.68,249.0,387.0,1975.0,999.0,1379.0,3149.0,923.0,850.66,1389.0,348.0,589.0,1859.0,2339.0,699.0,1699.0,2013.1,769.0,951.0,202.9,1599.0,598.0,618.99,249.0,819.0,797.41,549.99,1199.0,1011.99,1499.0,465.62,1165.0,2229.0,499.0,470.34,898.9,1199.0,1399.0,985.0,3890.0,1799.0,1009.9,1748.9,735.07,1598.0,1349.0,306.0,367.0,1529.0,805.99,705.5,1584.0,1299.0,2027.42,949.0,1080.0,597.0,272.0,1029.0,1329.0,418.64,363.51,729.9,438.69,389.0,739.0,655.01,1099.0,1085.0,1449.9,1312.49,895.0,1499.0,499.0,1299.0,1969.0,389.0,389.0,1499.0,769.15,999.0,639.0,2139.97,2089.0,1891.0,309.0,1300.0,998.0,2505.02,1029.0,699.0,299.0,488.69,675.0,998.0,875.0,1699.0,3072.89,1559.0,450.0,539.0,899.0,812.0,2025.0,2049.0,1600.0,1197.0,684.0,5499.0,299.0,698.0,1179.0,1089.0,2450.0,1048.0,1207.0,1049.0,2499.0,599.0,1169.0,869.0,1084.0,380.0,489.9,559.0,1499.0,459.0,1199.0,565.0,1399.0,304.45,2800.0,639.9,1149.0,1179.0,2419.0,935.0,521.86,2699.0,455.7,879.0,1094.0,2229.0,1119.0,1079.0,2799.0,269.0,565.0,2824.0,899.0,1599.0,699.0,1690.0,1579.0,1119.0,1511.19,1873.0,1999.0,1060.0,469.01,2299.0,1262.0,1799.0,598.0,1699.0,479.0,2537.45,829.0,849.0,2226.0,989.0,1018.0,1699.0,1775.0,2099.0,869.0,832.0,655.0,938.0,1760.0,1845.0,655.0,575.0,1499.0,469.0,1388.0,2277.0,629.0,1975.0,1899.0,1272.0,1189.0,499.0,2774.63,879.0,1149.0,1713.37,613.0,1294.0,2240.0,1129.0,1299.0,2968.0,1119.0,1495.0,286.0,1890.0,2663.0,1339.0,1770.0,899.0,726.0,399.0,1534.0,1030.99,1089.0,1607.96,1869.0,439.0,659.0,1899.0,1299.0,2090.0,1195.0,1299.0,817.95,1900.0,1499.0,2122.0,979.0,403.5,2729.0,780.0,558.6,764.0,379.0,1535.0,819.0,1518.55,2999.0,2051.0,708.06,846.0,1599.0,754.0,2620.0,3588.8,1244.0,713.99,2099.0,2499.0,879.01,1219.0,728.0,559.0,1798.0,795.99,739.0,2299.0,855.0,752.0,1799.0,569.0,722.0,977.0,742.0,349.0,749.0,689.0,1499.0,3154.0,299.0,409.0,549.0,1925.0,949.0,1096.0,825.0,1407.0,359.99,1958.9,429.0,1419.0,3100.0,1949.0,349.0,979.0,590.0,1899.0,522.99,1590.0,519.0,799.0,1669.0,793.0,849.9,720.32,1193.0,1495.0,244.99,459.0,333.0,1205.0,1700.0,1269.0,729.0,1000.0,589.52,726.0,3659.4,899.0,1499.0,1887.21,1315.0,499.0,459.0,1149.0,3975.0,1348.48,1458.0,2509.0,699.0,1590.0,2350.0,1099.0,1729.0,344.99,1499.0,638.0,1258.0,2249.0,719.0,597.57,325.0,902.0,847.0,745.0,1059.0,844.0,1285.0,1304.0,699.0,1229.0,1468.0,949.0,859.0,999.0,1965.0,880.0,619.0,1943.0,393.49,999.0,2649.0,2171.72,3147.37,2968.0,1189.0,1195.0,439.0,1747.0,1199.0,469.0,245.0,1149.0,1399.0,1099.99,544.15,1399.95,1559.0,1629.0,1180.0,1118.0,469.0,745.0,949.0,1339.69,639.0,764.0,1483.0,547.0,879.0,384.0,309.0,709.0,1144.0,1983.0,867.0,375.0,573.0,478.0,1191.0,906.62,2625.0,684.99,1055.0,1859.0,1429.0,1099.0,340.0,616.0,649.0,364.9,1039.0,1799.0,720.32,1749.0,668.48,289.0,813.0,677.35,1679.0,287.9,759.0,1213.0,260.0,1135.15,1369.9,575.0,1799.0,2449.0,2040.0,2049.9,447.0,1549.0,1158.7,444.0,1349.0,669.0,2599.0,443.9,1695.0,349.0,3240.0,259.0,539.0,955.0,1017.0,564.0,3499.0,1049.0,795.0,2014.0,609.0,789.01,735.0,973.0,1650.0,1825.0,489.9,839.0,1224.0,1279.73,1962.98,2299.0,1993.0,2153.37,739.0,1529.0,609.0,767.8,669.0,990.0,2449.0,2349.0,1135.0,581.9,647.0,521.47,1349.0,209.0,1399.0,702.0,509.0,275.0,891.0,1002.0,709.0,1345.0,825.0,659.01,787.0,1950.0,599.0,599.9,1187.0,1199.0,999.0,769.0,398.0,389.0,498.0,398.49,1970.0,252.36,1196.0,1799.0,428.0,459.0,729.0,1649.0,549.0,629.0,1425.0,1159.0,1265.0,1637.0,1279.0,459.0,2868.99,1713.49,1903.0,603.0,846.0,663.0,589.0,375.0,959.0,720.32,1062.95,649.0,2064.9,1335.0,831.0,2150.0,1908.0,639.0,1498.0,274.9,395.0,911.0,1262.4,1750.0,940.0,1398.99,810.0,1060.49,1229.0,735.87,602.0,540.0,1820.0,355.0,749.01,2445.0,2135.0,2813.75,1579.0,1280.0,659.0,789.0,489.0,297.0,544.0,599.0,1819.0,1099.0,699.0,1305.0,469.0,1899.0,3012.77,935.0,529.0,191.9,889.0,298.0,569.0,499.0,919.0,349.0,914.0,229.0,1199.0,617.9,931.88,1340.0,579.0],\"type\":\"histogram\"}],                        {\"template\":{\"data\":{\"histogram2dcontour\":[{\"type\":\"histogram2dcontour\",\"colorbar\":{\"outlinewidth\":0,\"ticks\":\"\"},\"colorscale\":[[0.0,\"#0d0887\"],[0.1111111111111111,\"#46039f\"],[0.2222222222222222,\"#7201a8\"],[0.3333333333333333,\"#9c179e\"],[0.4444444444444444,\"#bd3786\"],[0.5555555555555556,\"#d8576b\"],[0.6666666666666666,\"#ed7953\"],[0.7777777777777778,\"#fb9f3a\"],[0.8888888888888888,\"#fdca26\"],[1.0,\"#f0f921\"]]}],\"choropleth\":[{\"type\":\"choropleth\",\"colorbar\":{\"outlinewidth\":0,\"ticks\":\"\"}}],\"histogram2d\":[{\"type\":\"histogram2d\",\"colorbar\":{\"outlinewidth\":0,\"ticks\":\"\"},\"colorscale\":[[0.0,\"#0d0887\"],[0.1111111111111111,\"#46039f\"],[0.2222222222222222,\"#7201a8\"],[0.3333333333333333,\"#9c179e\"],[0.4444444444444444,\"#bd3786\"],[0.5555555555555556,\"#d8576b\"],[0.6666666666666666,\"#ed7953\"],[0.7777777777777778,\"#fb9f3a\"],[0.8888888888888888,\"#fdca26\"],[1.0,\"#f0f921\"]]}],\"heatmap\":[{\"type\":\"heatmap\",\"colorbar\":{\"outlinewidth\":0,\"ticks\":\"\"},\"colorscale\":[[0.0,\"#0d0887\"],[0.1111111111111111,\"#46039f\"],[0.2222222222222222,\"#7201a8\"],[0.3333333333333333,\"#9c179e\"],[0.4444444444444444,\"#bd3786\"],[0.5555555555555556,\"#d8576b\"],[0.6666666666666666,\"#ed7953\"],[0.7777777777777778,\"#fb9f3a\"],[0.8888888888888888,\"#fdca26\"],[1.0,\"#f0f921\"]]}],\"heatmapgl\":[{\"type\":\"heatmapgl\",\"colorbar\":{\"outlinewidth\":0,\"ticks\":\"\"},\"colorscale\":[[0.0,\"#0d0887\"],[0.1111111111111111,\"#46039f\"],[0.2222222222222222,\"#7201a8\"],[0.3333333333333333,\"#9c179e\"],[0.4444444444444444,\"#bd3786\"],[0.5555555555555556,\"#d8576b\"],[0.6666666666666666,\"#ed7953\"],[0.7777777777777778,\"#fb9f3a\"],[0.8888888888888888,\"#fdca26\"],[1.0,\"#f0f921\"]]}],\"contourcarpet\":[{\"type\":\"contourcarpet\",\"colorbar\":{\"outlinewidth\":0,\"ticks\":\"\"}}],\"contour\":[{\"type\":\"contour\",\"colorbar\":{\"outlinewidth\":0,\"ticks\":\"\"},\"colorscale\":[[0.0,\"#0d0887\"],[0.1111111111111111,\"#46039f\"],[0.2222222222222222,\"#7201a8\"],[0.3333333333333333,\"#9c179e\"],[0.4444444444444444,\"#bd3786\"],[0.5555555555555556,\"#d8576b\"],[0.6666666666666666,\"#ed7953\"],[0.7777777777777778,\"#fb9f3a\"],[0.8888888888888888,\"#fdca26\"],[1.0,\"#f0f921\"]]}],\"surface\":[{\"type\":\"surface\",\"colorbar\":{\"outlinewidth\":0,\"ticks\":\"\"},\"colorscale\":[[0.0,\"#0d0887\"],[0.1111111111111111,\"#46039f\"],[0.2222222222222222,\"#7201a8\"],[0.3333333333333333,\"#9c179e\"],[0.4444444444444444,\"#bd3786\"],[0.5555555555555556,\"#d8576b\"],[0.6666666666666666,\"#ed7953\"],[0.7777777777777778,\"#fb9f3a\"],[0.8888888888888888,\"#fdca26\"],[1.0,\"#f0f921\"]]}],\"mesh3d\":[{\"type\":\"mesh3d\",\"colorbar\":{\"outlinewidth\":0,\"ticks\":\"\"}}],\"scatter\":[{\"fillpattern\":{\"fillmode\":\"overlay\",\"size\":10,\"solidity\":0.2},\"type\":\"scatter\"}],\"parcoords\":[{\"type\":\"parcoords\",\"line\":{\"colorbar\":{\"outlinewidth\":0,\"ticks\":\"\"}}}],\"scatterpolargl\":[{\"type\":\"scatterpolargl\",\"marker\":{\"colorbar\":{\"outlinewidth\":0,\"ticks\":\"\"}}}],\"bar\":[{\"error_x\":{\"color\":\"#2a3f5f\"},\"error_y\":{\"color\":\"#2a3f5f\"},\"marker\":{\"line\":{\"color\":\"#E5ECF6\",\"width\":0.5},\"pattern\":{\"fillmode\":\"overlay\",\"size\":10,\"solidity\":0.2}},\"type\":\"bar\"}],\"scattergeo\":[{\"type\":\"scattergeo\",\"marker\":{\"colorbar\":{\"outlinewidth\":0,\"ticks\":\"\"}}}],\"scatterpolar\":[{\"type\":\"scatterpolar\",\"marker\":{\"colorbar\":{\"outlinewidth\":0,\"ticks\":\"\"}}}],\"histogram\":[{\"marker\":{\"pattern\":{\"fillmode\":\"overlay\",\"size\":10,\"solidity\":0.2}},\"type\":\"histogram\"}],\"scattergl\":[{\"type\":\"scattergl\",\"marker\":{\"colorbar\":{\"outlinewidth\":0,\"ticks\":\"\"}}}],\"scatter3d\":[{\"type\":\"scatter3d\",\"line\":{\"colorbar\":{\"outlinewidth\":0,\"ticks\":\"\"}},\"marker\":{\"colorbar\":{\"outlinewidth\":0,\"ticks\":\"\"}}}],\"scattermapbox\":[{\"type\":\"scattermapbox\",\"marker\":{\"colorbar\":{\"outlinewidth\":0,\"ticks\":\"\"}}}],\"scatterternary\":[{\"type\":\"scatterternary\",\"marker\":{\"colorbar\":{\"outlinewidth\":0,\"ticks\":\"\"}}}],\"scattercarpet\":[{\"type\":\"scattercarpet\",\"marker\":{\"colorbar\":{\"outlinewidth\":0,\"ticks\":\"\"}}}],\"carpet\":[{\"aaxis\":{\"endlinecolor\":\"#2a3f5f\",\"gridcolor\":\"white\",\"linecolor\":\"white\",\"minorgridcolor\":\"white\",\"startlinecolor\":\"#2a3f5f\"},\"baxis\":{\"endlinecolor\":\"#2a3f5f\",\"gridcolor\":\"white\",\"linecolor\":\"white\",\"minorgridcolor\":\"white\",\"startlinecolor\":\"#2a3f5f\"},\"type\":\"carpet\"}],\"table\":[{\"cells\":{\"fill\":{\"color\":\"#EBF0F8\"},\"line\":{\"color\":\"white\"}},\"header\":{\"fill\":{\"color\":\"#C8D4E3\"},\"line\":{\"color\":\"white\"}},\"type\":\"table\"}],\"barpolar\":[{\"marker\":{\"line\":{\"color\":\"#E5ECF6\",\"width\":0.5},\"pattern\":{\"fillmode\":\"overlay\",\"size\":10,\"solidity\":0.2}},\"type\":\"barpolar\"}],\"pie\":[{\"automargin\":true,\"type\":\"pie\"}]},\"layout\":{\"autotypenumbers\":\"strict\",\"colorway\":[\"#636efa\",\"#EF553B\",\"#00cc96\",\"#ab63fa\",\"#FFA15A\",\"#19d3f3\",\"#FF6692\",\"#B6E880\",\"#FF97FF\",\"#FECB52\"],\"font\":{\"color\":\"#2a3f5f\"},\"hovermode\":\"closest\",\"hoverlabel\":{\"align\":\"left\"},\"paper_bgcolor\":\"white\",\"plot_bgcolor\":\"#E5ECF6\",\"polar\":{\"bgcolor\":\"#E5ECF6\",\"angularaxis\":{\"gridcolor\":\"white\",\"linecolor\":\"white\",\"ticks\":\"\"},\"radialaxis\":{\"gridcolor\":\"white\",\"linecolor\":\"white\",\"ticks\":\"\"}},\"ternary\":{\"bgcolor\":\"#E5ECF6\",\"aaxis\":{\"gridcolor\":\"white\",\"linecolor\":\"white\",\"ticks\":\"\"},\"baxis\":{\"gridcolor\":\"white\",\"linecolor\":\"white\",\"ticks\":\"\"},\"caxis\":{\"gridcolor\":\"white\",\"linecolor\":\"white\",\"ticks\":\"\"}},\"coloraxis\":{\"colorbar\":{\"outlinewidth\":0,\"ticks\":\"\"}},\"colorscale\":{\"sequential\":[[0.0,\"#0d0887\"],[0.1111111111111111,\"#46039f\"],[0.2222222222222222,\"#7201a8\"],[0.3333333333333333,\"#9c179e\"],[0.4444444444444444,\"#bd3786\"],[0.5555555555555556,\"#d8576b\"],[0.6666666666666666,\"#ed7953\"],[0.7777777777777778,\"#fb9f3a\"],[0.8888888888888888,\"#fdca26\"],[1.0,\"#f0f921\"]],\"sequentialminus\":[[0.0,\"#0d0887\"],[0.1111111111111111,\"#46039f\"],[0.2222222222222222,\"#7201a8\"],[0.3333333333333333,\"#9c179e\"],[0.4444444444444444,\"#bd3786\"],[0.5555555555555556,\"#d8576b\"],[0.6666666666666666,\"#ed7953\"],[0.7777777777777778,\"#fb9f3a\"],[0.8888888888888888,\"#fdca26\"],[1.0,\"#f0f921\"]],\"diverging\":[[0,\"#8e0152\"],[0.1,\"#c51b7d\"],[0.2,\"#de77ae\"],[0.3,\"#f1b6da\"],[0.4,\"#fde0ef\"],[0.5,\"#f7f7f7\"],[0.6,\"#e6f5d0\"],[0.7,\"#b8e186\"],[0.8,\"#7fbc41\"],[0.9,\"#4d9221\"],[1,\"#276419\"]]},\"xaxis\":{\"gridcolor\":\"white\",\"linecolor\":\"white\",\"ticks\":\"\",\"title\":{\"standoff\":15},\"zerolinecolor\":\"white\",\"automargin\":true,\"zerolinewidth\":2},\"yaxis\":{\"gridcolor\":\"white\",\"linecolor\":\"white\",\"ticks\":\"\",\"title\":{\"standoff\":15},\"zerolinecolor\":\"white\",\"automargin\":true,\"zerolinewidth\":2},\"scene\":{\"xaxis\":{\"backgroundcolor\":\"#E5ECF6\",\"gridcolor\":\"white\",\"linecolor\":\"white\",\"showbackground\":true,\"ticks\":\"\",\"zerolinecolor\":\"white\",\"gridwidth\":2},\"yaxis\":{\"backgroundcolor\":\"#E5ECF6\",\"gridcolor\":\"white\",\"linecolor\":\"white\",\"showbackground\":true,\"ticks\":\"\",\"zerolinecolor\":\"white\",\"gridwidth\":2},\"zaxis\":{\"backgroundcolor\":\"#E5ECF6\",\"gridcolor\":\"white\",\"linecolor\":\"white\",\"showbackground\":true,\"ticks\":\"\",\"zerolinecolor\":\"white\",\"gridwidth\":2}},\"shapedefaults\":{\"line\":{\"color\":\"#2a3f5f\"}},\"annotationdefaults\":{\"arrowcolor\":\"#2a3f5f\",\"arrowhead\":0,\"arrowwidth\":1},\"geo\":{\"bgcolor\":\"white\",\"landcolor\":\"#E5ECF6\",\"subunitcolor\":\"white\",\"showland\":true,\"showlakes\":true,\"lakecolor\":\"white\"},\"title\":{\"x\":0.05},\"mapbox\":{\"style\":\"light\"}}},\"shapes\":[{\"line\":{\"color\":\"red\",\"dash\":\"dash\",\"width\":2},\"name\":\"Mean\",\"type\":\"line\",\"x0\":1185.88100578793,\"x1\":1185.88100578793,\"y0\":0,\"y1\":180.0}],\"title\":{\"text\":\"The Price Histogram with Mean and Median\"},\"xaxis\":{\"title\":{\"text\":\"Price\"}},\"yaxis\":{\"title\":{\"text\":\"Frequency\"}}},                        {\"responsive\": true}                    ).then(function(){\n",
              "                            \n",
              "var gd = document.getElementById('0ad0c5c1-7823-474f-baef-abd2773b3b1d');\n",
              "var x = new MutationObserver(function (mutations, observer) {{\n",
              "        var display = window.getComputedStyle(gd).display;\n",
              "        if (!display || display === 'none') {{\n",
              "            console.log([gd, 'removed!']);\n",
              "            Plotly.purge(gd);\n",
              "            observer.disconnect();\n",
              "        }}\n",
              "}});\n",
              "\n",
              "// Listen for the removal of the full notebook cells\n",
              "var notebookContainer = gd.closest('#notebook-container');\n",
              "if (notebookContainer) {{\n",
              "    x.observe(notebookContainer, {childList: true});\n",
              "}}\n",
              "\n",
              "// Listen for the clearing of the current output cell\n",
              "var outputEl = gd.closest('.output');\n",
              "if (outputEl) {{\n",
              "    x.observe(outputEl, {childList: true});\n",
              "}}\n",
              "\n",
              "                        })                };                            </script>        </div>\n",
              "</body>\n",
              "</html>"
            ]
          },
          "metadata": {}
        }
      ],
      "source": [
        "data = total_data['Price']\n",
        "\n",
        "mean_value = np.mean(data)\n",
        "median_value = np.median(data)\n",
        "\n",
        "# Create a histogram figure\n",
        "fig = go.Figure()\n",
        "\n",
        "# Add the histogram trace\n",
        "histogram_trace = go.Histogram(x=data, name='Histogram')\n",
        "fig.add_trace(histogram_trace)\n",
        "\n",
        "\n",
        "\n",
        "# Add the mean line\n",
        "fig.add_shape(type='line', x0=mean_value, x1=mean_value, y0=0, y1=0.9 * 200,\n",
        "              line=dict(color='red', width=2, dash='dash'),\n",
        "              name='Mean')\n",
        "\n",
        "# # Add the median line\n",
        "# fig.add_shape(type='line', x0=median_value, x1=median_value, y0=0, y1=0.9 * 200,\n",
        "#               line=dict(color='blue', width=2, dash='dash'),\n",
        "#               name='Median')\n",
        "\n",
        "# Customize the layout (optional)\n",
        "fig.update_layout(\n",
        "    title='The Price Histogram with Mean and Median',\n",
        "    xaxis=dict(title='Price'),\n",
        "    yaxis=dict(title='Frequency'),\n",
        ")\n",
        "config = {'displayModeBar': False}\n",
        "\n",
        "# Generate the HTML file\n",
        "pio.write_html(fig, file='Price_Histogram.html', config=config)\n",
        "\n",
        "# Show the plot\n",
        "fig.show()"
      ]
    },
    {
      "cell_type": "code",
      "execution_count": null,
      "metadata": {
        "colab": {
          "base_uri": "https://localhost:8080/"
        },
        "id": "6ABunI0sTtGa",
        "outputId": "75537db7-f4f0-4f7a-d69d-c03140f87ed2"
      },
      "outputs": [
        {
          "output_type": "display_data",
          "data": {
            "text/html": [
              "<html>\n",
              "<head><meta charset=\"utf-8\" /></head>\n",
              "<body>\n",
              "    <div>            <script src=\"https://cdnjs.cloudflare.com/ajax/libs/mathjax/2.7.5/MathJax.js?config=TeX-AMS-MML_SVG\"></script><script type=\"text/javascript\">if (window.MathJax && window.MathJax.Hub && window.MathJax.Hub.Config) {window.MathJax.Hub.Config({SVG: {font: \"STIX-Web\"}});}</script>                <script type=\"text/javascript\">window.PlotlyConfig = {MathJaxConfig: 'local'};</script>\n",
              "        <script charset=\"utf-8\" src=\"https://cdn.plot.ly/plotly-2.24.1.min.js\"></script>                <div id=\"7c50ef52-17f2-4682-a5b4-f9d2aa004af4\" class=\"plotly-graph-div\" style=\"height:525px; width:100%;\"></div>            <script type=\"text/javascript\">                                    window.PLOTLYENV=window.PLOTLYENV || {};                                    if (document.getElementById(\"7c50ef52-17f2-4682-a5b4-f9d2aa004af4\")) {                    Plotly.newPlot(                        \"7c50ef52-17f2-4682-a5b4-f9d2aa004af4\",                        [{\"name\":\"Histogram\",\"x\":[1.3700000047683716,1.340000033378601,1.8600000143051147,1.8300000429153442,1.3700000047683716,2.0999999046325684,2.0399999618530273,1.340000033378601,1.2999999523162842,1.600000023841858,1.8600000143051147,1.8600000143051147,1.8300000429153442,2.200000047683716,0.9200000166893005,1.3700000047683716,2.200000047683716,1.8300000429153442,2.200000047683716,1.2200000286102295,0.9800000190734863,2.5,1.8600000143051147,1.6200000047683716,1.909999966621399,2.299999952316284,1.350000023841858,2.200000047683716,1.8799999952316284,2.5,1.8899999856948853,1.649999976158142,2.7100000381469727,1.2000000476837158,1.350000023841858,1.440000057220459,2.0999999046325684,2.799999952316284,1.8600000143051147,2.0999999046325684,2.0,2.6500000953674316,2.299999952316284,2.200000047683716,2.7699999809265137,1.3700000047683716,2.200000047683716,3.200000047683716,2.299999952316284,2.799999952316284,0.6899999976158142,2.200000047683716,1.8600000143051147,1.4900000095367432,2.4000000953674316,2.130000114440918,1.909999966621399,2.0,2.430000066757202,2.0,2.799999952316284,1.7000000476837158,1.7000000476837158,1.399999976158142,1.8600000143051147,1.7999999523162842,1.8600000143051147,1.440000057220459,1.899999976158142,3.0,1.2519999742507935,1.399999976158142,2.200000047683716,2.700000047683716,2.0999999046325684,2.200000047683716,2.200000047683716,2.0199999809265137,2.200000047683716,2.5,1.8799999952316284,0.9200000166893005,1.6299999952316284,2.200000047683716,2.0999999046325684,2.6500000953674316,1.8300000429153442,1.9600000381469727,2.200000047683716,1.2100000381469727,2.450000047683716,2.200000047683716,1.4900000095367432,2.6500000953674316,1.25,1.5,2.200000047683716,2.200000047683716,2.0,2.619999885559082,1.909999966621399,2.0999999046325684,2.200000047683716,1.3799999952316284,1.2519999742507935,1.5800000429153442,1.850000023841858,1.2999999523162842,2.200000047683716,1.5800000429153442,1.5,1.2300000190734863,1.3700000047683716,1.6299999952316284,1.2100000381469727,1.2599999904632568,1.6299999952316284,2.1600000858306885,2.0,1.7000000476837158,2.0999999046325684,1.7999999523162842,2.200000047683716,2.5,2.0999999046325684,1.8600000143051147,1.6299999952316284,1.649999976158142,2.799999952316284,2.5,2.359999895095825,2.200000047683716,1.600000023841858,2.200000047683716,2.049999952316284,1.6299999952316284,1.899999976158142,3.0,2.200000047683716,1.3200000524520874,3.0,1.75,2.4000000953674316,2.0999999046325684,1.8600000143051147,1.25,0.9700000286102295,2.0,2.9000000953674316,2.0999999046325684,2.559999942779541,2.619999885559082,1.899999976158142,2.799999952316284,1.4800000190734863,1.909999966621399,1.7400000095367432,1.100000023841858,1.559999942779541,2.0999999046325684,2.0299999713897705,3.0,2.130000114440918,2.5,2.0999999046325684,2.4000000953674316,2.0999999046325684,2.559999942779541,3.0,1.4900000095367432,1.0499999523162842,2.7100000381469727,2.200000047683716,2.0,2.5,2.299999952316284,2.0999999046325684,4.400000095367432,1.899999976158142,1.2899999618530273,2.0199999809265137,1.2300000190734863,1.399999976158142,2.0,1.9500000476837158,2.7699999809265137,2.059999942779541,2.4000000953674316,1.1200000047683716,2.799999952316284,1.4199999570846558,1.2999999523162842,1.2999999523162842,2.799999952316284,1.6200000047683716,2.5,3.490000009536743,1.4900000095367432,3.3499999046325684,2.5,2.6500000953674316,2.0999999046325684,2.2300000190734863,3.200000047683716,2.799999952316284,2.4000000953674316,2.299999952316284,1.2100000381469727,1.2000000476837158,2.200000047683716,2.4000000953674316,2.9000000953674316,2.0999999046325684,2.200000047683716,1.0499999523162842,1.399999976158142,2.799999952316284,1.6299999952316284,1.600000023841858,1.6200000047683716,2.200000047683716,1.7400000095367432,1.2000000476837158,2.0999999046325684,4.420000076293945,2.200000047683716,2.299999952316284,2.0,2.690000057220459,1.899999976158142,2.369999885559082,2.0999999046325684,3.200000047683716,1.600000023841858,1.600000023841858,2.359999895095825,2.0999999046325684,2.200000047683716,4.699999809265137,2.5,2.200000047683716,2.0999999046325684,2.690000057220459,2.559999942779541,1.3799999952316284,2.200000047683716,2.0399999618530273,3.5999999046325684,1.4900000095367432,1.3700000047683716,2.0799999237060547,4.300000190734863,1.6799999475479126,1.3700000047683716,3.0,1.409999966621399,1.909999966621399,2.9000000953674316,4.139999866485596,2.0,2.799999952316284,2.200000047683716,2.0999999046325684,2.180000066757202,2.240000009536743,2.6700000762939453,1.100000023841858,2.200000047683716,2.5,2.049999952316284,1.3700000047683716,3.200000047683716,2.140000104904175,1.3600000143051147,2.200000047683716,2.299999952316284,2.799999952316284,2.200000047683716,2.799999952316284,2.799999952316284,2.799999952316284,2.25,2.5,2.200000047683716,3.0,2.1500000953674316,1.9500000476837158,1.7000000476837158,2.5,2.200000047683716,2.190000057220459,3.0,2.5399999618530273,2.0,2.049999952316284,3.200000047683716,2.5,3.4200000762939453,2.4000000953674316,1.6299999952316284,1.2999999523162842,2.9000000953674316,2.799999952316284,2.200000047683716,2.5,2.200000047683716,1.2799999713897705,2.200000047683716,2.299999952316284,1.8600000143051147,1.100000023841858,1.2100000381469727,2.799999952316284,2.2300000190734863,1.100000023841858,2.3299999237060547,1.2899999618530273,1.4500000476837158,1.9500000476837158,1.399999976158142,1.4800000190734863,2.7899999618530273,2.0,2.0999999046325684,2.200000047683716,1.440000057220459,2.2300000190734863,1.7000000476837158,1.2599999904632568,2.059999942779541,2.700000047683716,2.0,2.0,1.850000023841858,2.5,1.4800000190734863,1.899999976158142,1.840000033378601,2.0,2.0,2.200000047683716,2.200000047683716,2.0999999046325684,1.399999976158142,1.2000000476837158,2.4000000953674316,1.440000057220459,1.8799999952316284,1.5,1.899999976158142,2.059999942779541,1.840000033378601,2.700000047683716,2.5999999046325684,2.4000000953674316,2.0199999809265137,2.200000047683716,2.6500000953674316,2.359999895095825,1.3600000143051147,1.8600000143051147,2.0,2.799999952316284,1.8600000143051147,2.200000047683716,2.0399999618530273,2.799999952316284,2.4000000953674316,2.3299999237060547,1.3600000143051147,2.259999990463257,2.0999999046325684,3.25,2.5999999046325684,1.6200000047683716,1.909999966621399,1.590000033378601,1.7999999523162842,1.5,2.4000000953674316,3.3499999046325684,1.850000023841858,2.299999952316284,1.5,1.100000023841858,1.1299999952316284,1.5,2.2300000190734863,2.0,1.4199999570846558,3.0,3.0,2.200000047683716,2.700000047683716,2.3299999237060547,1.909999966621399,2.0999999046325684,1.899999976158142,1.7799999713897705,1.1299999952316284,2.200000047683716,2.9000000953674316,2.0999999046325684,2.5,2.799999952316284,1.100000023841858,1.2000000476837158,1.3600000143051147,2.200000047683716,1.149999976158142,2.6700000762939453,1.7000000476837158,2.0999999046325684,1.600000023841858,1.2699999809265137,2.299999952316284,1.649999976158142,1.4299999475479126,2.140000104904175,1.75,2.0,1.399999976158142,2.309999942779541,2.299999952316284,4.420000076293945,2.619999885559082,2.0199999809265137,1.600000023841858,3.3499999046325684,1.159999966621399,1.149999976158142,1.399999976158142,1.7000000476837158,2.299999952316284,2.5,3.200000047683716,2.0999999046325684,1.100000023841858,1.3200000524520874,2.0,2.799999952316284,2.200000047683716,1.3600000143051147,2.200000047683716,2.200000047683716,1.6399999856948853,2.4000000953674316,2.2300000190734863,2.200000047683716,1.25,1.909999966621399,2.1700000762939453,2.309999942779541,1.649999976158142,2.359999895095825,1.4700000286102295,4.420000076293945,1.2519999742507935,1.25,2.5,2.2300000190734863,1.399999976158142,2.369999885559082,1.5,2.6700000762939453,2.0,2.200000047683716,2.0199999809265137,3.7799999713897705,1.399999976158142,1.2899999618530273,1.899999976158142,1.100000023841858,1.4199999570846558,2.059999942779541,1.7899999618530273,1.7799999713897705,1.7000000476837158,2.200000047683716,1.0499999523162842,2.1600000858306885,2.180000066757202,1.4900000095367432,1.8899999856948853,2.299999952316284,1.75,2.1700000762939453,2.059999942779541,1.3600000143051147,0.9100000262260437,2.299999952316284,1.0499999523162842,1.9900000095367432,2.200000047683716,4.329999923706055,1.2999999523162842,2.1700000762939453,1.4800000190734863,1.399999976158142,2.299999952316284,1.2000000476837158,1.909999966621399,1.399999976158142,2.0999999046325684,1.25,1.440000057220459,2.0,2.200000047683716,1.340000033378601,2.4000000953674316,1.2899999618530273,2.200000047683716,2.180000066757202,2.200000047683716,1.9500000476837158,1.100000023841858,2.0399999618530273,2.240000009536743,2.0399999618530273,3.0,3.200000047683716,1.3200000524520874,1.6399999856948853,1.6299999952316284,2.799999952316284,2.0199999809265137,2.200000047683716,2.200000047683716,2.299999952316284,1.899999976158142,4.420000076293945,2.0,2.0,1.2000000476837158,2.299999952316284,1.9299999475479126,2.200000047683716,1.8600000143051147,2.619999885559082,1.8700000047683716,1.2000000476837158,1.600000023841858,1.340000033378601,2.4000000953674316,2.0,2.0999999046325684,1.8700000047683716,2.1500000953674316,1.8600000143051147,1.9900000095367432,2.200000047683716,1.899999976158142,4.420000076293945,2.6500000953674316,2.630000114440918,2.0,1.350000023841858,2.799999952316284,1.909999966621399,2.180000066757202,1.25,2.049999952316284,1.159999966621399,3.4000000953674316,2.5,1.2100000381469727,1.9299999475479126,2.200000047683716,2.200000047683716,2.0199999809265137,3.140000104904175,1.940000057220459,1.9500000476837158,2.299999952316284,2.049999952316284,1.399999976158142,1.2400000095367432,4.599999904632568,4.139999866485596,2.200000047683716,1.4500000476837158,1.899999976158142,1.4900000095367432,1.9299999475479126,1.2599999904632568,4.5,3.7799999713897705,1.399999976158142,2.200000047683716,2.7300000190734863,2.200000047683716,2.200000047683716,1.3899999856948853,2.5,2.799999952316284,2.2899999618530273,1.3700000047683716,1.7000000476837158,1.340000033378601,2.059999942779541,1.840000033378601,2.0999999046325684,1.600000023841858,4.139999866485596,2.180000066757202,1.7999999523162842,2.200000047683716,2.4000000953674316,2.0,1.600000023841858,2.5,2.5899999141693115,2.180000066757202,2.25,1.9299999475479126,3.0,2.180000066757202,1.840000033378601,2.940000057220459,1.25,2.309999942779541,1.649999976158142,2.200000047683716,2.200000047683716,1.8799999952316284,2.200000047683716,1.399999976158142,2.200000047683716,1.5,2.0,1.100000023841858,2.619999885559082,1.7999999523162842,2.200000047683716,2.0,1.9900000095367432,1.2300000190734863,1.4199999570846558,1.3700000047683716,2.059999942779541,2.5,2.5999999046325684,1.1399999856948853,2.5,2.4000000953674316,1.4299999475479126,1.7999999523162842,1.9500000476837158,1.2000000476837158,1.3600000143051147,3.799999952316284,2.4000000953674316,1.2000000476837158,2.200000047683716,1.8600000143051147,2.0,2.200000047683716,2.200000047683716,3.309999942779541,4.420000076293945,1.559999942779541,2.200000047683716,2.200000047683716,2.0399999618530273,2.700000047683716,2.0999999046325684,2.059999942779541,2.0999999046325684,2.0,2.0999999046325684,1.2519999742507935,1.899999976158142,1.2999999523162842,2.200000047683716,1.6299999952316284,2.4000000953674316,1.100000023841858,1.399999976158142,1.090000033378601,2.5,2.200000047683716,1.8600000143051147,3.2100000381469727,2.5,1.190000057220459,3.490000009536743,1.8600000143051147,2.200000047683716,2.6500000953674316,2.0999999046325684,1.4500000476837158,1.7000000476837158,3.140000104904175,1.4199999570846558,1.5,1.399999976158142,1.3799999952316284,1.2000000476837158,1.3600000143051147,2.0999999046325684,2.559999942779541,2.200000047683716,2.200000047683716,2.0999999046325684,1.899999976158142,2.180000066757202,1.600000023841858,2.180000066757202,1.7999999523162842,2.7100000381469727,2.5,1.6399999856948853,1.9800000190734863,1.5,1.9299999475479126,1.8700000047683716,1.899999976158142,2.190000057220459,1.399999976158142,2.630000114440918,1.1699999570846558,1.5800000429153442,1.3200000524520874,4.360000133514404,2.700000047683716,1.899999976158142,2.200000047683716,1.7100000381469727,2.319999933242798,2.0999999046325684,4.199999809265137,2.25,2.0999999046325684,2.4000000953674316,1.440000057220459,1.850000023841858,2.5999999046325684,1.5499999523162842,1.7999999523162842,2.4000000953674316,2.0,2.0,1.25,1.7000000476837158,2.5,1.6799999475479126,0.8100000023841858,1.8600000143051147,1.600000023841858,3.0,1.399999976158142,1.840000033378601,2.450000047683716,1.7000000476837158,2.369999885559082,1.2999999523162842,2.200000047683716,2.5899999141693115,4.420000076293945,2.0999999046325684,2.5,1.1799999475479126,1.100000023841858,1.2000000476837158,1.649999976158142,1.600000023841858,2.799999952316284,2.7200000286102295,1.309999942779541,2.0999999046325684,2.299999952316284,1.7100000381469727,1.75,2.619999885559082,1.2599999904632568,2.299999952316284,2.5,1.7999999523162842,1.9500000476837158,2.0,4.420000076293945,4.300000190734863,1.4700000286102295,2.200000047683716,1.7000000476837158,1.600000023841858,2.200000047683716,2.4000000953674316,4.199999809265137,2.619999885559082,2.240000009536743,1.2200000286102295,1.3700000047683716,2.0799999237060547,0.9200000166893005,1.4199999570846558,1.6299999952316284,1.9500000476837158,1.3799999952316284,2.0,3.140000104904175,2.369999885559082,1.2899999618530273,2.059999942779541,1.6299999952316284,1.2599999904632568,2.0999999046325684,2.0399999618530273,2.619999885559082,2.4000000953674316,3.740000009536743,2.9000000953674316,0.8100000023841858,1.9800000190734863,2.180000066757202,1.3200000524520874,1.2899999618530273,1.2300000190734863,4.360000133514404,1.7599999904632568,2.0999999046325684,1.25,1.1299999952316284,2.4000000953674316,1.1299999952316284,1.75,1.100000023841858,1.7599999904632568,1.350000023841858,1.5,3.490000009536743,1.100000023841858,2.0999999046325684,1.7000000476837158,1.3200000524520874,3.2100000381469727,2.9000000953674316,2.0,1.5,2.299999952316284,2.7300000190734863,4.420000076293945,2.630000114440918,2.180000066757202,1.5399999618530273,2.180000066757202,1.399999976158142,1.4500000476837158,1.2799999713897705,1.5399999618530273,1.8600000143051147,2.0999999046325684,2.8299999237060547,1.9600000381469727,2.299999952316284,1.899999976158142,2.0,1.2799999713897705,1.6200000047683716,2.200000047683716,2.299999952316284,1.840000033378601,1.0499999523162842,2.5,1.2899999618530273,2.069999933242798,1.2000000476837158,1.3700000047683716,1.559999942779541,2.2300000190734863,2.380000114440918,2.200000047683716,2.0,1.440000057220459,1.2300000190734863,1.600000023841858,2.0,1.2799999713897705,2.180000066757202,2.0399999618530273,1.2799999713897705,2.299999952316284,1.649999976158142,2.200000047683716,2.200000047683716,1.2799999713897705,2.180000066757202,2.200000047683716,1.25,2.799999952316284,1.9500000476837158,1.4199999570846558,1.1699999570846558,1.3200000524520874,2.430000066757202,1.0499999523162842,2.619999885559082,2.0399999618530273,2.180000066757202,1.899999976158142,1.2400000095367432,3.5799999237060547,1.2200000286102295,1.1299999952316284,1.9500000476837158,1.0800000429153442,1.2599999904632568,2.200000047683716,2.5999999046325684,0.9800000190734863,1.600000023841858,1.090000033378601,2.200000047683716,2.0399999618530273,2.4000000953674316,1.440000057220459,1.4900000095367432,2.700000047683716,2.5999999046325684,2.200000047683716,2.180000066757202,1.840000033378601,1.3899999856948853,2.4000000953674316,1.3700000047683716,1.9500000476837158,1.3600000143051147,2.309999942779541,2.180000066757202,1.9500000476837158,2.200000047683716,1.2599999904632568,1.8600000143051147,1.2999999523162842,1.4700000286102295,1.2599999904632568,2.180000066757202,2.200000047683716,1.3600000143051147,4.360000133514404,2.75,2.799999952316284,2.2300000190734863,2.200000047683716,1.100000023841858,2.5,1.3600000143051147,2.200000047683716,2.359999895095825,1.6799999475479126,2.0,1.3600000143051147,1.2000000476837158,1.2000000476837158,1.7000000476837158,4.360000133514404,1.2400000095367432,1.4500000476837158,1.2999999523162842,1.25,1.2000000476837158,1.3600000143051147,2.4000000953674316,1.100000023841858,2.0399999618530273,2.25,1.899999976158142,2.0399999618530273,4.420000076293945,2.4000000953674316,1.2200000286102295,1.5,4.420000076293945,1.9500000476837158,2.7300000190734863,2.0399999618530273,1.7000000476837158,2.200000047683716,2.200000047683716,2.0399999618530273,4.420000076293945,2.200000047683716,1.2899999618530273,2.200000047683716,2.0,2.200000047683716,1.2599999904632568,1.100000023841858,1.2999999523162842,2.7100000381469727,2.0399999618530273,2.309999942779541,2.0,2.200000047683716,2.200000047683716,0.8100000023841858,4.139999866485596,2.0,2.5,2.369999885559082,2.0,2.299999952316284,1.9800000190734863,1.5,2.200000047683716,4.139999866485596,1.3600000143051147,3.0,1.8600000143051147,2.180000066757202,1.2899999618530273,2.5,3.200000047683716,2.4000000953674316,2.190000057220459,1.399999976158142,1.25,1.5,2.9000000953674316,2.1700000762939453,2.200000047683716,2.0299999713897705,1.7999999523162842,2.359999895095825,2.309999942779541,1.399999976158142,1.7000000476837158,1.100000023841858,1.0800000429153442,1.8300000429153442,1.5,1.399999976158142,2.0999999046325684,2.299999952316284,1.2000000476837158,1.5,2.5,2.0399999618530273,1.2899999618530273,2.0,2.359999895095825,1.9299999475479126,1.399999976158142,1.9500000476837158,2.2300000190734863,2.180000066757202,2.200000047683716,1.3700000047683716,1.8700000047683716,4.420000076293945,2.5,2.240000009536743,2.0,2.630000114440918,1.899999976158142,2.0399999618530273,1.899999976158142,1.909999966621399,2.799999952316284,1.7000000476837158,2.3299999237060547,1.5,3.0,2.5,2.799999952316284,4.599999904632568,1.6299999952316284,2.799999952316284,0.9200000166893005,2.5,1.2000000476837158,1.559999942779541,1.8799999952316284,1.9299999475479126,2.299999952316284,2.0399999618530273,2.0,1.100000023841858,1.5,1.649999976158142,1.8300000429153442,1.9600000381469727,1.2100000381469727,1.909999966621399,3.200000047683716,1.4299999475479126,2.059999942779541,1.2899999618530273,2.0,2.0999999046325684,2.299999952316284,2.2899999618530273,1.2000000476837158,1.3700000047683716,1.899999976158142,1.2000000476837158,1.600000023841858,2.619999885559082,1.4800000190734863,1.8600000143051147,2.200000047683716,2.619999885559082,1.7999999523162842,2.5,2.369999885559082,2.4000000953674316,1.7999999523162842,1.25,1.2000000476837158,2.2300000190734863,2.2300000190734863,1.4900000095367432,1.340000033378601,2.049999952316284,1.1100000143051147,1.4900000095367432,2.0999999046325684,2.700000047683716,2.7200000286102295,2.200000047683716,1.4700000286102295,1.7999999523162842,2.0999999046325684,1.909999966621399,2.200000047683716,2.700000047683716,1.8600000143051147,1.399999976158142,2.259999990463257,1.2300000190734863,2.4000000953674316,2.0399999618530273,2.200000047683716,2.200000047683716,1.5399999618530273,2.0999999046325684,2.0399999618530273,2.5,2.0799999237060547,2.200000047683716,3.0,2.0,1.899999976158142,2.200000047683716,1.2599999904632568,1.25,2.359999895095825,1.8799999952316284,2.4000000953674316,1.4199999570846558,1.4900000095367432,1.2599999904632568,1.7999999523162842,2.0999999046325684,1.2999999523162842,2.200000047683716,1.3600000143051147,2.190999984741211,1.3600000143051147,1.4700000286102295,1.2300000190734863,2.0199999809265137,2.0,2.0999999046325684,2.200000047683716,2.180000066757202,1.2100000381469727,1.2999999523162842,2.430000066757202,2.5999999046325684,3.490000009536743,2.299999952316284,1.440000057220459,1.7000000476837158,2.200000047683716,2.0,1.440000057220459,1.9500000476837158,1.3700000047683716,1.2400000095367432,1.2999999523162842,2.5,2.5899999141693115,1.1699999570846558,1.899999976158142,1.2200000286102295,2.0399999618530273,1.2599999904632568,1.7000000476837158,1.2999999523162842,1.25,1.8600000143051147,2.049999952316284,1.25,1.6799999475479126,2.3399999141693115,1.440000057220459,2.799999952316284,2.200000047683716,1.0800000429153442,2.200000047683716,1.9500000476837158,1.6299999952316284,1.3200000524520874,1.1299999952316284,1.7100000381469727,3.7799999713897705,3.0,2.5,2.799999952316284,1.2599999904632568,1.6299999952316284,2.359999895095825,1.4500000476837158,2.299999952316284,1.3200000524520874,1.2899999618530273,1.2519999742507935,2.180000066757202,2.200000047683716,1.850000023841858,1.4800000190734863,1.4900000095367432,2.3299999237060547,1.25,1.899999976158142,2.200000047683716,1.2999999523162842,1.8700000047683716,2.359999895095825,2.619999885559082,1.2899999618530273,2.5,2.5,2.190000057220459,2.5,1.159999966621399,2.0,2.200000047683716,1.7999999523162842,2.309999942779541,1.350000023841858,2.5,2.0999999046325684,2.6500000953674316,1.399999976158142,4.360000133514404,1.2100000381469727,2.200000047683716,2.299999952316284,1.840000033378601,1.440000057220459,1.340000033378601,2.299999952316284,2.5999999046325684,2.049999952316284,1.909999966621399,1.8600000143051147,1.600000023841858,2.200000047683716,2.200000047683716,0.6899999976158142,1.399999976158142,2.5,2.799999952316284,2.299999952316284,3.25,3.0,2.299999952316284,2.299999952316284,2.4000000953674316,2.5,3.0,0.9100000262260437,2.5399999618530273,3.0,2.690000057220459,1.7999999523162842,1.100000023841858,1.6200000047683716,1.090000033378601,2.799999952316284,2.5,2.299999952316284,1.9800000190734863,1.1699999570846558,2.200000047683716,2.5999999046325684,2.0899999141693115,1.9600000381469727,1.6299999952316284,2.700000047683716,2.0,1.6200000047683716,1.6399999856948853,2.0399999618530273,1.909999966621399,2.319999933242798,2.140000104904175,2.700000047683716,2.25,0.6899999976158142,2.200000047683716,2.200000047683716,1.4900000095367432,2.5,1.5499999523162842,3.7799999713897705,2.799999952316284,2.200000047683716,1.4700000286102295,2.0399999618530273,1.440000057220459,2.4000000953674316,2.4000000953674316,2.4000000953674316,3.3499999046325684,4.420000076293945,2.5,2.299999952316284,1.840000033378601,1.649999976158142,2.799999952316284,1.3200000524520874,1.2699999809265137,1.6299999952316284,2.0,1.2400000095367432,2.0,3.0,1.2200000286102295,1.399999976158142,2.049999952316284,1.909999966621399,1.399999976158142,2.0799999237060547,2.200000047683716,2.0399999618530273,1.7000000476837158,2.299999952316284,1.0499999523162842,2.25,0.9200000166893005,1.4299999475479126,2.200000047683716,2.799999952316284,2.1700000762939453,2.619999885559082,2.200000047683716,2.200000047683716,4.699999809265137,4.300000190734863,2.180000066757202,1.100000023841858,2.140000104904175,2.700000047683716,1.1100000143051147,2.200000047683716,2.0999999046325684,2.9000000953674316,2.299999952316284,2.0999999046325684,1.3600000143051147,2.059999942779541,2.059999942779541,2.200000047683716,2.630000114440918,2.299999952316284,2.0999999046325684,2.5999999046325684,3.2100000381469727,2.299999952316284,2.0999999046325684,1.9500000476837158,1.8600000143051147,1.25,2.200000047683716,2.7100000381469727,1.350000023841858,2.799999952316284,1.2000000476837158,3.5199999809265137,2.319999933242798,1.2899999618530273,2.200000047683716,1.600000023841858,1.159999966621399,2.0399999618530273,1.940000057220459,1.2999999523162842,2.240000009536743,1.600000023841858,2.299999952316284,2.0399999618530273,1.4800000190734863,1.600000023841858,2.6500000953674316,0.9200000166893005,1.350000023841858,4.360000133514404,1.25,1.8300000429153442,1.8600000143051147,1.8600000143051147,2.200000047683716,4.0,1.600000023841858,1.1699999570846558,4.420000076293945,1.2599999904632568,2.4000000953674316,2.0399999618530273,2.200000047683716,1.6299999952316284,1.3700000047683716,1.2999999523162842,2.5,1.4900000095367432,1.6399999856948853,3.490000009536743,2.200000047683716,2.799999952316284,1.899999976158142,1.6399999856948853,1.1399999856948853,2.5,2.0,1.899999976158142,1.1299999952316284,2.0999999046325684,2.200000047683716,2.4000000953674316,1.6299999952316284,2.4000000953674316,1.899999976158142,2.0,1.190000057220459,2.299999952316284,2.4000000953674316,2.240000009536743,3.200000047683716,1.149999976158142,4.420000076293945,2.5,2.200000047683716,1.6399999856948853,2.9000000953674316,1.899999976158142,2.180000066757202,4.420000076293945,2.180000066757202,2.559999942779541,2.0,2.5899999141693115,2.200000047683716,2.5,3.799999952316284,1.149999976158142,2.299999952316284,1.4199999570846558,2.619999885559082,1.309999942779541,2.5,1.600000023841858,1.2599999904632568,1.3799999952316284,2.9000000953674316,1.100000023841858,3.3499999046325684,1.9500000476837158,2.299999952316284,1.399999976158142,2.1600000858306885,1.7100000381469727,3.299999952316284,1.159999966621399,2.200000047683716,1.8300000429153442,1.7999999523162842,1.649999976158142,1.0499999523162842,2.4000000953674316,2.5,3.7799999713897705,1.3600000143051147,1.100000023841858,1.9299999475479126,2.200000047683716,1.600000023841858,1.899999976158142,1.3600000143051147,2.6500000953674316,3.0,1.8600000143051147,3.200000047683716,2.0999999046325684,2.0,1.2799999713897705,2.0399999618530273,1.2799999713897705,2.0999999046325684,2.5999999046325684,2.5,2.200000047683716,3.2100000381469727,2.0999999046325684,1.600000023841858,1.2599999904632568,2.200000047683716,2.4000000953674316,1.2899999618530273,2.4000000953674316,1.100000023841858,2.4000000953674316,1.600000023841858,1.899999976158142,1.5,2.799999952316284,4.599999904632568,2.5899999141693115,2.7300000190734863,1.7400000095367432,1.9800000190734863,1.8600000143051147,2.309999942779541,1.5399999618530273,1.2519999742507935,1.8799999952316284,1.2000000476837158,1.909999966621399,2.200000047683716,2.0,2.0,2.6700000762939453,1.2000000476837158,2.200000047683716,1.899999976158142,1.100000023841858,1.2999999523162842,2.9000000953674316,2.359999895095825,1.850000023841858,4.139999866485596,2.0999999046325684,2.180000066757202,2.190000057220459,2.200000047683716,1.2000000476837158,2.299999952316284,1.3700000047683716,3.5999999046325684,3.2100000381469727,2.180000066757202,2.4000000953674316,2.4000000953674316,1.4900000095367432,1.100000023841858,4.420000076293945,1.2599999904632568,2.180000066757202,1.399999976158142,1.3600000143051147,2.5899999141693115,1.840000033378601,2.130000114440918,2.4000000953674316,1.3600000143051147,2.0799999237060547,2.200000047683716,4.199999809265137,2.0199999809265137,1.840000033378601,2.619999885559082,2.180000066757202,1.6299999952316284,2.5,2.2300000190734863,2.0999999046325684,2.200000047683716,1.600000023841858,1.3200000524520874,4.360000133514404,2.0999999046325684,2.200000047683716,2.200000047683716,2.6700000762939453,1.409999966621399,1.7000000476837158,1.899999976158142,2.9000000953674316,2.200000047683716,1.3700000047683716,2.0999999046325684,1.3700000047683716,1.090000033378601,2.9000000953674316,2.0,2.799999952316284,2.299999952316284,2.059999942779541,2.299999952316284,1.4800000190734863,2.0999999046325684,2.180000066757202,1.2599999904632568,2.0,2.369999885559082,2.200000047683716,1.2999999523162842,1.2999999523162842,1.8899999856948853,2.299999952316284,2.0999999046325684,1.9500000476837158,1.2799999713897705,4.329999923706055,1.2000000476837158,1.5399999618530273,2.319999933242798,1.4900000095367432,4.360000133514404,2.5999999046325684,2.6500000953674316,1.5399999618530273,1.100000023841858,1.75,2.299999952316284,2.4000000953674316,3.5799999237060547,2.700000047683716,1.2899999618530273,1.4199999570846558,2.7100000381469727,1.2000000476837158,4.300000190734863,1.2999999523162842,1.9900000095367432,1.8600000143051147,1.399999976158142,1.7999999523162842,2.0,2.0,2.200000047683716,2.200000047683716,1.5,2.0999999046325684,1.5,2.200000047683716,2.9000000953674316,2.3299999237060547,2.0,1.840000033378601,1.7000000476837158,1.559999942779541,1.5399999618530273,2.200000047683716,1.600000023841858,2.5,1.159999966621399,2.049999952316284,1.5,1.7000000476837158,2.200000047683716,2.6500000953674316,2.430000066757202,1.8799999952316284,4.420000076293945,2.240000009536743,1.340000033378601,2.6500000953674316,1.8600000143051147,1.2000000476837158,1.9500000476837158,2.200000047683716,1.100000023841858,1.3899999856948853,1.2000000476837158,1.4800000190734863,2.6500000953674316,1.9500000476837158,1.100000023841858,1.2100000381469727,1.9500000476837158,1.7000000476837158,1.8600000143051147,2.0999999046325684,2.799999952316284,1.3700000047683716,2.200000047683716,2.190000057220459,1.2599999904632568,2.180000066757202,2.5,2.4000000953674316,2.200000047683716,2.200000047683716,1.840000033378601,1.7999999523162842,2.0999999046325684,1.5,2.299999952316284,2.0999999046325684,1.7999999523162842,1.9900000095367432,1.1299999952316284,2.180000066757202,2.380000114440918,1.1799999475479126,1.3600000143051147,1.600000023841858,1.2000000476837158,2.2300000190734863,1.9500000476837158,1.8600000143051147,3.0,2.7300000190734863,2.200000047683716,1.3799999952316284,2.0999999046325684,2.4000000953674316,1.899999976158142,2.200000047683716,2.619999885559082,1.2000000476837158,2.0199999809265137,1.2000000476837158,1.2999999523162842,1.5,2.200000047683716,2.200000047683716,1.4800000190734863,2.200000047683716,1.3700000047683716,2.7300000190734863,2.0999999046325684,2.7699999809265137,1.340000033378601,2.200000047683716,2.5999999046325684,2.0,4.199999809265137,2.180000066757202,3.200000047683716,2.0999999046325684,4.599999904632568,1.8600000143051147,1.8600000143051147,2.059999942779541,2.5,2.0,1.9500000476837158,2.0199999809265137,2.180000066757202,0.9700000286102295,2.200000047683716,1.600000023841858,1.440000057220459,1.6399999856948853,1.3200000524520874,1.3700000047683716,2.0999999046325684,2.5,2.0,1.6399999856948853,1.5,4.300000190734863,2.2300000190734863,1.909999966621399,2.180000066757202,2.299999952316284,2.4000000953674316,2.130000114440918,1.2000000476837158,2.0199999809265137,2.5,4.5,1.100000023841858,2.0,2.200000047683716,2.0399999618530273,2.299999952316284,1.1699999570846558,2.75,3.0,2.0799999237060547,1.100000023841858,2.690000057220459,1.7000000476837158,2.4000000953674316,1.649999976158142,2.319999933242798,2.200000047683716,2.299999952316284,1.3700000047683716,1.7000000476837158,2.200000047683716,3.0,2.700000047683716,1.7000000476837158,2.0,2.0999999046325684,2.0999999046325684,1.899999976158142,1.8600000143051147,1.3700000047683716,1.899999976158142,3.309999942779541,2.299999952316284,2.25,2.299999952316284,1.2000000476837158,1.2200000286102295,1.5,1.7400000095367432,2.4000000953674316,1.2000000476837158,2.5,1.3600000143051147,1.6200000047683716,2.200000047683716,4.420000076293945,1.2999999523162842,1.9600000381469727,1.3899999856948853,2.5,1.899999976158142,2.7899999618530273,1.4500000476837158,1.9299999475479126,2.200000047683716,2.0899999141693115,2.25,3.140000104904175,1.2599999904632568,1.5399999618530273,4.300000190734863,0.9700000286102295,1.8600000143051147,2.619999885559082,2.200000047683716,2.0999999046325684,2.299999952316284,0.9200000166893005,1.3600000143051147,2.309999942779541,1.2599999904632568,1.9500000476837158,2.559999942779541,2.4000000953674316,1.600000023841858,2.0999999046325684,2.0999999046325684,2.0,1.350000023841858,2.200000047683716,2.299999952316284,2.0,3.490000009536743,1.2000000476837158,1.4500000476837158,1.149999976158142,2.200000047683716,2.0999999046325684,1.25,2.2300000190734863,1.7000000476837158,2.940000057220459,2.799999952316284,2.450000047683716,3.309999942779541,2.2300000190734863,1.2200000286102295,4.420000076293945,1.2799999713897705,2.0999999046325684,0.9800000190734863,1.6799999475479126,2.190000057220459,2.6500000953674316,1.9600000381469727,1.7999999523162842,2.200000047683716,2.5,1.5,2.309999942779541,2.180000066757202,1.399999976158142,1.2519999742507935,2.200000047683716],\"type\":\"histogram\"}],                        {\"template\":{\"data\":{\"histogram2dcontour\":[{\"type\":\"histogram2dcontour\",\"colorbar\":{\"outlinewidth\":0,\"ticks\":\"\"},\"colorscale\":[[0.0,\"#0d0887\"],[0.1111111111111111,\"#46039f\"],[0.2222222222222222,\"#7201a8\"],[0.3333333333333333,\"#9c179e\"],[0.4444444444444444,\"#bd3786\"],[0.5555555555555556,\"#d8576b\"],[0.6666666666666666,\"#ed7953\"],[0.7777777777777778,\"#fb9f3a\"],[0.8888888888888888,\"#fdca26\"],[1.0,\"#f0f921\"]]}],\"choropleth\":[{\"type\":\"choropleth\",\"colorbar\":{\"outlinewidth\":0,\"ticks\":\"\"}}],\"histogram2d\":[{\"type\":\"histogram2d\",\"colorbar\":{\"outlinewidth\":0,\"ticks\":\"\"},\"colorscale\":[[0.0,\"#0d0887\"],[0.1111111111111111,\"#46039f\"],[0.2222222222222222,\"#7201a8\"],[0.3333333333333333,\"#9c179e\"],[0.4444444444444444,\"#bd3786\"],[0.5555555555555556,\"#d8576b\"],[0.6666666666666666,\"#ed7953\"],[0.7777777777777778,\"#fb9f3a\"],[0.8888888888888888,\"#fdca26\"],[1.0,\"#f0f921\"]]}],\"heatmap\":[{\"type\":\"heatmap\",\"colorbar\":{\"outlinewidth\":0,\"ticks\":\"\"},\"colorscale\":[[0.0,\"#0d0887\"],[0.1111111111111111,\"#46039f\"],[0.2222222222222222,\"#7201a8\"],[0.3333333333333333,\"#9c179e\"],[0.4444444444444444,\"#bd3786\"],[0.5555555555555556,\"#d8576b\"],[0.6666666666666666,\"#ed7953\"],[0.7777777777777778,\"#fb9f3a\"],[0.8888888888888888,\"#fdca26\"],[1.0,\"#f0f921\"]]}],\"heatmapgl\":[{\"type\":\"heatmapgl\",\"colorbar\":{\"outlinewidth\":0,\"ticks\":\"\"},\"colorscale\":[[0.0,\"#0d0887\"],[0.1111111111111111,\"#46039f\"],[0.2222222222222222,\"#7201a8\"],[0.3333333333333333,\"#9c179e\"],[0.4444444444444444,\"#bd3786\"],[0.5555555555555556,\"#d8576b\"],[0.6666666666666666,\"#ed7953\"],[0.7777777777777778,\"#fb9f3a\"],[0.8888888888888888,\"#fdca26\"],[1.0,\"#f0f921\"]]}],\"contourcarpet\":[{\"type\":\"contourcarpet\",\"colorbar\":{\"outlinewidth\":0,\"ticks\":\"\"}}],\"contour\":[{\"type\":\"contour\",\"colorbar\":{\"outlinewidth\":0,\"ticks\":\"\"},\"colorscale\":[[0.0,\"#0d0887\"],[0.1111111111111111,\"#46039f\"],[0.2222222222222222,\"#7201a8\"],[0.3333333333333333,\"#9c179e\"],[0.4444444444444444,\"#bd3786\"],[0.5555555555555556,\"#d8576b\"],[0.6666666666666666,\"#ed7953\"],[0.7777777777777778,\"#fb9f3a\"],[0.8888888888888888,\"#fdca26\"],[1.0,\"#f0f921\"]]}],\"surface\":[{\"type\":\"surface\",\"colorbar\":{\"outlinewidth\":0,\"ticks\":\"\"},\"colorscale\":[[0.0,\"#0d0887\"],[0.1111111111111111,\"#46039f\"],[0.2222222222222222,\"#7201a8\"],[0.3333333333333333,\"#9c179e\"],[0.4444444444444444,\"#bd3786\"],[0.5555555555555556,\"#d8576b\"],[0.6666666666666666,\"#ed7953\"],[0.7777777777777778,\"#fb9f3a\"],[0.8888888888888888,\"#fdca26\"],[1.0,\"#f0f921\"]]}],\"mesh3d\":[{\"type\":\"mesh3d\",\"colorbar\":{\"outlinewidth\":0,\"ticks\":\"\"}}],\"scatter\":[{\"fillpattern\":{\"fillmode\":\"overlay\",\"size\":10,\"solidity\":0.2},\"type\":\"scatter\"}],\"parcoords\":[{\"type\":\"parcoords\",\"line\":{\"colorbar\":{\"outlinewidth\":0,\"ticks\":\"\"}}}],\"scatterpolargl\":[{\"type\":\"scatterpolargl\",\"marker\":{\"colorbar\":{\"outlinewidth\":0,\"ticks\":\"\"}}}],\"bar\":[{\"error_x\":{\"color\":\"#2a3f5f\"},\"error_y\":{\"color\":\"#2a3f5f\"},\"marker\":{\"line\":{\"color\":\"#E5ECF6\",\"width\":0.5},\"pattern\":{\"fillmode\":\"overlay\",\"size\":10,\"solidity\":0.2}},\"type\":\"bar\"}],\"scattergeo\":[{\"type\":\"scattergeo\",\"marker\":{\"colorbar\":{\"outlinewidth\":0,\"ticks\":\"\"}}}],\"scatterpolar\":[{\"type\":\"scatterpolar\",\"marker\":{\"colorbar\":{\"outlinewidth\":0,\"ticks\":\"\"}}}],\"histogram\":[{\"marker\":{\"pattern\":{\"fillmode\":\"overlay\",\"size\":10,\"solidity\":0.2}},\"type\":\"histogram\"}],\"scattergl\":[{\"type\":\"scattergl\",\"marker\":{\"colorbar\":{\"outlinewidth\":0,\"ticks\":\"\"}}}],\"scatter3d\":[{\"type\":\"scatter3d\",\"line\":{\"colorbar\":{\"outlinewidth\":0,\"ticks\":\"\"}},\"marker\":{\"colorbar\":{\"outlinewidth\":0,\"ticks\":\"\"}}}],\"scattermapbox\":[{\"type\":\"scattermapbox\",\"marker\":{\"colorbar\":{\"outlinewidth\":0,\"ticks\":\"\"}}}],\"scatterternary\":[{\"type\":\"scatterternary\",\"marker\":{\"colorbar\":{\"outlinewidth\":0,\"ticks\":\"\"}}}],\"scattercarpet\":[{\"type\":\"scattercarpet\",\"marker\":{\"colorbar\":{\"outlinewidth\":0,\"ticks\":\"\"}}}],\"carpet\":[{\"aaxis\":{\"endlinecolor\":\"#2a3f5f\",\"gridcolor\":\"white\",\"linecolor\":\"white\",\"minorgridcolor\":\"white\",\"startlinecolor\":\"#2a3f5f\"},\"baxis\":{\"endlinecolor\":\"#2a3f5f\",\"gridcolor\":\"white\",\"linecolor\":\"white\",\"minorgridcolor\":\"white\",\"startlinecolor\":\"#2a3f5f\"},\"type\":\"carpet\"}],\"table\":[{\"cells\":{\"fill\":{\"color\":\"#EBF0F8\"},\"line\":{\"color\":\"white\"}},\"header\":{\"fill\":{\"color\":\"#C8D4E3\"},\"line\":{\"color\":\"white\"}},\"type\":\"table\"}],\"barpolar\":[{\"marker\":{\"line\":{\"color\":\"#E5ECF6\",\"width\":0.5},\"pattern\":{\"fillmode\":\"overlay\",\"size\":10,\"solidity\":0.2}},\"type\":\"barpolar\"}],\"pie\":[{\"automargin\":true,\"type\":\"pie\"}]},\"layout\":{\"autotypenumbers\":\"strict\",\"colorway\":[\"#636efa\",\"#EF553B\",\"#00cc96\",\"#ab63fa\",\"#FFA15A\",\"#19d3f3\",\"#FF6692\",\"#B6E880\",\"#FF97FF\",\"#FECB52\"],\"font\":{\"color\":\"#2a3f5f\"},\"hovermode\":\"closest\",\"hoverlabel\":{\"align\":\"left\"},\"paper_bgcolor\":\"white\",\"plot_bgcolor\":\"#E5ECF6\",\"polar\":{\"bgcolor\":\"#E5ECF6\",\"angularaxis\":{\"gridcolor\":\"white\",\"linecolor\":\"white\",\"ticks\":\"\"},\"radialaxis\":{\"gridcolor\":\"white\",\"linecolor\":\"white\",\"ticks\":\"\"}},\"ternary\":{\"bgcolor\":\"#E5ECF6\",\"aaxis\":{\"gridcolor\":\"white\",\"linecolor\":\"white\",\"ticks\":\"\"},\"baxis\":{\"gridcolor\":\"white\",\"linecolor\":\"white\",\"ticks\":\"\"},\"caxis\":{\"gridcolor\":\"white\",\"linecolor\":\"white\",\"ticks\":\"\"}},\"coloraxis\":{\"colorbar\":{\"outlinewidth\":0,\"ticks\":\"\"}},\"colorscale\":{\"sequential\":[[0.0,\"#0d0887\"],[0.1111111111111111,\"#46039f\"],[0.2222222222222222,\"#7201a8\"],[0.3333333333333333,\"#9c179e\"],[0.4444444444444444,\"#bd3786\"],[0.5555555555555556,\"#d8576b\"],[0.6666666666666666,\"#ed7953\"],[0.7777777777777778,\"#fb9f3a\"],[0.8888888888888888,\"#fdca26\"],[1.0,\"#f0f921\"]],\"sequentialminus\":[[0.0,\"#0d0887\"],[0.1111111111111111,\"#46039f\"],[0.2222222222222222,\"#7201a8\"],[0.3333333333333333,\"#9c179e\"],[0.4444444444444444,\"#bd3786\"],[0.5555555555555556,\"#d8576b\"],[0.6666666666666666,\"#ed7953\"],[0.7777777777777778,\"#fb9f3a\"],[0.8888888888888888,\"#fdca26\"],[1.0,\"#f0f921\"]],\"diverging\":[[0,\"#8e0152\"],[0.1,\"#c51b7d\"],[0.2,\"#de77ae\"],[0.3,\"#f1b6da\"],[0.4,\"#fde0ef\"],[0.5,\"#f7f7f7\"],[0.6,\"#e6f5d0\"],[0.7,\"#b8e186\"],[0.8,\"#7fbc41\"],[0.9,\"#4d9221\"],[1,\"#276419\"]]},\"xaxis\":{\"gridcolor\":\"white\",\"linecolor\":\"white\",\"ticks\":\"\",\"title\":{\"standoff\":15},\"zerolinecolor\":\"white\",\"automargin\":true,\"zerolinewidth\":2},\"yaxis\":{\"gridcolor\":\"white\",\"linecolor\":\"white\",\"ticks\":\"\",\"title\":{\"standoff\":15},\"zerolinecolor\":\"white\",\"automargin\":true,\"zerolinewidth\":2},\"scene\":{\"xaxis\":{\"backgroundcolor\":\"#E5ECF6\",\"gridcolor\":\"white\",\"linecolor\":\"white\",\"showbackground\":true,\"ticks\":\"\",\"zerolinecolor\":\"white\",\"gridwidth\":2},\"yaxis\":{\"backgroundcolor\":\"#E5ECF6\",\"gridcolor\":\"white\",\"linecolor\":\"white\",\"showbackground\":true,\"ticks\":\"\",\"zerolinecolor\":\"white\",\"gridwidth\":2},\"zaxis\":{\"backgroundcolor\":\"#E5ECF6\",\"gridcolor\":\"white\",\"linecolor\":\"white\",\"showbackground\":true,\"ticks\":\"\",\"zerolinecolor\":\"white\",\"gridwidth\":2}},\"shapedefaults\":{\"line\":{\"color\":\"#2a3f5f\"}},\"annotationdefaults\":{\"arrowcolor\":\"#2a3f5f\",\"arrowhead\":0,\"arrowwidth\":1},\"geo\":{\"bgcolor\":\"white\",\"landcolor\":\"#E5ECF6\",\"subunitcolor\":\"white\",\"showland\":true,\"showlakes\":true,\"lakecolor\":\"white\"},\"title\":{\"x\":0.05},\"mapbox\":{\"style\":\"light\"}}},\"shapes\":[{\"line\":{\"color\":\"red\",\"dash\":\"dash\",\"width\":2},\"name\":\"Mean\",\"type\":\"line\",\"x0\":2.0456883907318115,\"x1\":2.0456883907318115,\"y0\":0,\"y1\":270.0},{\"line\":{\"color\":\"blue\",\"dash\":\"dash\",\"width\":2},\"name\":\"Median\",\"type\":\"line\",\"x0\":2.0399999618530273,\"x1\":2.0399999618530273,\"y0\":0,\"y1\":270.0}],\"title\":{\"text\":\"Weight Histogram with Mean and Median\"},\"xaxis\":{\"title\":{\"text\":\"Weight\"}},\"yaxis\":{\"title\":{\"text\":\"Frequency\"}}},                        {\"responsive\": true}                    ).then(function(){\n",
              "                            \n",
              "var gd = document.getElementById('7c50ef52-17f2-4682-a5b4-f9d2aa004af4');\n",
              "var x = new MutationObserver(function (mutations, observer) {{\n",
              "        var display = window.getComputedStyle(gd).display;\n",
              "        if (!display || display === 'none') {{\n",
              "            console.log([gd, 'removed!']);\n",
              "            Plotly.purge(gd);\n",
              "            observer.disconnect();\n",
              "        }}\n",
              "}});\n",
              "\n",
              "// Listen for the removal of the full notebook cells\n",
              "var notebookContainer = gd.closest('#notebook-container');\n",
              "if (notebookContainer) {{\n",
              "    x.observe(notebookContainer, {childList: true});\n",
              "}}\n",
              "\n",
              "// Listen for the clearing of the current output cell\n",
              "var outputEl = gd.closest('.output');\n",
              "if (outputEl) {{\n",
              "    x.observe(outputEl, {childList: true});\n",
              "}}\n",
              "\n",
              "                        })                };                            </script>        </div>\n",
              "</body>\n",
              "</html>"
            ]
          },
          "metadata": {}
        }
      ],
      "source": [
        "data= total_data['Weight'].str.replace(\"kg\", \"\").astype('float32')\n",
        "\n",
        "\n",
        "mean_value = np.mean(data)\n",
        "median_value = np.median(data)\n",
        "\n",
        "# Create a histogram figure\n",
        "fig = go.Figure()\n",
        "\n",
        "# Add the histogram trace\n",
        "histogram_trace = go.Histogram(x=data, name='Histogram')\n",
        "fig.add_trace(histogram_trace)\n",
        "\n",
        "\n",
        "\n",
        "# Add the mean line\n",
        "fig.add_shape(type='line', x0=mean_value, x1=mean_value, y0=0, y1=0.9 * 300,\n",
        "              line=dict(color='red', width=2, dash='dash'),\n",
        "              name='Mean')\n",
        "\n",
        "# Add the median line\n",
        "fig.add_shape(type='line', x0=median_value, x1=median_value, y0=0, y1=0.9 * 300,\n",
        "              line=dict(color='blue', width=2, dash='dash'),\n",
        "              name='Median')\n",
        "\n",
        "# Customize the layout (optional)\n",
        "fig.update_layout(\n",
        "    title='Weight Histogram with Mean and Median',\n",
        "    xaxis=dict(title='Weight'),\n",
        "    yaxis=dict(title='Frequency'),\n",
        ")\n",
        "\n",
        "\n",
        "# Show the plot\n",
        "fig.show()"
      ]
    },
    {
      "cell_type": "markdown",
      "metadata": {
        "id": "c8CDJx-AMXyA"
      },
      "source": [
        "We Notice that the Price is Right_Skewed , and most of the Laptops are about 1000 - 1200 Euros"
      ]
    },
    {
      "cell_type": "code",
      "execution_count": null,
      "metadata": {
        "colab": {
          "base_uri": "https://localhost:8080/"
        },
        "id": "uwopo9lvMRsU",
        "outputId": "f4aa451d-f904-4115-a7ed-6a6303354a31"
      },
      "outputs": [
        {
          "output_type": "display_data",
          "data": {
            "text/html": [
              "<html>\n",
              "<head><meta charset=\"utf-8\" /></head>\n",
              "<body>\n",
              "    <div>            <script src=\"https://cdnjs.cloudflare.com/ajax/libs/mathjax/2.7.5/MathJax.js?config=TeX-AMS-MML_SVG\"></script><script type=\"text/javascript\">if (window.MathJax && window.MathJax.Hub && window.MathJax.Hub.Config) {window.MathJax.Hub.Config({SVG: {font: \"STIX-Web\"}});}</script>                <script type=\"text/javascript\">window.PlotlyConfig = {MathJaxConfig: 'local'};</script>\n",
              "        <script charset=\"utf-8\" src=\"https://cdn.plot.ly/plotly-2.24.1.min.js\"></script>                <div id=\"2e0756be-73d0-4d7f-9f98-4848f7f7d716\" class=\"plotly-graph-div\" style=\"height:525px; width:100%;\"></div>            <script type=\"text/javascript\">                                    window.PLOTLYENV=window.PLOTLYENV || {};                                    if (document.getElementById(\"2e0756be-73d0-4d7f-9f98-4848f7f7d716\")) {                    Plotly.newPlot(                        \"2e0756be-73d0-4d7f-9f98-4848f7f7d716\",                        [{\"y\":[1441.41534108,967.19831208,618.6609,2730.1236534,1940.5509551999999,430.3728,2302.4622020399997,1246.6824084,1608.51834,828.46764,423.80961479999996,371.18578068,2625.2418020399996,536.7824747999999,1358.2565568,1633.8565386,801.56934,3075.013656,536.890068,1053.337428,206.4713508,1074.856068,277.590456,881.188308,709.039188,450.42817248,1182.449268,860.7456,1396.559736,964.035072,263.59258068,214.110468,472.334148,2010.916908,1073.780136,267.907068,394.867044,1053.337428,525.79720908,945.744228,418.537548,1612.822068,562.70167668,733.785624,1074.856068,1526.747508,397.018908,1397.635668,687.520548,501.384312,343.222308,904.8588120000001,428.74814268,1186.752996,413.157888,826.1005895999999,472.334148,630.70057908,2634.957468,446.51178,1397.635668,945.744228,644.483268,1012.452012,742.39308,2133.573156,472.00060908,246.388428,590.686668,1021.059468,1171.689948,1027.51506,936.06084,1178.14554,418.537548,1021.059468,558.408708,919.92186,570.24396,1051.185564,1179.39362112,1624.65732,925.30152,429.296868,424.99314,1451.432268,752.076468,644.47250868,1559.025468,1774.211868,752.076468,741.317148,1287.890604,1285.73874,1128.652668,911.314404,645.4516067999999,521.82702,620.812764,1343.839068,773.595108,375.500268,696.128004,1203.967908,1441.74888,709.039188,446.4041868,1283.586876,1397.635668,1592.37936,1357.826184,1483.710228,1505.228868,776.822904,1752.693228,1505.2181086800001,1166.310288,1216.15821756,606.825648,1202.891976,515.371428,2411.701578,676.761228,1367.509572,485.245332,278.666388,873.656784,299.09833668,1502.001072,998.464896,687.50978868,483.093468,951.123888,615.433104,643.407336,1063.020816,271.52219952,1009.224216,536.890068,752.076468,704.73546,1200.76163064,934.984908,647.711064,397.018908,1182.449268,2166.927048,370.120608,2183.066028,480.941604,1344.11881032,967.262868,535.814136,2033.51148,1164.158424,666.001908,676.761228,1414.85058,1128.652668,480.941604,433.600596,866.12526,783.278496,1160.930628,374.424336,1935.601668,391.11204132,1141.01512668,918.845928,811.252728,1451.432268,752.076468,332.462988,526.130748,993.085236,493.852788,483.093468,3011.533668,874.732716,1612.822068,1128.652668,1505.228868,1989.398268,853.214076,1290.042468,1666.618668,2579.009004,838.151028,1064.096748,1167.38622,3038.431968,279.74232,1075.8244068000001,751.000536,902.706948,983.401848,6562.109268,1031.818788,1483.710228,1124.34894,1985.09454,530.434476,798.341544,1881.805068,3286.97226,1504.152936,472.334148,2096.991468,1559.025468,642.331404,838.151028,1513.836324,375.500268,590.686668,1612.822068,1002.63951216,633.723948,1109.285892,1236.245868,1376.117028,728.7825402,967.262868,1466.495316,854.2900080000001,2642.8548088800003,895.175424,924.2363473199999,827.391708,958.655412,1365.357708,429.28610868,355.05756,1612.822068,924.225588,741.317148,967.262868,419.61348,618.6609,4185.37548,910.238472,633.723948,1231.94214,956.503548,945.744228,1160.930628,1059.79302,601.445988,3226.720068,726.2541,2194.90128,881.188308,1935.601668,504.612108,1989.398268,755.304264,1021.059468,479.75807879999996,1139.411988,2688.754068,1828.008468,1228.714344,477.71380800000003,776.822904,706.887324,607.90158,859.669668,1612.822068,502.460244,1095.298776,946.82016,2107.6431948,1666.618668,790.88533524,2688.754068,873.656784,767.2148312400001,1182.449268,801.56934,526.130748,913.466268,924.225588,460.498896,891.947628,622.964628,1023.211332,709.039188,1180.297404,1051.185564,1268.523828,709.04994732,214.110468,1277.131284,526.130748,1967.879628,795.113748,1397.635668,1053.337428,3103.9131895200003,536.890068,1579.468176,547.649388,2283.127704,698.279868,590.686668,1361.05398,387.32476068,2124.9657,1122.197076,881.188308,504.612108,1074.856068,2688.754068,2258.381268,504.612108,295.8813,908.086608,2634.957468,494.8211268,1054.41336,521.82702,1390.104144,633.723948,1177.069608,970.490664,709.039188,314.172144,590.686668,1129.6210068,1436.36922,2839.384548,1290.042468,1014.603876,1435.293288,483.093468,1074.856068,1364.281776,1128.652668,1230.866208,295.87054068000003,1229.521293,295.77370679999996,967.262868,770.367312,2258.381268,1698.896628,1214.727228,300.185028,1730.05561872,403.4745,713.342916,2181.36605544,1403.015328,1515.988188,1870.26031764,1509.532596,1044.6223788,346.43934468000003,1074.856068,599.69221884,1535.354964,472.334148,1016.75574,773.595108,687.520548,536.890068,418.537548,1167.38622,870.428988,967.262868,1882.881,1182.449268,458.347032,2365.974468,526.130748,934.9956673199999,526.11998868,594.990396,332.462988,307.716552,910.238472,1281.435012,434.138562,1780.66746,1182.449268,1881.6974748,2455.276824,590.686668,1472.950908,2297.11482,2699.513388,1117.893348,1711.807812,746.68604868,1451.432268,838.01115684,536.890068,1322.9229499199998,1009.224216,2917.927584,2824.3215,329.235192,1645.100028,1231.404174,945.744228,2419.771068,2015.220636,1879.653204,1807.56576,440.056188,327.5674974,2071.1691,2090.535876,504.612108,848.92110732,998.464896,644.3756748,741.317148,1613.898,580.9494834000001,1307.6662341600002,2043.194868,483.093468,1535.354964,642.331404,3011.533668,1247.005188,1229.1447168000002,1182.449268,2150.788068,321.703668,289.425708,1086.69132,644.483268,2630.65374,2634.957468,1823.70474,373.348404,2365.974468,2562.870024,601.445988,558.408708,805.873068,1537.506828,375.500268,1182.449268,1268.523828,475.3467576,2144.332476,1105.77835368,2785.587948,633.723948,2124.9657,1650.479688,1447.12854,1053.337428,515.371428,2201.356872,1064.096748,1935.601668,688.4888867999999,585.307008,468.03042,805.873068,859.669668,2248.69788,327.083328,504.612108,816.632388,1828.008468,1999.081656,2150.788068,1241.625528,1371.8133,1981.7053541999999,1397.635668,796.18968,2590.844256,1467.571248,726.2541,1798.958304,1357.826184,631.1417112,781.126632,267.7994748,607.90158,1128.652668,2515.529016,2043.194868,1934.525736,2098.0674,1088.83242468,3011.533668,1452.5082,622.964628,1365.357708,1182.449268,967.1552748,1881.805068,1021.059468,980.174052,365.81688,665.99114868,1720.415268,321.703668,285.12198,1021.059468,1316.940768,659.546316,1423.458036,1236.245868,967.262868,687.520548,899.479152,1311.81933168,1506.2510034,263.60334,561.06626004,3193.366176,956.503548,1618.201728,1505.228868,1505.228868,1376.90245836,741.317148,956.503548,1441.74888,859.669668,493.852788,629.42022,1481.558364,3241.53565164,925.30152,1397.635668,397.018908,1774.211868,1472.950908,857.95893612,429.28610868,1935.601668,924.225588,1505.228868,791.74608084,1231.94214,858.593736,375.500268,759.070026,844.60662,497.45716020000003,427.14500400000003,1860.2864280000001,536.890068,1201.80528468,2903.940468,585.4683977999999,1377.19296,241.008768,274.36266,1021.059468,612.0977148,664.8183828,375.500268,677.83716,2114.20638,3226.720068,902.706948,1720.415268,1031.818788,795.113748,370.120608,1065.17268,2002.29869268,418.537548,698.279868,893.02356,737.01342,267.907068,2006.61318,2865.206916,2936.218428,805.88382732,418.537548,1085.09894064,773.595108,1654.1270974800002,317.39994,2527.364268,1611.746136,1800.034236,655.242588,1904.39964,795.113748,1021.059468,648.786996,1828.008468,569.168028,493.852788,2178.7623,1585.923768,1796.80644,1896.868116,1311.561108,719.23902336,353.981628,2365.974468,500.30838,2473.567668,1505.228868,606.825648,1397.635668,375.500268,5270.990868,945.7549873199999,477.6062148,386.259588,934.984908,1256.688576,612.205308,1494.469548,2440.06314552,407.778228,1209.347568,1576.24038,834.923232,859.669668,1002.768624,967.262868,257.147748,503.536176,687.53130732,1958.19624,2044.2708,1591.303428,891.947628,622.964628,429.296868,975.46146984,2010.916908,267.907068,1890.8644154400001,2581.160868,1193.208588,560.4529788,2636.0334,1257.764508,484.1694,294.805368,988.781508,2796.347268,1305.105516,1704.276288,3011.533668,762.835788,1559.9938068000001,1282.2957576,392.6075868,1144.791648,988.781508,1221.18282,1286.814672,3386.35609884,1322.320428,450.815508,575.62362,579.927348,1599.66341964,535.814136,1027.51506,801.56934,1353.522456,443.283984,2009.6795862,880.0585794000001,1112.513688,375.500268,752.076468,1392.256008,1221.18282,532.58634,2473.567668,1397.635668,1073.6725428000002,450.815508,2206.736532,752.076468,1612.822068,3027.403665,659.12670252,587.10381444,612.205308,342.146376,403.4745,752.076468,2052.86749668,2786.66388,1046.881836,289.425708,1881.805068,719.798508,2019.524364,741.317148,881.188308,429.296868,461.574828,668.6379414,484.1694,855.36594,1074.856068,1995.85386,1281.435012,704.74621932,1343.839068,1171.689948,781.126632,320.627736,1534.98914712,922.1490392400001,1268.523828,320.627736,285.12198,1291.1184,1814.70994848,900.1247112,1612.822068,3937.2655608,1450.87278336,527.0990868,773.595108,698.279868,634.28343264,526.130748,2081.92842,698.279868,699.3558,601.445988,1032.89472,838.151028,2602.679508,709.039188,2253.51805536,441.9928656,1298.649924,715.49478,1651.55562,1074.856068,3549.499668,355.05756,1774.211868,579.927348,1212.26334372,4722.265548,511.0677,2044.2708,622.964628,1179.221472,914.4346068,1290.042468,1182.449268,1679.529852,3086.83814868,644.483268,1127.576736,2000.157588,1677.377988,1214.727228,913.466268,704.73546,506.05385687999996,1182.449268,1720.415268,320.627736,1270.96619364,1935.601668,1097.45064,1182.449268,1338.459408,902.706948,2549.95884,684.292752,3119.126868,626.0848308,3861.3047616000003,2528.4402,1897.944048,353.981628,2473.567668,2034.587412,1171.689948,1074.856068,2473.567668,1059.79302,1440.672948,218.3066028,2119.58604,1031.818788,1253.46078,2506.92156,321.703668,871.50492,1451.432268,795.113748,2221.6919868,1182.449268,1612.822068,1881.805068,800.493408,1494.469548,839.22696,676.761228,1806.489828,655.242588,1881.805068,2598.37578,1612.822068,1033.970652,849.7818529199999,2000.157588,1935.601668,414.23382,2695.23117864,812.32866,527.0990868,1172.76588,2688.754068,1290.042468,2017.3725,536.890068,1461.115656,629.42022,381.95586,666.001908,5916.5500680000005,2258.381268,558.408708,1276.055352,1775.2878,2985.31320516,2602.679508,719.798508,349.6779,634.79988,1935.601668,3306.22068348,979.09812,768.20468868,2011.9928400000001,795.113748,661.69818,1103.906232,2449.897164,1579.468176,321.703668,2043.194868,930.68118,2047.498596,846.758484,1016.75574,483.093468,2753.309988,698.279868,504.612108,915.2523151199999,1451.432268,1382.57262,1094.222844,2410.08768,979.09812,1178.14554,2098.0674,970.490664,1913.007096,1135.10826,515.371428,1493.393616,790.81002,1989.398268,1818.32508,429.28610868,1005.9964200000001,981.78795,902.706948,1829.0844,736.7982336,374.424336,719.798508,397.018908,1935.601668,490.3022124,1473.9192468,319.551804,407.778228,1361.05398,1505.228868,1828.008468,1935.601668,2850.143868,1586.9997,999.540828,968.3388,660.622248,1005.9964200000001,2165.9587091999997,1376.117028,1774.211868,2204.584668,2112.0437566799997,2258.381268,1595.607156,386.259588,848.910348,2043.194868,1296.49806,3335.3892,848.910348,1096.36394868,536.890068,947.896092,1032.89472,1720.415268,1451.432268,1204.9470061200002,737.00266068,1395.47304468,1236.245868,2124.9657,1963.5759,785.3227668,1775.2878,1253.46078,761.82441192,1236.245868,332.462988,1698.896628,310.8367548,1935.601668,1188.90486,1795.730508,601.0156152000001,1290.042468,1763.452548,2967.420456,1505.228868,570.24396,666.001908,1203.967908,1397.635668,1074.856068,1583.9870904,737.01342,709.039188,375.500268,2419.771068,1909.7793,1570.86072,1247.005188,1602.05198868,3393.489528,2043.194868,833.8473,1364.281776,418.537548,1651.55562,1893.64032,1085.615388,1925.91828,910.776438,500.97545784,887.6439,737.01342,3388.109868,747.77274,2043.194868,2112.03299736,3012.6096000000002,1269.59976,2205.5530068000003,1053.337428,1078.083864,369.0,399.0,900.0,2046.0,468.0,1624.0,469.0,1829.0,369.0,2296.95,1499.0,1650.0,439.0,742.0,1427.0,586.19,629.0,499.0,1499.0,2199.0,389.0,4899.0,749.0,1142.75,830.0,895.01,278.0,309.0,2499.0,1877.0,1591.0,398.99,465.0,899.0,1799.0,1299.0,1142.8,764.0,485.0,1049.0,1099.0,2029.0,1975.0,800.0,403.0,2299.0,638.99,1189.0,949.0,2299.0,2199.0,959.0,2858.0,1413.1,269.0,650.0,1655.0,1195.0,229.0,2370.0,1070.0,1999.0,1064.0,899.0,1537.39,265.0,1097.0,1778.0,750.0,359.0,1803.6,859.0,2799.0,1099.0,737.0,577.0,1200.0,1116.99,979.0,339.0,579.0,2249.0,1769.0,778.87,799.0,4389.0,999.0,530.0,2749.99,1468.0,379.0,1510.0,999.0,2680.0,902.0,1096.16,1369.0,499.0,769.99,739.0,1275.0,973.0,689.0,2439.97,679.0,1599.0,719.0,1299.0,274.0,1749.0,1499.0,489.0,330.0,598.9,459.0,1129.0,1757.42,270.62,1149.0,1199.0,1479.0,1268.0,369.0,1027.74,1099.0,2050.38,1169.0,398.99,799.0,2241.5,1099.0,729.0,549.0,691.0,1103.0,1670.0,739.0,1149.0,960.0,1145.0,1349.0,1099.0,839.0,1490.0,1929.0,722.0,488.99,669.0,1260.0,345.99,1150.0,1099.0,1869.0,779.0,846.5,799.0,1191.8,1870.0,449.0,549.99,1299.0,959.0,549.0,659.0,304.0,1154.0,689.0,1389.0,1799.0,659.0,932.0,1799.0,1399.0,800.0,1349.0,309.0,398.0,1199.0,1476.11,1639.0,999.0,1650.0,479.0,1379.0,1340.0,1334.0,412.0,812.0,586.6,1649.0,1268.0,2449.0,899.0,6099.0,1169.0,279.0,1474.0,530.0,415.0,881.0,1962.99,1399.0,1865.0,1799.0,788.49,1561.0,209.0,945.0,979.0,979.0,1539.0,1186.0,999.9,2589.0,397.0,630.0,379.0,330.0,2325.0,229.0,649.0,519.0,2099.0,1449.0,1390.0,299.0,1399.0,2049.0,649.0,2399.0,2899.0,979.0,889.0,1895.0,860.0,557.37,389.0,585.0,699.0,615.0,1867.85,614.0,579.0,414.9,1749.0,675.0,899.0,265.0,1072.0,870.0,1034.0,785.0,749.0,1249.0,2449.0,1045.0,1179.0,199.0,1109.0,1690.0,398.99,685.0,2094.48,1124.0,255.0,928.0,318.0,1349.0,475.0,2758.0,2499.0,1749.0,439.0,2103.34,292.0,1323.0,684.8,2419.0,685.0,589.0,612.61,770.0,443.99,449.0,479.0,1673.0,829.0,719.0,1049.6,2199.0,949.0,649.0,713.07,410.8,3299.0,3949.4,1950.0,489.0,805.0,889.0,636.0,1790.0,869.01,2299.0,466.0,896.0,1181.27,961.0,209.0,459.0,899.0,523.63,598.99,689.0,1599.0,943.0,819.0,779.0,579.0,499.0,599.0,539.95,1191.8,359.0,549.0,745.0,682.0,719.0,1249.0,659.0,1498.0,3055.0,379.0,1764.0,2250.68,249.0,387.0,1975.0,999.0,1379.0,3149.0,923.0,850.66,1389.0,348.0,589.0,1859.0,2339.0,699.0,1699.0,2013.1,769.0,951.0,202.9,1599.0,598.0,618.99,249.0,819.0,797.41,549.99,1199.0,1011.99,1499.0,465.62,1165.0,2229.0,499.0,470.34,898.9,1199.0,1399.0,985.0,3890.0,1799.0,1009.9,1748.9,735.07,1598.0,1349.0,306.0,367.0,1529.0,805.99,705.5,1584.0,1299.0,2027.42,949.0,1080.0,597.0,272.0,1029.0,1329.0,418.64,363.51,729.9,438.69,389.0,739.0,655.01,1099.0,1085.0,1449.9,1312.49,895.0,1499.0,499.0,1299.0,1969.0,389.0,389.0,1499.0,769.15,999.0,639.0,2139.97,2089.0,1891.0,309.0,1300.0,998.0,2505.02,1029.0,699.0,299.0,488.69,675.0,998.0,875.0,1699.0,3072.89,1559.0,450.0,539.0,899.0,812.0,2025.0,2049.0,1600.0,1197.0,684.0,5499.0,299.0,698.0,1179.0,1089.0,2450.0,1048.0,1207.0,1049.0,2499.0,599.0,1169.0,869.0,1084.0,380.0,489.9,559.0,1499.0,459.0,1199.0,565.0,1399.0,304.45,2800.0,639.9,1149.0,1179.0,2419.0,935.0,521.86,2699.0,455.7,879.0,1094.0,2229.0,1119.0,1079.0,2799.0,269.0,565.0,2824.0,899.0,1599.0,699.0,1690.0,1579.0,1119.0,1511.19,1873.0,1999.0,1060.0,469.01,2299.0,1262.0,1799.0,598.0,1699.0,479.0,2537.45,829.0,849.0,2226.0,989.0,1018.0,1699.0,1775.0,2099.0,869.0,832.0,655.0,938.0,1760.0,1845.0,655.0,575.0,1499.0,469.0,1388.0,2277.0,629.0,1975.0,1899.0,1272.0,1189.0,499.0,2774.63,879.0,1149.0,1713.37,613.0,1294.0,2240.0,1129.0,1299.0,2968.0,1119.0,1495.0,286.0,1890.0,2663.0,1339.0,1770.0,899.0,726.0,399.0,1534.0,1030.99,1089.0,1607.96,1869.0,439.0,659.0,1899.0,1299.0,2090.0,1195.0,1299.0,817.95,1900.0,1499.0,2122.0,979.0,403.5,2729.0,780.0,558.6,764.0,379.0,1535.0,819.0,1518.55,2999.0,2051.0,708.06,846.0,1599.0,754.0,2620.0,3588.8,1244.0,713.99,2099.0,2499.0,879.01,1219.0,728.0,559.0,1798.0,795.99,739.0,2299.0,855.0,752.0,1799.0,569.0,722.0,977.0,742.0,349.0,749.0,689.0,1499.0,3154.0,299.0,409.0,549.0,1925.0,949.0,1096.0,825.0,1407.0,359.99,1958.9,429.0,1419.0,3100.0,1949.0,349.0,979.0,590.0,1899.0,522.99,1590.0,519.0,799.0,1669.0,793.0,849.9,720.32,1193.0,1495.0,244.99,459.0,333.0,1205.0,1700.0,1269.0,729.0,1000.0,589.52,726.0,3659.4,899.0,1499.0,1887.21,1315.0,499.0,459.0,1149.0,3975.0,1348.48,1458.0,2509.0,699.0,1590.0,2350.0,1099.0,1729.0,344.99,1499.0,638.0,1258.0,2249.0,719.0,597.57,325.0,902.0,847.0,745.0,1059.0,844.0,1285.0,1304.0,699.0,1229.0,1468.0,949.0,859.0,999.0,1965.0,880.0,619.0,1943.0,393.49,999.0,2649.0,2171.72,3147.37,2968.0,1189.0,1195.0,439.0,1747.0,1199.0,469.0,245.0,1149.0,1399.0,1099.99,544.15,1399.95,1559.0,1629.0,1180.0,1118.0,469.0,745.0,949.0,1339.69,639.0,764.0,1483.0,547.0,879.0,384.0,309.0,709.0,1144.0,1983.0,867.0,375.0,573.0,478.0,1191.0,906.62,2625.0,684.99,1055.0,1859.0,1429.0,1099.0,340.0,616.0,649.0,364.9,1039.0,1799.0,720.32,1749.0,668.48,289.0,813.0,677.35,1679.0,287.9,759.0,1213.0,260.0,1135.15,1369.9,575.0,1799.0,2449.0,2040.0,2049.9,447.0,1549.0,1158.7,444.0,1349.0,669.0,2599.0,443.9,1695.0,349.0,3240.0,259.0,539.0,955.0,1017.0,564.0,3499.0,1049.0,795.0,2014.0,609.0,789.01,735.0,973.0,1650.0,1825.0,489.9,839.0,1224.0,1279.73,1962.98,2299.0,1993.0,2153.37,739.0,1529.0,609.0,767.8,669.0,990.0,2449.0,2349.0,1135.0,581.9,647.0,521.47,1349.0,209.0,1399.0,702.0,509.0,275.0,891.0,1002.0,709.0,1345.0,825.0,659.01,787.0,1950.0,599.0,599.9,1187.0,1199.0,999.0,769.0,398.0,389.0,498.0,398.49,1970.0,252.36,1196.0,1799.0,428.0,459.0,729.0,1649.0,549.0,629.0,1425.0,1159.0,1265.0,1637.0,1279.0,459.0,2868.99,1713.49,1903.0,603.0,846.0,663.0,589.0,375.0,959.0,720.32,1062.95,649.0,2064.9,1335.0,831.0,2150.0,1908.0,639.0,1498.0,274.9,395.0,911.0,1262.4,1750.0,940.0,1398.99,810.0,1060.49,1229.0,735.87,602.0,540.0,1820.0,355.0,749.01,2445.0,2135.0,2813.75,1579.0,1280.0,659.0,789.0,489.0,297.0,544.0,599.0,1819.0,1099.0,699.0,1305.0,469.0,1899.0,3012.77,935.0,529.0,191.9,889.0,298.0,569.0,499.0,919.0,349.0,914.0,229.0,1199.0,617.9,931.88,1340.0,579.0],\"type\":\"box\"}],                        {\"template\":{\"data\":{\"histogram2dcontour\":[{\"type\":\"histogram2dcontour\",\"colorbar\":{\"outlinewidth\":0,\"ticks\":\"\"},\"colorscale\":[[0.0,\"#0d0887\"],[0.1111111111111111,\"#46039f\"],[0.2222222222222222,\"#7201a8\"],[0.3333333333333333,\"#9c179e\"],[0.4444444444444444,\"#bd3786\"],[0.5555555555555556,\"#d8576b\"],[0.6666666666666666,\"#ed7953\"],[0.7777777777777778,\"#fb9f3a\"],[0.8888888888888888,\"#fdca26\"],[1.0,\"#f0f921\"]]}],\"choropleth\":[{\"type\":\"choropleth\",\"colorbar\":{\"outlinewidth\":0,\"ticks\":\"\"}}],\"histogram2d\":[{\"type\":\"histogram2d\",\"colorbar\":{\"outlinewidth\":0,\"ticks\":\"\"},\"colorscale\":[[0.0,\"#0d0887\"],[0.1111111111111111,\"#46039f\"],[0.2222222222222222,\"#7201a8\"],[0.3333333333333333,\"#9c179e\"],[0.4444444444444444,\"#bd3786\"],[0.5555555555555556,\"#d8576b\"],[0.6666666666666666,\"#ed7953\"],[0.7777777777777778,\"#fb9f3a\"],[0.8888888888888888,\"#fdca26\"],[1.0,\"#f0f921\"]]}],\"heatmap\":[{\"type\":\"heatmap\",\"colorbar\":{\"outlinewidth\":0,\"ticks\":\"\"},\"colorscale\":[[0.0,\"#0d0887\"],[0.1111111111111111,\"#46039f\"],[0.2222222222222222,\"#7201a8\"],[0.3333333333333333,\"#9c179e\"],[0.4444444444444444,\"#bd3786\"],[0.5555555555555556,\"#d8576b\"],[0.6666666666666666,\"#ed7953\"],[0.7777777777777778,\"#fb9f3a\"],[0.8888888888888888,\"#fdca26\"],[1.0,\"#f0f921\"]]}],\"heatmapgl\":[{\"type\":\"heatmapgl\",\"colorbar\":{\"outlinewidth\":0,\"ticks\":\"\"},\"colorscale\":[[0.0,\"#0d0887\"],[0.1111111111111111,\"#46039f\"],[0.2222222222222222,\"#7201a8\"],[0.3333333333333333,\"#9c179e\"],[0.4444444444444444,\"#bd3786\"],[0.5555555555555556,\"#d8576b\"],[0.6666666666666666,\"#ed7953\"],[0.7777777777777778,\"#fb9f3a\"],[0.8888888888888888,\"#fdca26\"],[1.0,\"#f0f921\"]]}],\"contourcarpet\":[{\"type\":\"contourcarpet\",\"colorbar\":{\"outlinewidth\":0,\"ticks\":\"\"}}],\"contour\":[{\"type\":\"contour\",\"colorbar\":{\"outlinewidth\":0,\"ticks\":\"\"},\"colorscale\":[[0.0,\"#0d0887\"],[0.1111111111111111,\"#46039f\"],[0.2222222222222222,\"#7201a8\"],[0.3333333333333333,\"#9c179e\"],[0.4444444444444444,\"#bd3786\"],[0.5555555555555556,\"#d8576b\"],[0.6666666666666666,\"#ed7953\"],[0.7777777777777778,\"#fb9f3a\"],[0.8888888888888888,\"#fdca26\"],[1.0,\"#f0f921\"]]}],\"surface\":[{\"type\":\"surface\",\"colorbar\":{\"outlinewidth\":0,\"ticks\":\"\"},\"colorscale\":[[0.0,\"#0d0887\"],[0.1111111111111111,\"#46039f\"],[0.2222222222222222,\"#7201a8\"],[0.3333333333333333,\"#9c179e\"],[0.4444444444444444,\"#bd3786\"],[0.5555555555555556,\"#d8576b\"],[0.6666666666666666,\"#ed7953\"],[0.7777777777777778,\"#fb9f3a\"],[0.8888888888888888,\"#fdca26\"],[1.0,\"#f0f921\"]]}],\"mesh3d\":[{\"type\":\"mesh3d\",\"colorbar\":{\"outlinewidth\":0,\"ticks\":\"\"}}],\"scatter\":[{\"fillpattern\":{\"fillmode\":\"overlay\",\"size\":10,\"solidity\":0.2},\"type\":\"scatter\"}],\"parcoords\":[{\"type\":\"parcoords\",\"line\":{\"colorbar\":{\"outlinewidth\":0,\"ticks\":\"\"}}}],\"scatterpolargl\":[{\"type\":\"scatterpolargl\",\"marker\":{\"colorbar\":{\"outlinewidth\":0,\"ticks\":\"\"}}}],\"bar\":[{\"error_x\":{\"color\":\"#2a3f5f\"},\"error_y\":{\"color\":\"#2a3f5f\"},\"marker\":{\"line\":{\"color\":\"#E5ECF6\",\"width\":0.5},\"pattern\":{\"fillmode\":\"overlay\",\"size\":10,\"solidity\":0.2}},\"type\":\"bar\"}],\"scattergeo\":[{\"type\":\"scattergeo\",\"marker\":{\"colorbar\":{\"outlinewidth\":0,\"ticks\":\"\"}}}],\"scatterpolar\":[{\"type\":\"scatterpolar\",\"marker\":{\"colorbar\":{\"outlinewidth\":0,\"ticks\":\"\"}}}],\"histogram\":[{\"marker\":{\"pattern\":{\"fillmode\":\"overlay\",\"size\":10,\"solidity\":0.2}},\"type\":\"histogram\"}],\"scattergl\":[{\"type\":\"scattergl\",\"marker\":{\"colorbar\":{\"outlinewidth\":0,\"ticks\":\"\"}}}],\"scatter3d\":[{\"type\":\"scatter3d\",\"line\":{\"colorbar\":{\"outlinewidth\":0,\"ticks\":\"\"}},\"marker\":{\"colorbar\":{\"outlinewidth\":0,\"ticks\":\"\"}}}],\"scattermapbox\":[{\"type\":\"scattermapbox\",\"marker\":{\"colorbar\":{\"outlinewidth\":0,\"ticks\":\"\"}}}],\"scatterternary\":[{\"type\":\"scatterternary\",\"marker\":{\"colorbar\":{\"outlinewidth\":0,\"ticks\":\"\"}}}],\"scattercarpet\":[{\"type\":\"scattercarpet\",\"marker\":{\"colorbar\":{\"outlinewidth\":0,\"ticks\":\"\"}}}],\"carpet\":[{\"aaxis\":{\"endlinecolor\":\"#2a3f5f\",\"gridcolor\":\"white\",\"linecolor\":\"white\",\"minorgridcolor\":\"white\",\"startlinecolor\":\"#2a3f5f\"},\"baxis\":{\"endlinecolor\":\"#2a3f5f\",\"gridcolor\":\"white\",\"linecolor\":\"white\",\"minorgridcolor\":\"white\",\"startlinecolor\":\"#2a3f5f\"},\"type\":\"carpet\"}],\"table\":[{\"cells\":{\"fill\":{\"color\":\"#EBF0F8\"},\"line\":{\"color\":\"white\"}},\"header\":{\"fill\":{\"color\":\"#C8D4E3\"},\"line\":{\"color\":\"white\"}},\"type\":\"table\"}],\"barpolar\":[{\"marker\":{\"line\":{\"color\":\"#E5ECF6\",\"width\":0.5},\"pattern\":{\"fillmode\":\"overlay\",\"size\":10,\"solidity\":0.2}},\"type\":\"barpolar\"}],\"pie\":[{\"automargin\":true,\"type\":\"pie\"}]},\"layout\":{\"autotypenumbers\":\"strict\",\"colorway\":[\"#636efa\",\"#EF553B\",\"#00cc96\",\"#ab63fa\",\"#FFA15A\",\"#19d3f3\",\"#FF6692\",\"#B6E880\",\"#FF97FF\",\"#FECB52\"],\"font\":{\"color\":\"#2a3f5f\"},\"hovermode\":\"closest\",\"hoverlabel\":{\"align\":\"left\"},\"paper_bgcolor\":\"white\",\"plot_bgcolor\":\"#E5ECF6\",\"polar\":{\"bgcolor\":\"#E5ECF6\",\"angularaxis\":{\"gridcolor\":\"white\",\"linecolor\":\"white\",\"ticks\":\"\"},\"radialaxis\":{\"gridcolor\":\"white\",\"linecolor\":\"white\",\"ticks\":\"\"}},\"ternary\":{\"bgcolor\":\"#E5ECF6\",\"aaxis\":{\"gridcolor\":\"white\",\"linecolor\":\"white\",\"ticks\":\"\"},\"baxis\":{\"gridcolor\":\"white\",\"linecolor\":\"white\",\"ticks\":\"\"},\"caxis\":{\"gridcolor\":\"white\",\"linecolor\":\"white\",\"ticks\":\"\"}},\"coloraxis\":{\"colorbar\":{\"outlinewidth\":0,\"ticks\":\"\"}},\"colorscale\":{\"sequential\":[[0.0,\"#0d0887\"],[0.1111111111111111,\"#46039f\"],[0.2222222222222222,\"#7201a8\"],[0.3333333333333333,\"#9c179e\"],[0.4444444444444444,\"#bd3786\"],[0.5555555555555556,\"#d8576b\"],[0.6666666666666666,\"#ed7953\"],[0.7777777777777778,\"#fb9f3a\"],[0.8888888888888888,\"#fdca26\"],[1.0,\"#f0f921\"]],\"sequentialminus\":[[0.0,\"#0d0887\"],[0.1111111111111111,\"#46039f\"],[0.2222222222222222,\"#7201a8\"],[0.3333333333333333,\"#9c179e\"],[0.4444444444444444,\"#bd3786\"],[0.5555555555555556,\"#d8576b\"],[0.6666666666666666,\"#ed7953\"],[0.7777777777777778,\"#fb9f3a\"],[0.8888888888888888,\"#fdca26\"],[1.0,\"#f0f921\"]],\"diverging\":[[0,\"#8e0152\"],[0.1,\"#c51b7d\"],[0.2,\"#de77ae\"],[0.3,\"#f1b6da\"],[0.4,\"#fde0ef\"],[0.5,\"#f7f7f7\"],[0.6,\"#e6f5d0\"],[0.7,\"#b8e186\"],[0.8,\"#7fbc41\"],[0.9,\"#4d9221\"],[1,\"#276419\"]]},\"xaxis\":{\"gridcolor\":\"white\",\"linecolor\":\"white\",\"ticks\":\"\",\"title\":{\"standoff\":15},\"zerolinecolor\":\"white\",\"automargin\":true,\"zerolinewidth\":2},\"yaxis\":{\"gridcolor\":\"white\",\"linecolor\":\"white\",\"ticks\":\"\",\"title\":{\"standoff\":15},\"zerolinecolor\":\"white\",\"automargin\":true,\"zerolinewidth\":2},\"scene\":{\"xaxis\":{\"backgroundcolor\":\"#E5ECF6\",\"gridcolor\":\"white\",\"linecolor\":\"white\",\"showbackground\":true,\"ticks\":\"\",\"zerolinecolor\":\"white\",\"gridwidth\":2},\"yaxis\":{\"backgroundcolor\":\"#E5ECF6\",\"gridcolor\":\"white\",\"linecolor\":\"white\",\"showbackground\":true,\"ticks\":\"\",\"zerolinecolor\":\"white\",\"gridwidth\":2},\"zaxis\":{\"backgroundcolor\":\"#E5ECF6\",\"gridcolor\":\"white\",\"linecolor\":\"white\",\"showbackground\":true,\"ticks\":\"\",\"zerolinecolor\":\"white\",\"gridwidth\":2}},\"shapedefaults\":{\"line\":{\"color\":\"#2a3f5f\"}},\"annotationdefaults\":{\"arrowcolor\":\"#2a3f5f\",\"arrowhead\":0,\"arrowwidth\":1},\"geo\":{\"bgcolor\":\"white\",\"landcolor\":\"#E5ECF6\",\"subunitcolor\":\"white\",\"showland\":true,\"showlakes\":true,\"lakecolor\":\"white\"},\"title\":{\"x\":0.05},\"mapbox\":{\"style\":\"light\"}}},\"title\":{\"text\":\"Price Box plot\"},\"yaxis\":{\"title\":{\"text\":\"Price\"}}},                        {\"responsive\": true}                    ).then(function(){\n",
              "                            \n",
              "var gd = document.getElementById('2e0756be-73d0-4d7f-9f98-4848f7f7d716');\n",
              "var x = new MutationObserver(function (mutations, observer) {{\n",
              "        var display = window.getComputedStyle(gd).display;\n",
              "        if (!display || display === 'none') {{\n",
              "            console.log([gd, 'removed!']);\n",
              "            Plotly.purge(gd);\n",
              "            observer.disconnect();\n",
              "        }}\n",
              "}});\n",
              "\n",
              "// Listen for the removal of the full notebook cells\n",
              "var notebookContainer = gd.closest('#notebook-container');\n",
              "if (notebookContainer) {{\n",
              "    x.observe(notebookContainer, {childList: true});\n",
              "}}\n",
              "\n",
              "// Listen for the clearing of the current output cell\n",
              "var outputEl = gd.closest('.output');\n",
              "if (outputEl) {{\n",
              "    x.observe(outputEl, {childList: true});\n",
              "}}\n",
              "\n",
              "                        })                };                            </script>        </div>\n",
              "</body>\n",
              "</html>"
            ]
          },
          "metadata": {}
        }
      ],
      "source": [
        "data = total_data['Price']\n",
        "\n",
        "# Create a box plot figure\n",
        "fig = go.Figure()\n",
        "\n",
        "# Add the box trace\n",
        "fig.add_trace(go.Box(y=data))\n",
        "\n",
        "# Customize the layout (optional)\n",
        "fig.update_layout(\n",
        "    title='Price Box plot',\n",
        "    yaxis=dict(title='Price'),\n",
        ")\n",
        "\n",
        "# Show the plot\n",
        "fig.show()"
      ]
    },
    {
      "cell_type": "code",
      "source": [
        "sns.boxplot(data=total_data,x='Price')"
      ],
      "metadata": {
        "colab": {
          "base_uri": "https://localhost:8080/"
        },
        "id": "WeV-l4e0tN8q",
        "outputId": "168d1275-1cf5-4839-c1e1-ea9ee9e59e41"
      },
      "execution_count": null,
      "outputs": [
        {
          "output_type": "execute_result",
          "data": {
            "text/plain": [
              "<Axes: xlabel='Price'>"
            ]
          },
          "metadata": {},
          "execution_count": 34
        },
        {
          "output_type": "display_data",
          "data": {
            "text/plain": [
              "<Figure size 640x480 with 1 Axes>"
            ],
            "image/png": "[encoded data removed]"
          },
          "metadata": {}
        }
      ]
    },
    {
      "cell_type": "code",
      "source": [
        "total_data.Category.value_counts()"
      ],
      "metadata": {
        "colab": {
          "base_uri": "https://localhost:8080/"
        },
        "id": "BPG03dIA2JgM",
        "outputId": "ad4be975-3e56-4724-b83c-fc192d3017d0"
      },
      "execution_count": null,
      "outputs": [
        {
          "output_type": "execute_result",
          "data": {
            "text/plain": [
              "Notebook              1046\n",
              "Gaming                 304\n",
              "Ultrabook              295\n",
              "2 in 1 Convertible     166\n",
              "Workstation             42\n",
              "Netbook                 36\n",
              "Name: Category, dtype: int64"
            ]
          },
          "metadata": {},
          "execution_count": 35
        }
      ]
    },
    {
      "cell_type": "code",
      "source": [
        "total_data.columns"
      ],
      "metadata": {
        "colab": {
          "base_uri": "https://localhost:8080/"
        },
        "id": "nxBMtxFR2I_0",
        "outputId": "e20f98aa-fba7-4d50-f4ea-ec6609a9fd0f"
      },
      "execution_count": null,
      "outputs": [
        {
          "output_type": "execute_result",
          "data": {
            "text/plain": [
              "Index(['Manufacturer', 'Model Name', 'Category', 'Screen Size', 'Screen',\n",
              "       'CPU', 'RAM', 'Storage', 'GPU', 'Operating System',\n",
              "       'Operating System Version', 'Weight', 'Price', 'id'],\n",
              "      dtype='object')"
            ]
          },
          "metadata": {},
          "execution_count": 36
        }
      ]
    },
    {
      "cell_type": "code",
      "execution_count": null,
      "metadata": {
        "colab": {
          "base_uri": "https://localhost:8080/"
        },
        "id": "IYzbQUuhQrRI",
        "outputId": "6929c791-b843-4257-f1ef-6f125698b877"
      },
      "outputs": [
        {
          "output_type": "display_data",
          "data": {
            "text/html": [
              "<html>\n",
              "<head><meta charset=\"utf-8\" /></head>\n",
              "<body>\n",
              "    <div>            <script src=\"https://cdnjs.cloudflare.com/ajax/libs/mathjax/2.7.5/MathJax.js?config=TeX-AMS-MML_SVG\"></script><script type=\"text/javascript\">if (window.MathJax && window.MathJax.Hub && window.MathJax.Hub.Config) {window.MathJax.Hub.Config({SVG: {font: \"STIX-Web\"}});}</script>                <script type=\"text/javascript\">window.PlotlyConfig = {MathJaxConfig: 'local'};</script>\n",
              "        <script charset=\"utf-8\" src=\"https://cdn.plot.ly/plotly-2.24.1.min.js\"></script>                <div id=\"480a7d37-9cae-4db0-8225-3fbf547f5f31\" class=\"plotly-graph-div\" style=\"height:525px; width:100%;\"></div>            <script type=\"text/javascript\">                                    window.PLOTLYENV=window.PLOTLYENV || {};                                    if (document.getElementById(\"480a7d37-9cae-4db0-8225-3fbf547f5f31\")) {                    Plotly.newPlot(                        \"480a7d37-9cae-4db0-8225-3fbf547f5f31\",                        [{\"marker\":{\"color\":\"skyblue\"},\"name\":\"Count Plot\",\"x\":[\"Dell\",\"Lenovo\",\"HP\",\"Asus\",\"Acer\",\"MSI\",\"Toshiba\",\"Apple\",\"Samsung\",\"Microsoft\",\"Mediacom\",\"Razer\",\"Xiaomi\",\"Google\",\"Fujitsu\",\"LG\",\"Chuwi\",\"Vero\",\"Huawei\"],\"y\":[441,434,369,239,151,71,69,35,14,11,11,9,8,6,5,5,4,4,3],\"type\":\"bar\"}],                        {\"template\":{\"data\":{\"histogram2dcontour\":[{\"type\":\"histogram2dcontour\",\"colorbar\":{\"outlinewidth\":0,\"ticks\":\"\"},\"colorscale\":[[0.0,\"#0d0887\"],[0.1111111111111111,\"#46039f\"],[0.2222222222222222,\"#7201a8\"],[0.3333333333333333,\"#9c179e\"],[0.4444444444444444,\"#bd3786\"],[0.5555555555555556,\"#d8576b\"],[0.6666666666666666,\"#ed7953\"],[0.7777777777777778,\"#fb9f3a\"],[0.8888888888888888,\"#fdca26\"],[1.0,\"#f0f921\"]]}],\"choropleth\":[{\"type\":\"choropleth\",\"colorbar\":{\"outlinewidth\":0,\"ticks\":\"\"}}],\"histogram2d\":[{\"type\":\"histogram2d\",\"colorbar\":{\"outlinewidth\":0,\"ticks\":\"\"},\"colorscale\":[[0.0,\"#0d0887\"],[0.1111111111111111,\"#46039f\"],[0.2222222222222222,\"#7201a8\"],[0.3333333333333333,\"#9c179e\"],[0.4444444444444444,\"#bd3786\"],[0.5555555555555556,\"#d8576b\"],[0.6666666666666666,\"#ed7953\"],[0.7777777777777778,\"#fb9f3a\"],[0.8888888888888888,\"#fdca26\"],[1.0,\"#f0f921\"]]}],\"heatmap\":[{\"type\":\"heatmap\",\"colorbar\":{\"outlinewidth\":0,\"ticks\":\"\"},\"colorscale\":[[0.0,\"#0d0887\"],[0.1111111111111111,\"#46039f\"],[0.2222222222222222,\"#7201a8\"],[0.3333333333333333,\"#9c179e\"],[0.4444444444444444,\"#bd3786\"],[0.5555555555555556,\"#d8576b\"],[0.6666666666666666,\"#ed7953\"],[0.7777777777777778,\"#fb9f3a\"],[0.8888888888888888,\"#fdca26\"],[1.0,\"#f0f921\"]]}],\"heatmapgl\":[{\"type\":\"heatmapgl\",\"colorbar\":{\"outlinewidth\":0,\"ticks\":\"\"},\"colorscale\":[[0.0,\"#0d0887\"],[0.1111111111111111,\"#46039f\"],[0.2222222222222222,\"#7201a8\"],[0.3333333333333333,\"#9c179e\"],[0.4444444444444444,\"#bd3786\"],[0.5555555555555556,\"#d8576b\"],[0.6666666666666666,\"#ed7953\"],[0.7777777777777778,\"#fb9f3a\"],[0.8888888888888888,\"#fdca26\"],[1.0,\"#f0f921\"]]}],\"contourcarpet\":[{\"type\":\"contourcarpet\",\"colorbar\":{\"outlinewidth\":0,\"ticks\":\"\"}}],\"contour\":[{\"type\":\"contour\",\"colorbar\":{\"outlinewidth\":0,\"ticks\":\"\"},\"colorscale\":[[0.0,\"#0d0887\"],[0.1111111111111111,\"#46039f\"],[0.2222222222222222,\"#7201a8\"],[0.3333333333333333,\"#9c179e\"],[0.4444444444444444,\"#bd3786\"],[0.5555555555555556,\"#d8576b\"],[0.6666666666666666,\"#ed7953\"],[0.7777777777777778,\"#fb9f3a\"],[0.8888888888888888,\"#fdca26\"],[1.0,\"#f0f921\"]]}],\"surface\":[{\"type\":\"surface\",\"colorbar\":{\"outlinewidth\":0,\"ticks\":\"\"},\"colorscale\":[[0.0,\"#0d0887\"],[0.1111111111111111,\"#46039f\"],[0.2222222222222222,\"#7201a8\"],[0.3333333333333333,\"#9c179e\"],[0.4444444444444444,\"#bd3786\"],[0.5555555555555556,\"#d8576b\"],[0.6666666666666666,\"#ed7953\"],[0.7777777777777778,\"#fb9f3a\"],[0.8888888888888888,\"#fdca26\"],[1.0,\"#f0f921\"]]}],\"mesh3d\":[{\"type\":\"mesh3d\",\"colorbar\":{\"outlinewidth\":0,\"ticks\":\"\"}}],\"scatter\":[{\"fillpattern\":{\"fillmode\":\"overlay\",\"size\":10,\"solidity\":0.2},\"type\":\"scatter\"}],\"parcoords\":[{\"type\":\"parcoords\",\"line\":{\"colorbar\":{\"outlinewidth\":0,\"ticks\":\"\"}}}],\"scatterpolargl\":[{\"type\":\"scatterpolargl\",\"marker\":{\"colorbar\":{\"outlinewidth\":0,\"ticks\":\"\"}}}],\"bar\":[{\"error_x\":{\"color\":\"#2a3f5f\"},\"error_y\":{\"color\":\"#2a3f5f\"},\"marker\":{\"line\":{\"color\":\"#E5ECF6\",\"width\":0.5},\"pattern\":{\"fillmode\":\"overlay\",\"size\":10,\"solidity\":0.2}},\"type\":\"bar\"}],\"scattergeo\":[{\"type\":\"scattergeo\",\"marker\":{\"colorbar\":{\"outlinewidth\":0,\"ticks\":\"\"}}}],\"scatterpolar\":[{\"type\":\"scatterpolar\",\"marker\":{\"colorbar\":{\"outlinewidth\":0,\"ticks\":\"\"}}}],\"histogram\":[{\"marker\":{\"pattern\":{\"fillmode\":\"overlay\",\"size\":10,\"solidity\":0.2}},\"type\":\"histogram\"}],\"scattergl\":[{\"type\":\"scattergl\",\"marker\":{\"colorbar\":{\"outlinewidth\":0,\"ticks\":\"\"}}}],\"scatter3d\":[{\"type\":\"scatter3d\",\"line\":{\"colorbar\":{\"outlinewidth\":0,\"ticks\":\"\"}},\"marker\":{\"colorbar\":{\"outlinewidth\":0,\"ticks\":\"\"}}}],\"scattermapbox\":[{\"type\":\"scattermapbox\",\"marker\":{\"colorbar\":{\"outlinewidth\":0,\"ticks\":\"\"}}}],\"scatterternary\":[{\"type\":\"scatterternary\",\"marker\":{\"colorbar\":{\"outlinewidth\":0,\"ticks\":\"\"}}}],\"scattercarpet\":[{\"type\":\"scattercarpet\",\"marker\":{\"colorbar\":{\"outlinewidth\":0,\"ticks\":\"\"}}}],\"carpet\":[{\"aaxis\":{\"endlinecolor\":\"#2a3f5f\",\"gridcolor\":\"white\",\"linecolor\":\"white\",\"minorgridcolor\":\"white\",\"startlinecolor\":\"#2a3f5f\"},\"baxis\":{\"endlinecolor\":\"#2a3f5f\",\"gridcolor\":\"white\",\"linecolor\":\"white\",\"minorgridcolor\":\"white\",\"startlinecolor\":\"#2a3f5f\"},\"type\":\"carpet\"}],\"table\":[{\"cells\":{\"fill\":{\"color\":\"#EBF0F8\"},\"line\":{\"color\":\"white\"}},\"header\":{\"fill\":{\"color\":\"#C8D4E3\"},\"line\":{\"color\":\"white\"}},\"type\":\"table\"}],\"barpolar\":[{\"marker\":{\"line\":{\"color\":\"#E5ECF6\",\"width\":0.5},\"pattern\":{\"fillmode\":\"overlay\",\"size\":10,\"solidity\":0.2}},\"type\":\"barpolar\"}],\"pie\":[{\"automargin\":true,\"type\":\"pie\"}]},\"layout\":{\"autotypenumbers\":\"strict\",\"colorway\":[\"#636efa\",\"#EF553B\",\"#00cc96\",\"#ab63fa\",\"#FFA15A\",\"#19d3f3\",\"#FF6692\",\"#B6E880\",\"#FF97FF\",\"#FECB52\"],\"font\":{\"color\":\"#2a3f5f\"},\"hovermode\":\"closest\",\"hoverlabel\":{\"align\":\"left\"},\"paper_bgcolor\":\"white\",\"plot_bgcolor\":\"#E5ECF6\",\"polar\":{\"bgcolor\":\"#E5ECF6\",\"angularaxis\":{\"gridcolor\":\"white\",\"linecolor\":\"white\",\"ticks\":\"\"},\"radialaxis\":{\"gridcolor\":\"white\",\"linecolor\":\"white\",\"ticks\":\"\"}},\"ternary\":{\"bgcolor\":\"#E5ECF6\",\"aaxis\":{\"gridcolor\":\"white\",\"linecolor\":\"white\",\"ticks\":\"\"},\"baxis\":{\"gridcolor\":\"white\",\"linecolor\":\"white\",\"ticks\":\"\"},\"caxis\":{\"gridcolor\":\"white\",\"linecolor\":\"white\",\"ticks\":\"\"}},\"coloraxis\":{\"colorbar\":{\"outlinewidth\":0,\"ticks\":\"\"}},\"colorscale\":{\"sequential\":[[0.0,\"#0d0887\"],[0.1111111111111111,\"#46039f\"],[0.2222222222222222,\"#7201a8\"],[0.3333333333333333,\"#9c179e\"],[0.4444444444444444,\"#bd3786\"],[0.5555555555555556,\"#d8576b\"],[0.6666666666666666,\"#ed7953\"],[0.7777777777777778,\"#fb9f3a\"],[0.8888888888888888,\"#fdca26\"],[1.0,\"#f0f921\"]],\"sequentialminus\":[[0.0,\"#0d0887\"],[0.1111111111111111,\"#46039f\"],[0.2222222222222222,\"#7201a8\"],[0.3333333333333333,\"#9c179e\"],[0.4444444444444444,\"#bd3786\"],[0.5555555555555556,\"#d8576b\"],[0.6666666666666666,\"#ed7953\"],[0.7777777777777778,\"#fb9f3a\"],[0.8888888888888888,\"#fdca26\"],[1.0,\"#f0f921\"]],\"diverging\":[[0,\"#8e0152\"],[0.1,\"#c51b7d\"],[0.2,\"#de77ae\"],[0.3,\"#f1b6da\"],[0.4,\"#fde0ef\"],[0.5,\"#f7f7f7\"],[0.6,\"#e6f5d0\"],[0.7,\"#b8e186\"],[0.8,\"#7fbc41\"],[0.9,\"#4d9221\"],[1,\"#276419\"]]},\"xaxis\":{\"gridcolor\":\"white\",\"linecolor\":\"white\",\"ticks\":\"\",\"title\":{\"standoff\":15},\"zerolinecolor\":\"white\",\"automargin\":true,\"zerolinewidth\":2},\"yaxis\":{\"gridcolor\":\"white\",\"linecolor\":\"white\",\"ticks\":\"\",\"title\":{\"standoff\":15},\"zerolinecolor\":\"white\",\"automargin\":true,\"zerolinewidth\":2},\"scene\":{\"xaxis\":{\"backgroundcolor\":\"#E5ECF6\",\"gridcolor\":\"white\",\"linecolor\":\"white\",\"showbackground\":true,\"ticks\":\"\",\"zerolinecolor\":\"white\",\"gridwidth\":2},\"yaxis\":{\"backgroundcolor\":\"#E5ECF6\",\"gridcolor\":\"white\",\"linecolor\":\"white\",\"showbackground\":true,\"ticks\":\"\",\"zerolinecolor\":\"white\",\"gridwidth\":2},\"zaxis\":{\"backgroundcolor\":\"#E5ECF6\",\"gridcolor\":\"white\",\"linecolor\":\"white\",\"showbackground\":true,\"ticks\":\"\",\"zerolinecolor\":\"white\",\"gridwidth\":2}},\"shapedefaults\":{\"line\":{\"color\":\"#2a3f5f\"}},\"annotationdefaults\":{\"arrowcolor\":\"#2a3f5f\",\"arrowhead\":0,\"arrowwidth\":1},\"geo\":{\"bgcolor\":\"white\",\"landcolor\":\"#E5ECF6\",\"subunitcolor\":\"white\",\"showland\":true,\"showlakes\":true,\"lakecolor\":\"white\"},\"title\":{\"x\":0.05},\"mapbox\":{\"style\":\"light\"}}},\"title\":{\"text\":\"Most Common Brand\"},\"xaxis\":{\"title\":{\"text\":\"Manufacturer\"}},\"yaxis\":{\"title\":{\"text\":\"Count\"}}},                        {\"responsive\": true}                    ).then(function(){\n",
              "                            \n",
              "var gd = document.getElementById('480a7d37-9cae-4db0-8225-3fbf547f5f31');\n",
              "var x = new MutationObserver(function (mutations, observer) {{\n",
              "        var display = window.getComputedStyle(gd).display;\n",
              "        if (!display || display === 'none') {{\n",
              "            console.log([gd, 'removed!']);\n",
              "            Plotly.purge(gd);\n",
              "            observer.disconnect();\n",
              "        }}\n",
              "}});\n",
              "\n",
              "// Listen for the removal of the full notebook cells\n",
              "var notebookContainer = gd.closest('#notebook-container');\n",
              "if (notebookContainer) {{\n",
              "    x.observe(notebookContainer, {childList: true});\n",
              "}}\n",
              "\n",
              "// Listen for the clearing of the current output cell\n",
              "var outputEl = gd.closest('.output');\n",
              "if (outputEl) {{\n",
              "    x.observe(outputEl, {childList: true});\n",
              "}}\n",
              "\n",
              "                        })                };                            </script>        </div>\n",
              "</body>\n",
              "</html>"
            ]
          },
          "metadata": {}
        }
      ],
      "source": [
        "data = total_data['Manufacturer']\n",
        "\n",
        "counts = data.value_counts()\n",
        "\n",
        "fig = go.Figure()\n",
        "\n",
        "fig.add_trace(go.Bar(x=counts.index, y=counts, name='Count Plot', marker_color='skyblue'))\n",
        "\n",
        "fig.update_layout(\n",
        "    title='Most Common Brand',\n",
        "    xaxis=dict(title='Manufacturer'),\n",
        "    yaxis=dict(title='Count'),\n",
        ")\n",
        "config = {'displayModeBar': False}\n",
        "\n",
        "# Generate the HTML file\n",
        "pio.write_html(fig, file='most_common_brand.html', config=config)\n",
        "\n",
        "fig.show()"
      ]
    },
    {
      "cell_type": "code",
      "source": [
        "os_mapping={\n",
        "    'Windows 10':'Windows',\n",
        "    'Windows 7':'Windows',\n",
        "    'Windows 10 S':'Windows',\n",
        "    'macOS':'Mac',\n",
        "    'Mac OS':'Mac',\n",
        "    'Mac OS X':'Mac',\n",
        "    'No OS':'Other',\n",
        "    'Linux':'Other',\n",
        "    'Chrome OS':'Other',\n",
        "    'Android ':'Other',\n",
        "}"
      ],
      "metadata": {
        "id": "dpPJYJCP3-y9"
      },
      "execution_count": null,
      "outputs": []
    },
    {
      "cell_type": "code",
      "source": [
        "total_data['Operating System'] = total_data['Operating System'].map(os_mapping)"
      ],
      "metadata": {
        "id": "4W17IZ8f47ac"
      },
      "execution_count": null,
      "outputs": []
    },
    {
      "cell_type": "code",
      "source": [
        "total_data['Operating System'].value_counts()"
      ],
      "metadata": {
        "colab": {
          "base_uri": "https://localhost:8080/"
        },
        "id": "dp8xpetJ4FS0",
        "outputId": "2292f2c2-2c70-485e-a4a7-5ed65e653273"
      },
      "execution_count": null,
      "outputs": [
        {
          "output_type": "execute_result",
          "data": {
            "text/plain": [
              "Windows    782\n",
              "Other      233\n",
              "Mac         35\n",
              "Name: Operating System, dtype: int64"
            ]
          },
          "metadata": {},
          "execution_count": 40
        }
      ]
    },
    {
      "cell_type": "code",
      "execution_count": null,
      "metadata": {
        "colab": {
          "base_uri": "https://localhost:8080/"
        },
        "id": "DYxfGvh1Q-bl",
        "outputId": "33aec66f-56f4-41ff-e814-12a202c0c801"
      },
      "outputs": [
        {
          "output_type": "display_data",
          "data": {
            "text/html": [
              "<html>\n",
              "<head><meta charset=\"utf-8\" /></head>\n",
              "<body>\n",
              "    <div>            <script src=\"https://cdnjs.cloudflare.com/ajax/libs/mathjax/2.7.5/MathJax.js?config=TeX-AMS-MML_SVG\"></script><script type=\"text/javascript\">if (window.MathJax && window.MathJax.Hub && window.MathJax.Hub.Config) {window.MathJax.Hub.Config({SVG: {font: \"STIX-Web\"}});}</script>                <script type=\"text/javascript\">window.PlotlyConfig = {MathJaxConfig: 'local'};</script>\n",
              "        <script charset=\"utf-8\" src=\"https://cdn.plot.ly/plotly-2.24.1.min.js\"></script>                <div id=\"661bd502-5269-4e39-b9f0-03b017017369\" class=\"plotly-graph-div\" style=\"height:525px; width:100%;\"></div>            <script type=\"text/javascript\">                                    window.PLOTLYENV=window.PLOTLYENV || {};                                    if (document.getElementById(\"661bd502-5269-4e39-b9f0-03b017017369\")) {                    Plotly.newPlot(                        \"661bd502-5269-4e39-b9f0-03b017017369\",                        [{\"marker\":{\"color\":\"skyblue\"},\"name\":\"Count Plot\",\"x\":[\"Windows\",\"Other\",\"Mac\"],\"y\":[782,233,35],\"type\":\"bar\"}],                        {\"template\":{\"data\":{\"histogram2dcontour\":[{\"type\":\"histogram2dcontour\",\"colorbar\":{\"outlinewidth\":0,\"ticks\":\"\"},\"colorscale\":[[0.0,\"#0d0887\"],[0.1111111111111111,\"#46039f\"],[0.2222222222222222,\"#7201a8\"],[0.3333333333333333,\"#9c179e\"],[0.4444444444444444,\"#bd3786\"],[0.5555555555555556,\"#d8576b\"],[0.6666666666666666,\"#ed7953\"],[0.7777777777777778,\"#fb9f3a\"],[0.8888888888888888,\"#fdca26\"],[1.0,\"#f0f921\"]]}],\"choropleth\":[{\"type\":\"choropleth\",\"colorbar\":{\"outlinewidth\":0,\"ticks\":\"\"}}],\"histogram2d\":[{\"type\":\"histogram2d\",\"colorbar\":{\"outlinewidth\":0,\"ticks\":\"\"},\"colorscale\":[[0.0,\"#0d0887\"],[0.1111111111111111,\"#46039f\"],[0.2222222222222222,\"#7201a8\"],[0.3333333333333333,\"#9c179e\"],[0.4444444444444444,\"#bd3786\"],[0.5555555555555556,\"#d8576b\"],[0.6666666666666666,\"#ed7953\"],[0.7777777777777778,\"#fb9f3a\"],[0.8888888888888888,\"#fdca26\"],[1.0,\"#f0f921\"]]}],\"heatmap\":[{\"type\":\"heatmap\",\"colorbar\":{\"outlinewidth\":0,\"ticks\":\"\"},\"colorscale\":[[0.0,\"#0d0887\"],[0.1111111111111111,\"#46039f\"],[0.2222222222222222,\"#7201a8\"],[0.3333333333333333,\"#9c179e\"],[0.4444444444444444,\"#bd3786\"],[0.5555555555555556,\"#d8576b\"],[0.6666666666666666,\"#ed7953\"],[0.7777777777777778,\"#fb9f3a\"],[0.8888888888888888,\"#fdca26\"],[1.0,\"#f0f921\"]]}],\"heatmapgl\":[{\"type\":\"heatmapgl\",\"colorbar\":{\"outlinewidth\":0,\"ticks\":\"\"},\"colorscale\":[[0.0,\"#0d0887\"],[0.1111111111111111,\"#46039f\"],[0.2222222222222222,\"#7201a8\"],[0.3333333333333333,\"#9c179e\"],[0.4444444444444444,\"#bd3786\"],[0.5555555555555556,\"#d8576b\"],[0.6666666666666666,\"#ed7953\"],[0.7777777777777778,\"#fb9f3a\"],[0.8888888888888888,\"#fdca26\"],[1.0,\"#f0f921\"]]}],\"contourcarpet\":[{\"type\":\"contourcarpet\",\"colorbar\":{\"outlinewidth\":0,\"ticks\":\"\"}}],\"contour\":[{\"type\":\"contour\",\"colorbar\":{\"outlinewidth\":0,\"ticks\":\"\"},\"colorscale\":[[0.0,\"#0d0887\"],[0.1111111111111111,\"#46039f\"],[0.2222222222222222,\"#7201a8\"],[0.3333333333333333,\"#9c179e\"],[0.4444444444444444,\"#bd3786\"],[0.5555555555555556,\"#d8576b\"],[0.6666666666666666,\"#ed7953\"],[0.7777777777777778,\"#fb9f3a\"],[0.8888888888888888,\"#fdca26\"],[1.0,\"#f0f921\"]]}],\"surface\":[{\"type\":\"surface\",\"colorbar\":{\"outlinewidth\":0,\"ticks\":\"\"},\"colorscale\":[[0.0,\"#0d0887\"],[0.1111111111111111,\"#46039f\"],[0.2222222222222222,\"#7201a8\"],[0.3333333333333333,\"#9c179e\"],[0.4444444444444444,\"#bd3786\"],[0.5555555555555556,\"#d8576b\"],[0.6666666666666666,\"#ed7953\"],[0.7777777777777778,\"#fb9f3a\"],[0.8888888888888888,\"#fdca26\"],[1.0,\"#f0f921\"]]}],\"mesh3d\":[{\"type\":\"mesh3d\",\"colorbar\":{\"outlinewidth\":0,\"ticks\":\"\"}}],\"scatter\":[{\"fillpattern\":{\"fillmode\":\"overlay\",\"size\":10,\"solidity\":0.2},\"type\":\"scatter\"}],\"parcoords\":[{\"type\":\"parcoords\",\"line\":{\"colorbar\":{\"outlinewidth\":0,\"ticks\":\"\"}}}],\"scatterpolargl\":[{\"type\":\"scatterpolargl\",\"marker\":{\"colorbar\":{\"outlinewidth\":0,\"ticks\":\"\"}}}],\"bar\":[{\"error_x\":{\"color\":\"#2a3f5f\"},\"error_y\":{\"color\":\"#2a3f5f\"},\"marker\":{\"line\":{\"color\":\"#E5ECF6\",\"width\":0.5},\"pattern\":{\"fillmode\":\"overlay\",\"size\":10,\"solidity\":0.2}},\"type\":\"bar\"}],\"scattergeo\":[{\"type\":\"scattergeo\",\"marker\":{\"colorbar\":{\"outlinewidth\":0,\"ticks\":\"\"}}}],\"scatterpolar\":[{\"type\":\"scatterpolar\",\"marker\":{\"colorbar\":{\"outlinewidth\":0,\"ticks\":\"\"}}}],\"histogram\":[{\"marker\":{\"pattern\":{\"fillmode\":\"overlay\",\"size\":10,\"solidity\":0.2}},\"type\":\"histogram\"}],\"scattergl\":[{\"type\":\"scattergl\",\"marker\":{\"colorbar\":{\"outlinewidth\":0,\"ticks\":\"\"}}}],\"scatter3d\":[{\"type\":\"scatter3d\",\"line\":{\"colorbar\":{\"outlinewidth\":0,\"ticks\":\"\"}},\"marker\":{\"colorbar\":{\"outlinewidth\":0,\"ticks\":\"\"}}}],\"scattermapbox\":[{\"type\":\"scattermapbox\",\"marker\":{\"colorbar\":{\"outlinewidth\":0,\"ticks\":\"\"}}}],\"scatterternary\":[{\"type\":\"scatterternary\",\"marker\":{\"colorbar\":{\"outlinewidth\":0,\"ticks\":\"\"}}}],\"scattercarpet\":[{\"type\":\"scattercarpet\",\"marker\":{\"colorbar\":{\"outlinewidth\":0,\"ticks\":\"\"}}}],\"carpet\":[{\"aaxis\":{\"endlinecolor\":\"#2a3f5f\",\"gridcolor\":\"white\",\"linecolor\":\"white\",\"minorgridcolor\":\"white\",\"startlinecolor\":\"#2a3f5f\"},\"baxis\":{\"endlinecolor\":\"#2a3f5f\",\"gridcolor\":\"white\",\"linecolor\":\"white\",\"minorgridcolor\":\"white\",\"startlinecolor\":\"#2a3f5f\"},\"type\":\"carpet\"}],\"table\":[{\"cells\":{\"fill\":{\"color\":\"#EBF0F8\"},\"line\":{\"color\":\"white\"}},\"header\":{\"fill\":{\"color\":\"#C8D4E3\"},\"line\":{\"color\":\"white\"}},\"type\":\"table\"}],\"barpolar\":[{\"marker\":{\"line\":{\"color\":\"#E5ECF6\",\"width\":0.5},\"pattern\":{\"fillmode\":\"overlay\",\"size\":10,\"solidity\":0.2}},\"type\":\"barpolar\"}],\"pie\":[{\"automargin\":true,\"type\":\"pie\"}]},\"layout\":{\"autotypenumbers\":\"strict\",\"colorway\":[\"#636efa\",\"#EF553B\",\"#00cc96\",\"#ab63fa\",\"#FFA15A\",\"#19d3f3\",\"#FF6692\",\"#B6E880\",\"#FF97FF\",\"#FECB52\"],\"font\":{\"color\":\"#2a3f5f\"},\"hovermode\":\"closest\",\"hoverlabel\":{\"align\":\"left\"},\"paper_bgcolor\":\"white\",\"plot_bgcolor\":\"#E5ECF6\",\"polar\":{\"bgcolor\":\"#E5ECF6\",\"angularaxis\":{\"gridcolor\":\"white\",\"linecolor\":\"white\",\"ticks\":\"\"},\"radialaxis\":{\"gridcolor\":\"white\",\"linecolor\":\"white\",\"ticks\":\"\"}},\"ternary\":{\"bgcolor\":\"#E5ECF6\",\"aaxis\":{\"gridcolor\":\"white\",\"linecolor\":\"white\",\"ticks\":\"\"},\"baxis\":{\"gridcolor\":\"white\",\"linecolor\":\"white\",\"ticks\":\"\"},\"caxis\":{\"gridcolor\":\"white\",\"linecolor\":\"white\",\"ticks\":\"\"}},\"coloraxis\":{\"colorbar\":{\"outlinewidth\":0,\"ticks\":\"\"}},\"colorscale\":{\"sequential\":[[0.0,\"#0d0887\"],[0.1111111111111111,\"#46039f\"],[0.2222222222222222,\"#7201a8\"],[0.3333333333333333,\"#9c179e\"],[0.4444444444444444,\"#bd3786\"],[0.5555555555555556,\"#d8576b\"],[0.6666666666666666,\"#ed7953\"],[0.7777777777777778,\"#fb9f3a\"],[0.8888888888888888,\"#fdca26\"],[1.0,\"#f0f921\"]],\"sequentialminus\":[[0.0,\"#0d0887\"],[0.1111111111111111,\"#46039f\"],[0.2222222222222222,\"#7201a8\"],[0.3333333333333333,\"#9c179e\"],[0.4444444444444444,\"#bd3786\"],[0.5555555555555556,\"#d8576b\"],[0.6666666666666666,\"#ed7953\"],[0.7777777777777778,\"#fb9f3a\"],[0.8888888888888888,\"#fdca26\"],[1.0,\"#f0f921\"]],\"diverging\":[[0,\"#8e0152\"],[0.1,\"#c51b7d\"],[0.2,\"#de77ae\"],[0.3,\"#f1b6da\"],[0.4,\"#fde0ef\"],[0.5,\"#f7f7f7\"],[0.6,\"#e6f5d0\"],[0.7,\"#b8e186\"],[0.8,\"#7fbc41\"],[0.9,\"#4d9221\"],[1,\"#276419\"]]},\"xaxis\":{\"gridcolor\":\"white\",\"linecolor\":\"white\",\"ticks\":\"\",\"title\":{\"standoff\":15},\"zerolinecolor\":\"white\",\"automargin\":true,\"zerolinewidth\":2},\"yaxis\":{\"gridcolor\":\"white\",\"linecolor\":\"white\",\"ticks\":\"\",\"title\":{\"standoff\":15},\"zerolinecolor\":\"white\",\"automargin\":true,\"zerolinewidth\":2},\"scene\":{\"xaxis\":{\"backgroundcolor\":\"#E5ECF6\",\"gridcolor\":\"white\",\"linecolor\":\"white\",\"showbackground\":true,\"ticks\":\"\",\"zerolinecolor\":\"white\",\"gridwidth\":2},\"yaxis\":{\"backgroundcolor\":\"#E5ECF6\",\"gridcolor\":\"white\",\"linecolor\":\"white\",\"showbackground\":true,\"ticks\":\"\",\"zerolinecolor\":\"white\",\"gridwidth\":2},\"zaxis\":{\"backgroundcolor\":\"#E5ECF6\",\"gridcolor\":\"white\",\"linecolor\":\"white\",\"showbackground\":true,\"ticks\":\"\",\"zerolinecolor\":\"white\",\"gridwidth\":2}},\"shapedefaults\":{\"line\":{\"color\":\"#2a3f5f\"}},\"annotationdefaults\":{\"arrowcolor\":\"#2a3f5f\",\"arrowhead\":0,\"arrowwidth\":1},\"geo\":{\"bgcolor\":\"white\",\"landcolor\":\"#E5ECF6\",\"subunitcolor\":\"white\",\"showland\":true,\"showlakes\":true,\"lakecolor\":\"white\"},\"title\":{\"x\":0.05},\"mapbox\":{\"style\":\"light\"}}},\"title\":{\"text\":\"Most Common OS\"},\"xaxis\":{\"title\":{\"text\":\"Operating System\"}},\"yaxis\":{\"title\":{\"text\":\"Count\"}}},                        {\"responsive\": true}                    ).then(function(){\n",
              "                            \n",
              "var gd = document.getElementById('661bd502-5269-4e39-b9f0-03b017017369');\n",
              "var x = new MutationObserver(function (mutations, observer) {{\n",
              "        var display = window.getComputedStyle(gd).display;\n",
              "        if (!display || display === 'none') {{\n",
              "            console.log([gd, 'removed!']);\n",
              "            Plotly.purge(gd);\n",
              "            observer.disconnect();\n",
              "        }}\n",
              "}});\n",
              "\n",
              "// Listen for the removal of the full notebook cells\n",
              "var notebookContainer = gd.closest('#notebook-container');\n",
              "if (notebookContainer) {{\n",
              "    x.observe(notebookContainer, {childList: true});\n",
              "}}\n",
              "\n",
              "// Listen for the clearing of the current output cell\n",
              "var outputEl = gd.closest('.output');\n",
              "if (outputEl) {{\n",
              "    x.observe(outputEl, {childList: true});\n",
              "}}\n",
              "\n",
              "                        })                };                            </script>        </div>\n",
              "</body>\n",
              "</html>"
            ]
          },
          "metadata": {}
        }
      ],
      "source": [
        "data = total_data['Operating System']\n",
        "\n",
        "counts = data.value_counts()\n",
        "\n",
        "fig = go.Figure()\n",
        "\n",
        "fig.add_trace(go.Bar(x=counts.index, y=counts, name='Count Plot', marker_color='skyblue'))\n",
        "\n",
        "fig.update_layout(\n",
        "    title='Most Common OS',\n",
        "    xaxis=dict(title='Operating System'),\n",
        "    yaxis=dict(title='Count'),\n",
        ")\n",
        "config = {'displayModeBar': False}\n",
        "\n",
        "# Generate the HTML file\n",
        "pio.write_html(fig, file='most_common_os.html', config=config)\n",
        "\n",
        "fig.show()"
      ]
    },
    {
      "cell_type": "markdown",
      "metadata": {
        "id": "EIk8XAleR7Fw"
      },
      "source": [
        "We Should fix this , we should merge all the Mac in one Category , Same thing to Windows"
      ]
    },
    {
      "cell_type": "code",
      "execution_count": null,
      "metadata": {
        "colab": {
          "base_uri": "https://localhost:8080/"
        },
        "id": "HPUFmEk4RffU",
        "outputId": "1863429a-6290-4f1f-cc18-e96bbf01d716"
      },
      "outputs": [
        {
          "output_type": "display_data",
          "data": {
            "text/html": [
              "<html>\n",
              "<head><meta charset=\"utf-8\" /></head>\n",
              "<body>\n",
              "    <div>            <script src=\"https://cdnjs.cloudflare.com/ajax/libs/mathjax/2.7.5/MathJax.js?config=TeX-AMS-MML_SVG\"></script><script type=\"text/javascript\">if (window.MathJax && window.MathJax.Hub && window.MathJax.Hub.Config) {window.MathJax.Hub.Config({SVG: {font: \"STIX-Web\"}});}</script>                <script type=\"text/javascript\">window.PlotlyConfig = {MathJaxConfig: 'local'};</script>\n",
              "        <script charset=\"utf-8\" src=\"https://cdn.plot.ly/plotly-2.24.1.min.js\"></script>                <div id=\"e18dee20-0b4c-4a13-a10d-8576e68fa6d4\" class=\"plotly-graph-div\" style=\"height:525px; width:100%;\"></div>            <script type=\"text/javascript\">                                    window.PLOTLYENV=window.PLOTLYENV || {};                                    if (document.getElementById(\"e18dee20-0b4c-4a13-a10d-8576e68fa6d4\")) {                    Plotly.newPlot(                        \"e18dee20-0b4c-4a13-a10d-8576e68fa6d4\",                        [{\"marker\":{\"color\":\"skyblue\"},\"name\":\"Count Plot\",\"x\":[\"Notebook\",\"Gaming\",\"Ultrabook\",\"2 in 1 Convertible\",\"Workstation\",\"Netbook\"],\"y\":[1046,304,295,166,42,36],\"type\":\"bar\"}],                        {\"template\":{\"data\":{\"histogram2dcontour\":[{\"type\":\"histogram2dcontour\",\"colorbar\":{\"outlinewidth\":0,\"ticks\":\"\"},\"colorscale\":[[0.0,\"#0d0887\"],[0.1111111111111111,\"#46039f\"],[0.2222222222222222,\"#7201a8\"],[0.3333333333333333,\"#9c179e\"],[0.4444444444444444,\"#bd3786\"],[0.5555555555555556,\"#d8576b\"],[0.6666666666666666,\"#ed7953\"],[0.7777777777777778,\"#fb9f3a\"],[0.8888888888888888,\"#fdca26\"],[1.0,\"#f0f921\"]]}],\"choropleth\":[{\"type\":\"choropleth\",\"colorbar\":{\"outlinewidth\":0,\"ticks\":\"\"}}],\"histogram2d\":[{\"type\":\"histogram2d\",\"colorbar\":{\"outlinewidth\":0,\"ticks\":\"\"},\"colorscale\":[[0.0,\"#0d0887\"],[0.1111111111111111,\"#46039f\"],[0.2222222222222222,\"#7201a8\"],[0.3333333333333333,\"#9c179e\"],[0.4444444444444444,\"#bd3786\"],[0.5555555555555556,\"#d8576b\"],[0.6666666666666666,\"#ed7953\"],[0.7777777777777778,\"#fb9f3a\"],[0.8888888888888888,\"#fdca26\"],[1.0,\"#f0f921\"]]}],\"heatmap\":[{\"type\":\"heatmap\",\"colorbar\":{\"outlinewidth\":0,\"ticks\":\"\"},\"colorscale\":[[0.0,\"#0d0887\"],[0.1111111111111111,\"#46039f\"],[0.2222222222222222,\"#7201a8\"],[0.3333333333333333,\"#9c179e\"],[0.4444444444444444,\"#bd3786\"],[0.5555555555555556,\"#d8576b\"],[0.6666666666666666,\"#ed7953\"],[0.7777777777777778,\"#fb9f3a\"],[0.8888888888888888,\"#fdca26\"],[1.0,\"#f0f921\"]]}],\"heatmapgl\":[{\"type\":\"heatmapgl\",\"colorbar\":{\"outlinewidth\":0,\"ticks\":\"\"},\"colorscale\":[[0.0,\"#0d0887\"],[0.1111111111111111,\"#46039f\"],[0.2222222222222222,\"#7201a8\"],[0.3333333333333333,\"#9c179e\"],[0.4444444444444444,\"#bd3786\"],[0.5555555555555556,\"#d8576b\"],[0.6666666666666666,\"#ed7953\"],[0.7777777777777778,\"#fb9f3a\"],[0.8888888888888888,\"#fdca26\"],[1.0,\"#f0f921\"]]}],\"contourcarpet\":[{\"type\":\"contourcarpet\",\"colorbar\":{\"outlinewidth\":0,\"ticks\":\"\"}}],\"contour\":[{\"type\":\"contour\",\"colorbar\":{\"outlinewidth\":0,\"ticks\":\"\"},\"colorscale\":[[0.0,\"#0d0887\"],[0.1111111111111111,\"#46039f\"],[0.2222222222222222,\"#7201a8\"],[0.3333333333333333,\"#9c179e\"],[0.4444444444444444,\"#bd3786\"],[0.5555555555555556,\"#d8576b\"],[0.6666666666666666,\"#ed7953\"],[0.7777777777777778,\"#fb9f3a\"],[0.8888888888888888,\"#fdca26\"],[1.0,\"#f0f921\"]]}],\"surface\":[{\"type\":\"surface\",\"colorbar\":{\"outlinewidth\":0,\"ticks\":\"\"},\"colorscale\":[[0.0,\"#0d0887\"],[0.1111111111111111,\"#46039f\"],[0.2222222222222222,\"#7201a8\"],[0.3333333333333333,\"#9c179e\"],[0.4444444444444444,\"#bd3786\"],[0.5555555555555556,\"#d8576b\"],[0.6666666666666666,\"#ed7953\"],[0.7777777777777778,\"#fb9f3a\"],[0.8888888888888888,\"#fdca26\"],[1.0,\"#f0f921\"]]}],\"mesh3d\":[{\"type\":\"mesh3d\",\"colorbar\":{\"outlinewidth\":0,\"ticks\":\"\"}}],\"scatter\":[{\"fillpattern\":{\"fillmode\":\"overlay\",\"size\":10,\"solidity\":0.2},\"type\":\"scatter\"}],\"parcoords\":[{\"type\":\"parcoords\",\"line\":{\"colorbar\":{\"outlinewidth\":0,\"ticks\":\"\"}}}],\"scatterpolargl\":[{\"type\":\"scatterpolargl\",\"marker\":{\"colorbar\":{\"outlinewidth\":0,\"ticks\":\"\"}}}],\"bar\":[{\"error_x\":{\"color\":\"#2a3f5f\"},\"error_y\":{\"color\":\"#2a3f5f\"},\"marker\":{\"line\":{\"color\":\"#E5ECF6\",\"width\":0.5},\"pattern\":{\"fillmode\":\"overlay\",\"size\":10,\"solidity\":0.2}},\"type\":\"bar\"}],\"scattergeo\":[{\"type\":\"scattergeo\",\"marker\":{\"colorbar\":{\"outlinewidth\":0,\"ticks\":\"\"}}}],\"scatterpolar\":[{\"type\":\"scatterpolar\",\"marker\":{\"colorbar\":{\"outlinewidth\":0,\"ticks\":\"\"}}}],\"histogram\":[{\"marker\":{\"pattern\":{\"fillmode\":\"overlay\",\"size\":10,\"solidity\":0.2}},\"type\":\"histogram\"}],\"scattergl\":[{\"type\":\"scattergl\",\"marker\":{\"colorbar\":{\"outlinewidth\":0,\"ticks\":\"\"}}}],\"scatter3d\":[{\"type\":\"scatter3d\",\"line\":{\"colorbar\":{\"outlinewidth\":0,\"ticks\":\"\"}},\"marker\":{\"colorbar\":{\"outlinewidth\":0,\"ticks\":\"\"}}}],\"scattermapbox\":[{\"type\":\"scattermapbox\",\"marker\":{\"colorbar\":{\"outlinewidth\":0,\"ticks\":\"\"}}}],\"scatterternary\":[{\"type\":\"scatterternary\",\"marker\":{\"colorbar\":{\"outlinewidth\":0,\"ticks\":\"\"}}}],\"scattercarpet\":[{\"type\":\"scattercarpet\",\"marker\":{\"colorbar\":{\"outlinewidth\":0,\"ticks\":\"\"}}}],\"carpet\":[{\"aaxis\":{\"endlinecolor\":\"#2a3f5f\",\"gridcolor\":\"white\",\"linecolor\":\"white\",\"minorgridcolor\":\"white\",\"startlinecolor\":\"#2a3f5f\"},\"baxis\":{\"endlinecolor\":\"#2a3f5f\",\"gridcolor\":\"white\",\"linecolor\":\"white\",\"minorgridcolor\":\"white\",\"startlinecolor\":\"#2a3f5f\"},\"type\":\"carpet\"}],\"table\":[{\"cells\":{\"fill\":{\"color\":\"#EBF0F8\"},\"line\":{\"color\":\"white\"}},\"header\":{\"fill\":{\"color\":\"#C8D4E3\"},\"line\":{\"color\":\"white\"}},\"type\":\"table\"}],\"barpolar\":[{\"marker\":{\"line\":{\"color\":\"#E5ECF6\",\"width\":0.5},\"pattern\":{\"fillmode\":\"overlay\",\"size\":10,\"solidity\":0.2}},\"type\":\"barpolar\"}],\"pie\":[{\"automargin\":true,\"type\":\"pie\"}]},\"layout\":{\"autotypenumbers\":\"strict\",\"colorway\":[\"#636efa\",\"#EF553B\",\"#00cc96\",\"#ab63fa\",\"#FFA15A\",\"#19d3f3\",\"#FF6692\",\"#B6E880\",\"#FF97FF\",\"#FECB52\"],\"font\":{\"color\":\"#2a3f5f\"},\"hovermode\":\"closest\",\"hoverlabel\":{\"align\":\"left\"},\"paper_bgcolor\":\"white\",\"plot_bgcolor\":\"#E5ECF6\",\"polar\":{\"bgcolor\":\"#E5ECF6\",\"angularaxis\":{\"gridcolor\":\"white\",\"linecolor\":\"white\",\"ticks\":\"\"},\"radialaxis\":{\"gridcolor\":\"white\",\"linecolor\":\"white\",\"ticks\":\"\"}},\"ternary\":{\"bgcolor\":\"#E5ECF6\",\"aaxis\":{\"gridcolor\":\"white\",\"linecolor\":\"white\",\"ticks\":\"\"},\"baxis\":{\"gridcolor\":\"white\",\"linecolor\":\"white\",\"ticks\":\"\"},\"caxis\":{\"gridcolor\":\"white\",\"linecolor\":\"white\",\"ticks\":\"\"}},\"coloraxis\":{\"colorbar\":{\"outlinewidth\":0,\"ticks\":\"\"}},\"colorscale\":{\"sequential\":[[0.0,\"#0d0887\"],[0.1111111111111111,\"#46039f\"],[0.2222222222222222,\"#7201a8\"],[0.3333333333333333,\"#9c179e\"],[0.4444444444444444,\"#bd3786\"],[0.5555555555555556,\"#d8576b\"],[0.6666666666666666,\"#ed7953\"],[0.7777777777777778,\"#fb9f3a\"],[0.8888888888888888,\"#fdca26\"],[1.0,\"#f0f921\"]],\"sequentialminus\":[[0.0,\"#0d0887\"],[0.1111111111111111,\"#46039f\"],[0.2222222222222222,\"#7201a8\"],[0.3333333333333333,\"#9c179e\"],[0.4444444444444444,\"#bd3786\"],[0.5555555555555556,\"#d8576b\"],[0.6666666666666666,\"#ed7953\"],[0.7777777777777778,\"#fb9f3a\"],[0.8888888888888888,\"#fdca26\"],[1.0,\"#f0f921\"]],\"diverging\":[[0,\"#8e0152\"],[0.1,\"#c51b7d\"],[0.2,\"#de77ae\"],[0.3,\"#f1b6da\"],[0.4,\"#fde0ef\"],[0.5,\"#f7f7f7\"],[0.6,\"#e6f5d0\"],[0.7,\"#b8e186\"],[0.8,\"#7fbc41\"],[0.9,\"#4d9221\"],[1,\"#276419\"]]},\"xaxis\":{\"gridcolor\":\"white\",\"linecolor\":\"white\",\"ticks\":\"\",\"title\":{\"standoff\":15},\"zerolinecolor\":\"white\",\"automargin\":true,\"zerolinewidth\":2},\"yaxis\":{\"gridcolor\":\"white\",\"linecolor\":\"white\",\"ticks\":\"\",\"title\":{\"standoff\":15},\"zerolinecolor\":\"white\",\"automargin\":true,\"zerolinewidth\":2},\"scene\":{\"xaxis\":{\"backgroundcolor\":\"#E5ECF6\",\"gridcolor\":\"white\",\"linecolor\":\"white\",\"showbackground\":true,\"ticks\":\"\",\"zerolinecolor\":\"white\",\"gridwidth\":2},\"yaxis\":{\"backgroundcolor\":\"#E5ECF6\",\"gridcolor\":\"white\",\"linecolor\":\"white\",\"showbackground\":true,\"ticks\":\"\",\"zerolinecolor\":\"white\",\"gridwidth\":2},\"zaxis\":{\"backgroundcolor\":\"#E5ECF6\",\"gridcolor\":\"white\",\"linecolor\":\"white\",\"showbackground\":true,\"ticks\":\"\",\"zerolinecolor\":\"white\",\"gridwidth\":2}},\"shapedefaults\":{\"line\":{\"color\":\"#2a3f5f\"}},\"annotationdefaults\":{\"arrowcolor\":\"#2a3f5f\",\"arrowhead\":0,\"arrowwidth\":1},\"geo\":{\"bgcolor\":\"white\",\"landcolor\":\"#E5ECF6\",\"subunitcolor\":\"white\",\"showland\":true,\"showlakes\":true,\"lakecolor\":\"white\"},\"title\":{\"x\":0.05},\"mapbox\":{\"style\":\"light\"}}},\"title\":{\"text\":\"Most Common Laptop Type\"},\"xaxis\":{\"title\":{\"text\":\"Category\"}},\"yaxis\":{\"title\":{\"text\":\"Count\"}}},                        {\"responsive\": true}                    ).then(function(){\n",
              "                            \n",
              "var gd = document.getElementById('e18dee20-0b4c-4a13-a10d-8576e68fa6d4');\n",
              "var x = new MutationObserver(function (mutations, observer) {{\n",
              "        var display = window.getComputedStyle(gd).display;\n",
              "        if (!display || display === 'none') {{\n",
              "            console.log([gd, 'removed!']);\n",
              "            Plotly.purge(gd);\n",
              "            observer.disconnect();\n",
              "        }}\n",
              "}});\n",
              "\n",
              "// Listen for the removal of the full notebook cells\n",
              "var notebookContainer = gd.closest('#notebook-container');\n",
              "if (notebookContainer) {{\n",
              "    x.observe(notebookContainer, {childList: true});\n",
              "}}\n",
              "\n",
              "// Listen for the clearing of the current output cell\n",
              "var outputEl = gd.closest('.output');\n",
              "if (outputEl) {{\n",
              "    x.observe(outputEl, {childList: true});\n",
              "}}\n",
              "\n",
              "                        })                };                            </script>        </div>\n",
              "</body>\n",
              "</html>"
            ]
          },
          "metadata": {}
        }
      ],
      "source": [
        "data = total_data['Category']\n",
        "\n",
        "counts = data.value_counts()\n",
        "\n",
        "fig = go.Figure()\n",
        "\n",
        "fig.add_trace(go.Bar(x=counts.index, y=counts, name='Count Plot', marker_color='skyblue'))\n",
        "\n",
        "fig.update_layout(\n",
        "    title='Most Common Laptop Type',\n",
        "    xaxis=dict(title='Category'),\n",
        "    yaxis=dict(title='Count'),\n",
        ")\n",
        "config = {'displayModeBar': False}\n",
        "\n",
        "# Generate the HTML file\n",
        "pio.write_html(fig, file='most_common_type.html', config=config)\n",
        "\n",
        "fig.show()"
      ]
    },
    {
      "cell_type": "code",
      "execution_count": null,
      "metadata": {
        "colab": {
          "base_uri": "https://localhost:8080/"
        },
        "id": "oyxfO_RlSZXX",
        "outputId": "33e0d40c-15be-4ade-ef2b-fbc2e5bf0126"
      },
      "outputs": [
        {
          "output_type": "display_data",
          "data": {
            "text/html": [
              "<html>\n",
              "<head><meta charset=\"utf-8\" /></head>\n",
              "<body>\n",
              "    <div>            <script src=\"https://cdnjs.cloudflare.com/ajax/libs/mathjax/2.7.5/MathJax.js?config=TeX-AMS-MML_SVG\"></script><script type=\"text/javascript\">if (window.MathJax && window.MathJax.Hub && window.MathJax.Hub.Config) {window.MathJax.Hub.Config({SVG: {font: \"STIX-Web\"}});}</script>                <script type=\"text/javascript\">window.PlotlyConfig = {MathJaxConfig: 'local'};</script>\n",
              "        <script charset=\"utf-8\" src=\"https://cdn.plot.ly/plotly-2.24.1.min.js\"></script>                <div id=\"b4092dfe-2096-40d5-b053-e79354584732\" class=\"plotly-graph-div\" style=\"height:525px; width:100%;\"></div>            <script type=\"text/javascript\">                                    window.PLOTLYENV=window.PLOTLYENV || {};                                    if (document.getElementById(\"b4092dfe-2096-40d5-b053-e79354584732\")) {                    Plotly.newPlot(                        \"b4092dfe-2096-40d5-b053-e79354584732\",                        [{\"marker\":{\"color\":\"skyblue\"},\"name\":\"Count Plot\",\"x\":[\"8GB\",\"4GB\",\"16GB\",\"6GB\",\"12GB\",\"32GB\",\"2GB\",\"24GB\",\"64GB\"],\"y\":[912,528,302,51,36,29,25,5,1],\"type\":\"bar\"}],                        {\"template\":{\"data\":{\"histogram2dcontour\":[{\"type\":\"histogram2dcontour\",\"colorbar\":{\"outlinewidth\":0,\"ticks\":\"\"},\"colorscale\":[[0.0,\"#0d0887\"],[0.1111111111111111,\"#46039f\"],[0.2222222222222222,\"#7201a8\"],[0.3333333333333333,\"#9c179e\"],[0.4444444444444444,\"#bd3786\"],[0.5555555555555556,\"#d8576b\"],[0.6666666666666666,\"#ed7953\"],[0.7777777777777778,\"#fb9f3a\"],[0.8888888888888888,\"#fdca26\"],[1.0,\"#f0f921\"]]}],\"choropleth\":[{\"type\":\"choropleth\",\"colorbar\":{\"outlinewidth\":0,\"ticks\":\"\"}}],\"histogram2d\":[{\"type\":\"histogram2d\",\"colorbar\":{\"outlinewidth\":0,\"ticks\":\"\"},\"colorscale\":[[0.0,\"#0d0887\"],[0.1111111111111111,\"#46039f\"],[0.2222222222222222,\"#7201a8\"],[0.3333333333333333,\"#9c179e\"],[0.4444444444444444,\"#bd3786\"],[0.5555555555555556,\"#d8576b\"],[0.6666666666666666,\"#ed7953\"],[0.7777777777777778,\"#fb9f3a\"],[0.8888888888888888,\"#fdca26\"],[1.0,\"#f0f921\"]]}],\"heatmap\":[{\"type\":\"heatmap\",\"colorbar\":{\"outlinewidth\":0,\"ticks\":\"\"},\"colorscale\":[[0.0,\"#0d0887\"],[0.1111111111111111,\"#46039f\"],[0.2222222222222222,\"#7201a8\"],[0.3333333333333333,\"#9c179e\"],[0.4444444444444444,\"#bd3786\"],[0.5555555555555556,\"#d8576b\"],[0.6666666666666666,\"#ed7953\"],[0.7777777777777778,\"#fb9f3a\"],[0.8888888888888888,\"#fdca26\"],[1.0,\"#f0f921\"]]}],\"heatmapgl\":[{\"type\":\"heatmapgl\",\"colorbar\":{\"outlinewidth\":0,\"ticks\":\"\"},\"colorscale\":[[0.0,\"#0d0887\"],[0.1111111111111111,\"#46039f\"],[0.2222222222222222,\"#7201a8\"],[0.3333333333333333,\"#9c179e\"],[0.4444444444444444,\"#bd3786\"],[0.5555555555555556,\"#d8576b\"],[0.6666666666666666,\"#ed7953\"],[0.7777777777777778,\"#fb9f3a\"],[0.8888888888888888,\"#fdca26\"],[1.0,\"#f0f921\"]]}],\"contourcarpet\":[{\"type\":\"contourcarpet\",\"colorbar\":{\"outlinewidth\":0,\"ticks\":\"\"}}],\"contour\":[{\"type\":\"contour\",\"colorbar\":{\"outlinewidth\":0,\"ticks\":\"\"},\"colorscale\":[[0.0,\"#0d0887\"],[0.1111111111111111,\"#46039f\"],[0.2222222222222222,\"#7201a8\"],[0.3333333333333333,\"#9c179e\"],[0.4444444444444444,\"#bd3786\"],[0.5555555555555556,\"#d8576b\"],[0.6666666666666666,\"#ed7953\"],[0.7777777777777778,\"#fb9f3a\"],[0.8888888888888888,\"#fdca26\"],[1.0,\"#f0f921\"]]}],\"surface\":[{\"type\":\"surface\",\"colorbar\":{\"outlinewidth\":0,\"ticks\":\"\"},\"colorscale\":[[0.0,\"#0d0887\"],[0.1111111111111111,\"#46039f\"],[0.2222222222222222,\"#7201a8\"],[0.3333333333333333,\"#9c179e\"],[0.4444444444444444,\"#bd3786\"],[0.5555555555555556,\"#d8576b\"],[0.6666666666666666,\"#ed7953\"],[0.7777777777777778,\"#fb9f3a\"],[0.8888888888888888,\"#fdca26\"],[1.0,\"#f0f921\"]]}],\"mesh3d\":[{\"type\":\"mesh3d\",\"colorbar\":{\"outlinewidth\":0,\"ticks\":\"\"}}],\"scatter\":[{\"fillpattern\":{\"fillmode\":\"overlay\",\"size\":10,\"solidity\":0.2},\"type\":\"scatter\"}],\"parcoords\":[{\"type\":\"parcoords\",\"line\":{\"colorbar\":{\"outlinewidth\":0,\"ticks\":\"\"}}}],\"scatterpolargl\":[{\"type\":\"scatterpolargl\",\"marker\":{\"colorbar\":{\"outlinewidth\":0,\"ticks\":\"\"}}}],\"bar\":[{\"error_x\":{\"color\":\"#2a3f5f\"},\"error_y\":{\"color\":\"#2a3f5f\"},\"marker\":{\"line\":{\"color\":\"#E5ECF6\",\"width\":0.5},\"pattern\":{\"fillmode\":\"overlay\",\"size\":10,\"solidity\":0.2}},\"type\":\"bar\"}],\"scattergeo\":[{\"type\":\"scattergeo\",\"marker\":{\"colorbar\":{\"outlinewidth\":0,\"ticks\":\"\"}}}],\"scatterpolar\":[{\"type\":\"scatterpolar\",\"marker\":{\"colorbar\":{\"outlinewidth\":0,\"ticks\":\"\"}}}],\"histogram\":[{\"marker\":{\"pattern\":{\"fillmode\":\"overlay\",\"size\":10,\"solidity\":0.2}},\"type\":\"histogram\"}],\"scattergl\":[{\"type\":\"scattergl\",\"marker\":{\"colorbar\":{\"outlinewidth\":0,\"ticks\":\"\"}}}],\"scatter3d\":[{\"type\":\"scatter3d\",\"line\":{\"colorbar\":{\"outlinewidth\":0,\"ticks\":\"\"}},\"marker\":{\"colorbar\":{\"outlinewidth\":0,\"ticks\":\"\"}}}],\"scattermapbox\":[{\"type\":\"scattermapbox\",\"marker\":{\"colorbar\":{\"outlinewidth\":0,\"ticks\":\"\"}}}],\"scatterternary\":[{\"type\":\"scatterternary\",\"marker\":{\"colorbar\":{\"outlinewidth\":0,\"ticks\":\"\"}}}],\"scattercarpet\":[{\"type\":\"scattercarpet\",\"marker\":{\"colorbar\":{\"outlinewidth\":0,\"ticks\":\"\"}}}],\"carpet\":[{\"aaxis\":{\"endlinecolor\":\"#2a3f5f\",\"gridcolor\":\"white\",\"linecolor\":\"white\",\"minorgridcolor\":\"white\",\"startlinecolor\":\"#2a3f5f\"},\"baxis\":{\"endlinecolor\":\"#2a3f5f\",\"gridcolor\":\"white\",\"linecolor\":\"white\",\"minorgridcolor\":\"white\",\"startlinecolor\":\"#2a3f5f\"},\"type\":\"carpet\"}],\"table\":[{\"cells\":{\"fill\":{\"color\":\"#EBF0F8\"},\"line\":{\"color\":\"white\"}},\"header\":{\"fill\":{\"color\":\"#C8D4E3\"},\"line\":{\"color\":\"white\"}},\"type\":\"table\"}],\"barpolar\":[{\"marker\":{\"line\":{\"color\":\"#E5ECF6\",\"width\":0.5},\"pattern\":{\"fillmode\":\"overlay\",\"size\":10,\"solidity\":0.2}},\"type\":\"barpolar\"}],\"pie\":[{\"automargin\":true,\"type\":\"pie\"}]},\"layout\":{\"autotypenumbers\":\"strict\",\"colorway\":[\"#636efa\",\"#EF553B\",\"#00cc96\",\"#ab63fa\",\"#FFA15A\",\"#19d3f3\",\"#FF6692\",\"#B6E880\",\"#FF97FF\",\"#FECB52\"],\"font\":{\"color\":\"#2a3f5f\"},\"hovermode\":\"closest\",\"hoverlabel\":{\"align\":\"left\"},\"paper_bgcolor\":\"white\",\"plot_bgcolor\":\"#E5ECF6\",\"polar\":{\"bgcolor\":\"#E5ECF6\",\"angularaxis\":{\"gridcolor\":\"white\",\"linecolor\":\"white\",\"ticks\":\"\"},\"radialaxis\":{\"gridcolor\":\"white\",\"linecolor\":\"white\",\"ticks\":\"\"}},\"ternary\":{\"bgcolor\":\"#E5ECF6\",\"aaxis\":{\"gridcolor\":\"white\",\"linecolor\":\"white\",\"ticks\":\"\"},\"baxis\":{\"gridcolor\":\"white\",\"linecolor\":\"white\",\"ticks\":\"\"},\"caxis\":{\"gridcolor\":\"white\",\"linecolor\":\"white\",\"ticks\":\"\"}},\"coloraxis\":{\"colorbar\":{\"outlinewidth\":0,\"ticks\":\"\"}},\"colorscale\":{\"sequential\":[[0.0,\"#0d0887\"],[0.1111111111111111,\"#46039f\"],[0.2222222222222222,\"#7201a8\"],[0.3333333333333333,\"#9c179e\"],[0.4444444444444444,\"#bd3786\"],[0.5555555555555556,\"#d8576b\"],[0.6666666666666666,\"#ed7953\"],[0.7777777777777778,\"#fb9f3a\"],[0.8888888888888888,\"#fdca26\"],[1.0,\"#f0f921\"]],\"sequentialminus\":[[0.0,\"#0d0887\"],[0.1111111111111111,\"#46039f\"],[0.2222222222222222,\"#7201a8\"],[0.3333333333333333,\"#9c179e\"],[0.4444444444444444,\"#bd3786\"],[0.5555555555555556,\"#d8576b\"],[0.6666666666666666,\"#ed7953\"],[0.7777777777777778,\"#fb9f3a\"],[0.8888888888888888,\"#fdca26\"],[1.0,\"#f0f921\"]],\"diverging\":[[0,\"#8e0152\"],[0.1,\"#c51b7d\"],[0.2,\"#de77ae\"],[0.3,\"#f1b6da\"],[0.4,\"#fde0ef\"],[0.5,\"#f7f7f7\"],[0.6,\"#e6f5d0\"],[0.7,\"#b8e186\"],[0.8,\"#7fbc41\"],[0.9,\"#4d9221\"],[1,\"#276419\"]]},\"xaxis\":{\"gridcolor\":\"white\",\"linecolor\":\"white\",\"ticks\":\"\",\"title\":{\"standoff\":15},\"zerolinecolor\":\"white\",\"automargin\":true,\"zerolinewidth\":2},\"yaxis\":{\"gridcolor\":\"white\",\"linecolor\":\"white\",\"ticks\":\"\",\"title\":{\"standoff\":15},\"zerolinecolor\":\"white\",\"automargin\":true,\"zerolinewidth\":2},\"scene\":{\"xaxis\":{\"backgroundcolor\":\"#E5ECF6\",\"gridcolor\":\"white\",\"linecolor\":\"white\",\"showbackground\":true,\"ticks\":\"\",\"zerolinecolor\":\"white\",\"gridwidth\":2},\"yaxis\":{\"backgroundcolor\":\"#E5ECF6\",\"gridcolor\":\"white\",\"linecolor\":\"white\",\"showbackground\":true,\"ticks\":\"\",\"zerolinecolor\":\"white\",\"gridwidth\":2},\"zaxis\":{\"backgroundcolor\":\"#E5ECF6\",\"gridcolor\":\"white\",\"linecolor\":\"white\",\"showbackground\":true,\"ticks\":\"\",\"zerolinecolor\":\"white\",\"gridwidth\":2}},\"shapedefaults\":{\"line\":{\"color\":\"#2a3f5f\"}},\"annotationdefaults\":{\"arrowcolor\":\"#2a3f5f\",\"arrowhead\":0,\"arrowwidth\":1},\"geo\":{\"bgcolor\":\"white\",\"landcolor\":\"#E5ECF6\",\"subunitcolor\":\"white\",\"showland\":true,\"showlakes\":true,\"lakecolor\":\"white\"},\"title\":{\"x\":0.05},\"mapbox\":{\"style\":\"light\"}}},\"title\":{\"text\":\"Most Common RAM Size\"},\"xaxis\":{\"title\":{\"text\":\"RAM\"}},\"yaxis\":{\"title\":{\"text\":\"Count\"}}},                        {\"responsive\": true}                    ).then(function(){\n",
              "                            \n",
              "var gd = document.getElementById('b4092dfe-2096-40d5-b053-e79354584732');\n",
              "var x = new MutationObserver(function (mutations, observer) {{\n",
              "        var display = window.getComputedStyle(gd).display;\n",
              "        if (!display || display === 'none') {{\n",
              "            console.log([gd, 'removed!']);\n",
              "            Plotly.purge(gd);\n",
              "            observer.disconnect();\n",
              "        }}\n",
              "}});\n",
              "\n",
              "// Listen for the removal of the full notebook cells\n",
              "var notebookContainer = gd.closest('#notebook-container');\n",
              "if (notebookContainer) {{\n",
              "    x.observe(notebookContainer, {childList: true});\n",
              "}}\n",
              "\n",
              "// Listen for the clearing of the current output cell\n",
              "var outputEl = gd.closest('.output');\n",
              "if (outputEl) {{\n",
              "    x.observe(outputEl, {childList: true});\n",
              "}}\n",
              "\n",
              "                        })                };                            </script>        </div>\n",
              "</body>\n",
              "</html>"
            ]
          },
          "metadata": {}
        }
      ],
      "source": [
        "data = total_data['RAM']\n",
        "\n",
        "counts = data.value_counts()\n",
        "\n",
        "fig = go.Figure()\n",
        "\n",
        "fig.add_trace(go.Bar(x=counts.index, y=counts, name='Count Plot', marker_color='skyblue'))\n",
        "\n",
        "fig.update_layout(\n",
        "    title='Most Common RAM Size',\n",
        "    xaxis=dict(title='RAM'),\n",
        "    yaxis=dict(title='Count'),\n",
        ")\n",
        "config = {'displayModeBar': False}\n",
        "\n",
        "# Generate the HTML file\n",
        "pio.write_html(fig, file='most_common_ram.html', config=config)\n",
        "\n",
        "fig.show()"
      ]
    },
    {
      "cell_type": "code",
      "execution_count": null,
      "metadata": {
        "colab": {
          "base_uri": "https://localhost:8080/"
        },
        "id": "LRVbjlTUVq_I",
        "outputId": "3ebdc1de-f000-4812-9603-0cd3ce53c2f7"
      },
      "outputs": [
        {
          "output_type": "display_data",
          "data": {
            "text/html": [
              "<html>\n",
              "<head><meta charset=\"utf-8\" /></head>\n",
              "<body>\n",
              "    <div>            <script src=\"https://cdnjs.cloudflare.com/ajax/libs/mathjax/2.7.5/MathJax.js?config=TeX-AMS-MML_SVG\"></script><script type=\"text/javascript\">if (window.MathJax && window.MathJax.Hub && window.MathJax.Hub.Config) {window.MathJax.Hub.Config({SVG: {font: \"STIX-Web\"}});}</script>                <script type=\"text/javascript\">window.PlotlyConfig = {MathJaxConfig: 'local'};</script>\n",
              "        <script charset=\"utf-8\" src=\"https://cdn.plot.ly/plotly-2.24.1.min.js\"></script>                <div id=\"5cefdeea-27f7-4da0-a35a-45ee6c4aaaf1\" class=\"plotly-graph-div\" style=\"height:525px; width:100%;\"></div>            <script type=\"text/javascript\">                                    window.PLOTLYENV=window.PLOTLYENV || {};                                    if (document.getElementById(\"5cefdeea-27f7-4da0-a35a-45ee6c4aaaf1\")) {                    Plotly.newPlot(                        \"5cefdeea-27f7-4da0-a35a-45ee6c4aaaf1\",                        [{\"name\":\"Ultrabook\",\"y\":[1441.41534108,967.19831208,2730.1236534,1940.5509551999999,2302.4622020399997,1246.6824084,1608.51834,828.46764,2625.2418020399996,1358.2565568,1633.8565386,3075.013656,1053.337428,709.039188,1182.449268,1396.559736,2010.916908,1073.780136,1526.747508,945.744228,2133.573156,1171.689948,1027.51506,1179.39362112,1624.65732,752.076468,1774.211868,1128.652668,1203.967908,1441.74888,1283.586876,1357.826184,1483.710228,1752.693228,951.123888,1182.449268,2166.927048,1164.158424,1451.432268,1505.228868,1064.096748,1075.8244068000001,2096.991468,1559.025468,1612.822068,1002.63951216,1236.245868,1466.495316,2194.90128,1021.059468,2107.6431948,1051.185564,1579.468176,2688.754068,1129.6210068,1436.36922,1128.652668,1698.896628,1730.05561872,713.342916,1882.881,1881.6974748,2455.276824,536.890068,2824.3215,2015.220636,1879.653204,1807.56576,2090.535876,1613.898,1307.6662341600002,1182.449268,2365.974468,2562.870024,1537.506828,2785.587948,1064.096748,1935.601668,1999.081656,1371.8133,1981.7053541999999,1934.525736,2098.0674,3011.533668,1182.449268,1423.458036,967.262868,1505.228868,1505.228868,1231.94214,2114.20638,1720.415268,2006.61318,1800.034236,1494.469548,2044.2708,2010.916908,2636.0334,988.781508,1704.276288,1559.9938068000001,2009.6795862,1221.18282,2473.567668,2019.524364,1814.70994848,1612.822068,1774.211868,1179.221472,2000.157588,1677.377988,1214.727228,1720.415268,1338.459408,1897.944048,2473.567668,1253.46078,1612.822068,1612.822068,2000.157588,1935.601668,1172.76588,2688.754068,2017.3725,2258.381268,2011.9928400000001,1103.906232,1579.468176,2047.498596,2410.08768,1178.14554,1989.398268,1818.32508,1005.9964200000001,1828.008468,1935.601668,2204.584668,2258.381268,2043.194868,3335.3892,1395.47304468,1236.245868,1775.2878,1698.896628,1763.452548,1583.9870904,1909.7793,1602.05198868,1364.281776,1893.64032,1925.91828,2112.03299736,1624.0,2296.95,1499.0,1877.0,899.0,1049.0,2299.0,2199.0,959.0,2858.0,1413.1,1803.6,1468.0,1510.0,2680.0,1096.16,1275.0,2439.97,1599.0,1499.0,1129.0,1099.0,729.0,1869.0,1870.0,1799.0,1349.0,1639.0,1650.0,1379.0,1649.0,1268.0,1865.0,979.0,1539.0,999.9,2589.0,2099.0,1399.0,2049.0,1895.0,1867.85,2499.0,1323.0,770.0,1673.0,1950.0,1790.0,2299.0,499.0,1764.0,1389.0,1859.0,1499.0,1165.0,1748.9,1349.0,1584.0,1099.0,1449.9,1969.0,2139.97,2089.0,1300.0,998.0,1029.0,699.0,1699.0,1559.0,2049.0,2450.0,1049.0,2499.0,1599.0,1690.0,1579.0,1119.0,1873.0,2299.0,2537.45,2226.0,1775.0,2099.0,1760.0,1149.0,1713.37,2240.0,1089.0,1607.96,1869.0,1900.0,1518.55,1244.0,1798.0,752.0,1499.0,949.0,1096.0,1958.9,1419.0,3100.0,1193.0,1495.0,729.0,1887.21,1458.0,1590.0,1099.0,1468.0,1965.0,1943.0,2171.72,1747.0,1149.0,1399.0,1559.0,1629.0,1339.69,1983.0,2625.0,1859.0,1429.0,1099.0,1135.15,2040.0,1158.7,2014.0,1962.98,1135.0,729.0,1713.49,1903.0,663.0,1335.0,831.0,1262.4,1750.0,1579.0,1280.0,935.0,919.0,931.88,1340.0],\"type\":\"box\"},{\"name\":\"Notebook\",\"y\":[618.6609,430.3728,423.80961479999996,371.18578068,536.7824747999999,801.56934,536.890068,277.590456,450.42817248,860.7456,964.035072,263.59258068,214.110468,472.334148,267.907068,394.867044,1053.337428,525.79720908,945.744228,418.537548,562.70167668,733.785624,397.018908,687.520548,501.384312,904.8588120000001,428.74814268,1186.752996,413.157888,826.1005895999999,472.334148,630.70057908,446.51178,1397.635668,644.483268,1012.452012,742.39308,472.00060908,246.388428,590.686668,936.06084,418.537548,558.408708,919.92186,570.24396,1051.185564,925.30152,429.296868,424.99314,644.47250868,741.317148,1287.890604,645.4516067999999,521.82702,620.812764,773.595108,375.500268,696.128004,709.039188,446.4041868,1592.37936,776.822904,1166.310288,1216.15821756,606.825648,1202.891976,515.371428,676.761228,1367.509572,485.245332,278.666388,873.656784,299.09833668,1502.001072,998.464896,687.50978868,483.093468,615.433104,643.407336,1063.020816,271.52219952,536.890068,752.076468,704.73546,1200.76163064,647.711064,397.018908,370.120608,480.941604,535.814136,666.001908,480.941604,433.600596,866.12526,783.278496,374.424336,391.11204132,918.845928,811.252728,752.076468,332.462988,526.130748,993.085236,493.852788,483.093468,874.732716,1128.652668,853.214076,1290.042468,1666.618668,2579.009004,1167.38622,279.74232,751.000536,983.401848,1031.818788,1124.34894,530.434476,798.341544,472.334148,642.331404,838.151028,375.500268,590.686668,633.723948,1109.285892,728.7825402,854.2900080000001,895.175424,924.2363473199999,827.391708,958.655412,1365.357708,429.28610868,355.05756,924.225588,967.262868,419.61348,618.6609,633.723948,1231.94214,956.503548,1059.79302,601.445988,726.2541,504.612108,755.304264,479.75807879999996,1139.411988,1228.714344,477.71380800000003,776.822904,706.887324,607.90158,502.460244,1095.298776,946.82016,790.88533524,873.656784,767.2148312400001,1182.449268,801.56934,526.130748,913.466268,924.225588,460.498896,622.964628,1023.211332,709.039188,1180.297404,709.04994732,214.110468,526.130748,1967.879628,795.113748,1053.337428,536.890068,547.649388,698.279868,590.686668,387.32476068,1122.197076,881.188308,504.612108,1074.856068,504.612108,908.086608,494.8211268,1054.41336,521.82702,1390.104144,633.723948,1177.069608,970.490664,709.039188,314.172144,590.686668,2839.384548,1014.603876,1435.293288,483.093468,1364.281776,1230.866208,295.87054068000003,1229.521293,295.77370679999996,967.262868,770.367312,300.185028,2181.36605544,1403.015328,1509.532596,1044.6223788,346.43934468000003,599.69221884,1535.354964,472.334148,1016.75574,773.595108,687.520548,536.890068,418.537548,1167.38622,967.262868,458.347032,526.130748,526.11998868,332.462988,307.716552,910.238472,434.138562,1182.449268,590.686668,746.68604868,838.01115684,1322.9229499199998,1009.224216,329.235192,1231.404174,945.744228,440.056188,327.5674974,504.612108,644.3756748,741.317148,580.9494834000001,483.093468,1535.354964,642.331404,1229.1447168000002,1086.69132,644.483268,2634.957468,373.348404,601.445988,558.408708,805.873068,375.500268,1268.523828,475.3467576,633.723948,1447.12854,1053.337428,2201.356872,688.4888867999999,585.307008,805.873068,859.669668,2248.69788,327.083328,504.612108,816.632388,1241.625528,1397.635668,796.18968,1467.571248,726.2541,1798.958304,1357.826184,631.1417112,781.126632,267.7994748,607.90158,1128.652668,2043.194868,1088.83242468,622.964628,967.1552748,1881.805068,1021.059468,980.174052,665.99114868,321.703668,1021.059468,1316.940768,659.546316,687.520548,899.479152,1311.81933168,1506.2510034,561.06626004,956.503548,1376.90245836,741.317148,956.503548,1441.74888,859.669668,493.852788,629.42022,1481.558364,925.30152,1397.635668,397.018908,1472.950908,857.95893612,429.28610868,924.225588,791.74608084,375.500268,759.070026,844.60662,497.45716020000003,427.14500400000003,1860.2864280000001,536.890068,1201.80528468,585.4683977999999,1377.19296,241.008768,274.36266,1021.059468,612.0977148,664.8183828,677.83716,3226.720068,902.706948,1031.818788,795.113748,370.120608,1065.17268,418.537548,698.279868,893.02356,737.01342,267.907068,805.88382732,418.537548,1085.09894064,773.595108,1654.1270974800002,655.242588,1021.059468,1828.008468,569.168028,493.852788,1585.923768,1311.561108,719.23902336,353.981628,500.30838,1505.228868,606.825648,375.500268,5270.990868,477.6062148,386.259588,934.984908,612.205308,1209.347568,1576.24038,834.923232,859.669668,1002.768624,967.262868,257.147748,503.536176,1958.19624,891.947628,622.964628,429.296868,975.46146984,267.907068,2581.160868,560.4529788,484.1694,294.805368,1305.105516,392.6075868,1144.791648,988.781508,1221.18282,1322.320428,450.815508,575.62362,579.927348,535.814136,1027.51506,801.56934,1353.522456,443.283984,880.0585794000001,375.500268,450.815508,752.076468,659.12670252,587.10381444,612.205308,342.146376,403.4745,752.076468,1046.881836,741.317148,429.296868,461.574828,668.6379414,484.1694,855.36594,1281.435012,704.74621932,1171.689948,781.126632,320.627736,1534.98914712,922.1490392400001,1268.523828,320.627736,285.12198,1291.1184,527.0990868,773.595108,634.28343264,526.130748,698.279868,699.3558,601.445988,1032.89472,838.151028,441.9928656,1298.649924,715.49478,1651.55562,355.05756,579.927348,1212.26334372,2044.2708,622.964628,914.4346068,1182.449268,644.483268,913.466268,704.73546,506.05385687999996,320.627736,1270.96619364,1097.45064,2549.95884,684.292752,626.0848308,353.981628,218.3066028,321.703668,871.50492,795.113748,1182.449268,1881.805068,839.22696,676.761228,655.242588,1033.970652,849.7818529199999,812.32866,527.0990868,536.890068,629.42022,666.001908,558.408708,1276.055352,1775.2878,719.798508,349.6779,634.79988,979.09812,768.20468868,795.113748,321.703668,930.68118,846.758484,1016.75574,483.093468,698.279868,504.612108,915.2523151199999,1451.432268,1382.57262,979.09812,970.490664,1135.10826,515.371428,1493.393616,790.81002,429.28610868,981.78795,902.706948,374.424336,719.798508,397.018908,490.3022124,407.778228,1361.05398,1586.9997,968.3388,660.622248,1005.9964200000001,2112.0437566799997,386.259588,848.910348,1296.49806,848.910348,1096.36394868,536.890068,947.896092,1032.89472,737.00266068,2124.9657,785.3227668,1253.46078,761.82441192,1236.245868,332.462988,310.8367548,1188.90486,601.0156152000001,570.24396,666.001908,1203.967908,737.01342,709.039188,375.500268,1570.86072,1651.55562,1085.615388,910.776438,500.97545784,887.6439,737.01342,747.77274,1269.59976,1053.337428,1078.083864,369.0,399.0,900.0,2046.0,468.0,469.0,1829.0,369.0,439.0,742.0,1427.0,586.19,629.0,499.0,389.0,4899.0,749.0,1142.75,830.0,895.01,278.0,309.0,398.99,465.0,764.0,485.0,1099.0,800.0,403.0,638.99,1189.0,949.0,650.0,1195.0,229.0,2370.0,1070.0,1064.0,899.0,1537.39,265.0,1097.0,750.0,359.0,859.0,1099.0,737.0,577.0,1200.0,1116.99,979.0,339.0,579.0,778.87,799.0,530.0,379.0,902.0,1369.0,499.0,769.99,739.0,973.0,689.0,679.0,719.0,274.0,1749.0,489.0,330.0,598.9,459.0,270.62,1268.0,369.0,398.99,799.0,549.0,691.0,1103.0,739.0,1149.0,960.0,1145.0,1490.0,722.0,488.99,669.0,345.99,1150.0,846.5,799.0,449.0,549.99,549.0,659.0,304.0,1154.0,689.0,659.0,932.0,800.0,309.0,398.0,1340.0,1334.0,412.0,812.0,586.6,899.0,279.0,1474.0,530.0,415.0,881.0,1962.99,788.49,945.0,979.0,1186.0,397.0,630.0,330.0,229.0,649.0,519.0,1390.0,299.0,979.0,889.0,860.0,557.37,389.0,585.0,699.0,615.0,614.0,579.0,414.9,1749.0,675.0,899.0,1072.0,870.0,785.0,749.0,1045.0,199.0,1690.0,398.99,685.0,1124.0,255.0,928.0,318.0,1749.0,439.0,2103.34,292.0,685.0,589.0,612.61,443.99,449.0,719.0,1049.6,649.0,713.07,410.8,489.0,805.0,889.0,636.0,466.0,896.0,1181.27,961.0,459.0,899.0,523.63,598.99,689.0,943.0,779.0,579.0,599.0,539.95,359.0,745.0,682.0,719.0,379.0,2250.68,249.0,387.0,1975.0,923.0,850.66,348.0,589.0,769.0,951.0,202.9,598.0,618.99,249.0,797.41,549.99,1199.0,1011.99,465.62,2229.0,499.0,470.34,898.9,1399.0,985.0,1009.9,735.07,306.0,367.0,805.99,705.5,1299.0,2027.42,949.0,1080.0,597.0,272.0,418.64,363.51,729.9,438.69,739.0,655.01,1085.0,895.0,499.0,389.0,389.0,769.15,639.0,309.0,299.0,488.69,675.0,875.0,450.0,539.0,899.0,812.0,1197.0,684.0,299.0,698.0,1179.0,1089.0,1207.0,599.0,1084.0,380.0,489.9,559.0,459.0,565.0,304.45,639.9,1179.0,935.0,521.86,455.7,1094.0,1119.0,565.0,699.0,1060.0,469.01,1262.0,598.0,1699.0,479.0,829.0,849.0,1018.0,869.0,832.0,655.0,938.0,655.0,575.0,469.0,1388.0,629.0,499.0,879.0,613.0,2968.0,1119.0,286.0,726.0,399.0,1030.99,439.0,659.0,2090.0,1195.0,817.95,979.0,403.5,780.0,558.6,764.0,379.0,1535.0,819.0,708.06,846.0,754.0,2620.0,713.99,1219.0,728.0,559.0,855.0,569.0,722.0,977.0,742.0,349.0,749.0,299.0,409.0,549.0,825.0,359.99,429.0,349.0,979.0,590.0,1899.0,522.99,1590.0,519.0,799.0,793.0,849.9,720.32,244.99,459.0,333.0,1205.0,1000.0,589.52,726.0,899.0,499.0,459.0,699.0,1729.0,344.99,1499.0,1258.0,719.0,597.57,325.0,902.0,745.0,1059.0,844.0,1304.0,699.0,1229.0,859.0,880.0,619.0,393.49,1189.0,439.0,1199.0,469.0,1099.99,544.15,1399.95,1180.0,1118.0,469.0,745.0,949.0,639.0,764.0,547.0,879.0,384.0,309.0,709.0,1144.0,573.0,478.0,1191.0,906.62,684.99,1055.0,616.0,649.0,364.9,720.32,668.48,289.0,813.0,677.35,759.0,1213.0,260.0,575.0,447.0,1549.0,444.0,669.0,443.9,349.0,259.0,539.0,955.0,564.0,1049.0,795.0,609.0,735.0,973.0,1650.0,489.9,839.0,1224.0,1279.73,739.0,1529.0,609.0,767.8,990.0,2449.0,581.9,647.0,521.47,1349.0,702.0,891.0,1002.0,1345.0,825.0,659.01,787.0,599.0,599.9,769.0,398.0,389.0,498.0,398.49,252.36,428.0,459.0,549.0,1425.0,459.0,589.0,375.0,959.0,720.32,1062.95,649.0,639.0,274.9,395.0,911.0,940.0,810.0,735.87,602.0,540.0,1820.0,749.01,789.0,489.0,544.0,599.0,1099.0,469.0,529.0,298.0,569.0,499.0,349.0,914.0,229.0,1199.0,617.9,579.0],\"type\":\"box\"},{\"name\":\"Netbook\",\"y\":[206.4713508,594.990396,289.425708,468.03042,365.81688,285.12198,263.60334,317.39994,289.425708,511.0677,800.493408,1494.469548,414.23382,381.95586,319.551804,1595.607156,1795.730508,1650.0,269.0,1389.0,209.0,265.0,475.0,209.0,269.0,1599.0,1669.0,245.0,1483.0,340.0,287.9,209.0,1908.0,355.0,297.0,191.9],\"type\":\"box\"},{\"name\":\"Gaming\",\"y\":[1074.856068,1612.822068,1397.635668,2634.957468,1021.059468,1178.14554,1021.059468,1451.432268,1559.025468,752.076468,1285.73874,1343.839068,1397.635668,2411.701578,1009.224216,934.984908,2183.066028,1344.11881032,967.262868,2033.51148,1160.930628,1935.601668,1141.01512668,3011.533668,838.151028,6562.109268,1483.710228,1985.09454,1881.805068,1504.152936,1513.836324,2642.8548088800003,1612.822068,4185.37548,910.238472,945.744228,3226.720068,1935.601668,2688.754068,1666.618668,891.947628,1268.523828,1277.131284,1397.635668,2283.127704,1361.05398,2258.381268,1290.042468,1074.856068,1214.727228,1515.988188,1074.856068,870.428988,2365.974468,1281.435012,1780.66746,1117.893348,1711.807812,1451.432268,1645.100028,2419.771068,3011.533668,1247.005188,2150.788068,1823.70474,1182.449268,1105.77835368,1828.008468,1452.5082,1365.357708,1236.245868,3193.366176,1618.201728,1505.228868,3241.53565164,1774.211868,1935.601668,858.593736,2903.940468,2865.206916,2936.218428,2527.364268,1611.746136,1904.39964,2365.974468,2473.567668,945.7549873199999,1256.688576,2440.06314552,1591.303428,1193.208588,1257.764508,2796.347268,3011.533668,762.835788,1282.2957576,1286.814672,3386.35609884,1599.66341964,1392.256008,1397.635668,1073.6725428000002,2206.736532,3027.403665,881.188308,1343.839068,3937.2655608,1450.87278336,2081.92842,2253.51805536,3086.83814868,1127.576736,1182.449268,1182.449268,3119.126868,3861.3047616000003,2528.4402,2034.587412,1171.689948,1074.856068,2473.567668,1059.79302,1440.672948,1806.489828,1881.805068,2598.37578,2695.23117864,1290.042468,5916.5500680000005,2985.31320516,2602.679508,1935.601668,3306.22068348,2043.194868,1094.222844,1473.9192468,2850.143868,999.540828,1376.117028,1720.415268,1451.432268,1204.9470061200002,1290.042468,2967.420456,1505.228868,1074.856068,3393.489528,3388.109868,3012.6096000000002,2205.5530068000003,2199.0,2499.0,1591.0,1799.0,1299.0,1142.8,2029.0,2299.0,1655.0,2799.0,2249.0,1769.0,999.0,2749.99,999.0,1299.0,1479.0,1027.74,1099.0,1169.0,2241.5,1349.0,1099.0,839.0,1929.0,1260.0,779.0,1191.8,1299.0,1799.0,1476.11,2449.0,6099.0,1169.0,2325.0,1449.0,2399.0,1249.0,1179.0,1109.0,2094.48,1349.0,2758.0,829.0,2199.0,949.0,1599.0,1191.8,1249.0,1498.0,999.0,1379.0,3149.0,1199.0,3890.0,1799.0,1598.0,1529.0,1029.0,1329.0,1312.49,1891.0,2505.02,998.0,3072.89,1600.0,5499.0,1048.0,1169.0,869.0,1199.0,1399.0,2800.0,1149.0,2419.0,2699.0,879.0,1079.0,2799.0,899.0,1511.19,1999.0,989.0,1699.0,1845.0,1499.0,1899.0,1272.0,1189.0,2774.63,1294.0,1129.0,1890.0,2663.0,1339.0,1770.0,1299.0,2122.0,2729.0,2999.0,2051.0,3588.8,879.01,2299.0,1799.0,3154.0,1407.0,1949.0,1269.0,3659.4,1499.0,1149.0,3975.0,1348.48,2350.0,949.0,999.0,999.0,2649.0,3147.37,2968.0,1195.0,1039.0,1799.0,1679.0,1369.9,2449.0,2049.9,1349.0,2599.0,1695.0,3240.0,1017.0,3499.0,2299.0,2153.37,2349.0,1399.0,709.0,1187.0,1199.0,1196.0,1265.0,2868.99,846.0,2150.0,1498.0,1060.49,1229.0,2813.75,1819.0,699.0,1305.0,3012.77],\"type\":\"box\"},{\"name\":\"2 in 1 Convertible\",\"y\":[881.188308,1074.856068,343.222308,911.314404,1505.228868,1505.2181086800001,676.761228,1414.85058,1128.652668,1612.822068,1989.398268,3038.431968,902.706948,1376.117028,967.262868,741.317148,1160.930628,881.188308,1989.398268,1828.008468,859.669668,1612.822068,2688.754068,2124.9657,295.8813,2634.957468,2258.381268,403.4745,1182.449268,934.9956673199999,2699.513388,848.92110732,998.464896,2043.194868,321.703668,515.371428,2150.788068,1720.415268,375.500268,795.113748,648.786996,2178.7623,1796.80644,1397.635668,407.778228,687.53130732,1890.8644154400001,1112.513688,752.076468,532.58634,1612.822068,2786.66388,1881.805068,719.798508,1074.856068,900.1247112,698.279868,709.039188,1074.856068,1290.042468,1935.601668,902.706948,2119.58604,1031.818788,2506.92156,1451.432268,1461.115656,661.69818,2449.897164,2753.309988,2098.0674,1829.0844,736.7982336,1935.601668,1505.228868,2165.9587091999997,1774.211868,1963.5759,1935.601668,1397.635668,1247.005188,2043.194868,833.8473,418.537548,2043.194868,1499.0,1999.0,1757.42,1149.0,1199.0,2050.38,1670.0,1099.0,959.0,1399.0,1199.0,999.0,479.0,1399.0,1799.0,379.0,649.0,1034.0,2449.0,684.8,479.0,869.01,819.0,549.0,659.0,2339.0,699.0,1699.0,2013.1,1599.0,819.0,389.0,1499.0,1299.0,1499.0,999.0,2025.0,1499.0,2824.0,1799.0,2277.0,1975.0,1299.0,899.0,1899.0,1299.0,1499.0,2099.0,2499.0,795.99,739.0,689.0,1700.0,1315.0,2509.0,638.0,847.0,1285.0,867.0,375.0,1749.0,1799.0,789.01,1825.0,669.0,509.0,275.0,1950.0,999.0,1970.0,1799.0,1649.0,629.0,1159.0,1637.0,1279.0,603.0,1398.99,659.0,1899.0,889.0],\"type\":\"box\"},{\"name\":\"Workstation\",\"y\":[3286.97226,3103.9131895200003,1870.26031764,1472.950908,2297.11482,2917.927584,2071.1691,2630.65374,2144.332476,2124.9657,1650.479688,2590.844256,2515.529016,2002.29869268,1896.868116,2052.86749668,1995.85386,2602.679508,3549.499668,4722.265548,1679.529852,2221.6919868,1913.007096,2419.771068,1975.0,1778.0,4389.0,1561.0,2899.0,2419.0,3299.0,3949.4,3055.0,2229.0,1495.0,1534.0,1925.0,2249.0,1993.0,2064.9,2445.0,2135.0],\"type\":\"box\"}],                        {\"template\":{\"data\":{\"histogram2dcontour\":[{\"type\":\"histogram2dcontour\",\"colorbar\":{\"outlinewidth\":0,\"ticks\":\"\"},\"colorscale\":[[0.0,\"#0d0887\"],[0.1111111111111111,\"#46039f\"],[0.2222222222222222,\"#7201a8\"],[0.3333333333333333,\"#9c179e\"],[0.4444444444444444,\"#bd3786\"],[0.5555555555555556,\"#d8576b\"],[0.6666666666666666,\"#ed7953\"],[0.7777777777777778,\"#fb9f3a\"],[0.8888888888888888,\"#fdca26\"],[1.0,\"#f0f921\"]]}],\"choropleth\":[{\"type\":\"choropleth\",\"colorbar\":{\"outlinewidth\":0,\"ticks\":\"\"}}],\"histogram2d\":[{\"type\":\"histogram2d\",\"colorbar\":{\"outlinewidth\":0,\"ticks\":\"\"},\"colorscale\":[[0.0,\"#0d0887\"],[0.1111111111111111,\"#46039f\"],[0.2222222222222222,\"#7201a8\"],[0.3333333333333333,\"#9c179e\"],[0.4444444444444444,\"#bd3786\"],[0.5555555555555556,\"#d8576b\"],[0.6666666666666666,\"#ed7953\"],[0.7777777777777778,\"#fb9f3a\"],[0.8888888888888888,\"#fdca26\"],[1.0,\"#f0f921\"]]}],\"heatmap\":[{\"type\":\"heatmap\",\"colorbar\":{\"outlinewidth\":0,\"ticks\":\"\"},\"colorscale\":[[0.0,\"#0d0887\"],[0.1111111111111111,\"#46039f\"],[0.2222222222222222,\"#7201a8\"],[0.3333333333333333,\"#9c179e\"],[0.4444444444444444,\"#bd3786\"],[0.5555555555555556,\"#d8576b\"],[0.6666666666666666,\"#ed7953\"],[0.7777777777777778,\"#fb9f3a\"],[0.8888888888888888,\"#fdca26\"],[1.0,\"#f0f921\"]]}],\"heatmapgl\":[{\"type\":\"heatmapgl\",\"colorbar\":{\"outlinewidth\":0,\"ticks\":\"\"},\"colorscale\":[[0.0,\"#0d0887\"],[0.1111111111111111,\"#46039f\"],[0.2222222222222222,\"#7201a8\"],[0.3333333333333333,\"#9c179e\"],[0.4444444444444444,\"#bd3786\"],[0.5555555555555556,\"#d8576b\"],[0.6666666666666666,\"#ed7953\"],[0.7777777777777778,\"#fb9f3a\"],[0.8888888888888888,\"#fdca26\"],[1.0,\"#f0f921\"]]}],\"contourcarpet\":[{\"type\":\"contourcarpet\",\"colorbar\":{\"outlinewidth\":0,\"ticks\":\"\"}}],\"contour\":[{\"type\":\"contour\",\"colorbar\":{\"outlinewidth\":0,\"ticks\":\"\"},\"colorscale\":[[0.0,\"#0d0887\"],[0.1111111111111111,\"#46039f\"],[0.2222222222222222,\"#7201a8\"],[0.3333333333333333,\"#9c179e\"],[0.4444444444444444,\"#bd3786\"],[0.5555555555555556,\"#d8576b\"],[0.6666666666666666,\"#ed7953\"],[0.7777777777777778,\"#fb9f3a\"],[0.8888888888888888,\"#fdca26\"],[1.0,\"#f0f921\"]]}],\"surface\":[{\"type\":\"surface\",\"colorbar\":{\"outlinewidth\":0,\"ticks\":\"\"},\"colorscale\":[[0.0,\"#0d0887\"],[0.1111111111111111,\"#46039f\"],[0.2222222222222222,\"#7201a8\"],[0.3333333333333333,\"#9c179e\"],[0.4444444444444444,\"#bd3786\"],[0.5555555555555556,\"#d8576b\"],[0.6666666666666666,\"#ed7953\"],[0.7777777777777778,\"#fb9f3a\"],[0.8888888888888888,\"#fdca26\"],[1.0,\"#f0f921\"]]}],\"mesh3d\":[{\"type\":\"mesh3d\",\"colorbar\":{\"outlinewidth\":0,\"ticks\":\"\"}}],\"scatter\":[{\"fillpattern\":{\"fillmode\":\"overlay\",\"size\":10,\"solidity\":0.2},\"type\":\"scatter\"}],\"parcoords\":[{\"type\":\"parcoords\",\"line\":{\"colorbar\":{\"outlinewidth\":0,\"ticks\":\"\"}}}],\"scatterpolargl\":[{\"type\":\"scatterpolargl\",\"marker\":{\"colorbar\":{\"outlinewidth\":0,\"ticks\":\"\"}}}],\"bar\":[{\"error_x\":{\"color\":\"#2a3f5f\"},\"error_y\":{\"color\":\"#2a3f5f\"},\"marker\":{\"line\":{\"color\":\"#E5ECF6\",\"width\":0.5},\"pattern\":{\"fillmode\":\"overlay\",\"size\":10,\"solidity\":0.2}},\"type\":\"bar\"}],\"scattergeo\":[{\"type\":\"scattergeo\",\"marker\":{\"colorbar\":{\"outlinewidth\":0,\"ticks\":\"\"}}}],\"scatterpolar\":[{\"type\":\"scatterpolar\",\"marker\":{\"colorbar\":{\"outlinewidth\":0,\"ticks\":\"\"}}}],\"histogram\":[{\"marker\":{\"pattern\":{\"fillmode\":\"overlay\",\"size\":10,\"solidity\":0.2}},\"type\":\"histogram\"}],\"scattergl\":[{\"type\":\"scattergl\",\"marker\":{\"colorbar\":{\"outlinewidth\":0,\"ticks\":\"\"}}}],\"scatter3d\":[{\"type\":\"scatter3d\",\"line\":{\"colorbar\":{\"outlinewidth\":0,\"ticks\":\"\"}},\"marker\":{\"colorbar\":{\"outlinewidth\":0,\"ticks\":\"\"}}}],\"scattermapbox\":[{\"type\":\"scattermapbox\",\"marker\":{\"colorbar\":{\"outlinewidth\":0,\"ticks\":\"\"}}}],\"scatterternary\":[{\"type\":\"scatterternary\",\"marker\":{\"colorbar\":{\"outlinewidth\":0,\"ticks\":\"\"}}}],\"scattercarpet\":[{\"type\":\"scattercarpet\",\"marker\":{\"colorbar\":{\"outlinewidth\":0,\"ticks\":\"\"}}}],\"carpet\":[{\"aaxis\":{\"endlinecolor\":\"#2a3f5f\",\"gridcolor\":\"white\",\"linecolor\":\"white\",\"minorgridcolor\":\"white\",\"startlinecolor\":\"#2a3f5f\"},\"baxis\":{\"endlinecolor\":\"#2a3f5f\",\"gridcolor\":\"white\",\"linecolor\":\"white\",\"minorgridcolor\":\"white\",\"startlinecolor\":\"#2a3f5f\"},\"type\":\"carpet\"}],\"table\":[{\"cells\":{\"fill\":{\"color\":\"#EBF0F8\"},\"line\":{\"color\":\"white\"}},\"header\":{\"fill\":{\"color\":\"#C8D4E3\"},\"line\":{\"color\":\"white\"}},\"type\":\"table\"}],\"barpolar\":[{\"marker\":{\"line\":{\"color\":\"#E5ECF6\",\"width\":0.5},\"pattern\":{\"fillmode\":\"overlay\",\"size\":10,\"solidity\":0.2}},\"type\":\"barpolar\"}],\"pie\":[{\"automargin\":true,\"type\":\"pie\"}]},\"layout\":{\"autotypenumbers\":\"strict\",\"colorway\":[\"#636efa\",\"#EF553B\",\"#00cc96\",\"#ab63fa\",\"#FFA15A\",\"#19d3f3\",\"#FF6692\",\"#B6E880\",\"#FF97FF\",\"#FECB52\"],\"font\":{\"color\":\"#2a3f5f\"},\"hovermode\":\"closest\",\"hoverlabel\":{\"align\":\"left\"},\"paper_bgcolor\":\"white\",\"plot_bgcolor\":\"#E5ECF6\",\"polar\":{\"bgcolor\":\"#E5ECF6\",\"angularaxis\":{\"gridcolor\":\"white\",\"linecolor\":\"white\",\"ticks\":\"\"},\"radialaxis\":{\"gridcolor\":\"white\",\"linecolor\":\"white\",\"ticks\":\"\"}},\"ternary\":{\"bgcolor\":\"#E5ECF6\",\"aaxis\":{\"gridcolor\":\"white\",\"linecolor\":\"white\",\"ticks\":\"\"},\"baxis\":{\"gridcolor\":\"white\",\"linecolor\":\"white\",\"ticks\":\"\"},\"caxis\":{\"gridcolor\":\"white\",\"linecolor\":\"white\",\"ticks\":\"\"}},\"coloraxis\":{\"colorbar\":{\"outlinewidth\":0,\"ticks\":\"\"}},\"colorscale\":{\"sequential\":[[0.0,\"#0d0887\"],[0.1111111111111111,\"#46039f\"],[0.2222222222222222,\"#7201a8\"],[0.3333333333333333,\"#9c179e\"],[0.4444444444444444,\"#bd3786\"],[0.5555555555555556,\"#d8576b\"],[0.6666666666666666,\"#ed7953\"],[0.7777777777777778,\"#fb9f3a\"],[0.8888888888888888,\"#fdca26\"],[1.0,\"#f0f921\"]],\"sequentialminus\":[[0.0,\"#0d0887\"],[0.1111111111111111,\"#46039f\"],[0.2222222222222222,\"#7201a8\"],[0.3333333333333333,\"#9c179e\"],[0.4444444444444444,\"#bd3786\"],[0.5555555555555556,\"#d8576b\"],[0.6666666666666666,\"#ed7953\"],[0.7777777777777778,\"#fb9f3a\"],[0.8888888888888888,\"#fdca26\"],[1.0,\"#f0f921\"]],\"diverging\":[[0,\"#8e0152\"],[0.1,\"#c51b7d\"],[0.2,\"#de77ae\"],[0.3,\"#f1b6da\"],[0.4,\"#fde0ef\"],[0.5,\"#f7f7f7\"],[0.6,\"#e6f5d0\"],[0.7,\"#b8e186\"],[0.8,\"#7fbc41\"],[0.9,\"#4d9221\"],[1,\"#276419\"]]},\"xaxis\":{\"gridcolor\":\"white\",\"linecolor\":\"white\",\"ticks\":\"\",\"title\":{\"standoff\":15},\"zerolinecolor\":\"white\",\"automargin\":true,\"zerolinewidth\":2},\"yaxis\":{\"gridcolor\":\"white\",\"linecolor\":\"white\",\"ticks\":\"\",\"title\":{\"standoff\":15},\"zerolinecolor\":\"white\",\"automargin\":true,\"zerolinewidth\":2},\"scene\":{\"xaxis\":{\"backgroundcolor\":\"#E5ECF6\",\"gridcolor\":\"white\",\"linecolor\":\"white\",\"showbackground\":true,\"ticks\":\"\",\"zerolinecolor\":\"white\",\"gridwidth\":2},\"yaxis\":{\"backgroundcolor\":\"#E5ECF6\",\"gridcolor\":\"white\",\"linecolor\":\"white\",\"showbackground\":true,\"ticks\":\"\",\"zerolinecolor\":\"white\",\"gridwidth\":2},\"zaxis\":{\"backgroundcolor\":\"#E5ECF6\",\"gridcolor\":\"white\",\"linecolor\":\"white\",\"showbackground\":true,\"ticks\":\"\",\"zerolinecolor\":\"white\",\"gridwidth\":2}},\"shapedefaults\":{\"line\":{\"color\":\"#2a3f5f\"}},\"annotationdefaults\":{\"arrowcolor\":\"#2a3f5f\",\"arrowhead\":0,\"arrowwidth\":1},\"geo\":{\"bgcolor\":\"white\",\"landcolor\":\"#E5ECF6\",\"subunitcolor\":\"white\",\"showland\":true,\"showlakes\":true,\"lakecolor\":\"white\"},\"title\":{\"x\":0.05},\"mapbox\":{\"style\":\"light\"}}},\"title\":{\"text\":\"Price Distribution by Laptop Type\"},\"xaxis\":{\"title\":{\"text\":\"Laptop Type\"}},\"yaxis\":{\"title\":{\"text\":\"Price\"}}},                        {\"responsive\": true}                    ).then(function(){\n",
              "                            \n",
              "var gd = document.getElementById('5cefdeea-27f7-4da0-a35a-45ee6c4aaaf1');\n",
              "var x = new MutationObserver(function (mutations, observer) {{\n",
              "        var display = window.getComputedStyle(gd).display;\n",
              "        if (!display || display === 'none') {{\n",
              "            console.log([gd, 'removed!']);\n",
              "            Plotly.purge(gd);\n",
              "            observer.disconnect();\n",
              "        }}\n",
              "}});\n",
              "\n",
              "// Listen for the removal of the full notebook cells\n",
              "var notebookContainer = gd.closest('#notebook-container');\n",
              "if (notebookContainer) {{\n",
              "    x.observe(notebookContainer, {childList: true});\n",
              "}}\n",
              "\n",
              "// Listen for the clearing of the current output cell\n",
              "var outputEl = gd.closest('.output');\n",
              "if (outputEl) {{\n",
              "    x.observe(outputEl, {childList: true});\n",
              "}}\n",
              "\n",
              "                        })                };                            </script>        </div>\n",
              "</body>\n",
              "</html>"
            ]
          },
          "metadata": {}
        }
      ],
      "source": [
        "fig = go.Figure()\n",
        "\n",
        "# Iterate over each unique laptop type\n",
        "for laptop_type in total_data['Category'].unique():\n",
        "    # Filter the dataframe for the current laptop type\n",
        "    data = total_data[total_data['Category'] == laptop_type]['Price']\n",
        "\n",
        "    # Add the box trace for the current laptop type\n",
        "    fig.add_trace(go.Box(y=data, name=laptop_type))\n",
        "\n",
        "# Customize the layout (optional)\n",
        "fig.update_layout(\n",
        "    title='Price Distribution by Laptop Type',\n",
        "    xaxis=dict(title='Laptop Type'),\n",
        "    yaxis=dict(title='Price'),\n",
        ")\n",
        "config = {'displayModeBar': False}\n",
        "\n",
        "# Generate the HTML file\n",
        "pio.write_html(fig, file='price_vs_type.html', config=config)\n",
        "\n",
        "# Show the plot\n",
        "fig.show()"
      ]
    },
    {
      "cell_type": "code",
      "execution_count": null,
      "metadata": {
        "colab": {
          "base_uri": "https://localhost:8080/"
        },
        "id": "ujFVhUBOUchZ",
        "outputId": "baf4bfcf-6628-4404-a6dc-ec3ce529ec1e"
      },
      "outputs": [
        {
          "output_type": "display_data",
          "data": {
            "text/html": [
              "<html>\n",
              "<head><meta charset=\"utf-8\" /></head>\n",
              "<body>\n",
              "    <div>            <script src=\"https://cdnjs.cloudflare.com/ajax/libs/mathjax/2.7.5/MathJax.js?config=TeX-AMS-MML_SVG\"></script><script type=\"text/javascript\">if (window.MathJax && window.MathJax.Hub && window.MathJax.Hub.Config) {window.MathJax.Hub.Config({SVG: {font: \"STIX-Web\"}});}</script>                <script type=\"text/javascript\">window.PlotlyConfig = {MathJaxConfig: 'local'};</script>\n",
              "        <script charset=\"utf-8\" src=\"https://cdn.plot.ly/plotly-2.24.1.min.js\"></script>                <div id=\"65ba8e4b-e34e-4faa-8fba-c4aa3f947d55\" class=\"plotly-graph-div\" style=\"height:525px; width:100%;\"></div>            <script type=\"text/javascript\">                                    window.PLOTLYENV=window.PLOTLYENV || {};                                    if (document.getElementById(\"65ba8e4b-e34e-4faa-8fba-c4aa3f947d55\")) {                    Plotly.newPlot(                        \"65ba8e4b-e34e-4faa-8fba-c4aa3f947d55\",                        [{\"name\":\"Apple\",\"y\":[1441.41534108,967.19831208,2730.1236534,1940.5509551999999,2302.4622020399997,1246.6824084,2625.2418020399996,1358.2565568,1633.8565386,3075.013656,1182.449268,1073.780136,1526.747508,1624.65732,2194.90128,2107.6431948,1253.46078,959.0,2858.0,1803.6,1510.0,2439.97,1165.0,1099.0,2139.97,1300.0,998.0,2537.45,1518.55,1958.9,1419.0,1339.69,2040.0,1158.7,1262.4],\"type\":\"box\"},{\"name\":\"HP\",\"y\":[618.6609,423.80961479999996,371.18578068,277.590456,709.039188,964.035072,472.334148,525.79720908,945.744228,428.74814268,1186.752996,472.334148,742.39308,472.00060908,246.388428,1051.185564,925.30152,752.076468,644.47250868,1287.890604,1343.839068,773.595108,375.500268,1203.967908,709.039188,776.822904,1505.2181086800001,1166.310288,1367.509572,278.666388,873.656784,998.464896,643.407336,1063.020816,752.076468,397.018908,2166.927048,1164.158424,666.001908,811.252728,752.076468,993.085236,1612.822068,983.401848,1031.818788,1483.710228,1124.34894,375.500268,1109.285892,854.2900080000001,1365.357708,355.05756,601.445988,726.2541,479.75807879999996,1139.411988,776.822904,1095.298776,526.130748,2124.9657,504.612108,2634.957468,1054.41336,1390.104144,970.490664,1436.36922,1364.281776,1230.866208,770.367312,300.185028,1403.015328,1870.26031764,472.334148,687.520548,418.537548,1882.881,526.11998868,1281.435012,536.890068,504.612108,1613.898,1535.354964,2150.788068,373.348404,1182.449268,633.723948,1650.479688,688.4888867999999,1828.008468,2150.788068,1241.625528,781.126632,1881.805068,665.99114868,1423.458036,561.06626004,956.503548,1505.228868,741.317148,429.28610868,1935.601668,1231.94214,759.070026,427.14500400000003,585.4683977999999,1377.19296,612.0977148,2114.20638,2002.29869268,418.537548,698.279868,773.595108,1611.746136,1311.561108,719.23902336,1494.469548,1209.347568,1002.768624,560.4529788,392.6075868,579.927348,801.56934,752.076468,532.58634,752.076468,659.12670252,612.205308,2052.86749668,741.317148,704.74621932,1291.1184,900.1247112,526.130748,699.3558,2602.679508,579.927348,4722.265548,2044.2708,1182.449268,1679.529852,1338.459408,2221.6919868,1494.469548,676.761228,1881.805068,414.23382,979.09812,2011.9928400000001,661.69818,2449.897164,1579.468176,321.703668,2753.309988,1451.432268,979.09812,902.706948,1829.0844,736.7982336,1935.601668,1361.05398,1505.228868,968.3388,1595.607156,3335.3892,1096.36394868,1032.89472,1395.47304468,1236.245868,1253.46078,1236.245868,1698.896628,310.8367548,1795.730508,1505.228868,2419.771068,833.8473,910.776438,737.01342,1053.337428,900.0,2296.95,439.0,742.0,1427.0,398.99,764.0,1189.0,650.0,1070.0,1999.0,1200.0,979.0,579.0,4389.0,769.99,679.0,719.0,330.0,1268.0,369.0,1103.0,1149.0,960.0,722.0,488.99,345.99,846.5,1870.0,549.99,1154.0,1389.0,932.0,1399.0,800.0,1349.0,279.0,1561.0,209.0,979.0,1539.0,397.0,229.0,1399.0,2899.0,1895.0,860.0,699.0,615.0,1749.0,675.0,1249.0,2449.0,1045.0,1690.0,1124.0,928.0,2103.34,1323.0,684.8,2419.0,589.0,612.61,3949.4,489.0,896.0,209.0,598.99,689.0,779.0,579.0,499.0,719.0,1498.0,249.0,1379.0,923.0,1389.0,699.0,598.0,618.99,549.99,2229.0,1349.0,705.5,1080.0,438.69,655.01,1499.0,1969.0,389.0,389.0,2089.0,699.0,299.0,488.69,1559.0,539.0,812.0,2049.0,1197.0,684.0,1084.0,639.9,2229.0,699.0,1579.0,1119.0,1999.0,1060.0,1699.0,1018.0,1699.0,575.0,469.0,2277.0,629.0,1975.0,879.0,1495.0,399.0,1534.0,1030.99,439.0,764.0,1599.0,754.0,1244.0,1219.0,752.0,1799.0,722.0,977.0,349.0,3100.0,1590.0,799.0,1669.0,1205.0,1700.0,1000.0,726.0,1887.21,699.0,344.99,2249.0,902.0,1059.0,1304.0,1468.0,1965.0,2171.72,1189.0,439.0,1149.0,1099.99,544.15,469.0,745.0,764.0,1483.0,1144.0,478.0,649.0,364.9,668.48,1799.0,349.0,259.0,539.0,2014.0,973.0,521.47,209.0,1399.0,398.0,398.49,2064.9,1335.0,1908.0,639.0,1750.0,940.0,1398.99,489.0,529.0,569.0,499.0,914.0,1199.0],\"type\":\"box\"},{\"name\":\"Acer\",\"y\":[430.3728,828.46764,394.867044,733.785624,904.8588120000001,413.157888,418.537548,570.24396,424.99314,741.317148,911.314404,515.371428,485.245332,951.123888,615.433104,704.73546,480.941604,866.12526,374.424336,391.11204132,918.845928,483.093468,1064.096748,798.341544,838.151028,895.175424,741.317148,419.61348,910.238472,755.304264,801.56934,1023.211332,709.039188,214.110468,1053.337428,504.612108,521.82702,709.039188,590.686668,458.347032,910.238472,746.68604868,945.744228,848.92110732,475.3467576,585.307008,468.03042,504.612108,622.964628,659.546316,687.520548,858.593736,375.500268,353.981628,375.500268,407.778228,484.1694,988.781508,762.835788,443.283984,1397.635668,403.4745,289.425708,1074.856068,2081.92842,601.445988,441.9928656,355.05756,644.483268,704.73546,320.627736,684.292752,2473.567668,381.95586,666.001908,970.490664,319.551804,386.259588,536.890068,666.001908,375.500268,418.537548,1085.615388,485.0,269.0,359.0,902.0,1149.0,799.0,549.0,691.0,1260.0,449.0,1299.0,689.0,412.0,530.0,379.0,330.0,979.0,579.0,199.0,770.0,410.8,805.0,636.0,745.0,682.0,387.0,951.0,367.0,272.0,363.51,389.0,999.0,450.0,599.0,380.0,598.0,832.0,655.0,655.0,613.0,659.0,846.0,559.0,2299.0,742.0,689.0,333.0,847.0,619.0,469.0,639.0,879.0,384.0,616.0,289.0,2599.0,789.01,702.0,709.0,389.0,846.0,375.0,395.0,355.0,297.0,544.0,469.0,919.0],\"type\":\"box\"},{\"name\":\"Asus\",\"y\":[1608.51834,206.4713508,214.110468,418.537548,562.70167668,1397.635668,501.384312,630.70057908,446.51178,1012.452012,2133.573156,1021.059468,1021.059468,1559.025468,752.076468,1128.652668,620.812764,1283.586876,1357.826184,606.825648,1202.891976,299.09833668,1009.224216,1182.449268,370.120608,1414.85058,433.600596,1513.836324,827.391708,958.655412,429.28610868,618.6609,4185.37548,1231.94214,956.503548,3226.720068,1935.601668,504.612108,1612.822068,1666.618668,1051.185564,1277.131284,1579.468176,547.649388,2283.127704,1361.05398,295.8813,1177.069608,1129.6210068,1435.293288,1074.856068,295.87054068000003,403.4745,1016.75574,1182.449268,2365.974468,307.716552,1780.66746,1881.6974748,1117.893348,1711.807812,1645.100028,2015.220636,998.464896,642.331404,1823.70474,601.445988,805.873068,327.083328,1397.635668,2098.0674,1452.5082,1365.357708,365.81688,1316.940768,263.60334,3193.366176,1618.201728,1397.635668,1774.211868,375.500268,241.008768,902.706948,1904.39964,795.113748,1256.688576,687.53130732,2044.2708,429.296868,975.46146984,1257.764508,3011.533668,1221.18282,450.815508,719.798508,320.627736,622.964628,914.4346068,1214.727228,506.05385687999996,902.706948,626.0848308,2528.4402,1440.672948,321.703668,1182.449268,1461.115656,558.408708,2602.679508,634.79988,1935.601668,1103.906232,2043.194868,846.758484,483.093468,429.28610868,374.424336,1473.9192468,1376.117028,570.24396,1247.005188,2205.5530068000003,369.0,1499.0,586.19,389.0,749.0,278.0,1591.0,1799.0,1049.0,403.0,1655.0,577.0,530.0,1468.0,1299.0,1129.0,1169.0,398.99,1099.0,729.0,1145.0,1150.0,1099.0,304.0,1334.0,415.0,2325.0,1449.0,299.0,398.99,1749.0,2199.0,949.0,1950.0,889.0,466.0,348.0,769.0,470.34,3890.0,1799.0,1748.9,1529.0,1299.0,597.0,1312.49,309.0,998.0,1600.0,1169.0,559.0,2419.0,1094.0,2799.0,1873.0,1899.0,286.0,1339.0,1770.0,1900.0,2122.0,2999.0,739.0,1407.0,1949.0,349.0,590.0,522.99,519.0,849.9,720.32,1193.0,1495.0,1269.0,729.0,1315.0,3975.0,2350.0,949.0,999.0,2968.0,245.0,1118.0,1983.0,375.0,906.62,340.0,1039.0,1799.0,720.32,287.9,1369.9,575.0,2449.0,2049.9,1695.0,564.0,839.0,1224.0,2299.0,669.0,1135.0,581.9,275.0,891.0,787.0,1187.0,769.0,1799.0,729.0,1159.0,1265.0,720.32,2150.0,1280.0,699.0,191.9],\"type\":\"box\"},{\"name\":\"Dell\",\"y\":[536.7824747999999,801.56934,1053.337428,881.188308,450.42817248,860.7456,1396.559736,2010.916908,1053.337428,1612.822068,1074.856068,687.520548,826.1005895999999,1397.635668,945.744228,1027.51506,936.06084,919.92186,1179.39362112,1451.432268,1774.211868,1285.73874,645.4516067999999,521.82702,696.128004,1483.710228,1752.693228,1216.15821756,1502.001072,687.50978868,483.093468,1344.11881032,967.262868,1128.652668,783.278496,1141.01512668,493.852788,1128.652668,1505.228868,1666.618668,2579.009004,1167.38622,902.706948,1985.09454,3286.97226,472.334148,2096.991468,1559.025468,1002.63951216,1236.245868,1376.117028,728.7825402,2642.8548088800003,924.2363473199999,924.225588,967.262868,945.744228,1059.79302,881.188308,1021.059468,1228.714344,706.887324,607.90158,859.669668,790.88533524,767.2148312400001,1182.449268,460.498896,1967.879628,3103.9131895200003,2688.754068,908.086608,2839.384548,1128.652668,1229.521293,295.77370679999996,1698.896628,1730.05561872,713.342916,2181.36605544,1044.6223788,1074.856068,599.69221884,1535.354964,1167.38622,967.262868,934.9956673199999,332.462988,1472.950908,2297.11482,838.01115684,2917.927584,1807.56576,644.3756748,741.317148,580.9494834000001,3011.533668,1247.005188,1229.1447168000002,1182.449268,805.873068,1268.523828,2144.332476,2124.9657,1053.337428,515.371428,2201.356872,816.632388,1981.7053541999999,796.18968,2590.844256,726.2541,1357.826184,631.1417112,2515.529016,2043.194868,967.262868,899.479152,1311.81933168,1376.90245836,956.503548,629.42022,1481.558364,3241.53565164,1472.950908,857.95893612,1505.228868,791.74608084,1201.80528468,2903.940468,664.8183828,1720.415268,1031.818788,805.88382732,1085.09894064,1654.1270974800002,317.39994,648.786996,1796.80644,1896.868116,500.30838,945.7549873199999,477.6062148,386.259588,934.984908,612.205308,834.923232,1958.19624,1591.303428,2010.916908,2581.160868,1559.9938068000001,988.781508,1221.18282,3386.35609884,1322.320428,1027.51506,2206.736532,3027.403665,587.10381444,881.188308,855.36594,1171.689948,781.126632,1534.98914712,1268.523828,3937.2655608,773.595108,698.279868,634.28343264,698.279868,709.039188,1298.649924,715.49478,1212.26334372,3086.83814868,2000.157588,913.466268,1182.449268,1270.96619364,1182.449268,3861.3047616000003,1059.79302,871.50492,795.113748,1612.822068,1881.805068,800.493408,1806.489828,1033.970652,849.7818529199999,2695.23117864,812.32866,629.42022,2985.31320516,3306.22068348,768.20468868,795.113748,930.68118,1016.75574,698.279868,2410.08768,1913.007096,1818.32508,981.78795,397.018908,490.3022124,999.540828,660.622248,1005.9964200000001,2165.9587091999997,1774.211868,1296.49806,1451.432268,737.00266068,785.3227668,761.82441192,601.0156152000001,1763.452548,2967.420456,1583.9870904,709.039188,1909.7793,3393.489528,2043.194868,1364.281776,500.97545784,887.6439,3388.109868,2043.194868,2112.03299736,3012.6096000000002,369.0,2046.0,1624.0,1829.0,1142.75,895.01,465.0,899.0,1975.0,800.0,638.99,1413.1,899.0,1537.39,1778.0,750.0,2799.0,737.0,1116.99,778.87,2680.0,1096.16,1369.0,499.0,739.0,689.0,1599.0,1749.0,1499.0,598.9,1199.0,1479.0,1099.0,1670.0,1099.0,1869.0,659.0,309.0,1639.0,999.0,479.0,1379.0,586.6,1649.0,1268.0,945.0,979.0,649.0,889.0,557.37,585.0,614.0,899.0,870.0,749.0,1349.0,2758.0,2499.0,439.0,443.99,449.0,713.07,869.01,1181.27,961.0,523.63,819.0,539.95,359.0,659.0,3055.0,379.0,2250.68,3149.0,2013.1,819.0,797.41,465.62,1199.0,985.0,1009.9,735.07,805.99,2027.42,1329.0,418.64,729.9,1085.0,1449.9,1299.0,769.15,639.0,2505.02,675.0,875.0,3072.89,1179.0,1089.0,1207.0,1049.0,459.0,565.0,2800.0,1179.0,935.0,521.86,2699.0,455.7,879.0,899.0,1690.0,469.01,1262.0,849.0,1775.0,869.0,1845.0,2774.63,1149.0,1713.37,2240.0,1119.0,726.0,1607.96,1869.0,979.0,558.6,379.0,2051.0,708.06,3588.8,713.99,879.01,728.0,795.99,855.0,569.0,749.0,3154.0,949.0,825.0,979.0,1899.0,459.0,589.52,3659.4,1499.0,459.0,1458.0,719.0,745.0,844.0,1285.0,1229.0,859.0,393.49,999.0,3147.37,1195.0,1399.0,1629.0,547.0,684.99,1859.0,1099.0,677.35,1679.0,759.0,1135.15,1549.0,1349.0,443.9,955.0,1049.0,795.0,1279.73,1962.98,1993.0,739.0,767.8,647.0,509.0,599.9,428.0,459.0,1649.0,1279.0,2868.99,603.0,663.0,959.0,1062.95,649.0,1498.0,274.9,810.0,1060.49,735.87,1820.0,749.01,2135.0,2813.75,1579.0,1099.0,1899.0,3012.77,889.0,617.9,931.88],\"type\":\"box\"},{\"name\":\"Lenovo\",\"y\":[536.890068,1074.856068,267.907068,397.018908,343.222308,644.483268,590.686668,558.408708,429.296868,446.4041868,1592.37936,1505.228868,676.761228,271.52219952,536.890068,1200.76163064,934.984908,535.814136,676.761228,1160.930628,332.462988,874.732716,1989.398268,838.151028,3038.431968,751.000536,530.434476,1881.805068,1504.152936,642.331404,590.686668,633.723948,967.262868,1612.822068,633.723948,1160.930628,1989.398268,1828.008468,477.71380800000003,502.460244,946.82016,2688.754068,526.130748,913.466268,924.225588,891.947628,622.964628,1180.297404,1268.523828,709.04994732,795.113748,1397.635668,536.890068,698.279868,590.686668,387.32476068,881.188308,1074.856068,494.8211268,633.723948,314.172144,483.093468,967.262868,2258.381268,1214.727228,346.43934468000003,773.595108,536.890068,870.428988,526.130748,594.990396,434.138562,1182.449268,2455.276824,590.686668,2699.513388,1322.9229499199998,1009.224216,2824.3215,329.235192,1231.404174,440.056188,327.5674974,2071.1691,2090.535876,1307.6662341600002,2043.194868,1086.69132,644.483268,2630.65374,2634.957468,2562.870024,558.408708,1537.506828,375.500268,1447.12854,859.669668,2248.69788,1999.081656,1467.571248,607.90158,1128.652668,1934.525736,1088.83242468,1182.449268,967.1552748,1021.059468,980.174052,1720.415268,321.703668,285.12198,1021.059468,1236.245868,1505.228868,1441.74888,859.669668,493.852788,924.225588,844.60662,497.45716020000003,1860.2864280000001,536.890068,1021.059468,677.83716,3226.720068,370.120608,1065.17268,893.02356,737.01342,2865.206916,1800.034236,655.242588,1021.059468,569.168028,493.852788,2178.7623,1585.923768,606.825648,1397.635668,5270.990868,1576.24038,967.262868,503.536176,891.947628,622.964628,267.907068,1890.8644154400001,1193.208588,2636.0334,294.805368,1704.276288,1286.814672,450.815508,575.62362,880.0585794000001,1112.513688,375.500268,1612.822068,342.146376,752.076468,2786.66388,1881.805068,429.296868,461.574828,668.6379414,484.1694,1995.85386,1281.435012,1343.839068,922.1490392400001,320.627736,1814.70994848,1612.822068,527.0990868,1032.89472,838.151028,1074.856068,3549.499668,511.0677,1179.221472,1290.042468,1127.576736,2549.95884,353.981628,2473.567668,1074.856068,2119.58604,1031.818788,2506.92156,1451.432268,655.242588,2000.157588,527.0990868,2688.754068,2017.3725,2258.381268,1276.055352,1775.2878,349.6779,2047.498596,504.612108,915.2523151199999,1094.222844,2098.0674,1135.10826,515.371428,790.81002,719.798508,407.778228,1935.601668,2204.584668,2112.0437566799997,848.910348,848.910348,947.896092,1963.5759,1775.2878,332.462988,1935.601668,1397.635668,1074.856068,737.01342,1602.05198868,1893.64032,747.77274,1078.083864,399.0,468.0,469.0,1650.0,629.0,499.0,4899.0,830.0,309.0,1299.0,1099.0,949.0,2299.0,229.0,2370.0,1097.0,859.0,1099.0,339.0,799.0,999.0,2749.99,379.0,999.0,274.0,459.0,1757.42,270.62,2050.38,739.0,669.0,779.0,959.0,549.0,659.0,398.0,1199.0,1650.0,1340.0,899.0,1474.0,881.0,1962.99,1399.0,1799.0,788.49,1186.0,630.0,649.0,519.0,1390.0,2049.0,414.9,265.0,1072.0,1034.0,785.0,1179.0,1109.0,685.0,318.0,475.0,292.0,685.0,479.0,1673.0,829.0,719.0,1049.6,3299.0,459.0,899.0,599.0,549.0,1249.0,999.0,850.66,589.0,1859.0,2339.0,1699.0,1599.0,1199.0,1011.99,499.0,898.9,306.0,1584.0,949.0,1029.0,895.0,499.0,1499.0,899.0,2025.0,299.0,698.0,2450.0,1048.0,2499.0,869.0,489.9,1499.0,1399.0,304.45,1079.0,565.0,2824.0,2299.0,479.0,829.0,989.0,2099.0,938.0,1760.0,1499.0,1272.0,1189.0,499.0,1129.0,1299.0,2968.0,2663.0,899.0,1899.0,1299.0,2090.0,817.95,1499.0,403.5,819.0,2620.0,2099.0,2499.0,1798.0,1499.0,299.0,409.0,549.0,1925.0,1096.0,359.99,429.0,899.0,1149.0,2509.0,1099.0,1729.0,1499.0,638.0,597.57,325.0,699.0,880.0,1943.0,949.0,309.0,709.0,867.0,573.0,1191.0,2625.0,1055.0,1429.0,1749.0,813.0,444.0,3240.0,1017.0,609.0,735.0,1650.0,1825.0,489.9,1529.0,609.0,990.0,2449.0,1349.0,1002.0,1345.0,825.0,659.01,1950.0,599.0,999.0,498.0,1970.0,252.36,1196.0,549.0,629.0,1637.0,459.0,1713.49,1903.0,589.0,831.0,911.0,540.0,2445.0,789.0,599.0,1305.0,298.0,349.0,229.0,579.0],\"type\":\"box\"},{\"name\":\"Chuwi\",\"y\":[263.59258068,483.093468,267.7994748,244.99],\"type\":\"box\"},{\"name\":\"MSI\",\"y\":[2634.957468,1178.14554,1397.635668,2411.701578,2183.066028,2033.51148,1935.601668,3011.533668,2688.754068,2258.381268,1290.042468,1515.988188,1451.432268,2419.771068,1105.77835368,2936.218428,2527.364268,2365.974468,2473.567668,2440.06314552,1282.2957576,1599.66341964,1392.256008,1073.6725428000002,1450.87278336,2253.51805536,2034.587412,1171.689948,2598.37578,1290.042468,2850.143868,1720.415268,1204.9470061200002,1290.042468,2199.0,2499.0,1142.8,2029.0,2299.0,2249.0,1769.0,1027.74,2241.5,1349.0,839.0,1929.0,1191.8,1799.0,1476.11,2449.0,1169.0,2399.0,2094.48,1599.0,1191.8,1598.0,1891.0,1199.0,1149.0,1511.19,1294.0,1890.0,1299.0,2729.0,1348.48,2649.0,2153.37,2349.0,1199.0,1229.0,1819.0],\"type\":\"box\"},{\"name\":\"Microsoft\",\"y\":[1171.689948,1441.74888,2785.587948,1064.096748,1935.601668,2009.6795862,1799.0,2589.0,1867.85,1089.0,1340.0],\"type\":\"box\"},{\"name\":\"Toshiba\",\"y\":[647.711064,480.941604,526.130748,853.214076,1466.495316,873.656784,1122.197076,1014.603876,1509.532596,1879.653204,1798.958304,3011.533668,925.30152,2006.61318,1505.228868,1305.105516,1144.791648,535.814136,1353.522456,1046.881836,2019.524364,1651.55562,1097.45064,1897.944048,839.22696,1172.76588,536.890068,719.798508,1382.57262,1178.14554,1493.393616,1586.9997,2124.9657,1188.90486,1203.967908,1570.86072,1651.55562,1925.91828,1269.59976,1877.0,1195.0,1064.0,973.0,489.0,1490.0,812.0,1865.0,1790.0,943.0,1764.0,1975.0,1399.0,1119.0,2226.0,1388.0,1195.0,780.0,1535.0,793.0,499.0,1590.0,1258.0,1747.0,1180.0,1213.0,447.0,669.0,1425.0,602.0],\"type\":\"box\"}],                        {\"template\":{\"data\":{\"histogram2dcontour\":[{\"type\":\"histogram2dcontour\",\"colorbar\":{\"outlinewidth\":0,\"ticks\":\"\"},\"colorscale\":[[0.0,\"#0d0887\"],[0.1111111111111111,\"#46039f\"],[0.2222222222222222,\"#7201a8\"],[0.3333333333333333,\"#9c179e\"],[0.4444444444444444,\"#bd3786\"],[0.5555555555555556,\"#d8576b\"],[0.6666666666666666,\"#ed7953\"],[0.7777777777777778,\"#fb9f3a\"],[0.8888888888888888,\"#fdca26\"],[1.0,\"#f0f921\"]]}],\"choropleth\":[{\"type\":\"choropleth\",\"colorbar\":{\"outlinewidth\":0,\"ticks\":\"\"}}],\"histogram2d\":[{\"type\":\"histogram2d\",\"colorbar\":{\"outlinewidth\":0,\"ticks\":\"\"},\"colorscale\":[[0.0,\"#0d0887\"],[0.1111111111111111,\"#46039f\"],[0.2222222222222222,\"#7201a8\"],[0.3333333333333333,\"#9c179e\"],[0.4444444444444444,\"#bd3786\"],[0.5555555555555556,\"#d8576b\"],[0.6666666666666666,\"#ed7953\"],[0.7777777777777778,\"#fb9f3a\"],[0.8888888888888888,\"#fdca26\"],[1.0,\"#f0f921\"]]}],\"heatmap\":[{\"type\":\"heatmap\",\"colorbar\":{\"outlinewidth\":0,\"ticks\":\"\"},\"colorscale\":[[0.0,\"#0d0887\"],[0.1111111111111111,\"#46039f\"],[0.2222222222222222,\"#7201a8\"],[0.3333333333333333,\"#9c179e\"],[0.4444444444444444,\"#bd3786\"],[0.5555555555555556,\"#d8576b\"],[0.6666666666666666,\"#ed7953\"],[0.7777777777777778,\"#fb9f3a\"],[0.8888888888888888,\"#fdca26\"],[1.0,\"#f0f921\"]]}],\"heatmapgl\":[{\"type\":\"heatmapgl\",\"colorbar\":{\"outlinewidth\":0,\"ticks\":\"\"},\"colorscale\":[[0.0,\"#0d0887\"],[0.1111111111111111,\"#46039f\"],[0.2222222222222222,\"#7201a8\"],[0.3333333333333333,\"#9c179e\"],[0.4444444444444444,\"#bd3786\"],[0.5555555555555556,\"#d8576b\"],[0.6666666666666666,\"#ed7953\"],[0.7777777777777778,\"#fb9f3a\"],[0.8888888888888888,\"#fdca26\"],[1.0,\"#f0f921\"]]}],\"contourcarpet\":[{\"type\":\"contourcarpet\",\"colorbar\":{\"outlinewidth\":0,\"ticks\":\"\"}}],\"contour\":[{\"type\":\"contour\",\"colorbar\":{\"outlinewidth\":0,\"ticks\":\"\"},\"colorscale\":[[0.0,\"#0d0887\"],[0.1111111111111111,\"#46039f\"],[0.2222222222222222,\"#7201a8\"],[0.3333333333333333,\"#9c179e\"],[0.4444444444444444,\"#bd3786\"],[0.5555555555555556,\"#d8576b\"],[0.6666666666666666,\"#ed7953\"],[0.7777777777777778,\"#fb9f3a\"],[0.8888888888888888,\"#fdca26\"],[1.0,\"#f0f921\"]]}],\"surface\":[{\"type\":\"surface\",\"colorbar\":{\"outlinewidth\":0,\"ticks\":\"\"},\"colorscale\":[[0.0,\"#0d0887\"],[0.1111111111111111,\"#46039f\"],[0.2222222222222222,\"#7201a8\"],[0.3333333333333333,\"#9c179e\"],[0.4444444444444444,\"#bd3786\"],[0.5555555555555556,\"#d8576b\"],[0.6666666666666666,\"#ed7953\"],[0.7777777777777778,\"#fb9f3a\"],[0.8888888888888888,\"#fdca26\"],[1.0,\"#f0f921\"]]}],\"mesh3d\":[{\"type\":\"mesh3d\",\"colorbar\":{\"outlinewidth\":0,\"ticks\":\"\"}}],\"scatter\":[{\"fillpattern\":{\"fillmode\":\"overlay\",\"size\":10,\"solidity\":0.2},\"type\":\"scatter\"}],\"parcoords\":[{\"type\":\"parcoords\",\"line\":{\"colorbar\":{\"outlinewidth\":0,\"ticks\":\"\"}}}],\"scatterpolargl\":[{\"type\":\"scatterpolargl\",\"marker\":{\"colorbar\":{\"outlinewidth\":0,\"ticks\":\"\"}}}],\"bar\":[{\"error_x\":{\"color\":\"#2a3f5f\"},\"error_y\":{\"color\":\"#2a3f5f\"},\"marker\":{\"line\":{\"color\":\"#E5ECF6\",\"width\":0.5},\"pattern\":{\"fillmode\":\"overlay\",\"size\":10,\"solidity\":0.2}},\"type\":\"bar\"}],\"scattergeo\":[{\"type\":\"scattergeo\",\"marker\":{\"colorbar\":{\"outlinewidth\":0,\"ticks\":\"\"}}}],\"scatterpolar\":[{\"type\":\"scatterpolar\",\"marker\":{\"colorbar\":{\"outlinewidth\":0,\"ticks\":\"\"}}}],\"histogram\":[{\"marker\":{\"pattern\":{\"fillmode\":\"overlay\",\"size\":10,\"solidity\":0.2}},\"type\":\"histogram\"}],\"scattergl\":[{\"type\":\"scattergl\",\"marker\":{\"colorbar\":{\"outlinewidth\":0,\"ticks\":\"\"}}}],\"scatter3d\":[{\"type\":\"scatter3d\",\"line\":{\"colorbar\":{\"outlinewidth\":0,\"ticks\":\"\"}},\"marker\":{\"colorbar\":{\"outlinewidth\":0,\"ticks\":\"\"}}}],\"scattermapbox\":[{\"type\":\"scattermapbox\",\"marker\":{\"colorbar\":{\"outlinewidth\":0,\"ticks\":\"\"}}}],\"scatterternary\":[{\"type\":\"scatterternary\",\"marker\":{\"colorbar\":{\"outlinewidth\":0,\"ticks\":\"\"}}}],\"scattercarpet\":[{\"type\":\"scattercarpet\",\"marker\":{\"colorbar\":{\"outlinewidth\":0,\"ticks\":\"\"}}}],\"carpet\":[{\"aaxis\":{\"endlinecolor\":\"#2a3f5f\",\"gridcolor\":\"white\",\"linecolor\":\"white\",\"minorgridcolor\":\"white\",\"startlinecolor\":\"#2a3f5f\"},\"baxis\":{\"endlinecolor\":\"#2a3f5f\",\"gridcolor\":\"white\",\"linecolor\":\"white\",\"minorgridcolor\":\"white\",\"startlinecolor\":\"#2a3f5f\"},\"type\":\"carpet\"}],\"table\":[{\"cells\":{\"fill\":{\"color\":\"#EBF0F8\"},\"line\":{\"color\":\"white\"}},\"header\":{\"fill\":{\"color\":\"#C8D4E3\"},\"line\":{\"color\":\"white\"}},\"type\":\"table\"}],\"barpolar\":[{\"marker\":{\"line\":{\"color\":\"#E5ECF6\",\"width\":0.5},\"pattern\":{\"fillmode\":\"overlay\",\"size\":10,\"solidity\":0.2}},\"type\":\"barpolar\"}],\"pie\":[{\"automargin\":true,\"type\":\"pie\"}]},\"layout\":{\"autotypenumbers\":\"strict\",\"colorway\":[\"#636efa\",\"#EF553B\",\"#00cc96\",\"#ab63fa\",\"#FFA15A\",\"#19d3f3\",\"#FF6692\",\"#B6E880\",\"#FF97FF\",\"#FECB52\"],\"font\":{\"color\":\"#2a3f5f\"},\"hovermode\":\"closest\",\"hoverlabel\":{\"align\":\"left\"},\"paper_bgcolor\":\"white\",\"plot_bgcolor\":\"#E5ECF6\",\"polar\":{\"bgcolor\":\"#E5ECF6\",\"angularaxis\":{\"gridcolor\":\"white\",\"linecolor\":\"white\",\"ticks\":\"\"},\"radialaxis\":{\"gridcolor\":\"white\",\"linecolor\":\"white\",\"ticks\":\"\"}},\"ternary\":{\"bgcolor\":\"#E5ECF6\",\"aaxis\":{\"gridcolor\":\"white\",\"linecolor\":\"white\",\"ticks\":\"\"},\"baxis\":{\"gridcolor\":\"white\",\"linecolor\":\"white\",\"ticks\":\"\"},\"caxis\":{\"gridcolor\":\"white\",\"linecolor\":\"white\",\"ticks\":\"\"}},\"coloraxis\":{\"colorbar\":{\"outlinewidth\":0,\"ticks\":\"\"}},\"colorscale\":{\"sequential\":[[0.0,\"#0d0887\"],[0.1111111111111111,\"#46039f\"],[0.2222222222222222,\"#7201a8\"],[0.3333333333333333,\"#9c179e\"],[0.4444444444444444,\"#bd3786\"],[0.5555555555555556,\"#d8576b\"],[0.6666666666666666,\"#ed7953\"],[0.7777777777777778,\"#fb9f3a\"],[0.8888888888888888,\"#fdca26\"],[1.0,\"#f0f921\"]],\"sequentialminus\":[[0.0,\"#0d0887\"],[0.1111111111111111,\"#46039f\"],[0.2222222222222222,\"#7201a8\"],[0.3333333333333333,\"#9c179e\"],[0.4444444444444444,\"#bd3786\"],[0.5555555555555556,\"#d8576b\"],[0.6666666666666666,\"#ed7953\"],[0.7777777777777778,\"#fb9f3a\"],[0.8888888888888888,\"#fdca26\"],[1.0,\"#f0f921\"]],\"diverging\":[[0,\"#8e0152\"],[0.1,\"#c51b7d\"],[0.2,\"#de77ae\"],[0.3,\"#f1b6da\"],[0.4,\"#fde0ef\"],[0.5,\"#f7f7f7\"],[0.6,\"#e6f5d0\"],[0.7,\"#b8e186\"],[0.8,\"#7fbc41\"],[0.9,\"#4d9221\"],[1,\"#276419\"]]},\"xaxis\":{\"gridcolor\":\"white\",\"linecolor\":\"white\",\"ticks\":\"\",\"title\":{\"standoff\":15},\"zerolinecolor\":\"white\",\"automargin\":true,\"zerolinewidth\":2},\"yaxis\":{\"gridcolor\":\"white\",\"linecolor\":\"white\",\"ticks\":\"\",\"title\":{\"standoff\":15},\"zerolinecolor\":\"white\",\"automargin\":true,\"zerolinewidth\":2},\"scene\":{\"xaxis\":{\"backgroundcolor\":\"#E5ECF6\",\"gridcolor\":\"white\",\"linecolor\":\"white\",\"showbackground\":true,\"ticks\":\"\",\"zerolinecolor\":\"white\",\"gridwidth\":2},\"yaxis\":{\"backgroundcolor\":\"#E5ECF6\",\"gridcolor\":\"white\",\"linecolor\":\"white\",\"showbackground\":true,\"ticks\":\"\",\"zerolinecolor\":\"white\",\"gridwidth\":2},\"zaxis\":{\"backgroundcolor\":\"#E5ECF6\",\"gridcolor\":\"white\",\"linecolor\":\"white\",\"showbackground\":true,\"ticks\":\"\",\"zerolinecolor\":\"white\",\"gridwidth\":2}},\"shapedefaults\":{\"line\":{\"color\":\"#2a3f5f\"}},\"annotationdefaults\":{\"arrowcolor\":\"#2a3f5f\",\"arrowhead\":0,\"arrowwidth\":1},\"geo\":{\"bgcolor\":\"white\",\"landcolor\":\"#E5ECF6\",\"subunitcolor\":\"white\",\"showland\":true,\"showlakes\":true,\"lakecolor\":\"white\"},\"title\":{\"x\":0.05},\"mapbox\":{\"style\":\"light\"}}},\"title\":{\"text\":\"Price Distribution by Manufacturer\"},\"xaxis\":{\"title\":{\"text\":\"Manufacturer\"}},\"yaxis\":{\"title\":{\"text\":\"Price\"}}},                        {\"responsive\": true}                    ).then(function(){\n",
              "                            \n",
              "var gd = document.getElementById('65ba8e4b-e34e-4faa-8fba-c4aa3f947d55');\n",
              "var x = new MutationObserver(function (mutations, observer) {{\n",
              "        var display = window.getComputedStyle(gd).display;\n",
              "        if (!display || display === 'none') {{\n",
              "            console.log([gd, 'removed!']);\n",
              "            Plotly.purge(gd);\n",
              "            observer.disconnect();\n",
              "        }}\n",
              "}});\n",
              "\n",
              "// Listen for the removal of the full notebook cells\n",
              "var notebookContainer = gd.closest('#notebook-container');\n",
              "if (notebookContainer) {{\n",
              "    x.observe(notebookContainer, {childList: true});\n",
              "}}\n",
              "\n",
              "// Listen for the clearing of the current output cell\n",
              "var outputEl = gd.closest('.output');\n",
              "if (outputEl) {{\n",
              "    x.observe(outputEl, {childList: true});\n",
              "}}\n",
              "\n",
              "                        })                };                            </script>        </div>\n",
              "</body>\n",
              "</html>"
            ]
          },
          "metadata": {}
        }
      ],
      "source": [
        "fig = go.Figure()\n",
        "\n",
        "# Iterate over each unique laptop type\n",
        "for laptop_type in total_data['Manufacturer'].unique()[:10]:\n",
        "    # Filter the dataframe for the current laptop type\n",
        "    data = total_data[total_data['Manufacturer'] == laptop_type]['Price']\n",
        "\n",
        "    # Add the box trace for the current laptop type\n",
        "    fig.add_trace(go.Box(y=data, name=laptop_type))\n",
        "\n",
        "# Customize the layout (optional)\n",
        "fig.update_layout(\n",
        "    title='Price Distribution by Manufacturer',\n",
        "    xaxis=dict(title='Manufacturer'),\n",
        "    yaxis=dict(title='Price'),\n",
        ")\n",
        "config = {'displayModeBar': False}\n",
        "\n",
        "# Generate the HTML file\n",
        "pio.write_html(fig, file='price_vs_brand.html', config=config)\n",
        "\n",
        "# Show the plot\n",
        "fig.show()"
      ]
    },
    {
      "cell_type": "code",
      "source": [],
      "metadata": {
        "id": "grD5jc3J0Aw-"
      },
      "execution_count": null,
      "outputs": []
    },
    {
      "cell_type": "markdown",
      "source": [
        "# Train / Test Split"
      ],
      "metadata": {
        "id": "jEQC-cNoq8ew"
      }
    },
    {
      "cell_type": "code",
      "source": [
        "def shuffle_and_split_data(data, test_ratio):\n",
        " shuffled_indices = np.random.permutation(len(data))\n",
        " test_set_size = int(len(data) * test_ratio)\n",
        " test_indices = shuffled_indices[:test_set_size]\n",
        " train_indices = shuffled_indices[test_set_size:]\n",
        " return data.iloc[train_indices], data.iloc[test_indices]\n"
      ],
      "metadata": {
        "id": "kevF8ku2r4kr"
      },
      "execution_count": null,
      "outputs": []
    },
    {
      "cell_type": "code",
      "source": [
        "train_set, test_set = shuffle_and_split_data(total_data, 0.1)"
      ],
      "metadata": {
        "id": "DHWQbs_-r83C"
      },
      "execution_count": null,
      "outputs": []
    },
    {
      "cell_type": "markdown",
      "metadata": {
        "id": "bjjI6KpOVOao"
      },
      "source": [
        "# Data Preprocessing"
      ]
    },
    {
      "cell_type": "markdown",
      "metadata": {
        "id": "Po8XrUJsOoO2"
      },
      "source": [
        "## Data Reformating"
      ]
    },
    {
      "cell_type": "code",
      "execution_count": null,
      "metadata": {
        "id": "Jrt_edB_qrh_"
      },
      "outputs": [],
      "source": [
        "def remove_trailing_quote(value):\n",
        "    # Define a regular expression pattern to match a number followed by a trailing \"\n",
        "    pattern = r'(\\d+(\\.\\d+)?)\\\"'\n",
        "\n",
        "    # Check if the value matches the pattern\n",
        "    match = re.match(pattern, str(value))\n",
        "\n",
        "    if match:\n",
        "        # Remove the trailing \" and return the matched number\n",
        "        return match.group(1)\n",
        "    else:\n",
        "        # Return the original value if it doesn't match the pattern\n",
        "        return value\n",
        "\n"
      ]
    },
    {
      "cell_type": "code",
      "execution_count": null,
      "metadata": {
        "id": "SeQo22LBOucf"
      },
      "outputs": [],
      "source": [
        "def data_reformating(df):\n",
        "\n",
        "  df['Screen Size'] = df['Screen Size'].apply(remove_trailing_quote)\n",
        "  df['Weight'] = df['Weight'].str.replace(\"kg\", \"\").astype('float32')\n",
        "  #df['RAM'] = df['RAM'].str.replace('GB', '').astype(int)\n",
        "  df['Screen Size'] = df['Screen Size'].astype('float32')\n",
        "  df[\"Operating System\"] = df[\"Operating System\"].str.replace('macOS','Mac OS')\n",
        "  df[\"Operating System\"] = df[\"Operating System\"].str.replace('^.*?(Windows|Mac OS)', r'\\1', regex=True)\n",
        "\n",
        "  return df"
      ]
    },
    {
      "cell_type": "markdown",
      "metadata": {
        "id": "HeYWCDFKNdVP"
      },
      "source": [
        "## Feature Extraxtion"
      ]
    },
    {
      "cell_type": "markdown",
      "metadata": {
        "id": "NWvWNp8cRWA-"
      },
      "source": [
        "### Screen Column"
      ]
    },
    {
      "cell_type": "markdown",
      "metadata": {
        "id": "RiDLQ_kwR_ud"
      },
      "source": [
        "After studying the Data and doing some research , We Decided to divide the Screen Column into these four Feature:\n",
        "\n",
        "\n",
        "\n",
        "1. Is_Touchscreen\n",
        "2. Is_IPS_Panal\n",
        "3. Screen Type\n",
        "4. Resolution\n",
        "\n"
      ]
    },
    {
      "cell_type": "code",
      "execution_count": null,
      "metadata": {
        "id": "AjKEzJTWZyLW"
      },
      "outputs": [],
      "source": [
        "def handling_screen_column(df):\n",
        "\n",
        "  df['Is_Touchscreen'] = df['Screen'].str.contains('Touchscreen', case=False).astype(int)\n",
        "\n",
        "  df['Is_IPS_Panal'] = df['Screen'].str.contains('IPS Panel', case=False).astype(int)\n",
        "\n",
        "  df['ScreenType'] = df['Screen'].str.extract('(Full HD|Quad HD\\+|4K Ultra HD|Retina Display)', expand=False)\n",
        "  df['ScreenType'].fillna('Unknown', inplace=True)\n",
        "\n",
        "  df['Resolution'] = df['Screen'].str.extract('(\\d+x\\d+)', expand=False)\n",
        "  df['Resolution'] = df['Resolution'].astype('category')\n",
        "  df['Resolution'] = df['Resolution'].cat.add_categories('Unknown')\n",
        "  df['Resolution'].fillna('Unknown', inplace=True)\n",
        "\n",
        "\n",
        "\n",
        "\n",
        "\n",
        "\n",
        "  return df"
      ]
    },
    {
      "cell_type": "markdown",
      "metadata": {
        "id": "Cu46hweMU7NZ"
      },
      "source": [
        "### Storage Column"
      ]
    },
    {
      "cell_type": "markdown",
      "metadata": {
        "id": "4vhUdL_lWZY2"
      },
      "source": [
        "The Storage Data is Divided into four types, I will rank them from the fastest:\n",
        "\n",
        "1. Flash Storage\n",
        "2. SSD\n",
        "3. Hybrid\n",
        "4. HDD"
      ]
    },
    {
      "cell_type": "code",
      "execution_count": null,
      "metadata": {
        "id": "gwkObQ1LU_Wd"
      },
      "outputs": [],
      "source": [
        "def handling_storage_column(df):\n",
        "    # Initialize new columns with default values as 0\n",
        "    df['Hybrid'] = 0\n",
        "    df['SSD'] = 0\n",
        "    df['HDD'] = 0\n",
        "    df['Flash Storage'] = 0\n",
        "\n",
        "    # Define patterns for each memory type\n",
        "    patterns = {\n",
        "        'Hybrid': r'(\\d+\\.?\\d*)(GB|TB) Hybrid',\n",
        "        'SSD': r'(\\d+\\.?\\d*)(GB|TB) SSD',\n",
        "        'HDD': r'(\\d+\\.?\\d*)(GB|TB) HDD',\n",
        "        'Flash Storage': r'(\\d+\\.?\\d*)(GB|TB) Flash Storage'\n",
        "    }\n",
        "\n",
        "    # Iterate over each memory value and extract corresponding memory types\n",
        "    for index, row in df.iterrows():\n",
        "        memory_value = row['Storage']\n",
        "        for memory_type, pattern in patterns.items():\n",
        "            match = re.search(pattern, memory_value)\n",
        "            if match:\n",
        "                value = float(match.group(1))\n",
        "                unit = match.group(2)\n",
        "                if unit == 'TB':\n",
        "                    value *= 1024  # Convert TB to GB\n",
        "                df.at[index, memory_type] = value\n",
        "\n",
        "    return df"
      ]
    },
    {
      "cell_type": "markdown",
      "metadata": {
        "id": "4cWmqakfXvuO"
      },
      "source": [
        "### CPU Column"
      ]
    },
    {
      "cell_type": "markdown",
      "metadata": {
        "id": "Og4KFmUuX2x3"
      },
      "source": [
        "From The Cpu Column , I will Extract these features :\n",
        "\n",
        "1. CPU Frequency GHz\n",
        "2. CPU Series\n",
        "3. CPU Company\n",
        "4. CPU Generation"
      ]
    },
    {
      "cell_type": "code",
      "execution_count": null,
      "metadata": {
        "id": "7TrsB6LkvG32"
      },
      "outputs": [],
      "source": [
        "import requests\n",
        "\n",
        "def get_intel_cpu_generation(cpu_name):\n",
        "    base_url = \"https://ark.intel.com\"\n",
        "    api_endpoint = \"/service/processors/search\"\n",
        "\n",
        "    # Make the API request\n",
        "    response = requests.get(base_url + api_endpoint, params={\"name\": cpu_name})\n",
        "\n",
        "    # Parse the response and extract the CPU generation\n",
        "    cpu_data = response.json()\n",
        "    if cpu_data['processors']:\n",
        "        cpu_generation = cpu_data['processors'][0]['generation']\n",
        "        return cpu_generation\n",
        "\n",
        "    return None\n"
      ]
    },
    {
      "cell_type": "code",
      "execution_count": null,
      "metadata": {
        "id": "EnNKz6WEutB-"
      },
      "outputs": [],
      "source": [
        "def get_amd_cpu_generation(cpu_name):\n",
        "    base_url = \"https://api.amd.com\"\n",
        "    api_endpoint = \"/product/v2/list\"\n",
        "\n",
        "    # Make the API request\n",
        "    response = requests.get(base_url + api_endpoint, params={\"appName\": \"ryzen\", \"cpuName\": cpu_name})\n",
        "\n",
        "    # Parse the response and extract the CPU generation\n",
        "    cpu_data = response.json()\n",
        "    if cpu_data['Data']:\n",
        "        cpu_generation = cpu_data['Data'][0]['Generation']\n",
        "        return cpu_generation\n",
        "\n",
        "    return None"
      ]
    },
    {
      "cell_type": "code",
      "execution_count": null,
      "metadata": {
        "id": "LSwicA63jBW-"
      },
      "outputs": [],
      "source": [
        "def fixing_cpu_column(df):\n",
        "\n",
        "  df['CPU'] = df['CPU'].str.replace('AMD Ryzen 1700','AMD Ryzen7 1700')\n",
        "  df['CPU'] = df['CPU'].str.replace('AMD Ryzen 1600','AMD Ryzen7 1600')\n",
        "\n",
        "  return df"
      ]
    },
    {
      "cell_type": "code",
      "execution_count": null,
      "metadata": {
        "id": "oxpGWI6hX2Pi"
      },
      "outputs": [],
      "source": [
        "def handling_cpu_column(df):\n",
        "\n",
        "\n",
        "\n",
        "  df['CPU'] = df['CPU'].str.strip()\n",
        "\n",
        "\n",
        "\n",
        "\n",
        "  df['CPU_GHz'] = df['CPU'].str.extract(r'(\\d+(?:\\.\\d+)?)GHz')\n",
        "  df['CPU_GHz'] = df['CPU_GHz'].str.replace('GHz', '')\n",
        "  df['CPU_GHz'] = df['CPU_GHz'].astype(float)\n",
        "\n",
        "  df['CPU'] = df['CPU'].str.replace(r'(\\d+(?:\\.\\d+)?)GHz', '')\n",
        "\n",
        "  df['CPU_Series'] = df['CPU'].str.extract(r'(Core i\\d+|Ryzen\\d+|Celeron Quad Core|Pentium Quad Core|A8-Series|Pentium Dual Core|Cortex|Celeron Dual Core|A6-Series|Core M|A4-Series|FX|E-Series|Xeon|A10-Series|A9-Series|A12-Series|Atom)')\n",
        "\n",
        "  df['CPU'] = df['CPU'].str.replace(r'(Core i\\d+|Ryzen\\d+|Celeron Quad Core|Pentium Quad Core|A8-Series|Pentium Dual Core|Cortex|Celeron Dual Core|A6-Series|Core M|A4-Series|FX|E-Series|Xeon|A10-Series|A9-Series|A12-Series|Atom)', '')\n",
        "\n",
        "  df['CPU_Company'] = df['CPU'].apply(lambda x: re.findall(r'(AMD|Intel|Nvidia|Samsung)', x)[0] if re.findall(r'(AMD|Intel|Nvidia|Samsung)', x) else None)\n",
        "\n",
        "  # # Apply the custom functions to create the CPU_Gen feature\n",
        "  # df['CPU_Gen'] = df.apply(lambda row: get_intel_cpu_generation(row) if row['CPU_Company'] == 'Intel' else get_amd_cpu_generation(row), axis=1)\n",
        "\n",
        "  # # Set the value to \"NO GEN\" for rows where CPU_Company is neither Intel nor AMD\n",
        "  # df.loc[df['CPU_Company'].isin(['Intel', 'AMD']) == False, 'CPU_Gen'] = 'NO GEN'\n",
        "\n",
        "  df['CPU'] = df['CPU'].str.replace(r'(AMD|Intel|Nvidia|Samsung)', '')\n",
        "\n",
        "\n",
        "\n",
        "  return df\n",
        "\n"
      ]
    },
    {
      "cell_type": "markdown",
      "metadata": {
        "id": "pqBGZwUWrpWU"
      },
      "source": [
        "### GPU Column"
      ]
    },
    {
      "cell_type": "markdown",
      "metadata": {
        "id": "eRmsylgXsBb2"
      },
      "source": [
        "We Divide the GPU Feature into these features:\n",
        "\n",
        "1. GPU Company\n",
        "2. GPU Series"
      ]
    },
    {
      "cell_type": "code",
      "execution_count": null,
      "metadata": {
        "id": "OZNV8kEUzUWW"
      },
      "outputs": [],
      "source": [
        "def fixing_gpu_column(df):\n",
        "\n",
        "\n",
        "  #df['GPU'] = df['GPU'].str.replace('(AMD|Intel|Nvidia)', '', regex=True)\n",
        "\n",
        "  # Intel\n",
        "  df['GPU'] = df['GPU'].str.replace('Intel Graphics', 'HD Graphics')\n",
        "  df['GPU'] = df['GPU'].str.replace('Graphics 620', 'UHD Graphics')\n",
        "\n",
        "  #AMD\n",
        "  df['GPU'] = df['GPU'].str.replace('Radeon R5', 'RadeonR5')\n",
        "  df['GPU'] = df['GPU'].str.replace('R17M-M1-70', 'RadeonR5')\n",
        "  df['GPU'] = df['GPU'].str.replace('Radeon RX', 'RadeonRX')\n",
        "  df['GPU'] = df['GPU'].str.replace('Radeon Pro', 'RadeonPro')\n",
        "  df['GPU'] = df['GPU'].str.replace('Radeon R7', 'RadeonR7')\n",
        "  df['GPU'] = df['GPU'].str.replace('Radeon R9', 'RadeonR9')\n",
        "  df['GPU'] = df['GPU'].str.replace('Radeon R3', 'RadeonR3')\n",
        "  df['GPU'] = df['GPU'].str.replace('Radeon R2', 'RadeonR2')\n",
        "  df['GPU'] = df['GPU'].str.replace('Radeon R4', 'RadeonR4')\n",
        "  df['GPU'] = df['GPU'].str.replace('Radeon R4 Graphics', 'RadeonR4')\n",
        "  df['GPU'] = df['GPU'].str.replace('Radeon R2 Graphics', 'RadeonR2')\n",
        "  df['GPU'] = df['GPU'].str.replace('R4 Graphics', 'RadeonR4')\n",
        "\n",
        "  # NVIDIA\n",
        "  df['GPU'] = df['GPU'].str.replace('GeForce 930MX', 'GeForceMX 930')\n",
        "  df['GPU'] = df['GPU'].str.replace('GeForce 940MX', 'GeForceMX 940')\n",
        "  df['GPU'] = df['GPU'].str.replace('GeForce 940M', 'GeForceMX 940')\n",
        "  df['GPU'] = df['GPU'].str.replace('GeForce 960M', 'GeForceGTX 960')\n",
        "  df['GPU'] = df['GPU'].str.replace('GTX 980 SLI', 'GeForceGTX 980')\n",
        "  df['GPU'] = df['GPU'].str.replace('GeForce GTX 940M', 'GeForceMX 940')\n",
        "  df['GPU'] = df['GPU'].str.replace('GeForce GTX1080', 'GeForceGTX 1080')\n",
        "  df['GPU'] = df['GPU'].str.replace('GeForce GTX 930MX', 'GeForceMX 930')\n",
        "  df['GPU'] = df['GPU'].str.replace('GeForce GTX 1070M', 'GeForceGTX 1070')\n",
        "  df['GPU'] = df['GPU'].str.replace('GeForce GTX1050 Ti', 'GeForceGTX 1050 Ti')\n",
        "  df['GPU'] = df['GPU'].str.replace('GeForce GTX1060', 'GeForceGTX 1060')\n",
        "\n",
        "  df['GPU'] = df['GPU'].str.replace('GeForce GT 940MX', 'GeForceMX 940')\n",
        "  df['GPU'] = df['GPU'].str.replace('GeForce 930M', 'GeForceMX 930')\n",
        "  df['GPU'] = df['GPU'].str.replace('GeForce MX130', 'GeForceMX 130')\n",
        "  df['GPU'] = df['GPU'].str.replace('GeForce GTX 950M', 'GeForceMX 950')\n",
        "  df['GPU'] = df['GPU'].str.replace('GeForce 920MX', 'GeForceMX 920')\n",
        "  df['GPU'] = df['GPU'].str.replace('GeForce 920M', 'GeForceMX 920')\n",
        "  df['GPU'] = df['GPU'].str.replace('GeForce 920', 'GeForceMX 920')\n",
        "  df['GPU'] = df['GPU'].str.replace('GeForce MX150', 'GeForceMX 150')\n",
        "  df['GPU'] = df['GPU'].str.replace('GeForce 150MX', 'GeForceMX 150')\n",
        "  df['GPU'] = df['GPU'].str.replace('GeForce GTX ', 'GeForceGTX')\n",
        "\n",
        "  return df\n"
      ]
    },
    {
      "cell_type": "code",
      "execution_count": null,
      "metadata": {
        "id": "BGJqFMmCsAY9"
      },
      "outputs": [],
      "source": [
        "def handling_gpu_column(df):\n",
        "\n",
        "  df['GPU_Company'] = df['GPU'].str.extract('(AMD|Intel|Nvidia)', expand=False)\n",
        "  df['GPU_Company'].fillna('Intel',inplace=True)\n",
        "\n",
        "  df['GPU_series'] = df['GPU'].str.extract(r'((?:HD Graphics|Iris Pro Graphics|Iris Graphics|ARM|Iris Plus Graphics|UHD Graphics|RadeonR5|RadeonRX|RadeonPro|RadeonR[0-9]+|GeForceMX|GeForceGTX|Quadro|FirePro|RadeonR[0-9]+|Radeon))', expand=False)\n",
        "  df['GPU_Company'].fillna('Intel',inplace=True)\n",
        "  df['GPU'] = df['GPU'].str.replace(r'((?:HD Graphics|Iris Pro Graphics|Iris Graphics|ARM|Iris Plus Graphics|UHD Graphics|RadeonR5|RadeonRX|RadeonPro|RadeonR[0-9]+|GeForceMX|GeForceGTX|Quadro|FirePro|RadeonR[0-9]+|Radeon))', '', regex=True)\n",
        "\n",
        "  return df"
      ]
    },
    {
      "cell_type": "markdown",
      "metadata": {
        "id": "0uQ4pHznj0Bv"
      },
      "source": [
        "## Preprocessing Function"
      ]
    },
    {
      "cell_type": "code",
      "execution_count": null,
      "metadata": {
        "id": "ELHQLYZzj6RC"
      },
      "outputs": [],
      "source": [
        "def data_preprocessing(df):\n",
        "\n",
        "  df = remove_trailing_quote(df)\n",
        "  df = data_reformating(df)\n",
        "  df = handling_screen_column(df)\n",
        "  df = handling_storage_column(df)\n",
        "  df = fixing_cpu_column(df)\n",
        "  df = handling_cpu_column(df)\n",
        "  df = fixing_gpu_column(df)\n",
        "  df = handling_gpu_column(df)\n",
        "\n",
        "\n",
        "\n",
        "  df.drop(['id','Operating System Version','CPU','GPU','Storage','Screen','Model Name'],axis=1,inplace=True)\n",
        "\n",
        "  return df"
      ]
    },
    {
      "cell_type": "code",
      "execution_count": null,
      "metadata": {
        "colab": {
          "base_uri": "https://localhost:8080/"
        },
        "id": "wgaogrT7hF5j",
        "outputId": "f4669af2-d93f-4069-fafb-b30fbcffa93b"
      },
      "outputs": [
        {
          "output_type": "stream",
          "name": "stderr",
          "text": [
            "<ipython-input-57-b7978efcadc0>:14: FutureWarning:\n",
            "\n",
            "The default value of regex will change from True to False in a future version.\n",
            "\n",
            "<ipython-input-57-b7978efcadc0>:18: FutureWarning:\n",
            "\n",
            "The default value of regex will change from True to False in a future version.\n",
            "\n",
            "<ipython-input-57-b7978efcadc0>:28: FutureWarning:\n",
            "\n",
            "The default value of regex will change from True to False in a future version.\n",
            "\n",
            "<ipython-input-57-b7978efcadc0>:14: FutureWarning:\n",
            "\n",
            "The default value of regex will change from True to False in a future version.\n",
            "\n",
            "<ipython-input-57-b7978efcadc0>:18: FutureWarning:\n",
            "\n",
            "The default value of regex will change from True to False in a future version.\n",
            "\n",
            "<ipython-input-57-b7978efcadc0>:28: FutureWarning:\n",
            "\n",
            "The default value of regex will change from True to False in a future version.\n",
            "\n"
          ]
        }
      ],
      "source": [
        "cleaned_data_train = data_preprocessing(train_set.copy())\n",
        "cleaned_data_test = data_preprocessing(test_set.copy())"
      ]
    },
    {
      "cell_type": "markdown",
      "source": [
        "## Feature Engineering"
      ],
      "metadata": {
        "id": "8a7O8SijcYSO"
      }
    },
    {
      "cell_type": "code",
      "source": [
        "def add_ppi_feature(df):\n",
        "\n",
        "  df['Width'] = df['Resolution'].apply(lambda x: x.split(\"x\")[0]).astype(int)\n",
        "  df['Height'] = df['Resolution'].apply(lambda y: y.split(\"x\")[-1]).astype(int)\n",
        "\n",
        "  most_freq_width = df['Width'].mode()[0]\n",
        "  most_freq_height = df['Height'].mode()[0]\n",
        "  df['Width'] = df['Width'].fillna(most_freq_width)\n",
        "  df['Height'] = df['Height'].fillna(most_freq_height)\n",
        "\n",
        "  df['ppi'] = (((df['Height']**2) + (df['Width']**2))**0.5/df['Screen Size']).astype('float')\n",
        "\n",
        "  return df"
      ],
      "metadata": {
        "id": "34hUf1y3cvXm"
      },
      "execution_count": null,
      "outputs": []
    },
    {
      "cell_type": "code",
      "source": [
        "ppi_feature_method = Pipeline([('ppi', FunctionTransformer(add_ppi_feature, validate=False))])"
      ],
      "metadata": {
        "id": "-8rzryelMFpG"
      },
      "execution_count": null,
      "outputs": []
    },
    {
      "cell_type": "code",
      "source": [
        "cleaned_data_train = ppi_feature_method.transform(cleaned_data_train)\n",
        "cleaned_data_test =  ppi_feature_method.transform(cleaned_data_test)"
      ],
      "metadata": {
        "id": "9J9zzS16M-q1"
      },
      "execution_count": null,
      "outputs": []
    },
    {
      "cell_type": "code",
      "source": [
        "cleaned_data_train.to_csv('cleaned_data_train.csv')"
      ],
      "metadata": {
        "id": "1da35fYBM-Fd"
      },
      "execution_count": null,
      "outputs": []
    },
    {
      "cell_type": "code",
      "source": [
        "import pickle\n",
        "\n",
        "with open('ppi_feature_adder.pkl', 'wb') as f:\n",
        "    pickle.dump(ppi_feature_method, f)"
      ],
      "metadata": {
        "id": "Dv4oXf_zMu7W"
      },
      "execution_count": null,
      "outputs": []
    },
    {
      "cell_type": "markdown",
      "metadata": {
        "id": "_Z2DiKxp9hlF"
      },
      "source": [
        "### Cluster Method"
      ]
    },
    {
      "cell_type": "markdown",
      "metadata": {
        "id": "qpJnQd0F92H2"
      },
      "source": [
        "I will Try to use some Clustering method , To create a new Feature called Cluster_Class"
      ]
    },
    {
      "cell_type": "code",
      "execution_count": null,
      "metadata": {
        "id": "eSJDlU2e9mv2"
      },
      "outputs": [],
      "source": [
        "\n",
        "def add_cluster_feature(df):\n",
        "\n",
        "  X = df.copy()\n",
        "\n",
        "  X = data_preprocessing(X)\n",
        "\n",
        "\n",
        "  categorical_columns =  ['Manufacturer', 'Category', 'Operating System', 'ScreenType', 'Resolution', 'CPU_Series', 'CPU_Company', 'GPU_Company', 'GPU_series']\n",
        "  numerical_columns = ['Screen Size', 'RAM', 'Weight','Hybrid', 'SSD', 'HDD', 'Flash Storage', 'CPU_GHz','Width','Height','ppi']\n",
        "\n",
        "\n",
        "  processor = ColumnTransformer(transformers=[\n",
        "        ('num', StandardScaler(), numerical_columns),\n",
        "        ('cat',OneHotEncoder(),categorical_columns)\n",
        "    ])\n",
        "  try:\n",
        "\n",
        "    X = processor.fit_transform(X)\n",
        "  except Exception as e:\n",
        "    print(\"Error occurred during One-Hot Encoding:\", e)\n",
        "\n",
        "  k = 3\n",
        "\n",
        "\n",
        "  kmeans = KMeans(n_clusters=k, random_state=42)\n",
        "  kmeans.fit(X)\n",
        "\n",
        "\n",
        "  cluster_labels = kmeans.labels_\n",
        "\n",
        "  df['Cluster_Team'] = cluster_labels\n",
        "\n",
        "\n",
        "  return df"
      ]
    },
    {
      "cell_type": "code",
      "execution_count": null,
      "metadata": {
        "colab": {
          "base_uri": "https://localhost:8080/"
        },
        "id": "UZU1yBVngw3D",
        "outputId": "763f3476-6860-4b05-a685-1cdbd6ed22b5"
      },
      "outputs": [
        {
          "output_type": "stream",
          "name": "stderr",
          "text": [
            "/usr/local/lib/python3.10/dist-packages/sklearn/cluster/_kmeans.py:870: FutureWarning:\n",
            "\n",
            "The default value of `n_init` will change from 10 to 'auto' in 1.4. Set the value of `n_init` explicitly to suppress the warning\n",
            "\n"
          ]
        }
      ],
      "source": [
        "X = cleaned_data_train.drop(['Price'],axis=1).copy()\n",
        "X_test = cleaned_data_test.drop(['Price'],axis=1).copy()\n",
        "\n",
        "categorical_columns =  ['Manufacturer', 'Category', 'Operating System', 'ScreenType', 'Resolution', 'CPU_Series', 'CPU_Company', 'GPU_Company', 'GPU_series']\n",
        "numerical_columns = ['Screen Size',  'Weight','Hybrid', 'SSD', 'HDD', 'Flash Storage', 'CPU_GHz','Width','Height','ppi']\n",
        "ranked_categorical_columns = ['RAM']\n",
        "\n",
        "processor = ColumnTransformer(transformers=[\n",
        "        ('num', StandardScaler(), numerical_columns),\n",
        "        ('cat',OneHotEncoder(handle_unknown='ignore'),categorical_columns),\n",
        "        ('cat_rank',OrdinalEncoder(),ranked_categorical_columns)\n",
        "\n",
        "    ])\n",
        "\n",
        "X = processor.fit_transform(X)\n",
        "X_test = processor.transform(X_test)\n",
        "k = 3\n",
        "\n",
        "kmeans = KMeans(n_clusters=k, random_state=42)\n",
        "kmeans.fit(X)\n",
        "\n",
        "cluster_labels = kmeans.labels_\n",
        "test_lables = kmeans.predict(X_test)\n",
        "\n",
        "cleaned_data_train['Cluster_Team'] = cluster_labels\n",
        "cleaned_data_test['Cluster_Team'] = test_lables"
      ]
    },
    {
      "cell_type": "code",
      "execution_count": null,
      "metadata": {
        "id": "Gw_rIMbciEBD"
      },
      "outputs": [],
      "source": [
        "import pickle\n",
        "\n",
        "with open('cluster_team.pkl', 'wb') as f:\n",
        "    pickle.dump(kmeans, f)"
      ]
    },
    {
      "cell_type": "markdown",
      "metadata": {
        "id": "qhy1F2ayIZ_i"
      },
      "source": [
        "## Checking Dublicates"
      ]
    },
    {
      "cell_type": "code",
      "execution_count": null,
      "metadata": {
        "id": "HsJngbAmIiri",
        "colab": {
          "base_uri": "https://localhost:8080/"
        },
        "outputId": "d32ef8ff-0d9b-4694-ca78-aad9a55b23b3"
      },
      "outputs": [
        {
          "output_type": "execute_result",
          "data": {
            "text/plain": [
              "3"
            ]
          },
          "metadata": {},
          "execution_count": 71
        }
      ],
      "source": [
        "cleaned_data_train.duplicated().sum()"
      ]
    },
    {
      "cell_type": "code",
      "source": [
        "cleaned_data_train.head()"
      ],
      "metadata": {
        "id": "27b34pFOtwgT",
        "colab": {
          "base_uri": "https://localhost:8080/",
          "height": 261
        },
        "outputId": "3343d8af-2d68-4e64-e2bb-0b8826daf45a"
      },
      "execution_count": null,
      "outputs": [
        {
          "output_type": "execute_result",
          "data": {
            "text/plain": [
              "    Manufacturer   Category  Screen Size   RAM Operating System  Weight  \\\n",
              "245         Dell   Notebook         15.6   8GB              NaN    2.20   \n",
              "173           HP   Notebook         13.3   4GB          Windows    1.49   \n",
              "364       Lenovo   Notebook         15.6   8GB            Other    2.20   \n",
              "517         Asus     Gaming         15.6  24GB              NaN    2.24   \n",
              "233           HP  Ultrabook         12.5   8GB          Windows    1.26   \n",
              "\n",
              "           Price  Is_Touchscreen  Is_IPS_Panal ScreenType Resolution  Hybrid  \\\n",
              "245  1059.793020               0             0    Full HD  1920x1080       0   \n",
              "173   800.000000               0             0    Unknown   1366x768       0   \n",
              "364   536.890068               0             0    Unknown   1366x768       0   \n",
              "517  3193.366176               0             0    Full HD  1920x1080       0   \n",
              "233  1895.000000               0             0    Unknown   1366x768       0   \n",
              "\n",
              "     SSD   HDD  Flash Storage  CPU_GHz CPU_Series CPU_Company GPU_Company  \\\n",
              "245  128   500              0      1.8    Core i7       Intel         AMD   \n",
              "173    0   500              0      2.4    Core i3       Intel       Intel   \n",
              "364  256  1024              0      2.0    Core i3       Intel      Nvidia   \n",
              "517  256  1024              0      2.8    Core i7       Intel      Nvidia   \n",
              "233  256     0              0      2.4    Core i5       Intel       Intel   \n",
              "\n",
              "       GPU_series  Width  Height         ppi  Cluster_Team  \n",
              "245        Radeon   1920    1080  141.211995             0  \n",
              "173  UHD Graphics   1366     768  117.826528             2  \n",
              "364     GeForceMX   1366     768  100.454667             0  \n",
              "517    GeForceGTX   1920    1080  141.211995             1  \n",
              "233   HD Graphics   1366     768  125.367428             0  "
            ],
            "text/html": [
              "\n",
              "  <div id=\"df-a81f42a0-c8b4-445b-a826-bb2d7927fdc7\" class=\"colab-df-container\">\n",
              "    <div>\n",
              "<style scoped>\n",
              "    .dataframe tbody tr th:only-of-type {\n",
              "        vertical-align: middle;\n",
              "    }\n",
              "\n",
              "    .dataframe tbody tr th {\n",
              "        vertical-align: top;\n",
              "    }\n",
              "\n",
              "    .dataframe thead th {\n",
              "        text-align: right;\n",
              "    }\n",
              "</style>\n",
              "<table border=\"1\" class=\"dataframe\">\n",
              "  <thead>\n",
              "    <tr style=\"text-align: right;\">\n",
              "      <th></th>\n",
              "      <th>Manufacturer</th>\n",
              "      <th>Category</th>\n",
              "      <th>Screen Size</th>\n",
              "      <th>RAM</th>\n",
              "      <th>Operating System</th>\n",
              "      <th>Weight</th>\n",
              "      <th>Price</th>\n",
              "      <th>Is_Touchscreen</th>\n",
              "      <th>Is_IPS_Panal</th>\n",
              "      <th>ScreenType</th>\n",
              "      <th>Resolution</th>\n",
              "      <th>Hybrid</th>\n",
              "      <th>SSD</th>\n",
              "      <th>HDD</th>\n",
              "      <th>Flash Storage</th>\n",
              "      <th>CPU_GHz</th>\n",
              "      <th>CPU_Series</th>\n",
              "      <th>CPU_Company</th>\n",
              "      <th>GPU_Company</th>\n",
              "      <th>GPU_series</th>\n",
              "      <th>Width</th>\n",
              "      <th>Height</th>\n",
              "      <th>ppi</th>\n",
              "      <th>Cluster_Team</th>\n",
              "    </tr>\n",
              "  </thead>\n",
              "  <tbody>\n",
              "    <tr>\n",
              "      <th>245</th>\n",
              "      <td>Dell</td>\n",
              "      <td>Notebook</td>\n",
              "      <td>15.6</td>\n",
              "      <td>8GB</td>\n",
              "      <td>NaN</td>\n",
              "      <td>2.20</td>\n",
              "      <td>1059.793020</td>\n",
              "      <td>0</td>\n",
              "      <td>0</td>\n",
              "      <td>Full HD</td>\n",
              "      <td>1920x1080</td>\n",
              "      <td>0</td>\n",
              "      <td>128</td>\n",
              "      <td>500</td>\n",
              "      <td>0</td>\n",
              "      <td>1.8</td>\n",
              "      <td>Core i7</td>\n",
              "      <td>Intel</td>\n",
              "      <td>AMD</td>\n",
              "      <td>Radeon</td>\n",
              "      <td>1920</td>\n",
              "      <td>1080</td>\n",
              "      <td>141.211995</td>\n",
              "      <td>0</td>\n",
              "    </tr>\n",
              "    <tr>\n",
              "      <th>173</th>\n",
              "      <td>HP</td>\n",
              "      <td>Notebook</td>\n",
              "      <td>13.3</td>\n",
              "      <td>4GB</td>\n",
              "      <td>Windows</td>\n",
              "      <td>1.49</td>\n",
              "      <td>800.000000</td>\n",
              "      <td>0</td>\n",
              "      <td>0</td>\n",
              "      <td>Unknown</td>\n",
              "      <td>1366x768</td>\n",
              "      <td>0</td>\n",
              "      <td>0</td>\n",
              "      <td>500</td>\n",
              "      <td>0</td>\n",
              "      <td>2.4</td>\n",
              "      <td>Core i3</td>\n",
              "      <td>Intel</td>\n",
              "      <td>Intel</td>\n",
              "      <td>UHD Graphics</td>\n",
              "      <td>1366</td>\n",
              "      <td>768</td>\n",
              "      <td>117.826528</td>\n",
              "      <td>2</td>\n",
              "    </tr>\n",
              "    <tr>\n",
              "      <th>364</th>\n",
              "      <td>Lenovo</td>\n",
              "      <td>Notebook</td>\n",
              "      <td>15.6</td>\n",
              "      <td>8GB</td>\n",
              "      <td>Other</td>\n",
              "      <td>2.20</td>\n",
              "      <td>536.890068</td>\n",
              "      <td>0</td>\n",
              "      <td>0</td>\n",
              "      <td>Unknown</td>\n",
              "      <td>1366x768</td>\n",
              "      <td>0</td>\n",
              "      <td>256</td>\n",
              "      <td>1024</td>\n",
              "      <td>0</td>\n",
              "      <td>2.0</td>\n",
              "      <td>Core i3</td>\n",
              "      <td>Intel</td>\n",
              "      <td>Nvidia</td>\n",
              "      <td>GeForceMX</td>\n",
              "      <td>1366</td>\n",
              "      <td>768</td>\n",
              "      <td>100.454667</td>\n",
              "      <td>0</td>\n",
              "    </tr>\n",
              "    <tr>\n",
              "      <th>517</th>\n",
              "      <td>Asus</td>\n",
              "      <td>Gaming</td>\n",
              "      <td>15.6</td>\n",
              "      <td>24GB</td>\n",
              "      <td>NaN</td>\n",
              "      <td>2.24</td>\n",
              "      <td>3193.366176</td>\n",
              "      <td>0</td>\n",
              "      <td>0</td>\n",
              "      <td>Full HD</td>\n",
              "      <td>1920x1080</td>\n",
              "      <td>0</td>\n",
              "      <td>256</td>\n",
              "      <td>1024</td>\n",
              "      <td>0</td>\n",
              "      <td>2.8</td>\n",
              "      <td>Core i7</td>\n",
              "      <td>Intel</td>\n",
              "      <td>Nvidia</td>\n",
              "      <td>GeForceGTX</td>\n",
              "      <td>1920</td>\n",
              "      <td>1080</td>\n",
              "      <td>141.211995</td>\n",
              "      <td>1</td>\n",
              "    </tr>\n",
              "    <tr>\n",
              "      <th>233</th>\n",
              "      <td>HP</td>\n",
              "      <td>Ultrabook</td>\n",
              "      <td>12.5</td>\n",
              "      <td>8GB</td>\n",
              "      <td>Windows</td>\n",
              "      <td>1.26</td>\n",
              "      <td>1895.000000</td>\n",
              "      <td>0</td>\n",
              "      <td>0</td>\n",
              "      <td>Unknown</td>\n",
              "      <td>1366x768</td>\n",
              "      <td>0</td>\n",
              "      <td>256</td>\n",
              "      <td>0</td>\n",
              "      <td>0</td>\n",
              "      <td>2.4</td>\n",
              "      <td>Core i5</td>\n",
              "      <td>Intel</td>\n",
              "      <td>Intel</td>\n",
              "      <td>HD Graphics</td>\n",
              "      <td>1366</td>\n",
              "      <td>768</td>\n",
              "      <td>125.367428</td>\n",
              "      <td>0</td>\n",
              "    </tr>\n",
              "  </tbody>\n",
              "</table>\n",
              "</div>\n",
              "    <div class=\"colab-df-buttons\">\n",
              "\n",
              "  <div class=\"colab-df-container\">\n",
              "    <button class=\"colab-df-convert\" onclick=\"convertToInteractive('df-a81f42a0-c8b4-445b-a826-bb2d7927fdc7')\"\n",
              "            title=\"Convert this dataframe to an interactive table.\"\n",
              "            style=\"display:none;\">\n",
              "\n",
              "  <svg xmlns=\"http://www.w3.org/2000/svg\" height=\"24px\" viewBox=\"0 -960 960 960\">\n",
              "    <path d=\"M120-120v-720h720v720H120Zm60-500h600v-160H180v160Zm220 220h160v-160H400v160Zm0 220h160v-160H400v160ZM180-400h160v-160H180v160Zm440 0h160v-160H620v160ZM180-180h160v-160H180v160Zm440 0h160v-160H620v160Z\"/>\n",
              "  </svg>\n",
              "    </button>\n",
              "\n",
              "  <style>\n",
              "    .colab-df-container {\n",
              "      display:flex;\n",
              "      gap: 12px;\n",
              "    }\n",
              "\n",
              "    .colab-df-convert {\n",
              "      background-color: #E8F0FE;\n",
              "      border: none;\n",
              "      border-radius: 50%;\n",
              "      cursor: pointer;\n",
              "      display: none;\n",
              "      fill: #1967D2;\n",
              "      height: 32px;\n",
              "      padding: 0 0 0 0;\n",
              "      width: 32px;\n",
              "    }\n",
              "\n",
              "    .colab-df-convert:hover {\n",
              "      background-color: #E2EBFA;\n",
              "      box-shadow: 0px 1px 2px rgba(60, 64, 67, 0.3), 0px 1px 3px 1px rgba(60, 64, 67, 0.15);\n",
              "      fill: #174EA6;\n",
              "    }\n",
              "\n",
              "    .colab-df-buttons div {\n",
              "      margin-bottom: 4px;\n",
              "    }\n",
              "\n",
              "    [theme=dark] .colab-df-convert {\n",
              "      background-color: #3B4455;\n",
              "      fill: #D2E3FC;\n",
              "    }\n",
              "\n",
              "    [theme=dark] .colab-df-convert:hover {\n",
              "      background-color: #434B5C;\n",
              "      box-shadow: 0px 1px 3px 1px rgba(0, 0, 0, 0.15);\n",
              "      filter: drop-shadow(0px 1px 2px rgba(0, 0, 0, 0.3));\n",
              "      fill: #FFFFFF;\n",
              "    }\n",
              "  </style>\n",
              "\n",
              "    <script>\n",
              "      const buttonEl =\n",
              "        document.querySelector('#df-a81f42a0-c8b4-445b-a826-bb2d7927fdc7 button.colab-df-convert');\n",
              "      buttonEl.style.display =\n",
              "        google.colab.kernel.accessAllowed ? 'block' : 'none';\n",
              "\n",
              "      async function convertToInteractive(key) {\n",
              "        const element = document.querySelector('#df-a81f42a0-c8b4-445b-a826-bb2d7927fdc7');\n",
              "        const dataTable =\n",
              "          await google.colab.kernel.invokeFunction('convertToInteractive',\n",
              "                                                    [key], {});\n",
              "        if (!dataTable) return;\n",
              "\n",
              "        const docLinkHtml = 'Like what you see? Visit the ' +\n",
              "          '<a target=\"_blank\" href=https://colab.research.google.com/notebooks/data_table.ipynb>data table notebook</a>'\n",
              "          + ' to learn more about interactive tables.';\n",
              "        element.innerHTML = '';\n",
              "        dataTable['output_type'] = 'display_data';\n",
              "        await google.colab.output.renderOutput(dataTable, element);\n",
              "        const docLink = document.createElement('div');\n",
              "        docLink.innerHTML = docLinkHtml;\n",
              "        element.appendChild(docLink);\n",
              "      }\n",
              "    </script>\n",
              "  </div>\n",
              "\n",
              "\n",
              "<div id=\"df-735254ab-c553-422a-b2fb-d9fd872fc973\">\n",
              "  <button class=\"colab-df-quickchart\" onclick=\"quickchart('df-735254ab-c553-422a-b2fb-d9fd872fc973')\"\n",
              "            title=\"Suggest charts.\"\n",
              "            style=\"display:none;\">\n",
              "\n",
              "<svg xmlns=\"http://www.w3.org/2000/svg\" height=\"24px\"viewBox=\"0 0 24 24\"\n",
              "     width=\"24px\">\n",
              "    <g>\n",
              "        <path d=\"M19 3H5c-1.1 0-2 .9-2 2v14c0 1.1.9 2 2 2h14c1.1 0 2-.9 2-2V5c0-1.1-.9-2-2-2zM9 17H7v-7h2v7zm4 0h-2V7h2v10zm4 0h-2v-4h2v4z\"/>\n",
              "    </g>\n",
              "</svg>\n",
              "  </button>\n",
              "\n",
              "<style>\n",
              "  .colab-df-quickchart {\n",
              "    background-color: #E8F0FE;\n",
              "    border: none;\n",
              "    border-radius: 50%;\n",
              "    cursor: pointer;\n",
              "    display: none;\n",
              "    fill: #1967D2;\n",
              "    height: 32px;\n",
              "    padding: 0 0 0 0;\n",
              "    width: 32px;\n",
              "  }\n",
              "\n",
              "  .colab-df-quickchart:hover {\n",
              "    background-color: #E2EBFA;\n",
              "    box-shadow: 0px 1px 2px rgba(60, 64, 67, 0.3), 0px 1px 3px 1px rgba(60, 64, 67, 0.15);\n",
              "    fill: #174EA6;\n",
              "  }\n",
              "\n",
              "  [theme=dark] .colab-df-quickchart {\n",
              "    background-color: #3B4455;\n",
              "    fill: #D2E3FC;\n",
              "  }\n",
              "\n",
              "  [theme=dark] .colab-df-quickchart:hover {\n",
              "    background-color: #434B5C;\n",
              "    box-shadow: 0px 1px 3px 1px rgba(0, 0, 0, 0.15);\n",
              "    filter: drop-shadow(0px 1px 2px rgba(0, 0, 0, 0.3));\n",
              "    fill: #FFFFFF;\n",
              "  }\n",
              "</style>\n",
              "\n",
              "  <script>\n",
              "    async function quickchart(key) {\n",
              "      const charts = await google.colab.kernel.invokeFunction(\n",
              "          'suggestCharts', [key], {});\n",
              "    }\n",
              "    (() => {\n",
              "      let quickchartButtonEl =\n",
              "        document.querySelector('#df-735254ab-c553-422a-b2fb-d9fd872fc973 button');\n",
              "      quickchartButtonEl.style.display =\n",
              "        google.colab.kernel.accessAllowed ? 'block' : 'none';\n",
              "    })();\n",
              "  </script>\n",
              "</div>\n",
              "    </div>\n",
              "  </div>\n"
            ]
          },
          "metadata": {},
          "execution_count": 72
        }
      ]
    },
    {
      "cell_type": "markdown",
      "source": [
        "## Data analysis \"After Preprocessing\""
      ],
      "metadata": {
        "id": "U3P6SWOoUgiN"
      }
    },
    {
      "cell_type": "markdown",
      "source": [
        "### Cluster Team Count"
      ],
      "metadata": {
        "id": "_6wo-_J7Uu_U"
      }
    },
    {
      "cell_type": "code",
      "source": [
        "sns.countplot(data = cleaned_data_train , x = 'Cluster_Team')"
      ],
      "metadata": {
        "id": "DgWVGkKzUnZN"
      },
      "execution_count": null,
      "outputs": []
    },
    {
      "cell_type": "markdown",
      "source": [],
      "metadata": {
        "id": "7G1SzpfulA4k"
      }
    },
    {
      "cell_type": "code",
      "source": [
        "sns.boxplot(data=cleaned_data_train,x = 'Cluster_Team',y='Price').set(title='Team vs Price')"
      ],
      "metadata": {
        "id": "qFg2Ytdsuvri"
      },
      "execution_count": null,
      "outputs": []
    },
    {
      "cell_type": "code",
      "source": [
        "sns.boxplot(data=cleaned_data_train,x = 'ScreenType',y='Price')"
      ],
      "metadata": {
        "id": "KlbZWC7ivJmv"
      },
      "execution_count": null,
      "outputs": []
    },
    {
      "cell_type": "code",
      "source": [
        "sns.boxplot(data=cleaned_data_train,x = 'GPU_Company',y='Price')"
      ],
      "metadata": {
        "id": "6RNh2-iuvjFD"
      },
      "execution_count": null,
      "outputs": []
    },
    {
      "cell_type": "code",
      "source": [
        "sns.scatterplot(data = cleaned_data_train , x = 'CPU_GHz' , y = 'Price').set(title='CPU_GHz Vs Price Scatter ')"
      ],
      "metadata": {
        "id": "BhbzHIbgwVAb"
      },
      "execution_count": null,
      "outputs": []
    },
    {
      "cell_type": "code",
      "source": [
        "sns.histplot(data=cleaned_data_train,x='CPU_GHz').set(title='CPU Frequency per GHz Histogram ')"
      ],
      "metadata": {
        "id": "TZtgrkyyKofU"
      },
      "execution_count": null,
      "outputs": []
    },
    {
      "cell_type": "code",
      "source": [
        "sns.scatterplot(data = cleaned_data_train , x = 'Price' , y = 'RAM')"
      ],
      "metadata": {
        "id": "h3NAaPi6w3-N"
      },
      "execution_count": null,
      "outputs": []
    },
    {
      "cell_type": "code",
      "source": [
        "sns.scatterplot(data = cleaned_data_train , x = 'Price' , y = 'Weight').set(title='Weight Vs Price Scatter ')"
      ],
      "metadata": {
        "id": "q-G2bEPYwT4q"
      },
      "execution_count": null,
      "outputs": []
    },
    {
      "cell_type": "code",
      "source": [
        "sns.scatterplot(data = cleaned_data_train , x = 'Price' , y = 'Screen Size')"
      ],
      "metadata": {
        "id": "SOVqg1D9zoUi"
      },
      "execution_count": null,
      "outputs": []
    },
    {
      "cell_type": "code",
      "source": [
        "plt.figure(figsize=(20, 18))\n",
        "sns.heatmap(cleaned_data_train.corr(),annot = True)\n",
        "plt.show()"
      ],
      "metadata": {
        "id": "uCnJNGvD4uqS"
      },
      "execution_count": null,
      "outputs": []
    },
    {
      "cell_type": "code",
      "source": [
        "sns.histplot(data=cleaned_data_train , x='RAM').set(title='RAM Histogram')"
      ],
      "metadata": {
        "id": "0gkeRJwhDt7B"
      },
      "execution_count": null,
      "outputs": []
    },
    {
      "cell_type": "code",
      "source": [
        "sns.histplot(data=cleaned_data_train , x='Weight').set(title='Weight Histogram')"
      ],
      "metadata": {
        "id": "Q7jcwGhEEAso"
      },
      "execution_count": null,
      "outputs": []
    },
    {
      "cell_type": "code",
      "source": [
        "sns.histplot(data=cleaned_data_train , x='Screen Size')"
      ],
      "metadata": {
        "id": "JuIyuysiEHBv"
      },
      "execution_count": null,
      "outputs": []
    },
    {
      "cell_type": "code",
      "source": [
        "sns.histplot(data=cleaned_data_train , x='Price').set(title='Price Histogram')"
      ],
      "metadata": {
        "id": "5Dne7ta2EM2Q"
      },
      "execution_count": null,
      "outputs": []
    },
    {
      "cell_type": "code",
      "source": [
        "log_price = cleaned_data_train.copy()\n",
        "log_price['Price'] = np.log(log_price['Price'])\n",
        "\n",
        "sns.histplot(data=log_price , x='Price').set(title='Price Histogram (After Log Transformation)')"
      ],
      "metadata": {
        "id": "l6ed_P-YibfP"
      },
      "execution_count": null,
      "outputs": []
    },
    {
      "cell_type": "code",
      "source": [
        "sns.boxplot(data=cleaned_data_train,x = 'Is_Touchscreen' , y = 'Price').set(title='TouchScreen vs Price')"
      ],
      "metadata": {
        "id": "kTMbcq2OfbXE"
      },
      "execution_count": null,
      "outputs": []
    },
    {
      "cell_type": "code",
      "source": [
        "sns.boxplot(data=cleaned_data_train,x = 'Is_IPS_Panal' , y = 'Price').set(title='IPS Panel vs Price')"
      ],
      "metadata": {
        "id": "sCOVmXTqfpwu"
      },
      "execution_count": null,
      "outputs": []
    },
    {
      "cell_type": "code",
      "source": [
        "sns.boxplot(data=cleaned_data_train,x = 'CPU_Company' , y = 'Price').set(title='CPU Companeis vs Price')"
      ],
      "metadata": {
        "id": "Pc7v9a8PhLMO"
      },
      "execution_count": null,
      "outputs": []
    },
    {
      "cell_type": "code",
      "source": [
        "sns.boxplot(data=cleaned_data_train,x = 'GPU_Company' , y = 'Price').set(title='GPU Companies vs Price')"
      ],
      "metadata": {
        "id": "KDlvhyZ_MK67"
      },
      "execution_count": null,
      "outputs": []
    },
    {
      "cell_type": "code",
      "source": [
        "sns.histplot(data=cleaned_data_train,x='ppi').set(title='PPI Histogram')"
      ],
      "metadata": {
        "id": "Kp-4eJPyNxwV"
      },
      "execution_count": null,
      "outputs": []
    },
    {
      "cell_type": "code",
      "source": [
        "sns.scatterplot(data=cleaned_data_train,x='ppi',y='Price').set(title='PPI vs Price')"
      ],
      "metadata": {
        "id": "OGYZCA0UOAWT"
      },
      "execution_count": null,
      "outputs": []
    },
    {
      "cell_type": "markdown",
      "metadata": {
        "id": "-CCjdlGtjtDA"
      },
      "source": [
        "# Data Transformation"
      ]
    },
    {
      "cell_type": "markdown",
      "source": [
        "## Manual Feature Ranking\n"
      ],
      "metadata": {
        "id": "20etdjjbHBTI"
      }
    },
    {
      "cell_type": "markdown",
      "source": [
        "### GPU"
      ],
      "metadata": {
        "id": "4MD7CevSRWop"
      }
    },
    {
      "cell_type": "code",
      "source": [
        "gpu_series_ranking = {\n",
        "    'GeForceGTX':16 ,\n",
        "    'RadeonRX': 15,\n",
        "    'GeForceMX':14 ,\n",
        "    'RadeonPro':13 ,\n",
        "    'RadeonR9':12 ,\n",
        "    'RadeonR7':11 ,\n",
        "    'FirePro':10,\n",
        "    'Quadro': 9,\n",
        "    'RadeonR5': 8,\n",
        "    'Radeon':8,\n",
        "    'Iris Pro Graphics':7 ,\n",
        "    'Iris Plus Graphics':6 ,\n",
        "    'RadeonR3':5 ,\n",
        "    'Iris Graphics':4 ,\n",
        "    'RadeonR2':3 ,\n",
        "    'UHD Graphics':2,\n",
        "    'HD Graphics':1 ,\n",
        "\n",
        "  }"
      ],
      "metadata": {
        "id": "umE33B9cHBAQ"
      },
      "execution_count": null,
      "outputs": []
    },
    {
      "cell_type": "markdown",
      "source": [
        "### CPU"
      ],
      "metadata": {
        "id": "B2dbFgMfRbRx"
      }
    },
    {
      "cell_type": "code",
      "source": [
        "processor_ranking = {\n",
        "    'Pentium Quad Core': 4,\n",
        "    'A6-Series': 10,\n",
        "    'Core i7': 20,\n",
        "    'Core i5': 18,\n",
        "    'Core i3': 17,\n",
        "    'Celeron Dual Core': 1,\n",
        "    'Xeon': 15,\n",
        "    'A9-Series': 12,\n",
        "    'Atom': 20,\n",
        "    'FX': 6,\n",
        "    'A4-Series': 10,\n",
        "    'Ryzen': 19,\n",
        "    'E-Series': 5,\n",
        "    'Core M': 16,\n",
        "    'A12-Series': 14,\n",
        "    'Celeron Quad Core': 3,\n",
        "    'Pentium Dual Core': 2,\n",
        "    'A10-Series': 13,\n",
        "    'A8-Series': 11\n",
        "    }\n"
      ],
      "metadata": {
        "id": "_DhelR4uRcro"
      },
      "execution_count": null,
      "outputs": []
    },
    {
      "cell_type": "markdown",
      "source": [
        "## Binning / Discreatization"
      ],
      "metadata": {
        "id": "drmSk8Vk5LWt"
      }
    },
    {
      "cell_type": "markdown",
      "source": [
        "### RAM"
      ],
      "metadata": {
        "id": "gzLSw9HYDEOB"
      }
    },
    {
      "cell_type": "code",
      "source": [
        "def RAM_Binning(df):\n",
        "\n",
        "    df['RAM'] = pd.cut(df['RAM'], bins=[0, 8, 8.1, float('inf')], labels=[1, 2, 3], right=False)\n",
        "    df['RAM'].fillna(1,inplace=True)\n",
        "    return df"
      ],
      "metadata": {
        "id": "V-sd6acJ5Ks1"
      },
      "execution_count": null,
      "outputs": []
    },
    {
      "cell_type": "markdown",
      "source": [
        "### Weight"
      ],
      "metadata": {
        "id": "Cqiupk7dDIDo"
      }
    },
    {
      "cell_type": "code",
      "source": [
        "def Weight_Binning(df):\n",
        "\n",
        "    min_weight = df['Weight'].min()\n",
        "    max_weight = df['Weight'].max()\n",
        "\n",
        "\n",
        "    bins = [min_weight, (min_weight + max_weight) / 2, max_weight]\n",
        "    labels = [3, 1]\n",
        "\n",
        "\n",
        "    df['Weight'] = pd.cut(df['Weight'], bins=bins, labels=labels, right=False)\n",
        "    df['Weight'].fillna(1,inplace=True)\n",
        "\n",
        "    return df"
      ],
      "metadata": {
        "id": "qJcaP6p2DIjA"
      },
      "execution_count": null,
      "outputs": []
    },
    {
      "cell_type": "markdown",
      "metadata": {
        "id": "NfK9lD_fJHXV"
      },
      "source": [
        "## Features Categories"
      ]
    },
    {
      "cell_type": "code",
      "source": [
        "categorical_columns = ['Manufacturer', 'RAM','Category', 'Operating System', 'ScreenType', 'Resolution', 'CPU_Series', 'CPU_Company', 'GPU_Company', 'GPU_series','Cluster_Team']\n",
        "numerical_columns = ['Screen Size',  'Weight','Hybrid', 'SSD', 'HDD', 'Flash Storage', 'CPU_GHz','Height','Width','ppi']\n",
        "ranked_categorical_columns = ['RAM']"
      ],
      "metadata": {
        "id": "lVIFnMqUWv3J"
      },
      "execution_count": null,
      "outputs": []
    },
    {
      "cell_type": "code",
      "source": [
        "X = cleaned_data_train.drop(['Price'],axis=1).copy()\n",
        "y = cleaned_data_train['Price'].copy()\n",
        "\n",
        "X_test = cleaned_data_test.drop(['Price'],axis=1).copy()\n",
        "y_test = cleaned_data_test['Price'].copy()"
      ],
      "metadata": {
        "id": "7raRgYaBWweI"
      },
      "execution_count": null,
      "outputs": []
    },
    {
      "cell_type": "markdown",
      "metadata": {
        "id": "Ca7DDCtXV478"
      },
      "source": [
        "## Pipeline"
      ]
    },
    {
      "cell_type": "code",
      "execution_count": null,
      "metadata": {
        "id": "M_vOOGn9TtsR"
      },
      "outputs": [],
      "source": [
        "processor = ColumnTransformer(transformers=[\n",
        "        ('num', StandardScaler(), numerical_columns),\n",
        "        ('cat',OneHotEncoder(),categorical_columns),\n",
        "        ('cat_rank',OrdinalEncoder(),ranked_categorical_columns)\n",
        "    ])"
      ]
    },
    {
      "cell_type": "code",
      "execution_count": null,
      "metadata": {
        "id": "1IU4-vF7SOUp"
      },
      "outputs": [],
      "source": [
        "preprocessing_pipeline = Pipeline([\n",
        "    ('cluster_team', FunctionTransformer(add_cluster_feature, validate=False)),\n",
        "    ('preprocess', FunctionTransformer(data_preprocessing, validate=False)),\n",
        "    ('transformer', processor),\n",
        "])"
      ]
    },
    {
      "cell_type": "code",
      "execution_count": null,
      "metadata": {
        "id": "SAIFjoyujdn6"
      },
      "outputs": [],
      "source": [
        "X_transformed = processor.fit_transform(X)"
      ]
    },
    {
      "cell_type": "code",
      "source": [
        "with open('processor.pkl', 'wb') as f:\n",
        "    pickle.dump(processor, f)"
      ],
      "metadata": {
        "id": "ZFTL59FVq2Lu"
      },
      "execution_count": null,
      "outputs": []
    },
    {
      "cell_type": "code",
      "source": [
        "X_transformed.shape"
      ],
      "metadata": {
        "colab": {
          "base_uri": "https://localhost:8080/"
        },
        "id": "1ZUXf8lMgnw5",
        "outputId": "8612b70f-af8a-4e7d-e90e-8d9197c4e8d8"
      },
      "execution_count": null,
      "outputs": [
        {
          "output_type": "execute_result",
          "data": {
            "text/plain": [
              "(1701, 123)"
            ]
          },
          "metadata": {},
          "execution_count": 88
        }
      ]
    },
    {
      "cell_type": "markdown",
      "source": [
        "## Polynomial Features"
      ],
      "metadata": {
        "id": "qGy0JBNYj4L2"
      }
    },
    {
      "cell_type": "code",
      "source": [
        "# Define a range of degrees to consider\n",
        "degrees = np.arange(1, 6)\n",
        "\n",
        "# Create lists to store the degrees and corresponding scores\n",
        "degrees_list = []\n",
        "scores_list = []\n",
        "categorical_columns = ['Manufacturer', 'RAM','Category', 'Operating System', 'ScreenType', 'Resolution', 'CPU_Series', 'CPU_Company', 'GPU_Company', 'GPU_series','Cluster_Team']\n",
        "numerical_columns = ['Screen Size',  'Weight','Hybrid', 'SSD', 'HDD', 'Flash Storage', 'CPU_GHz','Height','Width','ppi']\n",
        "ranked_categorical_columns = ['RAM']\n",
        "# Iterate over different degrees\n",
        "for degree in degrees:\n",
        "  X = cleaned_data_train.drop(['Price'],axis=1).copy()\n",
        "  y = cleaned_data_train['Price'].copy()\n",
        "  processor = ColumnTransformer(transformers=[\n",
        "        ('poly',PolynomialFeatures(degree=degree),numerical_columns),\n",
        "        ('num', StandardScaler(), numerical_columns),\n",
        "        ('cat',OneHotEncoder(handle_unknown = 'ignore'),categorical_columns),\n",
        "        ('cat_rank',OrdinalEncoder(),ranked_categorical_columns)\n",
        "    ])\n",
        "    # Create polynomial features\n",
        "  X_train, X_test, y_train, y_test = train_test_split(X, y, test_size=0.33, random_state=42)\n",
        "  X_train = processor.fit_transform(X_train)\n",
        "  X_test = processor.transform(X_test)\n",
        "\n",
        "\n",
        "\n",
        "  model = LinearRegression()\n",
        "\n",
        "  model.fit(X_train,y_train)\n",
        "  y_pred = model.predict(X_test)\n",
        "\n",
        "  rmse = mean_squared_error(y_test, y_pred, squared=False)\n",
        "  degrees_list.append(degree)\n",
        "  scores_list.append(rmse)\n",
        "\n",
        "\n",
        "\n",
        "# Plot the scores\n",
        "plt.figure(figsize=(10, 6))\n",
        "plt.title('Score vs. Degree of Polynomial Features')\n",
        "plt.xlabel('Degree')\n",
        "plt.ylabel('RMSE Score')\n",
        "plt.grid()\n",
        "plt.plot(degrees_list, scores_list, 'o-')\n",
        "plt.xticks(degrees_list)\n",
        "plt.show()"
      ],
      "metadata": {
        "colab": {
          "base_uri": "https://localhost:8080/",
          "height": 564
        },
        "id": "Mels-3pRj8t_",
        "outputId": "1e463f63-fd1a-4ef2-a9db-b299c40e2252"
      },
      "execution_count": null,
      "outputs": [
        {
          "output_type": "display_data",
          "data": {
            "text/plain": [
              "<Figure size 1000x600 with 1 Axes>"
            ],
            "image/png": "[encoded data removed]"
          },
          "metadata": {}
        }
      ]
    },
    {
      "cell_type": "markdown",
      "metadata": {
        "id": "hngEpWd1c81J"
      },
      "source": [
        "## Feature Selection"
      ]
    },
    {
      "cell_type": "code",
      "execution_count": null,
      "metadata": {
        "colab": {
          "base_uri": "https://localhost:8080/"
        },
        "id": "wFWWB6Wik3Gh",
        "outputId": "9759d1d5-c50b-473d-8614-cdbca787f952"
      },
      "outputs": [
        {
          "output_type": "display_data",
          "data": {
            "text/plain": [
              "<Figure size 640x480 with 1 Axes>"
            ],
            "image/png": "[encoded data removed]"
          },
          "metadata": {}
        }
      ],
      "source": [
        "rf = RandomForestRegressor(random_state=0)\n",
        "features = X.columns\n",
        "rf.fit(X_transformed,y)\n",
        "f_i = list(zip(features,rf.feature_importances_))\n",
        "f_i.sort(key = lambda x : x[1])\n",
        "plt.barh([x[0] for x in f_i],[x[1] for x in f_i])\n",
        "plt.title(\"Feature Importance (Depending on Random Forest)\")\n",
        "plt.show()\n"
      ]
    },
    {
      "cell_type": "markdown",
      "metadata": {
        "id": "QTyM4aooMQo0"
      },
      "source": [
        "# Model Training & Evaluation & Selection"
      ]
    },
    {
      "cell_type": "markdown",
      "source": [
        "##Pipeline Steps Evaluation"
      ],
      "metadata": {
        "id": "FZLqPEzkoISl"
      }
    },
    {
      "cell_type": "markdown",
      "source": [
        "Sorry The Code need REFACTORING BUT I RAN OUT OF TIME"
      ],
      "metadata": {
        "id": "KkTKkil6ojF_"
      }
    },
    {
      "cell_type": "markdown",
      "source": [
        "###  BaseLine Experminet"
      ],
      "metadata": {
        "id": "H5YIos1RrxTY"
      }
    },
    {
      "cell_type": "code",
      "source": [
        "new_train = train_set.copy()\n",
        "new_test = test_set.copy()\n",
        "\n",
        "new_train.drop(['id','Operating System Version','Model Name'],axis=1,inplace=True)\n",
        "new_test.drop(['id','Operating System Version','Model Name'],axis=1,inplace=True)"
      ],
      "metadata": {
        "id": "Why8jOWxr7PX"
      },
      "execution_count": null,
      "outputs": []
    },
    {
      "cell_type": "code",
      "source": [
        "new_train.columns"
      ],
      "metadata": {
        "colab": {
          "base_uri": "https://localhost:8080/"
        },
        "id": "Cai6RCXPsEGo",
        "outputId": "951b93fb-e32f-424b-d0a1-a9fb463a381e"
      },
      "execution_count": null,
      "outputs": [
        {
          "output_type": "execute_result",
          "data": {
            "text/plain": [
              "Index(['Manufacturer', 'Category', 'Screen Size', 'Screen', 'CPU', 'RAM',\n",
              "       'Storage', 'GPU', 'Operating System', 'Weight', 'Price'],\n",
              "      dtype='object')"
            ]
          },
          "metadata": {},
          "execution_count": 75
        }
      ]
    },
    {
      "cell_type": "code",
      "source": [
        "categorical_columns =  ['Manufacturer', 'Operating System','RAM','Storage','Screen','Category','CPU','GPU','Weight' ]\n",
        "ranked_categorical_columns = []\n",
        "numerical_columns = []"
      ],
      "metadata": {
        "id": "hb1PiXzEr4E1"
      },
      "execution_count": null,
      "outputs": []
    },
    {
      "cell_type": "code",
      "source": [
        "processor = ColumnTransformer(transformers=[\n",
        "        ('num', StandardScaler(), numerical_columns),\n",
        "        ('cat',OneHotEncoder(handle_unknown='ignore'),categorical_columns),\n",
        "        ('ranked_cat',OrdinalEncoder(handle_unknown='use_encoded_value'),ranked_categorical_columns)\n",
        "    ])\n",
        "\n",
        "X = new_train.drop(['Price'],axis=1).copy()\n",
        "y = new_train['Price'].copy()\n",
        "\n",
        "X_transformed = processor.fit_transform(X)\n",
        "\n",
        "X_train, X_valid, y_train, y_valid = train_test_split(X_transformed, y, test_size=0.33, random_state=42)\n",
        "\n",
        "X_test = new_test.drop(['Price'],axis=1).copy()\n",
        "y_test = new_test['Price'].copy()\n",
        "\n",
        "X_test = processor.transform(X_test)\n",
        "\n",
        "with mlflow.start_run(run_name = 'Baseline_1'):\n",
        "  mlflow.set_tag('model_name','LinearReg ')\n",
        "  mlflow.log_param(\"preprocessing_steps\", \"None\")\n",
        "  mlflow.log_param(\"Parameters\", \"Deafult\")\n",
        "\n",
        "\n",
        "\n",
        "\n",
        "  model = LinearRegression()\n",
        "\n",
        "  model.fit(X_train,y_train)\n",
        "  y_pred = model.predict(X_valid)\n",
        "\n",
        "  rmse_valid = mean_squared_error(y_valid, y_pred, squared=False)\n",
        "  r2_valid = r2_score(y_valid, y_pred)\n",
        "  mae_valid = mean_absolute_error(y_valid, y_pred)\n",
        "\n",
        "  y_pred = model.predict(X_test)\n",
        "\n",
        "\n",
        "  rmse_test = mean_squared_error(y_test, y_pred, squared=False)\n",
        "  r2_test = r2_score(y_test, y_pred)\n",
        "  mae_test = mean_absolute_error(y_test, y_pred)\n",
        "\n",
        "  mlflow.log_metric(\"validation_score_RMSE\", rmse_valid)\n",
        "  mlflow.log_metric(\"validation_score_R2\", r2_valid)\n",
        "  mlflow.log_metric(\"validation_score_MAE\", mae_valid)\n",
        "\n",
        "  mlflow.log_metric(\"test_score_RMSE\", rmse_test)\n",
        "  mlflow.log_metric(\"test_score_R2\", r2_test)\n",
        "  mlflow.log_metric(\"test_score_MAE\", mae_test)\n",
        "  mlflow.end_run()\n",
        "\n",
        "\n",
        "\n",
        "\n"
      ],
      "metadata": {
        "id": "LHejnNo3s8L3"
      },
      "execution_count": null,
      "outputs": []
    },
    {
      "cell_type": "code",
      "source": [
        "with mlflow.start_run(run_name = 'Baseline_2'):\n",
        "  mlflow.set_tag('model_name','XGB')\n",
        "  mlflow.log_param(\"preprocessing_steps\", \"None\")\n",
        "  mlflow.log_param(\"Parameters\", \"Deafult\")\n",
        "\n",
        "\n",
        "\n",
        "\n",
        "  model = xgb.XGBRegressor()\n",
        "\n",
        "  model.fit(X_train,y_train)\n",
        "  y_pred = model.predict(X_valid)\n",
        "\n",
        "  rmse_valid = mean_squared_error(y_valid, y_pred, squared=False)\n",
        "  r2_valid = r2_score(y_valid, y_pred)\n",
        "  mae_valid = mean_absolute_error(y_valid, y_pred)\n",
        "\n",
        "  y_pred = model.predict(X_test)\n",
        "\n",
        "  rmse_test = mean_squared_error(y_test, y_pred, squared=False)\n",
        "  r2_test = r2_score(y_test, y_pred)\n",
        "  mae_test = mean_absolute_error(y_test, y_pred)\n",
        "\n",
        "  mlflow.log_metric(\"validation_score_RMSE\", rmse_valid)\n",
        "  mlflow.log_metric(\"validation_score_R2\", r2_valid)\n",
        "  mlflow.log_metric(\"validation_score_MAE\", mae_valid)\n",
        "\n",
        "  mlflow.log_metric(\"test_score_RMSE\", rmse_test)\n",
        "  mlflow.log_metric(\"test_score_R2\", r2_test)\n",
        "  mlflow.log_metric(\"test_score_MAE\", mae_test)\n",
        "  mlflow.end_run()\n"
      ],
      "metadata": {
        "id": "u3Ogi_3rwrNX"
      },
      "execution_count": null,
      "outputs": []
    },
    {
      "cell_type": "markdown",
      "source": [
        "### Preprocessing_1 : Reformating"
      ],
      "metadata": {
        "id": "jwboKtvuWZVZ"
      }
    },
    {
      "cell_type": "code",
      "source": [
        "categorical_columns = ['Manufacturer', 'Category', 'Operating System', 'Screen', 'GPU','CPU','Storage']\n",
        "numerical_columns = ['Screen Size', 'RAM', 'Weight']\n",
        "\n",
        "processor = ColumnTransformer(transformers=[\n",
        "        ('num', StandardScaler(), numerical_columns),\n",
        "        ('cat',OneHotEncoder(handle_unknown='ignore'),categorical_columns)\n",
        "    ])\n",
        "\n"
      ],
      "metadata": {
        "id": "7FA0cYutjYpO"
      },
      "execution_count": null,
      "outputs": []
    },
    {
      "cell_type": "code",
      "source": [
        "without_feature_ex = train_set.drop(['id','Operating System Version','Model Name'],axis=1)\n",
        "without_feature_ex = remove_trailing_quote(without_feature_ex)\n",
        "without_feature_ex = data_reformating(without_feature_ex)"
      ],
      "metadata": {
        "id": "fyfG04GuP77J"
      },
      "execution_count": null,
      "outputs": []
    },
    {
      "cell_type": "code",
      "source": [
        "X = without_feature_ex.drop(['Price'],axis=1).copy()\n",
        "y = without_feature_ex['Price'].copy()\n",
        "\n",
        "X_without_transformed = processor.fit_transform(X)\n",
        "\n",
        "X_train, X_valid, y_train, y_valid = train_test_split(X_without_transformed, y, test_size=0.33, random_state=42)\n",
        "\n",
        "without_feature_ex_test = test_set.drop(['id','Operating System Version','Model Name'],axis=1)\n",
        "without_feature_ex_test = remove_trailing_quote(without_feature_ex_test)\n",
        "without_feature_ex_test = data_reformating(without_feature_ex_test)\n",
        "\n",
        "X_test = without_feature_ex_test.drop(['Price'],axis=1).copy()\n",
        "y_test = without_feature_ex_test['Price'].copy()\n",
        "X_transformed_test = processor.transform(X_test)\n",
        "\n",
        "with mlflow.start_run(run_name = 'Preprocesser_1:Reformatting(BaseLine)'):\n",
        "  mlflow.set_tag('model_name','LinearReg Baseline')\n",
        "  mlflow.log_param(\"preprocessing_steps\", \"Feature Reformating\")\n",
        "  mlflow.log_param(\"Parameters\", \"Deafult\")\n",
        "\n",
        "\n",
        "\n",
        "\n",
        "  model = LinearRegression()\n",
        "\n",
        "  model.fit(X_train,y_train)\n",
        "  y_pred = model.predict(X_valid)\n",
        "\n",
        "  rmse_valid = mean_squared_error(y_valid, y_pred, squared=False)\n",
        "  r2_valid = r2_score(y_valid, y_pred)\n",
        "  mae_valid = mean_absolute_error(y_valid, y_pred)\n",
        "\n",
        "\n",
        "  y_pred = model.predict(X_transformed_test)\n",
        "  rmse_test = mean_squared_error(y_test, y_pred, squared=False)\n",
        "  r2_test = r2_score(y_test, y_pred)\n",
        "  mae_test = mean_absolute_error(y_test, y_pred)\n",
        "\n",
        "\n",
        "  mlflow.log_metric(\"validation_score_RMSE\", rmse_valid)\n",
        "  mlflow.log_metric(\"validation_score_R2\", r2_valid)\n",
        "  mlflow.log_metric(\"validation_score_MAE\", mae_valid)\n",
        "\n",
        "  mlflow.log_metric(\"test_score_RMSE\", rmse_test)\n",
        "  mlflow.log_metric(\"test_score_R2\", r2_test)\n",
        "  mlflow.log_metric(\"test_score_MAE\", mae_test)\n",
        "\n",
        "  mlflow.end_run()"
      ],
      "metadata": {
        "id": "zJ2C1UeSjOed"
      },
      "execution_count": null,
      "outputs": []
    },
    {
      "cell_type": "code",
      "source": [
        "with mlflow.start_run(run_name = 'Preprocesser_1:Reformatting(Bestmodel)'):\n",
        "  mlflow.set_tag('model_name','xgb_model')\n",
        "  mlflow.log_param(\"preprocessing_steps\", \"Feature Reformating\")\n",
        "  mlflow.log_param(\"Parameters\", \"Deafult\")\n",
        "\n",
        "\n",
        "\n",
        "\n",
        "  model = xgb.XGBRegressor()\n",
        "\n",
        "  model.fit(X_train,y_train)\n",
        "  y_pred = model.predict(X_valid)\n",
        "\n",
        "  rmse_valid = mean_squared_error(y_valid, y_pred, squared=False)\n",
        "  r2_valid = r2_score(y_valid, y_pred)\n",
        "  mae_valid = mean_absolute_error(y_valid, y_pred)\n",
        "\n",
        "\n",
        "  y_pred = model.predict(X_transformed_test)\n",
        "  rmse_test = mean_squared_error(y_test, y_pred, squared=False)\n",
        "  r2_test = r2_score(y_test, y_pred)\n",
        "  mae_test = mean_absolute_error(y_test, y_pred)\n",
        "\n",
        "\n",
        "  mlflow.log_metric(\"validation_score_RMSE\", rmse_valid)\n",
        "  mlflow.log_metric(\"validation_score_R2\", r2_valid)\n",
        "  mlflow.log_metric(\"validation_score_MAE\", mae_valid)\n",
        "\n",
        "  mlflow.log_metric(\"test_score_RMSE\", rmse_test)\n",
        "  mlflow.log_metric(\"test_score_R2\", r2_test)\n",
        "  mlflow.log_metric(\"test_score_MAE\", mae_test)\n",
        "  mlflow.end_run()"
      ],
      "metadata": {
        "id": "rFkyzbtVdfzR"
      },
      "execution_count": null,
      "outputs": []
    },
    {
      "cell_type": "markdown",
      "source": [
        "### Preprocessing_2: Reformating + Feature Extraxtion"
      ],
      "metadata": {
        "id": "i1JX090bXhrJ"
      }
    },
    {
      "cell_type": "code",
      "source": [
        "categorical_columns =  ['Manufacturer', 'Category', 'Operating System', 'ScreenType', 'Resolution', 'CPU_Series', 'CPU_Company', 'GPU_Company', 'GPU_series']\n",
        "numerical_columns = ['Screen Size', 'RAM', 'Weight','Hybrid', 'SSD', 'HDD', 'Flash Storage', 'CPU_GHz']\n",
        "\n",
        "processor = ColumnTransformer(transformers=[\n",
        "        ('num', StandardScaler(), numerical_columns),\n",
        "        ('cat',OneHotEncoder(handle_unknown='ignore'),categorical_columns)\n",
        "    ])\n",
        "\n",
        "new_data = data_preprocessing(train_set.copy())\n",
        "\n",
        "X = new_data.drop(['Price'],axis=1).copy()\n",
        "y = new_data['Price'].copy()\n",
        "\n",
        "X_new_data_transformed = processor.fit_transform(X)\n",
        "X_train, X_valid, y_train, y_valid = train_test_split(X_new_data_transformed, y, test_size=0.33, random_state=42)\n",
        "\n",
        "new_data_test = data_preprocessing(test_set.copy())\n",
        "\n",
        "X_test = new_data_test.drop(['Price'],axis=1).copy()\n",
        "y_test = new_data_test['Price'].copy()\n",
        "X_transformed_test = processor.transform(X_test)\n",
        "\n",
        "with mlflow.start_run(run_name = 'Preprocess_2:Reformating+FeatureExtraction(Baseline)'):\n",
        "  mlflow.set_tag('model_name','LinearReg Baseline')\n",
        "  mlflow.log_param(\"preprocessing_steps\", \"Feature Reformating + FeatureExtraction\")\n",
        "  mlflow.log_param(\"Parameters\", \"Deafult\")\n",
        "\n",
        "\n",
        "\n",
        "\n",
        "  model = LinearRegression()\n",
        "\n",
        "  model.fit(X_train,y_train)\n",
        "  y_pred = model.predict(X_valid)\n",
        "\n",
        "  rmse_valid = mean_squared_error(y_valid, y_pred, squared=False)\n",
        "  r2_valid = r2_score(y_valid, y_pred)\n",
        "  mae_valid = mean_absolute_error(y_valid, y_pred)\n",
        "\n",
        "\n",
        "  y_pred = model.predict(X_transformed_test)\n",
        "  rmse_test = mean_squared_error(y_test, y_pred, squared=False)\n",
        "  r2_test = r2_score(y_test, y_pred)\n",
        "  mae_test = mean_absolute_error(y_test, y_pred)\n",
        "\n",
        "\n",
        "  mlflow.log_metric(\"validation_score_RMSE\", rmse_valid)\n",
        "  mlflow.log_metric(\"validation_score_R2\", r2_valid)\n",
        "  mlflow.log_metric(\"validation_score_MAE\", mae_valid)\n",
        "\n",
        "  mlflow.log_metric(\"test_score_RMSE\", rmse_test)\n",
        "  mlflow.log_metric(\"test_score_R2\", r2_test)\n",
        "  mlflow.log_metric(\"test_score_MAE\", mae_test)\n",
        "  mlflow.end_run()\n"
      ],
      "metadata": {
        "colab": {
          "base_uri": "https://localhost:8080/"
        },
        "id": "Nyt9y1StXt3S",
        "outputId": "c9e2bea2-59fd-48ae-bb56-73d1fee6b557"
      },
      "execution_count": null,
      "outputs": [
        {
          "output_type": "stream",
          "name": "stderr",
          "text": [
            "<ipython-input-29-b7978efcadc0>:14: FutureWarning: The default value of regex will change from True to False in a future version.\n",
            "  df['CPU'] = df['CPU'].str.replace(r'(\\d+(?:\\.\\d+)?)GHz', '')\n",
            "<ipython-input-29-b7978efcadc0>:18: FutureWarning: The default value of regex will change from True to False in a future version.\n",
            "  df['CPU'] = df['CPU'].str.replace(r'(Core i\\d+|Ryzen\\d+|Celeron Quad Core|Pentium Quad Core|A8-Series|Pentium Dual Core|Cortex|Celeron Dual Core|A6-Series|Core M|A4-Series|FX|E-Series|Xeon|A10-Series|A9-Series|A12-Series|Atom)', '')\n",
            "<ipython-input-29-b7978efcadc0>:28: FutureWarning: The default value of regex will change from True to False in a future version.\n",
            "  df['CPU'] = df['CPU'].str.replace(r'(AMD|Intel|Nvidia|Samsung)', '')\n",
            "<ipython-input-29-b7978efcadc0>:14: FutureWarning: The default value of regex will change from True to False in a future version.\n",
            "  df['CPU'] = df['CPU'].str.replace(r'(\\d+(?:\\.\\d+)?)GHz', '')\n",
            "<ipython-input-29-b7978efcadc0>:18: FutureWarning: The default value of regex will change from True to False in a future version.\n",
            "  df['CPU'] = df['CPU'].str.replace(r'(Core i\\d+|Ryzen\\d+|Celeron Quad Core|Pentium Quad Core|A8-Series|Pentium Dual Core|Cortex|Celeron Dual Core|A6-Series|Core M|A4-Series|FX|E-Series|Xeon|A10-Series|A9-Series|A12-Series|Atom)', '')\n",
            "<ipython-input-29-b7978efcadc0>:28: FutureWarning: The default value of regex will change from True to False in a future version.\n",
            "  df['CPU'] = df['CPU'].str.replace(r'(AMD|Intel|Nvidia|Samsung)', '')\n"
          ]
        }
      ]
    },
    {
      "cell_type": "code",
      "source": [
        "with mlflow.start_run(run_name = 'Preprocess_2:Reformating+FeatureExtraction(BestModel)'):\n",
        "  mlflow.set_tag('model_name','xgb_model')\n",
        "  mlflow.log_param(\"preprocessing_steps\", \"Feature Reformating + FeatureExtraction\")\n",
        "  mlflow.log_param(\"Parameters\", \"Deafult\")\n",
        "  xgb_model = xgb.XGBRegressor()\n",
        "  xgb_model.fit(X_train,y_train)\n",
        "  y_pred = xgb_model.predict(X_valid)\n",
        "  rmse_valid = mean_squared_error(y_valid, y_pred, squared=False)\n",
        "  r2_valid = r2_score(y_valid, y_pred)\n",
        "  mae_valid = mean_absolute_error(y_valid, y_pred)\n",
        "\n",
        "\n",
        "  y_pred = model.predict(X_transformed_test)\n",
        "  rmse_test = mean_squared_error(y_test, y_pred, squared=False)\n",
        "  r2_test = r2_score(y_test, y_pred)\n",
        "  mae_test = mean_absolute_error(y_test, y_pred)\n",
        "\n",
        "\n",
        "  mlflow.log_metric(\"validation_score_RMSE\", rmse_valid)\n",
        "  mlflow.log_metric(\"validation_score_R2\", r2_valid)\n",
        "  mlflow.log_metric(\"validation_score_MAE\", mae_valid)\n",
        "\n",
        "  mlflow.log_metric(\"test_score_RMSE\", rmse_test)\n",
        "  mlflow.log_metric(\"test_score_R2\", r2_test)\n",
        "  mlflow.log_metric(\"test_score_MAE\", mae_test)\n",
        "  mlflow.end_run()\n"
      ],
      "metadata": {
        "id": "zjZV9sWZdpKA"
      },
      "execution_count": null,
      "outputs": []
    },
    {
      "cell_type": "markdown",
      "source": [
        "### Preprocessing_3: Reformatting + Feature Extraction + Manual Feature Hashing"
      ],
      "metadata": {
        "id": "pgewXffGmTF2"
      }
    },
    {
      "cell_type": "code",
      "source": [
        "categorical_columns =  ['Manufacturer', 'Category', 'Operating System', 'ScreenType', 'Resolution', 'CPU_Company', 'GPU_Company']\n",
        "numerical_columns = ['Screen Size', 'RAM', 'Weight','Hybrid', 'SSD', 'HDD', 'Flash Storage', 'CPU_GHz']\n",
        "ranked_categorical_columns = ['CPU_Series','GPU_series']\n",
        "\n",
        "processor = ColumnTransformer(transformers=[\n",
        "        ('num', StandardScaler(), numerical_columns),\n",
        "        ('cat',OneHotEncoder(handle_unknown='ignore'),categorical_columns),\n",
        "        ('ranked_cat',OrdinalEncoder(handle_unknown='error'),ranked_categorical_columns)\n",
        "    ])\n",
        "\n",
        "gpu_series_ranking = {\n",
        "    'GeForceGTX':16 ,\n",
        "    'RadeonRX': 15,\n",
        "    'GeForceMX':14 ,\n",
        "    'RadeonPro':13 ,\n",
        "    'RadeonR9':12 ,\n",
        "    'RadeonR7':11 ,\n",
        "    'FirePro':10,\n",
        "    'Quadro': 9,\n",
        "    'RadeonR5': 8,\n",
        "    'Radeon':8,\n",
        "    'Iris Pro Graphics':7 ,\n",
        "    'Iris Plus Graphics':6 ,\n",
        "    'RadeonR3':5 ,\n",
        "    'Iris Graphics':4 ,\n",
        "    'RadeonR2':3 ,\n",
        "    'UHD Graphics':2,\n",
        "    'HD Graphics':1 ,\n",
        "\n",
        "  }\n",
        "processor_ranking = {\n",
        "    'Pentium Quad Core': 4,\n",
        "    'A6-Series': 10,\n",
        "    'Core i7': 20,\n",
        "    'Core i5': 18,\n",
        "    'Core i3': 17,\n",
        "    'Celeron Dual Core': 1,\n",
        "    'Xeon': 15,\n",
        "    'A9-Series': 12,\n",
        "    'Atom': 20,\n",
        "    'FX': 6,\n",
        "    'A4-Series': 10,\n",
        "    'Ryzen': 19,\n",
        "    'E-Series': 5,\n",
        "    'Core M': 16,\n",
        "    'A12-Series': 14,\n",
        "    'Celeron Quad Core': 3,\n",
        "    'Pentium Dual Core': 2,\n",
        "    'A10-Series': 13,\n",
        "    'A8-Series': 11\n",
        "    }\n",
        "\n",
        "new_data = data_preprocessing(train_set.copy())\n",
        "new_data['GPU_series'] = new_data['GPU_series'].map(gpu_series_ranking)\n",
        "new_data['GPU_series'].fillna(8,inplace=True)\n",
        "new_data['CPU_Series'] = new_data['CPU_Series'].map(processor_ranking)\n",
        "new_data['CPU_Series'].fillna(8,inplace=True)\n",
        "\n",
        "\n",
        "X = new_data.drop(['Price'],axis=1).copy()\n",
        "y = new_data['Price'].copy()\n",
        "\n",
        "X_new_data_transformed = processor.fit_transform(X)\n",
        "X_train, X_valid, y_train, y_valid = train_test_split(X_new_data_transformed, y, test_size=0.33, random_state=42)\n",
        "\n",
        "new_data_test = data_preprocessing(test_set.copy())\n",
        "new_data_test['GPU_series'] = new_data_test['GPU_series'].map(gpu_series_ranking)\n",
        "new_data_test['GPU_series'].fillna(8,inplace=True)\n",
        "new_data_test['CPU_Series'] = new_data_test['CPU_Series'].map(processor_ranking)\n",
        "new_data_test['CPU_Series'].fillna(8,inplace=True)\n",
        "\n",
        "X_test = new_data_test.drop(['Price'],axis=1).copy()\n",
        "y_test = new_data_test['Price'].copy()\n",
        "X_transformed_test = processor.transform(X_test)\n",
        "\n",
        "with mlflow.start_run(run_name = 'Preprocess_3:Reformating+FeatureExtraction+ManualHashing(Baseline)'):\n",
        "  mlflow.set_tag('model_name','LinearReg Baseline')\n",
        "  mlflow.log_param(\"preprocessing_steps\", \"Feature Reformating - FeatureExtraction - ManualHashing\")\n",
        "  mlflow.log_param(\"Parameters\", \"Deafult\")\n",
        "\n",
        "\n",
        "\n",
        "\n",
        "  model = LinearRegression()\n",
        "\n",
        "  model.fit(X_train,y_train)\n",
        "  y_pred = model.predict(X_valid)\n",
        "\n",
        "  rmse_valid = mean_squared_error(y_valid, y_pred, squared=False)\n",
        "  r2_valid = r2_score(y_valid, y_pred)\n",
        "  mae_valid = mean_absolute_error(y_valid, y_pred)\n",
        "\n",
        "\n",
        "  y_pred = model.predict(X_transformed_test)\n",
        "  rmse_test = mean_squared_error(y_test, y_pred, squared=False)\n",
        "  r2_test = r2_score(y_test, y_pred)\n",
        "  mae_test = mean_absolute_error(y_test, y_pred)\n",
        "\n",
        "\n",
        "  mlflow.log_metric(\"validation_score_RMSE\", rmse_valid)\n",
        "  mlflow.log_metric(\"validation_score_R2\", r2_valid)\n",
        "  mlflow.log_metric(\"validation_score_MAE\", mae_valid)\n",
        "\n",
        "  mlflow.log_metric(\"test_score_RMSE\", rmse_test)\n",
        "  mlflow.log_metric(\"test_score_R2\", r2_test)\n",
        "  mlflow.log_metric(\"test_score_MAE\", mae_test)\n",
        "  mlflow.end_run()"
      ],
      "metadata": {
        "colab": {
          "base_uri": "https://localhost:8080/"
        },
        "id": "I_wq8D4Lmmn_",
        "outputId": "67d08996-e9b7-4676-bd96-ae7e65d05d19"
      },
      "execution_count": null,
      "outputs": [
        {
          "output_type": "stream",
          "name": "stderr",
          "text": [
            "<ipython-input-29-b7978efcadc0>:14: FutureWarning: The default value of regex will change from True to False in a future version.\n",
            "  df['CPU'] = df['CPU'].str.replace(r'(\\d+(?:\\.\\d+)?)GHz', '')\n",
            "<ipython-input-29-b7978efcadc0>:18: FutureWarning: The default value of regex will change from True to False in a future version.\n",
            "  df['CPU'] = df['CPU'].str.replace(r'(Core i\\d+|Ryzen\\d+|Celeron Quad Core|Pentium Quad Core|A8-Series|Pentium Dual Core|Cortex|Celeron Dual Core|A6-Series|Core M|A4-Series|FX|E-Series|Xeon|A10-Series|A9-Series|A12-Series|Atom)', '')\n",
            "<ipython-input-29-b7978efcadc0>:28: FutureWarning: The default value of regex will change from True to False in a future version.\n",
            "  df['CPU'] = df['CPU'].str.replace(r'(AMD|Intel|Nvidia|Samsung)', '')\n",
            "<ipython-input-29-b7978efcadc0>:14: FutureWarning: The default value of regex will change from True to False in a future version.\n",
            "  df['CPU'] = df['CPU'].str.replace(r'(\\d+(?:\\.\\d+)?)GHz', '')\n",
            "<ipython-input-29-b7978efcadc0>:18: FutureWarning: The default value of regex will change from True to False in a future version.\n",
            "  df['CPU'] = df['CPU'].str.replace(r'(Core i\\d+|Ryzen\\d+|Celeron Quad Core|Pentium Quad Core|A8-Series|Pentium Dual Core|Cortex|Celeron Dual Core|A6-Series|Core M|A4-Series|FX|E-Series|Xeon|A10-Series|A9-Series|A12-Series|Atom)', '')\n",
            "<ipython-input-29-b7978efcadc0>:28: FutureWarning: The default value of regex will change from True to False in a future version.\n",
            "  df['CPU'] = df['CPU'].str.replace(r'(AMD|Intel|Nvidia|Samsung)', '')\n"
          ]
        }
      ]
    },
    {
      "cell_type": "code",
      "source": [
        "with mlflow.start_run(run_name = 'Preprocess_3:Reformating+FeatureExtraction+ManaulHashing(BestModel)'):\n",
        "  mlflow.set_tag('model_name','xgb_model')\n",
        "  mlflow.log_param(\"preprocessing_steps\", \"Feature Reformating + FeatureExtraction + Manual Hashing\")\n",
        "  mlflow.log_param(\"Parameters\", \"Deafult\")\n",
        "  xgb_model = xgb.XGBRegressor()\n",
        "  xgb_model.fit(X_train,y_train)\n",
        "  y_pred = xgb_model.predict(X_valid)\n",
        "  rmse_valid = mean_squared_error(y_valid, y_pred, squared=False)\n",
        "  r2_valid = r2_score(y_valid, y_pred)\n",
        "  mae_valid = mean_absolute_error(y_valid, y_pred)\n",
        "\n",
        "\n",
        "  y_pred = model.predict(X_transformed_test)\n",
        "  rmse_test = mean_squared_error(y_test, y_pred, squared=False)\n",
        "  r2_test = r2_score(y_test, y_pred)\n",
        "  mae_test = mean_absolute_error(y_test, y_pred)\n",
        "\n",
        "\n",
        "  mlflow.log_metric(\"validation_score_RMSE\", rmse_valid)\n",
        "  mlflow.log_metric(\"validation_score_R2\", r2_valid)\n",
        "  mlflow.log_metric(\"validation_score_MAE\", mae_valid)\n",
        "\n",
        "  mlflow.log_metric(\"test_score_RMSE\", rmse_test)\n",
        "  mlflow.log_metric(\"test_score_R2\", r2_test)\n",
        "  mlflow.log_metric(\"test_score_MAE\", mae_test)\n",
        "  mlflow.end_run()"
      ],
      "metadata": {
        "id": "-FMF2K-gqvjd"
      },
      "execution_count": null,
      "outputs": []
    },
    {
      "cell_type": "markdown",
      "source": [
        "### Preprocessing_4: Reformatting +Feature Extraction + Manual Hashing+Feature Engineering"
      ],
      "metadata": {
        "id": "eKyItjVjZQ8J"
      }
    },
    {
      "cell_type": "code",
      "source": [
        "categorical_columns =  ['Manufacturer', 'Category', 'Operating System', 'ScreenType', 'Resolution', 'CPU_Company', 'GPU_Company']\n",
        "numerical_columns = ['Screen Size', 'RAM', 'Weight','Hybrid', 'SSD', 'HDD', 'Flash Storage', 'CPU_GHz','ppi']\n",
        "ranked_categorical_columns = ['CPU_Series','GPU_series']\n",
        "\n",
        "processor = ColumnTransformer(transformers=[\n",
        "        ('num', StandardScaler(), numerical_columns),\n",
        "        ('cat',OneHotEncoder(handle_unknown='ignore'),categorical_columns),\n",
        "        ('ranked_cat',OrdinalEncoder(handle_unknown='error'),ranked_categorical_columns)\n",
        "    ])\n",
        "\n",
        "gpu_series_ranking = {\n",
        "    'GeForceGTX':16 ,\n",
        "    'RadeonRX': 15,\n",
        "    'GeForceMX':14 ,\n",
        "    'RadeonPro':13 ,\n",
        "    'RadeonR9':12 ,\n",
        "    'RadeonR7':11 ,\n",
        "    'FirePro':10,\n",
        "    'Quadro': 9,\n",
        "    'RadeonR5': 8,\n",
        "    'Radeon':8,\n",
        "    'Iris Pro Graphics':7 ,\n",
        "    'Iris Plus Graphics':6 ,\n",
        "    'RadeonR3':5 ,\n",
        "    'Iris Graphics':4 ,\n",
        "    'RadeonR2':3 ,\n",
        "    'UHD Graphics':2,\n",
        "    'HD Graphics':1 ,\n",
        "\n",
        "  }\n",
        "processor_ranking = {\n",
        "    'Pentium Quad Core': 4,\n",
        "    'A6-Series': 10,\n",
        "    'Core i7': 20,\n",
        "    'Core i5': 18,\n",
        "    'Core i3': 17,\n",
        "    'Celeron Dual Core': 1,\n",
        "    'Xeon': 15,\n",
        "    'A9-Series': 12,\n",
        "    'Atom': 20,\n",
        "    'FX': 6,\n",
        "    'A4-Series': 10,\n",
        "    'Ryzen': 19,\n",
        "    'E-Series': 5,\n",
        "    'Core M': 16,\n",
        "    'A12-Series': 14,\n",
        "    'Celeron Quad Core': 3,\n",
        "    'Pentium Dual Core': 2,\n",
        "    'A10-Series': 13,\n",
        "    'A8-Series': 11\n",
        "    }\n",
        "\n",
        "new_data = data_preprocessing(train_set.copy())\n",
        "new_data['GPU_series'] = new_data['GPU_series'].map(gpu_series_ranking)\n",
        "new_data['GPU_series'].fillna(8,inplace=True)\n",
        "new_data['CPU_Series'] = new_data['CPU_Series'].map(processor_ranking)\n",
        "new_data['CPU_Series'].fillna(8,inplace=True)\n",
        "new_data = ppi_feature_method.transform(new_data)\n",
        "\n",
        "X = new_data.drop(['Price'],axis=1).copy()\n",
        "y = new_data['Price'].copy()\n",
        "\n",
        "X_new_data_transformed = processor.fit_transform(X)\n",
        "X_train, X_valid, y_train, y_valid = train_test_split(X_new_data_transformed, y, test_size=0.33, random_state=42)\n",
        "\n",
        "new_data_test = data_preprocessing(test_set.copy())\n",
        "new_data_test['GPU_series'] = new_data_test['GPU_series'].map(gpu_series_ranking)\n",
        "new_data_test['GPU_series'].fillna(8,inplace=True)\n",
        "new_data_test['CPU_Series'] = new_data_test['CPU_Series'].map(processor_ranking)\n",
        "new_data_test['CPU_Series'].fillna(8,inplace=True)\n",
        "new_data_test = ppi_feature_method.transform(new_data_test)\n",
        "X_test = new_data_test.drop(['Price'],axis=1).copy()\n",
        "y_test = new_data_test['Price'].copy()\n",
        "X_transformed_test = processor.transform(X_test)\n",
        "\n",
        "with mlflow.start_run(run_name = 'Preprocess_4:Reformating+FeatureExtraction+ManualHashing+Feature Engineering(Baseline)'):\n",
        "  mlflow.set_tag('model_name','LinearReg Baseline')\n",
        "  mlflow.log_param(\"preprocessing_steps\", \"Feature Reformating - FeatureExtraction - ManualHashing +Feature Engineering \")\n",
        "  mlflow.log_param(\"Parameters\", \"Deafult\")\n",
        "\n",
        "\n",
        "\n",
        "\n",
        "  model = LinearRegression()\n",
        "\n",
        "  model.fit(X_train,y_train)\n",
        "  y_pred = model.predict(X_valid)\n",
        "\n",
        "  rmse_valid = mean_squared_error(y_valid, y_pred, squared=False)\n",
        "  r2_valid = r2_score(y_valid, y_pred)\n",
        "  mae_valid = mean_absolute_error(y_valid, y_pred)\n",
        "\n",
        "\n",
        "  y_pred = model.predict(X_transformed_test)\n",
        "  rmse_test = mean_squared_error(y_test, y_pred, squared=False)\n",
        "  r2_test = r2_score(y_test, y_pred)\n",
        "  mae_test = mean_absolute_error(y_test, y_pred)\n",
        "\n",
        "\n",
        "  mlflow.log_metric(\"validation_score_RMSE\", rmse_valid)\n",
        "  mlflow.log_metric(\"validation_score_R2\", r2_valid)\n",
        "  mlflow.log_metric(\"validation_score_MAE\", mae_valid)\n",
        "\n",
        "  mlflow.log_metric(\"test_score_RMSE\", rmse_test)\n",
        "  mlflow.log_metric(\"test_score_R2\", r2_test)\n",
        "  mlflow.log_metric(\"test_score_MAE\", mae_test)\n",
        "  mlflow.end_run()"
      ],
      "metadata": {
        "id": "xHVSpyy9ZdCa",
        "colab": {
          "base_uri": "https://localhost:8080/"
        },
        "outputId": "cec0fcec-a329-4fa3-84ff-4130d52fe32d"
      },
      "execution_count": null,
      "outputs": [
        {
          "output_type": "stream",
          "name": "stderr",
          "text": [
            "<ipython-input-29-b7978efcadc0>:14: FutureWarning: The default value of regex will change from True to False in a future version.\n",
            "  df['CPU'] = df['CPU'].str.replace(r'(\\d+(?:\\.\\d+)?)GHz', '')\n",
            "<ipython-input-29-b7978efcadc0>:18: FutureWarning: The default value of regex will change from True to False in a future version.\n",
            "  df['CPU'] = df['CPU'].str.replace(r'(Core i\\d+|Ryzen\\d+|Celeron Quad Core|Pentium Quad Core|A8-Series|Pentium Dual Core|Cortex|Celeron Dual Core|A6-Series|Core M|A4-Series|FX|E-Series|Xeon|A10-Series|A9-Series|A12-Series|Atom)', '')\n",
            "<ipython-input-29-b7978efcadc0>:28: FutureWarning: The default value of regex will change from True to False in a future version.\n",
            "  df['CPU'] = df['CPU'].str.replace(r'(AMD|Intel|Nvidia|Samsung)', '')\n",
            "<ipython-input-29-b7978efcadc0>:14: FutureWarning: The default value of regex will change from True to False in a future version.\n",
            "  df['CPU'] = df['CPU'].str.replace(r'(\\d+(?:\\.\\d+)?)GHz', '')\n",
            "<ipython-input-29-b7978efcadc0>:18: FutureWarning: The default value of regex will change from True to False in a future version.\n",
            "  df['CPU'] = df['CPU'].str.replace(r'(Core i\\d+|Ryzen\\d+|Celeron Quad Core|Pentium Quad Core|A8-Series|Pentium Dual Core|Cortex|Celeron Dual Core|A6-Series|Core M|A4-Series|FX|E-Series|Xeon|A10-Series|A9-Series|A12-Series|Atom)', '')\n",
            "<ipython-input-29-b7978efcadc0>:28: FutureWarning: The default value of regex will change from True to False in a future version.\n",
            "  df['CPU'] = df['CPU'].str.replace(r'(AMD|Intel|Nvidia|Samsung)', '')\n"
          ]
        }
      ]
    },
    {
      "cell_type": "code",
      "source": [
        "with mlflow.start_run(run_name = 'Preprocess_3:Reformating+FeatureExtraction+ManaulHashing+Feature Engineering(BestModel)'):\n",
        "  mlflow.set_tag('model_name','xgb_model')\n",
        "  mlflow.log_param(\"preprocessing_steps\", \"Feature Reformating + FeatureExtraction + Manual Hashing+Feature Engineering\")\n",
        "  mlflow.log_param(\"Parameters\", \"Deafult\")\n",
        "  xgb_model = xgb.XGBRegressor()\n",
        "  xgb_model.fit(X_train,y_train)\n",
        "  y_pred = xgb_model.predict(X_valid)\n",
        "  rmse_valid = mean_squared_error(y_valid, y_pred, squared=False)\n",
        "  r2_valid = r2_score(y_valid, y_pred)\n",
        "  mae_valid = mean_absolute_error(y_valid, y_pred)\n",
        "\n",
        "\n",
        "  y_pred = model.predict(X_transformed_test)\n",
        "  rmse_test = mean_squared_error(y_test, y_pred, squared=False)\n",
        "  r2_test = r2_score(y_test, y_pred)\n",
        "  mae_test = mean_absolute_error(y_test, y_pred)\n",
        "\n",
        "\n",
        "  mlflow.log_metric(\"validation_score_RMSE\", rmse_valid)\n",
        "  mlflow.log_metric(\"validation_score_R2\", r2_valid)\n",
        "  mlflow.log_metric(\"validation_score_MAE\", mae_valid)\n",
        "\n",
        "  mlflow.log_metric(\"test_score_RMSE\", rmse_test)\n",
        "  mlflow.log_metric(\"test_score_R2\", r2_test)\n",
        "  mlflow.log_metric(\"test_score_MAE\", mae_test)\n",
        "  mlflow.end_run()"
      ],
      "metadata": {
        "id": "g3iE-VwVH2Tj"
      },
      "execution_count": null,
      "outputs": []
    },
    {
      "cell_type": "markdown",
      "source": [
        "### Preprocessing_5: Reformatting +Feature Extraction + Manual Hashing+Feature Engineering(2)\"Clustering\""
      ],
      "metadata": {
        "id": "X04nY1Ktrwt-"
      }
    },
    {
      "cell_type": "code",
      "source": [
        "categorical_columns =  ['Manufacturer', 'Category', 'Operating System', 'ScreenType', 'Resolution', 'CPU_Company', 'GPU_Company']\n",
        "numerical_columns = ['Screen Size', 'RAM', 'Weight','Hybrid', 'SSD', 'HDD', 'Flash Storage', 'CPU_GHz','ppi']\n",
        "ranked_categorical_columns = ['CPU_Series','GPU_series']\n",
        "\n",
        "processor = ColumnTransformer(transformers=[\n",
        "        ('num', StandardScaler(), numerical_columns),\n",
        "        ('cat',OneHotEncoder(handle_unknown='ignore'),categorical_columns),\n",
        "        ('ranked_cat',OrdinalEncoder(handle_unknown='error'),ranked_categorical_columns)\n",
        "    ])\n",
        "\n",
        "\n",
        "gpu_series_ranking = {\n",
        "    'GeForceGTX':16 ,\n",
        "    'RadeonRX': 15,\n",
        "    'GeForceMX':14 ,\n",
        "    'RadeonPro':13 ,\n",
        "    'RadeonR9':12 ,\n",
        "    'RadeonR7':11 ,\n",
        "    'FirePro':10,\n",
        "    'Quadro': 9,\n",
        "    'RadeonR5': 8,\n",
        "    'Radeon':8,\n",
        "    'Iris Pro Graphics':7 ,\n",
        "    'Iris Plus Graphics':6 ,\n",
        "    'RadeonR3':5 ,\n",
        "    'Iris Graphics':4 ,\n",
        "    'RadeonR2':3 ,\n",
        "    'UHD Graphics':2,\n",
        "    'HD Graphics':1 ,\n",
        "\n",
        "  }\n",
        "processor_ranking = {\n",
        "    'Pentium Quad Core': 4,\n",
        "    'A6-Series': 10,\n",
        "    'Core i7': 20,\n",
        "    'Core i5': 18,\n",
        "    'Core i3': 17,\n",
        "    'Celeron Dual Core': 1,\n",
        "    'Xeon': 15,\n",
        "    'A9-Series': 12,\n",
        "    'Atom': 20,\n",
        "    'FX': 6,\n",
        "    'A4-Series': 10,\n",
        "    'Ryzen': 19,\n",
        "    'E-Series': 5,\n",
        "    'Core M': 16,\n",
        "    'A12-Series': 14,\n",
        "    'Celeron Quad Core': 3,\n",
        "    'Pentium Dual Core': 2,\n",
        "    'A10-Series': 13,\n",
        "    'A8-Series': 11\n",
        "    }\n",
        "\n",
        "new_data = data_preprocessing(train_set.copy())\n",
        "new_data['GPU_series'] = new_data['GPU_series'].map(gpu_series_ranking)\n",
        "new_data['GPU_series'].fillna(8,inplace=True)\n",
        "new_data['CPU_Series'] = new_data['CPU_Series'].map(processor_ranking)\n",
        "new_data['CPU_Series'].fillna(8,inplace=True)\n",
        "new_data = ppi_feature_method.transform(new_data)\n",
        "\n",
        "X = new_data.drop(['Price'],axis=1).copy()\n",
        "y = new_data['Price'].copy()\n",
        "\n",
        "X_new_data_transformed = processor.fit_transform(X)\n",
        "\n",
        "new_data_test = data_preprocessing(test_set.copy())\n",
        "new_data_test['GPU_series'] = new_data_test['GPU_series'].map(gpu_series_ranking)\n",
        "new_data_test['GPU_series'].fillna(8,inplace=True)\n",
        "new_data_test['CPU_Series'] = new_data_test['CPU_Series'].map(processor_ranking)\n",
        "new_data_test['CPU_Series'].fillna(8,inplace=True)\n",
        "new_data_test = ppi_feature_method.transform(new_data_test)\n",
        "X_test = new_data_test.drop(['Price'],axis=1).copy()\n",
        "y_test = new_data_test['Price'].copy()\n",
        "X_transformed_test = processor.transform(X_test)\n",
        "\n"
      ],
      "metadata": {
        "colab": {
          "base_uri": "https://localhost:8080/"
        },
        "id": "eevhT8OhJToT",
        "outputId": "dfa16999-715d-4a0c-c278-523625c31727"
      },
      "execution_count": null,
      "outputs": [
        {
          "output_type": "stream",
          "name": "stderr",
          "text": [
            "<ipython-input-29-b7978efcadc0>:14: FutureWarning: The default value of regex will change from True to False in a future version.\n",
            "  df['CPU'] = df['CPU'].str.replace(r'(\\d+(?:\\.\\d+)?)GHz', '')\n",
            "<ipython-input-29-b7978efcadc0>:18: FutureWarning: The default value of regex will change from True to False in a future version.\n",
            "  df['CPU'] = df['CPU'].str.replace(r'(Core i\\d+|Ryzen\\d+|Celeron Quad Core|Pentium Quad Core|A8-Series|Pentium Dual Core|Cortex|Celeron Dual Core|A6-Series|Core M|A4-Series|FX|E-Series|Xeon|A10-Series|A9-Series|A12-Series|Atom)', '')\n",
            "<ipython-input-29-b7978efcadc0>:28: FutureWarning: The default value of regex will change from True to False in a future version.\n",
            "  df['CPU'] = df['CPU'].str.replace(r'(AMD|Intel|Nvidia|Samsung)', '')\n",
            "<ipython-input-29-b7978efcadc0>:14: FutureWarning: The default value of regex will change from True to False in a future version.\n",
            "  df['CPU'] = df['CPU'].str.replace(r'(\\d+(?:\\.\\d+)?)GHz', '')\n",
            "<ipython-input-29-b7978efcadc0>:18: FutureWarning: The default value of regex will change from True to False in a future version.\n",
            "  df['CPU'] = df['CPU'].str.replace(r'(Core i\\d+|Ryzen\\d+|Celeron Quad Core|Pentium Quad Core|A8-Series|Pentium Dual Core|Cortex|Celeron Dual Core|A6-Series|Core M|A4-Series|FX|E-Series|Xeon|A10-Series|A9-Series|A12-Series|Atom)', '')\n",
            "<ipython-input-29-b7978efcadc0>:28: FutureWarning: The default value of regex will change from True to False in a future version.\n",
            "  df['CPU'] = df['CPU'].str.replace(r'(AMD|Intel|Nvidia|Samsung)', '')\n"
          ]
        }
      ]
    },
    {
      "cell_type": "code",
      "source": [
        "k = 3\n",
        "\n",
        "kmeans = KMeans(n_clusters=k, random_state=42)\n",
        "kmeans.fit(X_new_data_transformed)\n",
        "\n",
        "cluster_labels = kmeans.labels_\n",
        "\n",
        "X['Cluster_Team'] = cluster_labels\n",
        "\n",
        "labels = kmeans.predict(X_transformed_test)\n",
        "\n",
        "X_test['Cluster_Team'] =  labels"
      ],
      "metadata": {
        "id": "xBizomErJQb7",
        "colab": {
          "base_uri": "https://localhost:8080/"
        },
        "outputId": "b4daa89a-a73b-45e7-ddc7-0f9aade6307e"
      },
      "execution_count": null,
      "outputs": [
        {
          "output_type": "stream",
          "name": "stderr",
          "text": [
            "/usr/local/lib/python3.10/dist-packages/sklearn/cluster/_kmeans.py:870: FutureWarning: The default value of `n_init` will change from 10 to 'auto' in 1.4. Set the value of `n_init` explicitly to suppress the warning\n",
            "  warnings.warn(\n"
          ]
        }
      ]
    },
    {
      "cell_type": "code",
      "source": [
        "categorical_columns =  ['Manufacturer', 'Category', 'Operating System', 'ScreenType', 'Resolution', 'CPU_Company', 'GPU_Company','Cluster_Team']\n",
        "numerical_columns = ['Screen Size', 'RAM', 'Weight','Hybrid', 'SSD', 'HDD', 'Flash Storage', 'CPU_GHz','ppi']\n",
        "ranked_categorical_columns = ['CPU_Series','GPU_series']\n",
        "\n",
        "processor = ColumnTransformer(transformers=[\n",
        "        ('num', StandardScaler(), numerical_columns),\n",
        "        ('cat',OneHotEncoder(handle_unknown='ignore'),categorical_columns),\n",
        "        ('ranked_cat',OrdinalEncoder(handle_unknown='error'),ranked_categorical_columns)\n",
        "    ])\n",
        "\n",
        "\n",
        "\n",
        "X_new_data_transformed = processor.fit_transform(X)\n",
        "X_train, X_valid, y_train, y_valid = train_test_split(X_new_data_transformed, y, test_size=0.33, random_state=42)\n",
        "\n",
        "X_transformed_test = processor.transform(X_test)\n",
        "\n",
        "with mlflow.start_run(run_name = 'Preprocess_5:Reformating+FeatureExtraction+ManualHashing+Feature Engineering+Clustering(Baseline)'):\n",
        "  mlflow.set_tag('model_name','LinearReg Baseline')\n",
        "  mlflow.log_param(\"preprocessing_steps\", \"Feature Reformating - FeatureExtraction - ManualHashing +Feature Engineering+Clustering \")\n",
        "  mlflow.log_param(\"Parameters\", \"Deafult\")\n",
        "\n",
        "\n",
        "\n",
        "\n",
        "  model = LinearRegression()\n",
        "\n",
        "  model.fit(X_train,y_train)\n",
        "  y_pred = model.predict(X_valid)\n",
        "\n",
        "  rmse_valid = mean_squared_error(y_valid, y_pred, squared=False)\n",
        "  r2_valid = r2_score(y_valid, y_pred)\n",
        "  mae_valid = mean_absolute_error(y_valid, y_pred)\n",
        "\n",
        "\n",
        "  y_pred = model.predict(X_transformed_test)\n",
        "  rmse_test = mean_squared_error(y_test, y_pred, squared=False)\n",
        "  r2_test = r2_score(y_test, y_pred)\n",
        "  mae_test = mean_absolute_error(y_test, y_pred)\n",
        "\n",
        "\n",
        "  mlflow.log_metric(\"validation_score_RMSE\", rmse_valid)\n",
        "  mlflow.log_metric(\"validation_score_R2\", r2_valid)\n",
        "  mlflow.log_metric(\"validation_score_MAE\", mae_valid)\n",
        "\n",
        "  mlflow.log_metric(\"test_score_RMSE\", rmse_test)\n",
        "  mlflow.log_metric(\"test_score_R2\", r2_test)\n",
        "  mlflow.log_metric(\"test_score_MAE\", mae_test)\n",
        "  mlflow.end_run()"
      ],
      "metadata": {
        "id": "OqNCxFghK8Kc"
      },
      "execution_count": null,
      "outputs": []
    },
    {
      "cell_type": "code",
      "source": [
        "with mlflow.start_run(run_name = 'Preprocess_5:Reformating+FeatureExtraction+ManaulHashing+Feature Engineering+Clustering(BestModel)'):\n",
        "  mlflow.set_tag('model_name','xgb_model')\n",
        "  mlflow.log_param(\"preprocessing_steps\", \"Feature Reformating + FeatureExtraction + Manual Hashing+Feature Engineering+Clustering\")\n",
        "  mlflow.log_param(\"Parameters\", \"Deafult\")\n",
        "  xgb_model = xgb.XGBRegressor()\n",
        "  xgb_model.fit(X_train,y_train)\n",
        "  y_pred = xgb_model.predict(X_valid)\n",
        "  rmse_valid = mean_squared_error(y_valid, y_pred, squared=False)\n",
        "  r2_valid = r2_score(y_valid, y_pred)\n",
        "  mae_valid = mean_absolute_error(y_valid, y_pred)\n",
        "\n",
        "\n",
        "  y_pred = model.predict(X_transformed_test)\n",
        "  rmse_test = mean_squared_error(y_test, y_pred, squared=False)\n",
        "  r2_test = r2_score(y_test, y_pred)\n",
        "  mae_test = mean_absolute_error(y_test, y_pred)\n",
        "\n",
        "\n",
        "  mlflow.log_metric(\"validation_score_RMSE\", rmse_valid)\n",
        "  mlflow.log_metric(\"validation_score_R2\", r2_valid)\n",
        "  mlflow.log_metric(\"validation_score_MAE\", mae_valid)\n",
        "\n",
        "  mlflow.log_metric(\"test_score_RMSE\", rmse_test)\n",
        "  mlflow.log_metric(\"test_score_R2\", r2_test)\n",
        "  mlflow.log_metric(\"test_score_MAE\", mae_test)\n",
        "  mlflow.end_run()"
      ],
      "metadata": {
        "id": "J3ck1kR9MNM2"
      },
      "execution_count": null,
      "outputs": []
    },
    {
      "cell_type": "markdown",
      "source": [
        "### Preprocessing_6: Adding Binning"
      ],
      "metadata": {
        "id": "luet268PNhv8"
      }
    },
    {
      "cell_type": "code",
      "source": [
        "categorical_columns =  ['Manufacturer', 'Category', 'Operating System', 'ScreenType', 'Resolution', 'CPU_Company', 'GPU_Company']\n",
        "numerical_columns = ['Screen Size', 'Hybrid', 'SSD', 'HDD', 'Flash Storage', 'CPU_GHz','ppi']\n",
        "ranked_categorical_columns = ['CPU_Series','GPU_series','RAM', 'Weight']\n",
        "\n",
        "processor = ColumnTransformer(transformers=[\n",
        "        ('num', StandardScaler(), numerical_columns),\n",
        "        ('cat',OneHotEncoder(handle_unknown='ignore'),categorical_columns),\n",
        "        ('ranked_cat',OrdinalEncoder(handle_unknown='error'),ranked_categorical_columns)\n",
        "    ])\n",
        "\n",
        "\n",
        "gpu_series_ranking = {\n",
        "    'GeForceGTX':16 ,\n",
        "    'RadeonRX': 15,\n",
        "    'GeForceMX':14 ,\n",
        "    'RadeonPro':13 ,\n",
        "    'RadeonR9':12 ,\n",
        "    'RadeonR7':11 ,\n",
        "    'FirePro':10,\n",
        "    'Quadro': 9,\n",
        "    'RadeonR5': 8,\n",
        "    'Radeon':8,\n",
        "    'Iris Pro Graphics':7 ,\n",
        "    'Iris Plus Graphics':6 ,\n",
        "    'RadeonR3':5 ,\n",
        "    'Iris Graphics':4 ,\n",
        "    'RadeonR2':3 ,\n",
        "    'UHD Graphics':2,\n",
        "    'HD Graphics':1 ,\n",
        "\n",
        "  }\n",
        "processor_ranking = {\n",
        "    'Pentium Quad Core': 4,\n",
        "    'A6-Series': 10,\n",
        "    'Core i7': 20,\n",
        "    'Core i5': 18,\n",
        "    'Core i3': 17,\n",
        "    'Celeron Dual Core': 1,\n",
        "    'Xeon': 15,\n",
        "    'A9-Series': 12,\n",
        "    'Atom': 20,\n",
        "    'FX': 6,\n",
        "    'A4-Series': 10,\n",
        "    'Ryzen': 19,\n",
        "    'E-Series': 5,\n",
        "    'Core M': 16,\n",
        "    'A12-Series': 14,\n",
        "    'Celeron Quad Core': 3,\n",
        "    'Pentium Dual Core': 2,\n",
        "    'A10-Series': 13,\n",
        "    'A8-Series': 11\n",
        "    }\n",
        "\n",
        "new_data = data_preprocessing(train_set.copy())\n",
        "new_data['GPU_series'] = new_data['GPU_series'].map(gpu_series_ranking)\n",
        "new_data['GPU_series'].fillna(8,inplace=True)\n",
        "new_data['CPU_Series'] = new_data['CPU_Series'].map(processor_ranking)\n",
        "new_data['CPU_Series'].fillna(8,inplace=True)\n",
        "new_data = ppi_feature_method.transform(new_data)\n",
        "new_data = RAM_Binning(new_data)\n",
        "new_data = Weight_Binning(new_data)\n",
        "X = new_data.drop(['Price'],axis=1).copy()\n",
        "y = new_data['Price'].copy()\n",
        "\n",
        "X_new_data_transformed = processor.fit_transform(X)\n",
        "\n",
        "new_data_test = data_preprocessing(test_set.copy())\n",
        "new_data_test['GPU_series'] = new_data_test['GPU_series'].map(gpu_series_ranking)\n",
        "new_data_test['GPU_series'].fillna(8,inplace=True)\n",
        "new_data_test['CPU_Series'] = new_data_test['CPU_Series'].map(processor_ranking)\n",
        "new_data_test['CPU_Series'].fillna(8,inplace=True)\n",
        "new_data_test = ppi_feature_method.transform(new_data_test)\n",
        "new_data_test = RAM_Binning(new_data_test)\n",
        "new_data_test = Weight_Binning(new_data_test)\n",
        "X_test = new_data_test.drop(['Price'],axis=1).copy()\n",
        "y_test = new_data_test['Price'].copy()\n",
        "X_transformed_test = processor.transform(X_test)"
      ],
      "metadata": {
        "colab": {
          "base_uri": "https://localhost:8080/"
        },
        "id": "84N865fzNobs",
        "outputId": "d89fc49c-d74c-40a2-e87e-1f7557054af3"
      },
      "execution_count": null,
      "outputs": [
        {
          "output_type": "stream",
          "name": "stderr",
          "text": [
            "<ipython-input-29-b7978efcadc0>:14: FutureWarning: The default value of regex will change from True to False in a future version.\n",
            "  df['CPU'] = df['CPU'].str.replace(r'(\\d+(?:\\.\\d+)?)GHz', '')\n",
            "<ipython-input-29-b7978efcadc0>:18: FutureWarning: The default value of regex will change from True to False in a future version.\n",
            "  df['CPU'] = df['CPU'].str.replace(r'(Core i\\d+|Ryzen\\d+|Celeron Quad Core|Pentium Quad Core|A8-Series|Pentium Dual Core|Cortex|Celeron Dual Core|A6-Series|Core M|A4-Series|FX|E-Series|Xeon|A10-Series|A9-Series|A12-Series|Atom)', '')\n",
            "<ipython-input-29-b7978efcadc0>:28: FutureWarning: The default value of regex will change from True to False in a future version.\n",
            "  df['CPU'] = df['CPU'].str.replace(r'(AMD|Intel|Nvidia|Samsung)', '')\n",
            "<ipython-input-29-b7978efcadc0>:14: FutureWarning: The default value of regex will change from True to False in a future version.\n",
            "  df['CPU'] = df['CPU'].str.replace(r'(\\d+(?:\\.\\d+)?)GHz', '')\n",
            "<ipython-input-29-b7978efcadc0>:18: FutureWarning: The default value of regex will change from True to False in a future version.\n",
            "  df['CPU'] = df['CPU'].str.replace(r'(Core i\\d+|Ryzen\\d+|Celeron Quad Core|Pentium Quad Core|A8-Series|Pentium Dual Core|Cortex|Celeron Dual Core|A6-Series|Core M|A4-Series|FX|E-Series|Xeon|A10-Series|A9-Series|A12-Series|Atom)', '')\n",
            "<ipython-input-29-b7978efcadc0>:28: FutureWarning: The default value of regex will change from True to False in a future version.\n",
            "  df['CPU'] = df['CPU'].str.replace(r'(AMD|Intel|Nvidia|Samsung)', '')\n"
          ]
        }
      ]
    },
    {
      "cell_type": "code",
      "source": [
        "k = 3\n",
        "\n",
        "kmeans = KMeans(n_clusters=k, random_state=42)\n",
        "kmeans.fit(X_new_data_transformed)\n",
        "\n",
        "cluster_labels = kmeans.labels_\n",
        "\n",
        "X['Cluster_Team'] = cluster_labels\n",
        "\n",
        "labels = kmeans.predict(X_transformed_test)\n",
        "\n",
        "X_test['Cluster_Team'] =  labels"
      ],
      "metadata": {
        "colab": {
          "base_uri": "https://localhost:8080/"
        },
        "id": "q_UunfixShor",
        "outputId": "631e5001-5c21-41a9-83c9-024eaaa82b4d"
      },
      "execution_count": null,
      "outputs": [
        {
          "output_type": "stream",
          "name": "stderr",
          "text": [
            "/usr/local/lib/python3.10/dist-packages/sklearn/cluster/_kmeans.py:870: FutureWarning: The default value of `n_init` will change from 10 to 'auto' in 1.4. Set the value of `n_init` explicitly to suppress the warning\n",
            "  warnings.warn(\n"
          ]
        }
      ]
    },
    {
      "cell_type": "code",
      "source": [
        "categorical_columns =  ['Manufacturer', 'Category', 'Operating System', 'ScreenType', 'Resolution', 'CPU_Company', 'GPU_Company','Cluster_Team']\n",
        "numerical_columns = ['Screen Size', 'Hybrid', 'SSD', 'HDD', 'Flash Storage', 'CPU_GHz','ppi']\n",
        "ranked_categorical_columns = ['CPU_Series','GPU_series','RAM', 'Weight']\n",
        "\n",
        "processor = ColumnTransformer(transformers=[\n",
        "        ('num', StandardScaler(), numerical_columns),\n",
        "        ('cat',OneHotEncoder(handle_unknown='ignore'),categorical_columns),\n",
        "        ('ranked_cat',OrdinalEncoder(handle_unknown='error'),ranked_categorical_columns)\n",
        "    ])\n",
        "\n",
        "\n",
        "\n",
        "X_new_data_transformed = processor.fit_transform(X)\n",
        "X_train, X_valid, y_train, y_valid = train_test_split(X_new_data_transformed, y, test_size=0.33, random_state=42)\n",
        "\n",
        "X_transformed_test = processor.transform(X_test)\n",
        "\n",
        "with mlflow.start_run(run_name = 'Preprocess_5:Reformating+FeatureExtraction+ManualHashing+Feature Engineering+Clustering(Baseline)'):\n",
        "  mlflow.set_tag('model_name','LinearReg Baseline')\n",
        "  mlflow.log_param(\"preprocessing_steps\", \"Feature Reformating - FeatureExtraction - ManualHashing +Feature Engineering+Clustering \")\n",
        "  mlflow.log_param(\"Parameters\", \"Deafult\")\n",
        "\n",
        "\n",
        "\n",
        "\n",
        "  model = LinearRegression()\n",
        "\n",
        "  model.fit(X_train,y_train)\n",
        "  y_pred = model.predict(X_valid)\n",
        "\n",
        "  rmse_valid = mean_squared_error(y_valid, y_pred, squared=False)\n",
        "  r2_valid = r2_score(y_valid, y_pred)\n",
        "  mae_valid = mean_absolute_error(y_valid, y_pred)\n",
        "\n",
        "\n",
        "  y_pred = model.predict(X_transformed_test)\n",
        "  rmse_test = mean_squared_error(y_test, y_pred, squared=False)\n",
        "  r2_test = r2_score(y_test, y_pred)\n",
        "  mae_test = mean_absolute_error(y_test, y_pred)\n",
        "\n",
        "\n",
        "  mlflow.log_metric(\"validation_score_RMSE\", rmse_valid)\n",
        "  mlflow.log_metric(\"validation_score_R2\", r2_valid)\n",
        "  mlflow.log_metric(\"validation_score_MAE\", mae_valid)\n",
        "\n",
        "  mlflow.log_metric(\"test_score_RMSE\", rmse_test)\n",
        "  mlflow.log_metric(\"test_score_R2\", r2_test)\n",
        "  mlflow.log_metric(\"test_score_MAE\", mae_test)\n",
        "  mlflow.end_run()"
      ],
      "metadata": {
        "id": "7eoyg6dMSiOi"
      },
      "execution_count": null,
      "outputs": []
    },
    {
      "cell_type": "code",
      "source": [
        "with mlflow.start_run(run_name = 'Preprocess_5:Reformating+FeatureExtraction+ManaulHashing+Feature Engineering+Clustering(BestModel)'):\n",
        "  mlflow.set_tag('model_name','xgb_model')\n",
        "  mlflow.log_param(\"preprocessing_steps\", \"Feature Reformating + FeatureExtraction + Manual Hashing+Feature Engineering+Clustering\")\n",
        "  mlflow.log_param(\"Parameters\", \"Deafult\")\n",
        "  xgb_model = xgb.XGBRegressor()\n",
        "  xgb_model.fit(X_train,y_train)\n",
        "  y_pred = xgb_model.predict(X_valid)\n",
        "  rmse_valid = mean_squared_error(y_valid, y_pred, squared=False)\n",
        "  r2_valid = r2_score(y_valid, y_pred)\n",
        "  mae_valid = mean_absolute_error(y_valid, y_pred)\n",
        "\n",
        "\n",
        "  y_pred = model.predict(X_transformed_test)\n",
        "  rmse_test = mean_squared_error(y_test, y_pred, squared=False)\n",
        "  r2_test = r2_score(y_test, y_pred)\n",
        "  mae_test = mean_absolute_error(y_test, y_pred)\n",
        "\n",
        "\n",
        "  mlflow.log_metric(\"validation_score_RMSE\", rmse_valid)\n",
        "  mlflow.log_metric(\"validation_score_R2\", r2_valid)\n",
        "  mlflow.log_metric(\"validation_score_MAE\", mae_valid)\n",
        "\n",
        "  mlflow.log_metric(\"test_score_RMSE\", rmse_test)\n",
        "  mlflow.log_metric(\"test_score_R2\", r2_test)\n",
        "  mlflow.log_metric(\"test_score_MAE\", mae_test)\n",
        "  mlflow.end_run()"
      ],
      "metadata": {
        "id": "wAy0VQcvSlse"
      },
      "execution_count": null,
      "outputs": []
    },
    {
      "cell_type": "markdown",
      "source": [
        "### Final Pipeline"
      ],
      "metadata": {
        "id": "6vvIdkii74wp"
      }
    },
    {
      "cell_type": "code",
      "source": [
        "new_train = train_set.copy()\n",
        "new_test = test_set.copy()\n",
        "\n",
        "new_train = remove_trailing_quote(new_train)\n",
        "new_train = data_reformating(new_train)\n",
        "new_train = handling_screen_column(new_train)\n",
        "new_train = handling_storage_column(new_train)\n",
        "new_train = fixing_cpu_column(new_train)\n",
        "new_train = fixing_gpu_column(new_train)\n",
        "\n",
        "new_test = remove_trailing_quote(new_test)\n",
        "new_test = data_reformating(new_test)\n",
        "new_test = handling_screen_column(new_test)\n",
        "new_test = handling_storage_column(new_test)\n",
        "new_test = fixing_cpu_column(new_test)\n",
        "new_test = fixing_gpu_column(new_test)\n",
        "\n",
        "new_train = RAM_Binning(new_train)\n",
        "new_train = Weight_Binning(new_train)\n",
        "\n",
        "new_test = RAM_Binning(new_test)\n",
        "new_test = Weight_Binning(new_test)\n",
        "new_train.drop(['id','Operating System Version','Storage','Screen','Model Name'],axis=1,inplace=True)\n",
        "new_test.drop(['id','Operating System Version','Storage','Screen','Model Name'],axis=1,inplace=True)"
      ],
      "metadata": {
        "id": "xoBW8xh374IR"
      },
      "execution_count": null,
      "outputs": []
    },
    {
      "cell_type": "code",
      "source": [
        "categorical_columns =  ['Manufacturer','Operating System','ScreenType','Resolution','Category','CPU','GPU' ,'RAM','Weight']\n",
        "ranked_categorical_columns = []\n",
        "numerical_columns = ['HDD','SSD','Hybrid','Flash Storage']"
      ],
      "metadata": {
        "id": "-HgNVe9J8szA"
      },
      "execution_count": null,
      "outputs": []
    },
    {
      "cell_type": "code",
      "source": [
        "processor = ColumnTransformer(transformers=[\n",
        "        ('num', StandardScaler(), numerical_columns),\n",
        "        ('cat',OneHotEncoder(handle_unknown='ignore'),categorical_columns),\n",
        "        ('ranked_cat',OrdinalEncoder(handle_unknown='use_encoded_value',encoded_missing_value=4),ranked_categorical_columns)\n",
        "    ])\n",
        "\n",
        "X = new_train.drop(['Price'],axis=1).copy()\n",
        "y = new_train['Price'].copy()\n",
        "\n",
        "X_transformed = processor.fit_transform(X)\n",
        "\n",
        "X_train, X_valid, y_train, y_valid = train_test_split(X_transformed, y, test_size=0.33, random_state=42)\n",
        "\n",
        "X_test = new_test.drop(['Price'],axis=1).copy()\n",
        "y_test = new_test['Price'].copy()\n",
        "\n",
        "X_test = processor.transform(X_test)\n",
        "\n",
        "with mlflow.start_run(run_name = 'Reformatting + Binning + Feature Extraction '):\n",
        "  mlflow.set_tag('model_name','LinearReg')\n",
        "  mlflow.log_param(\"preprocessing_steps\", \"Reformatting + Binning + Feature Extraction \")\n",
        "  mlflow.log_param(\"Parameters\", \"Deafult\")\n",
        "\n",
        "\n",
        "\n",
        "\n",
        "  model = LinearRegression()\n",
        "\n",
        "  model.fit(X_train,y_train)\n",
        "  y_pred = model.predict(X_valid)\n",
        "\n",
        "  rmse_valid = mean_squared_error(y_valid, y_pred, squared=False)\n",
        "  r2_valid = r2_score(y_valid, y_pred)\n",
        "  mae_valid = mean_absolute_error(y_valid, y_pred)\n",
        "\n",
        "  y_pred = model.predict(X_test)\n",
        "\n",
        "\n",
        "  rmse_test = mean_squared_error(y_test, y_pred, squared=False)\n",
        "  r2_test = r2_score(y_test, y_pred)\n",
        "  mae_test = mean_absolute_error(y_test, y_pred)\n",
        "\n",
        "  mlflow.log_metric(\"validation_score_RMSE\", rmse_valid)\n",
        "  mlflow.log_metric(\"validation_score_R2\", r2_valid)\n",
        "  mlflow.log_metric(\"validation_score_MAE\", mae_valid)\n",
        "\n",
        "  mlflow.log_metric(\"test_score_RMSE\", rmse_test)\n",
        "  mlflow.log_metric(\"test_score_R2\", r2_test)\n",
        "  mlflow.log_metric(\"test_score_MAE\", mae_test)\n",
        "  mlflow.end_run()"
      ],
      "metadata": {
        "id": "XnaKde5w9dBb"
      },
      "execution_count": null,
      "outputs": []
    },
    {
      "cell_type": "code",
      "source": [
        "with mlflow.start_run(run_name = 'Baseline_2'):\n",
        "  mlflow.set_tag('model_name','XGB')\n",
        "  mlflow.log_param(\"preprocessing_steps\", \"None\")\n",
        "  mlflow.log_param(\"Parameters\", \"Deafult\")\n",
        "\n",
        "\n",
        "\n",
        "\n",
        "  model = xgb.XGBRegressor()\n",
        "\n",
        "  model.fit(X_train,y_train)\n",
        "  y_pred = model.predict(X_valid)\n",
        "\n",
        "  rmse_valid = mean_squared_error(y_valid, y_pred, squared=False)\n",
        "  r2_valid = r2_score(y_valid, y_pred)\n",
        "  mae_valid = mean_absolute_error(y_valid, y_pred)\n",
        "\n",
        "  y_pred = model.predict(X_test)\n",
        "\n",
        "  rmse_test = mean_squared_error(y_test, y_pred, squared=False)\n",
        "  r2_test = r2_score(y_test, y_pred)\n",
        "  mae_test = mean_absolute_error(y_test, y_pred)\n",
        "\n",
        "  mlflow.log_metric(\"validation_score_RMSE\", rmse_valid)\n",
        "  mlflow.log_metric(\"validation_score_R2\", r2_valid)\n",
        "  mlflow.log_metric(\"validation_score_MAE\", mae_valid)\n",
        "\n",
        "  mlflow.log_metric(\"test_score_RMSE\", rmse_test)\n",
        "  mlflow.log_metric(\"test_score_R2\", r2_test)\n",
        "  mlflow.log_metric(\"test_score_MAE\", mae_test)\n",
        "  mlflow.end_run()"
      ],
      "metadata": {
        "id": "48w-zEjI9wDQ"
      },
      "execution_count": null,
      "outputs": []
    },
    {
      "cell_type": "markdown",
      "metadata": {
        "id": "t9G-zV_tgWe8"
      },
      "source": [
        "## Applying Our Appraoch"
      ]
    },
    {
      "cell_type": "code",
      "source": [
        "X = cleaned_data_train.drop(['Price'],axis=1).copy()\n",
        "y = cleaned_data_train['Price'].copy()\n",
        "\n",
        "X_test = cleaned_data_test.drop(['Price'],axis=1).copy()\n",
        "y_test = cleaned_data_test['Price'].copy()\n",
        "\n",
        "X.drop(['Flash Storage' ,   'GPU_series','CPU_Company','SSD','CPU_Series',],axis=1,inplace = True)\n",
        "X_test.drop(['Flash Storage'  , 'GPU_series','CPU_Company','SSD','CPU_Series'],axis=1,inplace = True)\n",
        "\n",
        "\n",
        "X.columns\n"
      ],
      "metadata": {
        "id": "0uLb5QB5_Cof"
      },
      "execution_count": null,
      "outputs": []
    },
    {
      "cell_type": "code",
      "source": [
        "categorical_columns = ['Manufacturer', 'RAM','Category', 'Operating System', 'ScreenType', 'Resolution',  'GPU_Company']\n",
        "numerical_columns = ['Screen Size',  'Weight','Hybrid', 'HDD', 'CPU_GHz']\n",
        "ranked_categorical_columns = ['RAM']\n",
        "\n",
        "processor = ColumnTransformer(transformers=[\n",
        "        ('num', StandardScaler(), numerical_columns),\n",
        "        ('cat',OneHotEncoder(handle_unknown = 'ignore'),categorical_columns),\n",
        "        ('cat_rank',OrdinalEncoder(),ranked_categorical_columns)\n",
        "    ])\n",
        "\n",
        "X = processor.fit_transform(X)\n",
        "X_test = processor.fit_transform(X_test)"
      ],
      "metadata": {
        "id": "VdZ7p9D2qFiR"
      },
      "execution_count": null,
      "outputs": []
    },
    {
      "cell_type": "code",
      "source": [
        "import pickle\n",
        "with open('last_processor.pkl', 'wb') as f:\n",
        "    pickle.dump(processor, f)"
      ],
      "metadata": {
        "id": "O4andSxGsd53"
      },
      "execution_count": null,
      "outputs": []
    },
    {
      "cell_type": "markdown",
      "metadata": {
        "id": "N-ZdMFREOmVU"
      },
      "source": [
        "### Linear Regression"
      ]
    },
    {
      "cell_type": "code",
      "source": [
        "with mlflow.start_run(run_name = 'Final_1_LinReg'):\n",
        "  mlflow.set_tag('model_name','LinearReg')\n",
        "  mlflow.log_param(\"preprocessing_steps\", \"First Approach\")\n",
        "  mlflow.log_param(\"Parameters\", \"Deafult\")\n",
        "\n",
        "\n",
        "\n",
        "\n",
        "  model = LinearRegression()\n",
        "\n",
        "  gs = GridSearchCV(estimator=model, param_grid={}, cv=5, scoring='r2', n_jobs=-1)\n",
        "  gs.fit(X, y)\n",
        "\n",
        "\n",
        "\n",
        "  model = gs.best_estimator_\n",
        "  y_pred = model.predict(X_test)\n",
        "  r2_test = r2_score(y_test, y_pred)\n",
        "\n",
        "\n",
        "  mlflow.log_metric(\"validation_score_R2\", gs.best_score_)\n",
        "\n",
        "\n",
        "\n",
        "  mlflow.log_metric(\"test_score_R2\", r2_test)\n",
        "\n",
        "  mlflow.sklearn.log_model(model,\"sk_models\")\n",
        "  mlflow.end_run()"
      ],
      "metadata": {
        "colab": {
          "base_uri": "https://localhost:8080/"
        },
        "id": "frXn36VOtJvg",
        "outputId": "c634a402-cc69-4983-942e-76b7c04a597e"
      },
      "execution_count": null,
      "outputs": [
        {
          "output_type": "stream",
          "name": "stderr",
          "text": [
            "/usr/local/lib/python3.10/dist-packages/_distutils_hack/__init__.py:33: UserWarning: Setuptools is replacing distutils.\n",
            "  warnings.warn(\"Setuptools is replacing distutils.\")\n"
          ]
        }
      ]
    },
    {
      "cell_type": "markdown",
      "metadata": {
        "id": "LSCUyXIggbXP"
      },
      "source": [
        "### SVM"
      ]
    },
    {
      "cell_type": "code",
      "execution_count": null,
      "metadata": {
        "id": "wXx6IOYzR_6G"
      },
      "outputs": [],
      "source": [
        "with mlflow.start_run(run_name = 'Final_1_SVR'):\n",
        "  mlflow.set_tag('model_name','SVR')\n",
        "  mlflow.log_param(\"preprocessing_steps\", \"First Approach\")\n",
        "  mlflow.log_param(\"Parameters\", \"Deafult\")\n",
        "\n",
        "\n",
        "\n",
        "\n",
        "  model = SVR(kernel = 'rbf')\n",
        "  gs = GridSearchCV(estimator=model, param_grid={}, cv=5, scoring='r2', n_jobs=-1)\n",
        "  gs.fit(X, y)\n",
        "\n",
        "\n",
        "\n",
        "  model = gs.best_estimator_\n",
        "  y_pred = model.predict(X_test)\n",
        "  r2_test = r2_score(y_test, y_pred)\n",
        "\n",
        "\n",
        "  mlflow.log_metric(\"validation_score_R2\", gs.best_score_)\n",
        "\n",
        "\n",
        "\n",
        "  mlflow.log_metric(\"test_score_R2\", r2_test)\n",
        "\n",
        "  mlflow.sklearn.log_model(model,\"sk_models\")\n",
        "  mlflow.end_run()"
      ]
    },
    {
      "cell_type": "markdown",
      "metadata": {
        "id": "EM0GVcz_hJfW"
      },
      "source": [
        "### Decision Tree"
      ]
    },
    {
      "cell_type": "code",
      "execution_count": null,
      "metadata": {
        "id": "d-hErY6AgqQt"
      },
      "outputs": [],
      "source": [
        "with mlflow.start_run(run_name = 'Final_1_DTree'):\n",
        "  mlflow.set_tag('model_name','Decision Tree')\n",
        "  mlflow.log_param(\"preprocessing_steps\", \"First Approach\")\n",
        "  mlflow.log_param(\"Parameters\", \"Deafult\")\n",
        "\n",
        "\n",
        "\n",
        "\n",
        "  model = DecisionTreeRegressor(max_depth=200, min_samples_split=10, min_samples_leaf=20)\n",
        "\n",
        "  gs = GridSearchCV(estimator=model, param_grid={}, cv=5, scoring='r2', n_jobs=-1)\n",
        "  gs.fit(X, y)\n",
        "\n",
        "\n",
        "\n",
        "  model = gs.best_estimator_\n",
        "  y_pred = model.predict(X_test)\n",
        "  r2_test = r2_score(y_test, y_pred)\n",
        "\n",
        "\n",
        "  mlflow.log_metric(\"validation_score_R2\", gs.best_score_)\n",
        "\n",
        "\n",
        "\n",
        "  mlflow.log_metric(\"test_score_R2\", r2_test)\n",
        "\n",
        "  mlflow.sklearn.log_model(model,\"sk_models\")\n",
        "  mlflow.end_run()"
      ]
    },
    {
      "cell_type": "code",
      "source": [
        "with mlflow.start_run(run_name = 'Final_1_DTBagging'):\n",
        "  mlflow.set_tag('model_name','Decision Tree_Bagging')\n",
        "  mlflow.log_param(\"preprocessing_steps\", \"First Approach\")\n",
        "  mlflow.log_param(\"Parameters\", \"Deafult\")\n",
        "\n",
        "\n",
        "\n",
        "\n",
        "  model = DecisionTreeRegressor(max_depth=200, min_samples_split=10, min_samples_leaf=20)\n",
        "  dt_bagging_regressor = BaggingRegressor(estimator=model, n_estimators=10, random_state=42)\n",
        "  gs = GridSearchCV(estimator=dt_bagging_regressor, param_grid={}, cv=5, scoring='r2', n_jobs=-1)\n",
        "  gs.fit(X, y)\n",
        "\n",
        "\n",
        "\n",
        "  model = gs.best_estimator_\n",
        "  y_pred = model.predict(X_test)\n",
        "  r2_test = r2_score(y_test, y_pred)\n",
        "\n",
        "\n",
        "  mlflow.log_metric(\"validation_score_R2\", gs.best_score_)\n",
        "\n",
        "\n",
        "\n",
        "  mlflow.log_metric(\"test_score_R2\", r2_test)\n",
        "\n",
        "  mlflow.sklearn.log_model(model,\"sk_models\")\n",
        "  mlflow.end_run()"
      ],
      "metadata": {
        "id": "Md7qaKKMAv-8"
      },
      "execution_count": null,
      "outputs": []
    },
    {
      "cell_type": "markdown",
      "metadata": {
        "id": "FAWtL99yhQ9O"
      },
      "source": [
        "### Random Forest"
      ]
    },
    {
      "cell_type": "code",
      "execution_count": null,
      "metadata": {
        "id": "NHEiyApThPeg"
      },
      "outputs": [],
      "source": [
        "with mlflow.start_run(run_name = 'Final_1_RF'):\n",
        "  mlflow.set_tag('model_name','Random Forest')\n",
        "  mlflow.log_param(\"preprocessing_steps\", \"First Approach\")\n",
        "  mlflow.log_param(\"Parameters\", \"Deafult\")\n",
        "\n",
        "\n",
        "\n",
        "\n",
        "  model = RandomForestRegressor(random_state=42)\n",
        "\n",
        "  gs = GridSearchCV(estimator=model, param_grid={}, cv=5, scoring='r2', n_jobs=-1)\n",
        "  gs.fit(X, y)\n",
        "\n",
        "\n",
        "\n",
        "  model = gs.best_estimator_\n",
        "  y_pred = model.predict(X_test)\n",
        "  r2_test = r2_score(y_test, y_pred)\n",
        "\n",
        "\n",
        "  mlflow.log_metric(\"validation_score_R2\", gs.best_score_)\n",
        "\n",
        "\n",
        "\n",
        "  mlflow.log_metric(\"test_score_R2\", r2_test)\n",
        "\n",
        "  mlflow.sklearn.log_model(model,\"sk_models\")\n",
        "  mlflow.end_run()"
      ]
    },
    {
      "cell_type": "code",
      "source": [
        "with mlflow.start_run(run_name = 'Final_1_RFBagging'):\n",
        "  mlflow.set_tag('model_name','Random Forest_Bagging')\n",
        "  mlflow.log_param(\"preprocessing_steps\", \"First Approach\")\n",
        "  mlflow.log_param(\"Parameters\", \"Deafult\")\n",
        "\n",
        "\n",
        "\n",
        "\n",
        "  model = RandomForestRegressor(random_state=42)\n",
        "  bagging_regressor = BaggingRegressor(estimator=model, n_estimators=10, random_state=42)\n",
        "  gs = GridSearchCV(estimator=bagging_regressor, param_grid={}, cv=5, scoring='r2', n_jobs=-1)\n",
        "  gs.fit(X, y)\n",
        "\n",
        "\n",
        "\n",
        "  model = gs.best_estimator_\n",
        "  y_pred = model.predict(X_test)\n",
        "  r2_test = r2_score(y_test, y_pred)\n",
        "\n",
        "\n",
        "  mlflow.log_metric(\"validation_score_R2\", gs.best_score_)\n",
        "\n",
        "\n",
        "\n",
        "  mlflow.log_metric(\"test_score_R2\", r2_test)\n",
        "\n",
        "  mlflow.sklearn.log_model(model,\"sk_models\")\n",
        "  mlflow.end_run()"
      ],
      "metadata": {
        "id": "ScHdhG93BA99"
      },
      "execution_count": null,
      "outputs": []
    },
    {
      "cell_type": "markdown",
      "metadata": {
        "id": "x9zwwCephoLe"
      },
      "source": [
        "### XGBoost"
      ]
    },
    {
      "cell_type": "code",
      "execution_count": null,
      "metadata": {
        "colab": {
          "base_uri": "https://localhost:8080/"
        },
        "id": "iGiN22lEhdDv",
        "outputId": "af037641-1bbe-4d38-ab63-3b8c17aafd40"
      },
      "outputs": [
        {
          "output_type": "stream",
          "name": "stdout",
          "text": [
            "[17:20:27] WARNING: ../src/learner.cc:767: \n",
            "Parameters: { \"depth\", \"iterations\" } are not used.\n",
            "\n"
          ]
        }
      ],
      "source": [
        "with mlflow.start_run(run_name = 'Final_1_XGB'):\n",
        "  mlflow.set_tag('model_name','XGB')\n",
        "  mlflow.log_param(\"preprocessing_steps\", \"First Approach\")\n",
        "  mlflow.log_param(\"Parameters\", \"Deafult\")\n",
        "\n",
        "\n",
        "\n",
        "\n",
        "  model = xgb.XGBRegressor(tree_method='gpu_hist', gpu_id=0)\n",
        "  # Define the parameter grid for GridSearchCV\n",
        "  param_grid = {\n",
        "    'iterations': [100, 200, 300],\n",
        "    'depth': [3, 5, 7],\n",
        "    'learning_rate': [0.1, 0.01, 0.001]\n",
        "  }\n",
        "\n",
        "  gs = GridSearchCV(estimator=model, param_grid=param_grid, cv=5, scoring='r2', n_jobs=-1)\n",
        "  gs.fit(X, y)\n",
        "\n",
        "\n",
        "\n",
        "  model = gs.best_estimator_\n",
        "  y_pred = model.predict(X_test)\n",
        "  r2_test = r2_score(y_test, y_pred)\n",
        "\n",
        "\n",
        "  mlflow.log_metric(\"validation_score_R2\", gs.best_score_)\n",
        "\n",
        "\n",
        "\n",
        "  mlflow.log_metric(\"test_score_R2\", r2_test)\n",
        "\n",
        "  mlflow.sklearn.log_model(model,\"sk_models\")\n",
        "  mlflow.end_run()"
      ]
    },
    {
      "cell_type": "markdown",
      "metadata": {
        "id": "kK65BcyUk4xf"
      },
      "source": [
        "### CatBoost"
      ]
    },
    {
      "cell_type": "code",
      "source": [
        "with mlflow.start_run(run_name = 'Final_1_CAT'):\n",
        "  mlflow.set_tag('model_name','CatBOOSt')\n",
        "  mlflow.log_param(\"preprocessing_steps\", \"First Approach\")\n",
        "  mlflow.log_param(\"Parameters\", \"Deafult\")\n",
        "\n",
        "\n",
        "\n",
        "\n",
        "  model = CatBoostRegressor(task_type=\"GPU\",\n",
        "                           devices='0:1',verbose=False)\n",
        "  # Define the parameter grid for GridSearchCV\n",
        "  param_grid = {\n",
        "    'n_estimators': [100, 200, 300],\n",
        "    'max_depth': [3, 5, 7],\n",
        "    'learning_rate': [0.1, 0.01, 0.001]\n",
        "    }\n",
        "\n",
        "  gs = GridSearchCV(estimator=model, param_grid=param_grid, cv=5, scoring='r2', n_jobs=-1)\n",
        "  gs.fit(X, y)\n",
        "\n",
        "\n",
        "\n",
        "  model = gs.best_estimator_\n",
        "  y_pred = model.predict(X_test)\n",
        "  r2_test = r2_score(y_test, y_pred)\n",
        "\n",
        "\n",
        "  mlflow.log_metric(\"validation_score_R2\", gs.best_score_)\n",
        "\n",
        "\n",
        "\n",
        "  mlflow.log_metric(\"test_score_R2\", r2_test)\n",
        "\n",
        "  mlflow.sklearn.log_model(model,\"sk_models\")\n",
        "  mlflow.end_run()"
      ],
      "metadata": {
        "id": "Jo42EjteJ7Ee"
      },
      "execution_count": null,
      "outputs": []
    },
    {
      "cell_type": "markdown",
      "metadata": {
        "id": "AoG_pBrI5ZUp"
      },
      "source": [
        "###  Voting"
      ]
    },
    {
      "cell_type": "code",
      "source": [
        "with mlflow.start_run(run_name = 'Final_1_Ensemble Votting'):\n",
        "  mlflow.set_tag('model_name','Ensemble Votting')\n",
        "  mlflow.log_param(\"preprocessing_steps\", \"First Approach\")\n",
        "  mlflow.log_param(\"Parameters\", \"Deafult\")\n",
        "\n",
        "\n",
        "\n",
        "\n",
        "  rf = RandomForestRegressor(random_state=42)\n",
        "  cat_boost_model = CatBoostRegressor(task_type=\"GPU\",devices='0:1',verbose=False)\n",
        "  xgb_model = xgb.XGBRegressor(tree_method='gpu_hist', gpu_id=0)\n",
        "\n",
        "  voting_regressor = VotingRegressor([('rf', rf), ('cat_model', cat_boost_model), ('xgb_model', xgb_model)])\n",
        "\n",
        "  gs = GridSearchCV(estimator=voting_regressor, param_grid={}, cv=5, scoring='r2', n_jobs=-1)\n",
        "  gs.fit(X, y)\n",
        "\n",
        "\n",
        "\n",
        "  model = gs.best_estimator_\n",
        "  y_pred = model.predict(X_test)\n",
        "  r2_test = r2_score(y_test, y_pred)\n",
        "\n",
        "\n",
        "  mlflow.log_metric(\"validation_score_R2\", gs.best_score_)\n",
        "\n",
        "\n",
        "\n",
        "  with open('best_model.pkl', 'wb') as f:\n",
        "    pickle.dump(model, f)\n",
        "\n",
        "  mlflow.log_metric(\"test_score_R2\", r2_test)\n",
        "\n",
        "  mlflow.sklearn.log_model(model,\"sk_models\")\n",
        "  mlflow.end_run()"
      ],
      "metadata": {
        "id": "4LBsuVZcKack"
      },
      "execution_count": null,
      "outputs": []
    },
    {
      "cell_type": "code",
      "source": [
        "cleaned_data_train.head()"
      ],
      "metadata": {
        "colab": {
          "base_uri": "https://localhost:8080/",
          "height": 357
        },
        "id": "BMdowe2DVmLQ",
        "outputId": "16bbf174-6564-4213-806a-a658d5b8d3ec"
      },
      "execution_count": null,
      "outputs": [
        {
          "output_type": "execute_result",
          "data": {
            "text/plain": [
              "    Manufacturer   Category  Screen Size  RAM Operating System  Weight  \\\n",
              "139           HP   Notebook    13.300000  4GB          Windows    1.32   \n",
              "40        Lenovo   Notebook    14.000000  8GB       Windows 10    1.50   \n",
              "849       Lenovo   Notebook    17.299999  4GB       Windows 10    2.79   \n",
              "763         Asus  Ultrabook    13.300000  8GB          Windows    1.20   \n",
              "227         Asus   Notebook    15.600000  8GB          Windows    2.00   \n",
              "\n",
              "           Price  Is_Touchscreen  Is_IPS_Panal ScreenType Resolution  Hybrid  \\\n",
              "139   752.076468               0             1    Full HD  1920x1080       0   \n",
              "40   1099.000000               0             1    Full HD  1920x1080       0   \n",
              "849   589.000000               0             0    Unknown   1600x900       0   \n",
              "763  1214.727228               0             1   Quad HD+  3200x1800       0   \n",
              "227   827.391708               0             0    Full HD  1920x1080       0   \n",
              "\n",
              "     SSD   HDD  Flash Storage  CPU_GHz CPU_Series CPU_Company GPU_Company  \\\n",
              "139  128  1024              0      2.5    Core i5       Intel       Intel   \n",
              "40   256  1024              0      2.5    Core i5       Intel      Nvidia   \n",
              "849  512  1024              0      2.5    Core i5       Intel      Nvidia   \n",
              "763  256  1024              0      2.5    Core i5       Intel       Intel   \n",
              "227  256     0            256      2.5    Core i5       Intel      Nvidia   \n",
              "\n",
              "       GPU_series  \n",
              "139  UHD Graphics  \n",
              "40      GeForceMX  \n",
              "849     GeForceMX  \n",
              "763  UHD Graphics  \n",
              "227     GeForceMX  "
            ],
            "text/html": [
              "\n",
              "  <div id=\"df-c302d9c0-e02d-4004-83a9-298f350adbc8\">\n",
              "    <div class=\"colab-df-container\">\n",
              "      <div>\n",
              "<style scoped>\n",
              "    .dataframe tbody tr th:only-of-type {\n",
              "        vertical-align: middle;\n",
              "    }\n",
              "\n",
              "    .dataframe tbody tr th {\n",
              "        vertical-align: top;\n",
              "    }\n",
              "\n",
              "    .dataframe thead th {\n",
              "        text-align: right;\n",
              "    }\n",
              "</style>\n",
              "<table border=\"1\" class=\"dataframe\">\n",
              "  <thead>\n",
              "    <tr style=\"text-align: right;\">\n",
              "      <th></th>\n",
              "      <th>Manufacturer</th>\n",
              "      <th>Category</th>\n",
              "      <th>Screen Size</th>\n",
              "      <th>RAM</th>\n",
              "      <th>Operating System</th>\n",
              "      <th>Weight</th>\n",
              "      <th>Price</th>\n",
              "      <th>Is_Touchscreen</th>\n",
              "      <th>Is_IPS_Panal</th>\n",
              "      <th>ScreenType</th>\n",
              "      <th>Resolution</th>\n",
              "      <th>Hybrid</th>\n",
              "      <th>SSD</th>\n",
              "      <th>HDD</th>\n",
              "      <th>Flash Storage</th>\n",
              "      <th>CPU_GHz</th>\n",
              "      <th>CPU_Series</th>\n",
              "      <th>CPU_Company</th>\n",
              "      <th>GPU_Company</th>\n",
              "      <th>GPU_series</th>\n",
              "    </tr>\n",
              "  </thead>\n",
              "  <tbody>\n",
              "    <tr>\n",
              "      <th>139</th>\n",
              "      <td>HP</td>\n",
              "      <td>Notebook</td>\n",
              "      <td>13.300000</td>\n",
              "      <td>4GB</td>\n",
              "      <td>Windows</td>\n",
              "      <td>1.32</td>\n",
              "      <td>752.076468</td>\n",
              "      <td>0</td>\n",
              "      <td>1</td>\n",
              "      <td>Full HD</td>\n",
              "      <td>1920x1080</td>\n",
              "      <td>0</td>\n",
              "      <td>128</td>\n",
              "      <td>1024</td>\n",
              "      <td>0</td>\n",
              "      <td>2.5</td>\n",
              "      <td>Core i5</td>\n",
              "      <td>Intel</td>\n",
              "      <td>Intel</td>\n",
              "      <td>UHD Graphics</td>\n",
              "    </tr>\n",
              "    <tr>\n",
              "      <th>40</th>\n",
              "      <td>Lenovo</td>\n",
              "      <td>Notebook</td>\n",
              "      <td>14.000000</td>\n",
              "      <td>8GB</td>\n",
              "      <td>Windows 10</td>\n",
              "      <td>1.50</td>\n",
              "      <td>1099.000000</td>\n",
              "      <td>0</td>\n",
              "      <td>1</td>\n",
              "      <td>Full HD</td>\n",
              "      <td>1920x1080</td>\n",
              "      <td>0</td>\n",
              "      <td>256</td>\n",
              "      <td>1024</td>\n",
              "      <td>0</td>\n",
              "      <td>2.5</td>\n",
              "      <td>Core i5</td>\n",
              "      <td>Intel</td>\n",
              "      <td>Nvidia</td>\n",
              "      <td>GeForceMX</td>\n",
              "    </tr>\n",
              "    <tr>\n",
              "      <th>849</th>\n",
              "      <td>Lenovo</td>\n",
              "      <td>Notebook</td>\n",
              "      <td>17.299999</td>\n",
              "      <td>4GB</td>\n",
              "      <td>Windows 10</td>\n",
              "      <td>2.79</td>\n",
              "      <td>589.000000</td>\n",
              "      <td>0</td>\n",
              "      <td>0</td>\n",
              "      <td>Unknown</td>\n",
              "      <td>1600x900</td>\n",
              "      <td>0</td>\n",
              "      <td>512</td>\n",
              "      <td>1024</td>\n",
              "      <td>0</td>\n",
              "      <td>2.5</td>\n",
              "      <td>Core i5</td>\n",
              "      <td>Intel</td>\n",
              "      <td>Nvidia</td>\n",
              "      <td>GeForceMX</td>\n",
              "    </tr>\n",
              "    <tr>\n",
              "      <th>763</th>\n",
              "      <td>Asus</td>\n",
              "      <td>Ultrabook</td>\n",
              "      <td>13.300000</td>\n",
              "      <td>8GB</td>\n",
              "      <td>Windows</td>\n",
              "      <td>1.20</td>\n",
              "      <td>1214.727228</td>\n",
              "      <td>0</td>\n",
              "      <td>1</td>\n",
              "      <td>Quad HD+</td>\n",
              "      <td>3200x1800</td>\n",
              "      <td>0</td>\n",
              "      <td>256</td>\n",
              "      <td>1024</td>\n",
              "      <td>0</td>\n",
              "      <td>2.5</td>\n",
              "      <td>Core i5</td>\n",
              "      <td>Intel</td>\n",
              "      <td>Intel</td>\n",
              "      <td>UHD Graphics</td>\n",
              "    </tr>\n",
              "    <tr>\n",
              "      <th>227</th>\n",
              "      <td>Asus</td>\n",
              "      <td>Notebook</td>\n",
              "      <td>15.600000</td>\n",
              "      <td>8GB</td>\n",
              "      <td>Windows</td>\n",
              "      <td>2.00</td>\n",
              "      <td>827.391708</td>\n",
              "      <td>0</td>\n",
              "      <td>0</td>\n",
              "      <td>Full HD</td>\n",
              "      <td>1920x1080</td>\n",
              "      <td>0</td>\n",
              "      <td>256</td>\n",
              "      <td>0</td>\n",
              "      <td>256</td>\n",
              "      <td>2.5</td>\n",
              "      <td>Core i5</td>\n",
              "      <td>Intel</td>\n",
              "      <td>Nvidia</td>\n",
              "      <td>GeForceMX</td>\n",
              "    </tr>\n",
              "  </tbody>\n",
              "</table>\n",
              "</div>\n",
              "      <button class=\"colab-df-convert\" onclick=\"convertToInteractive('df-c302d9c0-e02d-4004-83a9-298f350adbc8')\"\n",
              "              title=\"Convert this dataframe to an interactive table.\"\n",
              "              style=\"display:none;\">\n",
              "        \n",
              "  <svg xmlns=\"http://www.w3.org/2000/svg\" height=\"24px\"viewBox=\"0 0 24 24\"\n",
              "       width=\"24px\">\n",
              "    <path d=\"M0 0h24v24H0V0z\" fill=\"none\"/>\n",
              "    <path d=\"M18.56 5.44l.94 2.06.94-2.06 2.06-.94-2.06-.94-.94-2.06-.94 2.06-2.06.94zm-11 1L8.5 8.5l.94-2.06 2.06-.94-2.06-.94L8.5 2.5l-.94 2.06-2.06.94zm10 10l.94 2.06.94-2.06 2.06-.94-2.06-.94-.94-2.06-.94 2.06-2.06.94z\"/><path d=\"M17.41 7.96l-1.37-1.37c-.4-.4-.92-.59-1.43-.59-.52 0-1.04.2-1.43.59L10.3 9.45l-7.72 7.72c-.78.78-.78 2.05 0 2.83L4 21.41c.39.39.9.59 1.41.59.51 0 1.02-.2 1.41-.59l7.78-7.78 2.81-2.81c.8-.78.8-2.07 0-2.86zM5.41 20L4 18.59l7.72-7.72 1.47 1.35L5.41 20z\"/>\n",
              "  </svg>\n",
              "      </button>\n",
              "      \n",
              "  <style>\n",
              "    .colab-df-container {\n",
              "      display:flex;\n",
              "      flex-wrap:wrap;\n",
              "      gap: 12px;\n",
              "    }\n",
              "\n",
              "    .colab-df-convert {\n",
              "      background-color: #E8F0FE;\n",
              "      border: none;\n",
              "      border-radius: 50%;\n",
              "      cursor: pointer;\n",
              "      display: none;\n",
              "      fill: #1967D2;\n",
              "      height: 32px;\n",
              "      padding: 0 0 0 0;\n",
              "      width: 32px;\n",
              "    }\n",
              "\n",
              "    .colab-df-convert:hover {\n",
              "      background-color: #E2EBFA;\n",
              "      box-shadow: 0px 1px 2px rgba(60, 64, 67, 0.3), 0px 1px 3px 1px rgba(60, 64, 67, 0.15);\n",
              "      fill: #174EA6;\n",
              "    }\n",
              "\n",
              "    [theme=dark] .colab-df-convert {\n",
              "      background-color: #3B4455;\n",
              "      fill: #D2E3FC;\n",
              "    }\n",
              "\n",
              "    [theme=dark] .colab-df-convert:hover {\n",
              "      background-color: #434B5C;\n",
              "      box-shadow: 0px 1px 3px 1px rgba(0, 0, 0, 0.15);\n",
              "      filter: drop-shadow(0px 1px 2px rgba(0, 0, 0, 0.3));\n",
              "      fill: #FFFFFF;\n",
              "    }\n",
              "  </style>\n",
              "\n",
              "      <script>\n",
              "        const buttonEl =\n",
              "          document.querySelector('#df-c302d9c0-e02d-4004-83a9-298f350adbc8 button.colab-df-convert');\n",
              "        buttonEl.style.display =\n",
              "          google.colab.kernel.accessAllowed ? 'block' : 'none';\n",
              "\n",
              "        async function convertToInteractive(key) {\n",
              "          const element = document.querySelector('#df-c302d9c0-e02d-4004-83a9-298f350adbc8');\n",
              "          const dataTable =\n",
              "            await google.colab.kernel.invokeFunction('convertToInteractive',\n",
              "                                                     [key], {});\n",
              "          if (!dataTable) return;\n",
              "\n",
              "          const docLinkHtml = 'Like what you see? Visit the ' +\n",
              "            '<a target=\"_blank\" href=https://colab.research.google.com/notebooks/data_table.ipynb>data table notebook</a>'\n",
              "            + ' to learn more about interactive tables.';\n",
              "          element.innerHTML = '';\n",
              "          dataTable['output_type'] = 'display_data';\n",
              "          await google.colab.output.renderOutput(dataTable, element);\n",
              "          const docLink = document.createElement('div');\n",
              "          docLink.innerHTML = docLinkHtml;\n",
              "          element.appendChild(docLink);\n",
              "        }\n",
              "      </script>\n",
              "    </div>\n",
              "  </div>\n",
              "  "
            ]
          },
          "metadata": {},
          "execution_count": 73
        }
      ]
    },
    {
      "cell_type": "code",
      "source": [
        "d = {'Manufacturer': 'HP', 'Category': 'Notebook','Screen Size':13.300000,'RAM':'8GB','Operating System':'Windows','Weight':1.32,'Is_Touchscreen':0,'Is_IPS_Panal':1,'ScreenType':\"Full HD\",'Resolution':\"1920x1080\",'Hybrid':0,'HDD':1024,'CPU_GHz':2.5, 'GPU_Company':\"Intel\"}\n",
        "query = pd.DataFrame(data=d,index=[0])\n",
        "\n",
        "query = processor.transform(query)\n",
        "\n",
        "print(model.predict(query))"
      ],
      "metadata": {
        "colab": {
          "base_uri": "https://localhost:8080/"
        },
        "id": "dV7E6nrRVO4i",
        "outputId": "e9e00c82-f631-4c6c-f54f-f9deeef568a4"
      },
      "execution_count": null,
      "outputs": [
        {
          "output_type": "stream",
          "name": "stdout",
          "text": [
            "[1245.295827]\n"
          ]
        }
      ]
    },
    {
      "cell_type": "markdown",
      "source": [
        "## Applying Baseline Approach"
      ],
      "metadata": {
        "id": "Oejk-w4htpe1"
      }
    },
    {
      "cell_type": "code",
      "source": [
        "new_train = train_set.copy()\n",
        "new_test = test_set.copy()\n",
        "\n",
        "new_train.drop(['id','Operating System Version','Model Name'],axis=1,inplace=True)\n",
        "new_test.drop(['id','Operating System Version','Model Name'],axis=1,inplace=True)"
      ],
      "metadata": {
        "id": "19DK_vyVtx43"
      },
      "execution_count": null,
      "outputs": []
    },
    {
      "cell_type": "code",
      "source": [
        "categorical_columns =  ['Manufacturer', 'Operating System','RAM','Storage','Screen','Category','CPU','GPU','Weight' ]\n",
        "ranked_categorical_columns = []\n",
        "numerical_columns = []"
      ],
      "metadata": {
        "id": "XO1tfFw7uQSf"
      },
      "execution_count": null,
      "outputs": []
    },
    {
      "cell_type": "code",
      "source": [
        "processor = ColumnTransformer(transformers=[\n",
        "        ('num', StandardScaler(), numerical_columns),\n",
        "        ('cat',OneHotEncoder(handle_unknown='ignore'),categorical_columns),\n",
        "        ('ranked_cat',OrdinalEncoder(handle_unknown='use_encoded_value'),ranked_categorical_columns)\n",
        "    ])\n",
        "\n",
        "X = new_train.drop(['Price'],axis=1).copy()\n",
        "y = new_train['Price'].copy()\n",
        "\n",
        "X = processor.fit_transform(X)\n",
        "\n",
        "#X_train, X_valid, y_train, y_valid = train_test_split(X_transformed, y, test_size=0.33, random_state=42)\n",
        "\n",
        "X_test = new_test.drop(['Price'],axis=1).copy()\n",
        "y_test = new_test['Price'].copy()\n",
        "\n",
        "X_test = processor.transform(X_test)"
      ],
      "metadata": {
        "id": "FRH-JDtvuUyO"
      },
      "execution_count": null,
      "outputs": []
    },
    {
      "cell_type": "markdown",
      "source": [
        "### Linear Reg"
      ],
      "metadata": {
        "id": "EGodCnZpuV9G"
      }
    },
    {
      "cell_type": "code",
      "source": [
        "with mlflow.start_run(run_name = 'Final_2_LinReg'):\n",
        "  mlflow.set_tag('model_name','LinearReg')\n",
        "  mlflow.log_param(\"preprocessing_steps\", \"First Approach\")\n",
        "  mlflow.log_param(\"Parameters\", \"Deafult\")\n",
        "\n",
        "\n",
        "\n",
        "\n",
        "  model = LinearRegression()\n",
        "\n",
        "  gs = GridSearchCV(estimator=model, param_grid={}, cv=5, scoring='r2', n_jobs=-1)\n",
        "  gs.fit(X, y)\n",
        "\n",
        "\n",
        "\n",
        "  model = gs.best_estimator_\n",
        "  y_pred = model.predict(X_test)\n",
        "  r2_test = r2_score(y_test, y_pred)\n",
        "\n",
        "\n",
        "  mlflow.log_metric(\"validation_score_R2\", gs.best_score_)\n",
        "\n",
        "\n",
        "\n",
        "  mlflow.log_metric(\"test_score_R2\", r2_test)\n",
        "\n",
        "  mlflow.sklearn.log_model(model,\"sk_models\")\n",
        "  mlflow.end_run()\n"
      ],
      "metadata": {
        "id": "lF7QZgkvuYJ1"
      },
      "execution_count": null,
      "outputs": []
    },
    {
      "cell_type": "markdown",
      "source": [
        "### SVM"
      ],
      "metadata": {
        "id": "mebZerDKudvH"
      }
    },
    {
      "cell_type": "code",
      "source": [
        "with mlflow.start_run(run_name = 'Final_2_SVR'):\n",
        "  mlflow.set_tag('model_name','SVR')\n",
        "  mlflow.log_param(\"preprocessing_steps\", \"First Approach\")\n",
        "  mlflow.log_param(\"Parameters\", \"Deafult\")\n",
        "\n",
        "\n",
        "\n",
        "\n",
        "  model = SVR(kernel = 'rbf')\n",
        "  gs = GridSearchCV(estimator=model, param_grid={}, cv=5, scoring='r2', n_jobs=-1)\n",
        "  gs.fit(X, y)\n",
        "\n",
        "\n",
        "\n",
        "  model = gs.best_estimator_\n",
        "  y_pred = model.predict(X_test)\n",
        "  r2_test = r2_score(y_test, y_pred)\n",
        "\n",
        "\n",
        "  mlflow.log_metric(\"validation_score_R2\", gs.best_score_)\n",
        "\n",
        "\n",
        "\n",
        "  mlflow.log_metric(\"test_score_R2\", r2_test)\n",
        "\n",
        "  mlflow.sklearn.log_model(model,\"sk_models\")\n",
        "  mlflow.end_run()"
      ],
      "metadata": {
        "id": "ECIZekjsuip2"
      },
      "execution_count": null,
      "outputs": []
    },
    {
      "cell_type": "markdown",
      "source": [
        "### Decision Tree"
      ],
      "metadata": {
        "id": "3Ci0w7IBvwfm"
      }
    },
    {
      "cell_type": "code",
      "source": [
        "with mlflow.start_run(run_name = 'Final_2_DTree'):\n",
        "  mlflow.set_tag('model_name','Decision Tree')\n",
        "  mlflow.log_param(\"preprocessing_steps\", \"First Approach\")\n",
        "  mlflow.log_param(\"Parameters\", \"Deafult\")\n",
        "\n",
        "\n",
        "\n",
        "\n",
        "  model = DecisionTreeRegressor(max_depth=200, min_samples_split=10, min_samples_leaf=20)\n",
        "\n",
        "  gs = GridSearchCV(estimator=model, param_grid={}, cv=5, scoring='r2', n_jobs=-1)\n",
        "  gs.fit(X, y)\n",
        "\n",
        "\n",
        "\n",
        "  model = gs.best_estimator_\n",
        "  y_pred = model.predict(X_test)\n",
        "  r2_test = r2_score(y_test, y_pred)\n",
        "\n",
        "\n",
        "  mlflow.log_metric(\"validation_score_R2\", gs.best_score_)\n",
        "\n",
        "\n",
        "\n",
        "  mlflow.log_metric(\"test_score_R2\", r2_test)\n",
        "\n",
        "  mlflow.sklearn.log_model(model,\"sk_models\")\n",
        "  mlflow.end_run()"
      ],
      "metadata": {
        "id": "2GGf_NiHv0X5"
      },
      "execution_count": null,
      "outputs": []
    },
    {
      "cell_type": "code",
      "source": [
        "with mlflow.start_run(run_name = 'Final_2_DTBagging'):\n",
        "  mlflow.set_tag('model_name','Decision Tree_Bagging')\n",
        "  mlflow.log_param(\"preprocessing_steps\", \"First Approach\")\n",
        "  mlflow.log_param(\"Parameters\", \"Deafult\")\n",
        "\n",
        "\n",
        "\n",
        "\n",
        "  model = DecisionTreeRegressor(max_depth=200, min_samples_split=10, min_samples_leaf=20)\n",
        "  dt_bagging_regressor = BaggingRegressor(estimator=model, n_estimators=10, random_state=42)\n",
        "  gs = GridSearchCV(estimator=dt_bagging_regressor, param_grid={}, cv=5, scoring='r2', n_jobs=-1)\n",
        "  gs.fit(X, y)\n",
        "\n",
        "\n",
        "\n",
        "  model = gs.best_estimator_\n",
        "  y_pred = model.predict(X_test)\n",
        "  r2_test = r2_score(y_test, y_pred)\n",
        "\n",
        "\n",
        "  mlflow.log_metric(\"validation_score_R2\", gs.best_score_)\n",
        "\n",
        "\n",
        "\n",
        "  mlflow.log_metric(\"test_score_R2\", r2_test)\n",
        "\n",
        "  mlflow.sklearn.log_model(model,\"sk_models\")\n",
        "  mlflow.end_run()"
      ],
      "metadata": {
        "id": "Zf1lY26JQkDk"
      },
      "execution_count": null,
      "outputs": []
    },
    {
      "cell_type": "markdown",
      "source": [
        "### Random Forest"
      ],
      "metadata": {
        "id": "ieG3s-FtwJ1O"
      }
    },
    {
      "cell_type": "code",
      "source": [
        "with mlflow.start_run(run_name = 'Final_2_RF'):\n",
        "  mlflow.set_tag('model_name','Random Forest')\n",
        "  mlflow.log_param(\"preprocessing_steps\", \"First Approach\")\n",
        "  mlflow.log_param(\"Parameters\", \"Deafult\")\n",
        "\n",
        "\n",
        "\n",
        "\n",
        "  model = RandomForestRegressor(random_state=42)\n",
        "\n",
        "  gs = GridSearchCV(estimator=model, param_grid={}, cv=5, scoring='r2', n_jobs=-1)\n",
        "  gs.fit(X, y)\n",
        "\n",
        "\n",
        "\n",
        "  model = gs.best_estimator_\n",
        "  y_pred = model.predict(X_test)\n",
        "  r2_test = r2_score(y_test, y_pred)\n",
        "\n",
        "\n",
        "  mlflow.log_metric(\"validation_score_R2\", gs.best_score_)\n",
        "\n",
        "\n",
        "\n",
        "  mlflow.log_metric(\"test_score_R2\", r2_test)\n",
        "\n",
        "  mlflow.sklearn.log_model(model,\"sk_models\")\n",
        "  mlflow.end_run()"
      ],
      "metadata": {
        "id": "X2Ih-g26wOZW"
      },
      "execution_count": null,
      "outputs": []
    },
    {
      "cell_type": "code",
      "source": [
        "with mlflow.start_run(run_name = 'Final_2_RFBagging'):\n",
        "  mlflow.set_tag('model_name','Random Forest_Bagging')\n",
        "  mlflow.log_param(\"preprocessing_steps\", \"First Approach\")\n",
        "  mlflow.log_param(\"Parameters\", \"Deafult\")\n",
        "\n",
        "\n",
        "\n",
        "\n",
        "  model = RandomForestRegressor(random_state=42)\n",
        "  bagging_regressor = BaggingRegressor(estimator=model, n_estimators=10, random_state=42)\n",
        "  gs = GridSearchCV(estimator=bagging_regressor, param_grid={}, cv=5, scoring='r2', n_jobs=-1)\n",
        "  gs.fit(X, y)\n",
        "\n",
        "\n",
        "\n",
        "  model = gs.best_estimator_\n",
        "  y_pred = model.predict(X_test)\n",
        "  r2_test = r2_score(y_test, y_pred)\n",
        "\n",
        "\n",
        "  mlflow.log_metric(\"validation_score_R2\", gs.best_score_)\n",
        "\n",
        "\n",
        "\n",
        "  mlflow.log_metric(\"test_score_R2\", r2_test)\n",
        "\n",
        "  mlflow.sklearn.log_model(model,\"sk_models\")\n",
        "  mlflow.end_run()"
      ],
      "metadata": {
        "id": "TKAx4v4dQrFE"
      },
      "execution_count": null,
      "outputs": []
    },
    {
      "cell_type": "markdown",
      "source": [
        "###XGB"
      ],
      "metadata": {
        "id": "9eFE4fafwfcG"
      }
    },
    {
      "cell_type": "code",
      "source": [
        "with mlflow.start_run(run_name = 'Final_2_XGB'):\n",
        "  mlflow.set_tag('model_name','XGB')\n",
        "  mlflow.log_param(\"preprocessing_steps\", \"First Approach\")\n",
        "  mlflow.log_param(\"Parameters\", \"Deafult\")\n",
        "\n",
        "\n",
        "\n",
        "\n",
        "  model = xgb.XGBRegressor(tree_method='gpu_hist', gpu_id=0)\n",
        "  # Define the parameter grid for GridSearchCV\n",
        "  param_grid = {\n",
        "    'iterations': [100, 200, 300],\n",
        "    'depth': [3, 5, 7],\n",
        "    'learning_rate': [0.1, 0.01, 0.001]\n",
        "  }\n",
        "\n",
        "  gs = GridSearchCV(estimator=model, param_grid=param_grid, cv=5, scoring='r2', n_jobs=-1)\n",
        "  gs.fit(X, y)\n",
        "\n",
        "\n",
        "\n",
        "  model = gs.best_estimator_\n",
        "  y_pred = model.predict(X_test)\n",
        "  r2_test = r2_score(y_test, y_pred)\n",
        "\n",
        "\n",
        "  mlflow.log_metric(\"validation_score_R2\", gs.best_score_)\n",
        "\n",
        "\n",
        "\n",
        "  mlflow.log_metric(\"test_score_R2\", r2_test)\n",
        "\n",
        "  mlflow.sklearn.log_model(model,\"sk_models\")\n",
        "  mlflow.end_run()"
      ],
      "metadata": {
        "colab": {
          "base_uri": "https://localhost:8080/"
        },
        "id": "dWS6z-bxwz81",
        "outputId": "91d55e9e-4516-4aaa-ae9f-a61fcbaf9905"
      },
      "execution_count": null,
      "outputs": [
        {
          "output_type": "stream",
          "name": "stderr",
          "text": [
            "/usr/local/lib/python3.10/dist-packages/joblib/externals/loky/process_executor.py:700: UserWarning: A worker stopped while some jobs were given to the executor. This can be caused by a too short worker timeout or by a memory leak.\n",
            "  warnings.warn(\n"
          ]
        },
        {
          "output_type": "stream",
          "name": "stdout",
          "text": [
            "[17:36:13] WARNING: ../src/learner.cc:767: \n",
            "Parameters: { \"depth\", \"iterations\" } are not used.\n",
            "\n"
          ]
        }
      ]
    },
    {
      "cell_type": "markdown",
      "source": [
        "###CATBOOST"
      ],
      "metadata": {
        "id": "j219a8FqRI62"
      }
    },
    {
      "cell_type": "code",
      "source": [
        "with mlflow.start_run(run_name = 'Final_2_CAT'):\n",
        "  mlflow.set_tag('model_name','CatBOOSt')\n",
        "  mlflow.log_param(\"preprocessing_steps\", \"First Approach\")\n",
        "  mlflow.log_param(\"Parameters\", \"Deafult\")\n",
        "\n",
        "\n",
        "\n",
        "\n",
        "  model = CatBoostRegressor(task_type=\"GPU\",\n",
        "                           devices='0:1',verbose=False)\n",
        "  # Define the parameter grid for GridSearchCV\n",
        "  param_grid = {\n",
        "    'n_estimators': [100, 200, 300],\n",
        "    'max_depth': [3, 5, 7],\n",
        "    'learning_rate': [0.1, 0.01, 0.001]\n",
        "    }\n",
        "\n",
        "  gs = GridSearchCV(estimator=model, param_grid=param_grid, cv=5, scoring='r2', n_jobs=-1)\n",
        "  gs.fit(X, y)\n",
        "\n",
        "\n",
        "\n",
        "  model = gs.best_estimator_\n",
        "  y_pred = model.predict(X_test)\n",
        "  r2_test = r2_score(y_test, y_pred)\n",
        "\n",
        "\n",
        "  mlflow.log_metric(\"validation_score_R2\", gs.best_score_)\n",
        "\n",
        "\n",
        "\n",
        "  mlflow.log_metric(\"test_score_R2\", r2_test)\n",
        "\n",
        "  mlflow.sklearn.log_model(model,\"sk_models\")\n",
        "  mlflow.end_run()"
      ],
      "metadata": {
        "id": "cqn1rNMCQ44M"
      },
      "execution_count": null,
      "outputs": []
    },
    {
      "cell_type": "markdown",
      "source": [
        "###VOTTING"
      ],
      "metadata": {
        "id": "rHX3fCD9RPUV"
      }
    },
    {
      "cell_type": "code",
      "source": [
        "with mlflow.start_run(run_name = 'Final_2_Ensemble Votting'):\n",
        "  mlflow.set_tag('model_name','Ensemble Votting')\n",
        "  mlflow.log_param(\"preprocessing_steps\", \"First Approach\")\n",
        "  mlflow.log_param(\"Parameters\", \"Deafult\")\n",
        "\n",
        "\n",
        "\n",
        "\n",
        "  rf = RandomForestRegressor(random_state=42)\n",
        "  cat_boost_model = CatBoostRegressor(task_type=\"GPU\",devices='0:1',verbose=False)\n",
        "  xgb_model = xgb.XGBRegressor(tree_method='gpu_hist', gpu_id=0)\n",
        "\n",
        "  voting_regressor = VotingRegressor([('rf', rf), ('cat_model', cat_boost_model), ('xgb_model', xgb_model)])\n",
        "\n",
        "  gs = GridSearchCV(estimator=voting_regressor, param_grid={}, cv=5, scoring='r2', n_jobs=-1)\n",
        "  gs.fit(X, y)\n",
        "\n",
        "\n",
        "\n",
        "  model = gs.best_estimator_\n",
        "  y_pred = model.predict(X_test)\n",
        "  r2_test = r2_score(y_test, y_pred)\n",
        "\n",
        "\n",
        "  mlflow.log_metric(\"validation_score_R2\", gs.best_score_)\n",
        "\n",
        "\n",
        "\n",
        "  mlflow.log_metric(\"test_score_R2\", r2_test)\n",
        "\n",
        "  mlflow.sklearn.log_model(model,\"sk_models\")\n",
        "  mlflow.end_run()"
      ],
      "metadata": {
        "id": "NheJ5fpXRO8c"
      },
      "execution_count": null,
      "outputs": []
    },
    {
      "cell_type": "code",
      "source": [
        "voting_regressor"
      ],
      "metadata": {
        "id": "skBfW3lIG5ZI"
      },
      "execution_count": null,
      "outputs": []
    },
    {
      "cell_type": "markdown",
      "metadata": {
        "id": "6HGnpbmEpytO"
      },
      "source": [
        "# Export the Model"
      ]
    },
    {
      "cell_type": "code",
      "execution_count": null,
      "metadata": {
        "id": "lq1Omox9HRGX"
      },
      "outputs": [],
      "source": []
    },
    {
      "cell_type": "code",
      "execution_count": null,
      "metadata": {
        "id": "L1TM45_ZrPI4"
      },
      "outputs": [],
      "source": [
        "with open('cat_boost_model.pkl', 'wb') as f:\n",
        "    pickle.dump(cat_boost_model, f)\n"
      ]
    },
    {
      "cell_type": "markdown",
      "metadata": {
        "id": "qIPni_JDkO6p"
      },
      "source": [
        "# Deploy"
      ]
    },
    {
      "cell_type": "markdown",
      "source": [
        "## I used Streamlit And Free Hosting service , its not done yet , SEE You on the interview"
      ],
      "metadata": {
        "id": "2lRZDZj6mjvU"
      }
    },
    {
      "cell_type": "code",
      "execution_count": null,
      "metadata": {
        "id": "KI-RtfbWkTKh"
      },
      "outputs": [],
      "source": [
        "!pip install streamlit"
      ]
    },
    {
      "cell_type": "code",
      "execution_count": null,
      "metadata": {
        "id": "3YCm0aRNktUg"
      },
      "outputs": [],
      "source": [
        "%%writefile app.py\n",
        "import streamlit as st\n",
        "import pickle\n",
        "import numpy as np\n",
        "import pandas as pd\n",
        "import streamlit as st\n",
        "\n",
        "#load the model and dataframe\n",
        "df = pd.read_csv(\"/content/cleaned_data_train.csv\")\n",
        "best_model = pickle.load(open(\"/content/best_model.pkl\", \"rb\"))\n",
        "\n",
        "\n",
        "processor = pickle.load(open(\"/content/last_processor.pkl\", \"rb\"))\n",
        "\n",
        "\n",
        "st.title(\"Laptop Price Predictor\")\n",
        "#Now we will take user input one by one as per our dataframe\n",
        "#Brand\n",
        "company = st.selectbox('Brand', df['Manufacturer'].unique())\n",
        "#Type of laptop\n",
        "lap_type = st.selectbox(\"Type\", df['Category'].unique())\n",
        "#Ram\n",
        "ram = st.selectbox(\"Ram(in GB)\", df['RAM'].unique())\n",
        "#weight\n",
        "weight = st.number_input(\"Weight of the Laptop\",min_value=1.0, max_value=7.0)\n",
        "#Touch screen\n",
        "touchscreen = st.selectbox(\"TouchScreen\", ['No', 'Yes'])\n",
        "#IPS\n",
        "ips = st.selectbox(\"IPS\", ['No', 'Yes'])\n",
        "\n",
        "#screen size\n",
        "screen_size = st.number_input('Screen Size',min_value=10.0, max_value=17.50)\n",
        "# resolution\n",
        "resolution = st.selectbox('Screen Resolution',df['Resolution'].unique())\n",
        "screen_type = st.selectbox('Screen Type',df['ScreenType'].unique())\n",
        "\n",
        "#cpu\n",
        "cpu = st.selectbox('CPU Company',df['CPU_Company'].unique())\n",
        "cpu_series = st.selectbox('CPU Series',df['CPU_Series'].unique())\n",
        "cpu_freq = st.number_input(\"CPU Frequency\",min_value=df['CPU_GHz'].min(), max_value=df['CPU_GHz'].max())\n",
        "\n",
        "hdd = st.selectbox('HDD(in GB)',[0,128,256,512,1024,2048])\n",
        "ssd = st.selectbox('SSD(in GB)',[0,8,128,256,512,1024])\n",
        "hybrid = st.selectbox('Hybrid(in GB)',[0,8,128,256,512,1024])\n",
        "flash = st.selectbox('flash(in GB)',[0,8,128,256,512,1024])\n",
        "\n",
        "gpu_company = st.selectbox('GPU Company',df['GPU_Company'].unique())\n",
        "gpu_series = st.selectbox('GPU Company',df['GPU_series'].unique())\n",
        "os = st.selectbox('OS',df['Operating System'].unique())\n",
        "\n",
        "#Prediction\n",
        "if st.button('Predict Price'):\n",
        "    if touchscreen == \"Yes\":\n",
        "        touchscreen = 1\n",
        "    else:\n",
        "        touchscreen = 0\n",
        "    if ips == \"Yes\":\n",
        "        ips = 1\n",
        "    else:\n",
        "        ips = 0\n",
        "    #st.write(\"hello\")\n",
        "    d = {'Manufacturer': company, 'Category': lap_type,'Screen Size':screen_size,'RAM':ram,'Operating System':os,'Weight':weight,'Is_Touchscreen':touchscreen,'Is_IPS_Panal':ips,'ScreenType':screen_type,'Resolution':resolution,'Hybrid':hybrid,'HDD':hdd,'CPU_GHz':cpu_freq, 'GPU_Company':gpu_company}\n",
        "    query = pd.DataFrame(data=d,index=[0])\n",
        "    #query = np.array([company,lap_type,screen_size,ram,os,weight,touchscreen,ips,screen_type,resolution,hybrid,hdd,cpu_freq,gpu_company])\n",
        "    #query = query.reshape(1,14)\n",
        "    #query = processor.transform(query)\n",
        "\n",
        "\n",
        "    ##cluster_query = np.array([company,lap_type,screen_size,ram,os,weight,touchscreen,ips,screen_type,resolution,hybrid,ssd,hdd,flash,cpu_freq,cpu_series,cpu,gpu_company,gpu_series])\n",
        "    ##cluster_query = cluster_query.reshape(1, 19)\n",
        "    ##team = cluster_model.predict(processor.transform(cluster_query))[0]\n",
        "\n",
        "    #prediction = best_model.predict(query)\n",
        "    #d = {'Manufacturer': 'HP', 'Category': 'Notebook','Screen Size':13.300000,'RAM':'8GB','Operating System':'Windows','Weight':1.32,'Is_Touchscreen':0,'Is_IPS_Panal':1,'ScreenType':\"Full HD\",'Resolution':\"1920x1080\",'Hybrid':0,'HDD':1024,'CPU_GHz':2.5, 'GPU_Company':\"Intel\"}\n",
        "    #query = pd.DataFrame(data=d,index=[0])\n",
        "\n",
        "    query = processor.transform(query)\n",
        "\n",
        "    #print(best_model.predict(query))\n",
        "\n",
        "    prediction = best_model.predict(query)\n",
        "    st.write(prediction[0])\n"
      ]
    },
    {
      "cell_type": "code",
      "source": [],
      "metadata": {
        "id": "YIkD59aUCQvg"
      },
      "execution_count": null,
      "outputs": []
    },
    {
      "cell_type": "code",
      "execution_count": null,
      "metadata": {
        "id": "LOlGBimZmfN-",
        "colab": {
          "base_uri": "https://localhost:8080/"
        },
        "outputId": "606e1406-6764-407d-c1d2-aec1642e716e"
      },
      "outputs": [
        {
          "output_type": "stream",
          "name": "stdout",
          "text": [
            "\u001b[K\u001b[?25h\u001b[37;40mnpm\u001b[0m \u001b[0m\u001b[30;43mWARN\u001b[0m \u001b[0m\u001b[35msaveError\u001b[0m ENOENT: no such file or directory, open '/content/package.json'\n",
            "\u001b[0m\u001b[37;40mnpm\u001b[0m \u001b[0m\u001b[34;40mnotice\u001b[0m\u001b[35m\u001b[0m created a lockfile as package-lock.json. You should commit this file.\n",
            "\u001b[0m\u001b[37;40mnpm\u001b[0m \u001b[0m\u001b[30;43mWARN\u001b[0m \u001b[0m\u001b[35menoent\u001b[0m ENOENT: no such file or directory, open '/content/package.json'\n",
            "\u001b[0m\u001b[37;40mnpm\u001b[0m \u001b[0m\u001b[30;43mWARN\u001b[0m\u001b[35m\u001b[0m content No description\n",
            "\u001b[0m\u001b[37;40mnpm\u001b[0m \u001b[0m\u001b[30;43mWARN\u001b[0m\u001b[35m\u001b[0m content No repository field.\n",
            "\u001b[0m\u001b[37;40mnpm\u001b[0m \u001b[0m\u001b[30;43mWARN\u001b[0m\u001b[35m\u001b[0m content No README data\n",
            "\u001b[0m\u001b[37;40mnpm\u001b[0m \u001b[0m\u001b[30;43mWARN\u001b[0m\u001b[35m\u001b[0m content No license field.\n",
            "\u001b[0m\n",
            "+ localtunnel@2.0.2\n",
            "added 22 packages from 22 contributors and audited 22 packages in 3.442s\n",
            "\n",
            "3 packages are looking for funding\n",
            "  run `npm fund` for details\n",
            "\n",
            "found \u001b[92m0\u001b[0m vulnerabilities\n",
            "\n",
            "\u001b[K\u001b[?25h"
          ]
        }
      ],
      "source": [
        "!npm install localtunnel"
      ]
    },
    {
      "cell_type": "code",
      "execution_count": null,
      "metadata": {
        "id": "OCFSNxAkngDr"
      },
      "outputs": [],
      "source": [
        "!streamlit run app.py &>/content/logs.txt &"
      ]
    },
    {
      "cell_type": "markdown",
      "source": [
        "34.126.114.222"
      ],
      "metadata": {
        "id": "FW7bvG24vF3o"
      }
    },
    {
      "cell_type": "code",
      "execution_count": null,
      "metadata": {
        "id": "HvNzNMViniij",
        "colab": {
          "base_uri": "https://localhost:8080/"
        },
        "outputId": "e5db2d30-5613-4355-86a7-4ee01810aa6a"
      },
      "outputs": [
        {
          "output_type": "stream",
          "name": "stdout",
          "text": [
            "\u001b[K\u001b[?25hnpx: installed 22 in 1.401s\n",
            "your url is: https://fast-walls-call.loca.lt\n",
            "^C\n"
          ]
        }
      ],
      "source": [
        "!npx localtunnel --port 8501"
      ]
    },
    {
      "cell_type": "code",
      "execution_count": null,
      "metadata": {
        "id": "fbbgPdLzo_XP"
      },
      "outputs": [],
      "source": []
    },
    {
      "cell_type": "code",
      "source": [],
      "metadata": {
        "id": "8QCmZsKqmxUK"
      },
      "execution_count": null,
      "outputs": []
    },
    {
      "cell_type": "markdown",
      "source": [
        "![istockphoto-478917283-612x612.jpg](data:image/jpeg;base64,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)"
      ],
      "metadata": {
        "id": "5TgmJ19vnhnE"
      }
    },
    {
      "cell_type": "code",
      "source": [],
      "metadata": {
        "id": "rDu0Vj5AnlIr"
      },
      "execution_count": null,
      "outputs": []
    }
  ],
  "metadata": {
    "colab": {
      "collapsed_sections": [
        "qXSWgzb22e7q",
        "0BxrXf44-sSR",
        "Fgz7FaO1AAsx",
        "GOAY4RTyAwq5",
        "MCwsZgjiIhsq",
        "jEQC-cNoq8ew",
        "bjjI6KpOVOao",
        "HeYWCDFKNdVP",
        "Cu46hweMU7NZ",
        "0uQ4pHznj0Bv",
        "8a7O8SijcYSO",
        "qhy1F2ayIZ_i",
        "U3P6SWOoUgiN",
        "-CCjdlGtjtDA",
        "20etdjjbHBTI",
        "NfK9lD_fJHXV",
        "Ca7DDCtXV478",
        "qGy0JBNYj4L2",
        "hngEpWd1c81J",
        "FZLqPEzkoISl",
        "H5YIos1RrxTY",
        "jwboKtvuWZVZ",
        "i1JX090bXhrJ",
        "pgewXffGmTF2",
        "eKyItjVjZQ8J",
        "X04nY1Ktrwt-",
        "luet268PNhv8",
        "6vvIdkii74wp",
        "Oejk-w4htpe1",
        "6HGnpbmEpytO",
        "qIPni_JDkO6p"
      ],
      "provenance": [],
      "gpuType": "T4",
      "mount_file_id": "1QWOnHAewP0D9cK9X3SYdBbHgL5pLGwYF",
      "authorship_tag": "ABX9TyOTDQcRHE1A0C59u5sU2CdP",
      "include_colab_link": true
    },
    "kernelspec": {
      "display_name": "Python 3",
      "name": "python3"
    },
    "language_info": {
      "name": "python"
    },
    "accelerator": "GPU"
  },
  "nbformat": 4,
  "nbformat_minor": 0
}